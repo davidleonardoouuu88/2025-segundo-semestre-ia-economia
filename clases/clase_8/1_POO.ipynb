{
  "cells": [
    {
      "cell_type": "markdown",
      "metadata": {
        "id": "BQg_TI8bh4y9"
      },
      "source": [
        "# **Programación Orientada a Objetos (POO)**"
      ]
    },
    {
      "cell_type": "markdown",
      "metadata": {
        "id": "uyw26RU99yRC"
      },
      "source": [
        "Elaborado por: Lina María Castro\n",
        "\n",
        "Fecha: 2 de septiembre de 2025"
      ]
    },
    {
      "cell_type": "markdown",
      "metadata": {
        "id": "Nibt3-9TEhR_"
      },
      "source": [
        "## Introducción"
      ]
    },
    {
      "cell_type": "markdown",
      "metadata": {
        "id": "Y3yjxUDbRl_I"
      },
      "source": [
        "Python trae por defecto tipos de datos como: int, bool, str, list, dict. Sin embargo, nosotros podemos crear nuestros propios tipos de datos. Para eso, usaremos el paradigma **\"Programación Orientada a Objetos\"**."
      ]
    },
    {
      "cell_type": "markdown",
      "metadata": {
        "id": "ERxHXFhsCFL9"
      },
      "source": [
        "La **Programación Orientada a Objetos (POO)** es un paradigma que permite organizar el código en **clases** (plantillas) y **objetos** (instancias de esas plantillas), los cuales tienen unos atributos y métodos.\n",
        "\n",
        "Ejemplo:  \n",
        "- Una **clase** puede ser *Empresa*.  \n",
        "- Cada **objeto** es una empresa específica (*Alpina, Ecopetrol, Bancolombia*).  \n",
        "- Cada empresa tiene **atributos** (número de empleados, sector, ingresos) y **métodos** (calcular impuestos, exportar, contratar)."
      ]
    },
    {
      "cell_type": "markdown",
      "metadata": {
        "id": "ZyMKYQfiIedn"
      },
      "source": [
        "**¿Por qué es útil?**\n",
        "\n",
        "- **Organización del código:** Permite dividir un programa en partes más pequeñas, claras y manejables (clases y objetos).\n",
        "\n",
        "- **Reutilización:** Una vez que defines una clase, puedes reutilizarla muchas veces para crear distintos objetos sin volver a escribir el mismo código.\n",
        "\n",
        "- **Mantenibilidad:** Si hay un cambio, se ajusta en un lugar (la clase) y afecta automáticamente a todos los objetos creados a partir de ella.\n",
        "\n",
        "- **Abstracción:** Nos ayuda a centrarnos en lo importante de un objeto (atributos y métodos), ocultando los detalles internos de cómo funciona.\n",
        "\n",
        "- **Escalabilidad:** Ideal para proyectos grandes, ya que permite trabajar en equipo y ampliar el código sin que se vuelva caótico."
      ]
    },
    {
      "cell_type": "markdown",
      "metadata": {
        "id": "qJQYfi_7JIvu"
      },
      "source": [
        "**Principales usos de la POO**\n",
        "\n",
        "La POO es muy usada en casi todas las áreas de programación moderna, por ejemplo:\n",
        "\n",
        "- Desarrollo de software grande y complejo.\n",
        "- Aplicaciones gráficas y videojuegos.\n",
        "- Aplicaciones móviles.\n",
        "- Desarrollo web.\n",
        "- Análisis de datos y machine learning (por ejemplo, en scikit-learn, cada modelo de machine learning es un objeto con sus propios métodos como .fit() o .predict())."
      ]
    },
    {
      "cell_type": "markdown",
      "metadata": {
        "id": "ntKdJLX5ETpW"
      },
      "source": [
        "## 2. Clases, Objetos y Atributos"
      ]
    },
    {
      "cell_type": "markdown",
      "metadata": {
        "id": "iROvi7toEyWn"
      },
      "source": [
        "- Una **clase** es una plantilla que define cómo son los objetos.\n",
        "- Un **objeto** es un ejemplo concreto de esa clase.\n",
        "- Los **atributos** son como las características o propiedades de un objeto (ejemplo: ingresos, población, sector económico)."
      ]
    },
    {
      "cell_type": "code",
      "execution_count": 1,
      "metadata": {
        "colab": {
          "base_uri": "https://localhost:8080/"
        },
        "id": "1G-F1dC4CQ8s",
        "outputId": "5e6a2519-de3a-42b6-ebbd-9090032f1ee4"
      },
      "outputs": [],
      "source": [
        "class Empresa:\n",
        "    def __init__(self, nombre, sector, ingresos):\n",
        "        self.nombre = nombre\n",
        "        self.sector = sector\n",
        "        self.ingresos = ingresos\n",
        "\n",
        "# Crear objetos (instancias)\n",
        "e1 = Empresa(\"Alpina\", \"Alimentos\", 500000)\n",
        "e2 = Empresa(\"Ecopetrol\", \"Energía\", 2000000)\n",
        "\n",
        "print(e1.nombre, \"-\", e1.sector, \"-\", e1.ingresos)\n",
        "print(e2.nombre, \"-\", e2.sector, \"-\", e2.ingresos)"
      ]
    },
    {
      "cell_type": "markdown",
      "metadata": {
        "id": "95boPRpVCb_-"
      },
      "source": [
        "## 3. Métodos\n",
        "\n",
        "Así como hay métodos como \"append\" para listas o \"lower\" para strings, nosotros podemos crear métodos para nuestros tipos propios.\n",
        "\n",
        "- Los **métodos** son las acciones que ese objeto puede realizar (ejemplo: calcular impuestos)."
      ]
    },
    {
      "cell_type": "code",
      "execution_count": 2,
      "metadata": {
        "colab": {
          "base_uri": "https://localhost:8080/"
        },
        "id": "AXjYLBdXCW53",
        "outputId": "9571fe9d-b780-4a5c-870e-202d6c96f69a"
      },
      "outputs": [],
      "source": [
        "class Empresa:\n",
        "    def __init__(self, nombre, sector, ingresos):\n",
        "        self.nombre = nombre\n",
        "        self.sector = sector\n",
        "        self.ingresos = ingresos\n",
        "\n",
        "    def calcular_impuesto(self, tasa):\n",
        "        \"\"\"Calcula los impuestos que debe pagar la empresa\"\"\"\n",
        "        return self.ingresos * tasa\n",
        "\n",
        "# Crear una empresa\n",
        "empresa = Empresa(\"Bancolombia\", \"Financiero\", 1000000)\n",
        "\n",
        "# Calcular el impuesto con una tasa del 30%\n",
        "print(\"Impuesto a pagar:\", empresa.calcular_impuesto(0.3))\n"
      ]
    },
    {
      "cell_type": "markdown",
      "metadata": {
        "id": "u7TwC2NRCpq_"
      },
      "source": [
        "##  Ejemplo"
      ]
    },
    {
      "cell_type": "code",
      "execution_count": 3,
      "metadata": {
        "colab": {
          "base_uri": "https://localhost:8080/"
        },
        "id": "yQnLXVHOCrNb",
        "outputId": "3c09e88f-ad62-4d55-833c-f1f0288b7cf3"
      },
      "outputs": [],
      "source": [
        "class Estudiante:\n",
        "    def __init__(self, nombre, notas):\n",
        "        self.nombre = nombre\n",
        "        self.notas = notas\n",
        "\n",
        "    def promedio(self):\n",
        "        return sum(self.notas) / len(self.notas)\n",
        "\n",
        "# Crear estudiantes\n",
        "s1 = Estudiante(\"Ana\", [4.5, 3.8, 4.2])\n",
        "s2 = Estudiante(\"Carlos\", [3.0, 3.5, 4.0])\n",
        "\n",
        "print(f\"{s1.nombre} tiene un promedio de {s1.promedio():.2f}\")\n",
        "print(f\"{s2.nombre} tiene un promedio de {s2.promedio():.2f}\")\n"
      ]
    },
    {
      "cell_type": "markdown",
      "metadata": {
        "id": "1oJ6mbOzJrdL"
      },
      "source": [
        "## Uso de la Programación Orientada a Objetos (POO) en Machine Learning y scikit-learn"
      ]
    },
    {
      "cell_type": "markdown",
      "metadata": {
        "id": "vvRGShsAJxKx"
      },
      "source": [
        "En Machine Learning, y particularmente en la librería scikit-learn, la POO es fundamental porque cada algoritmo, conjunto de datos o transformación se maneja como un objeto."
      ]
    },
    {
      "cell_type": "markdown",
      "metadata": {
        "id": "5YOOod04KZNL"
      },
      "source": [
        "La POO hace posible que scikit-learn sea tan intuitivo y consistente. Gracias a este enfoque, los estudiantes no tienen que aprender comandos diferentes para cada algoritmo, sino que usan siempre los mismos métodos (fit, predict, transform), lo que facilita muchísimo el aprendizaje y la práctica."
      ]
    },
    {
      "cell_type": "markdown",
      "metadata": {
        "id": "jNnrc9YGKekV"
      },
      "source": [
        "**1. Clases en scikit-learn**\n",
        "\n",
        "Una clase es la plantilla de la cual se crean objetos. En scikit-learn, estas clases representan modelos de Machine Learning o herramientas de preprocesamiento.\n",
        "\n",
        "Ejemplos:\n",
        "\n",
        "- LinearRegression (regresión lineal)\n",
        "\n",
        "- DecisionTreeClassifier (árbol de decisión)\n",
        "\n",
        "- KMeans (clustering)\n",
        "\n",
        "- StandardScaler (escalado de variables)\n",
        "\n",
        "Cuando instanciamos (creamos un objeto de la clase), lo guardamos en una variable:"
      ]
    },
    {
      "cell_type": "code",
      "execution_count": 4,
      "metadata": {
        "id": "xSLuipMnKhJY"
      },
      "outputs": [],
      "source": [
        "from sklearn.linear_model import LinearRegression\n",
        "\n",
        "# \"LinearRegression\" es la clase\n",
        "modelo = LinearRegression()  # modelo es el objeto"
      ]
    },
    {
      "cell_type": "code",
      "execution_count": 5,
      "metadata": {
        "colab": {
          "base_uri": "https://localhost:8080/",
          "height": 80
        },
        "id": "XZjctiySNgTE",
        "outputId": "48fd41f3-4ff2-4495-e1c6-42d73d03160d"
      },
      "outputs": [],
      "source": [
        "modelo"
      ]
    },
    {
      "cell_type": "markdown",
      "metadata": {
        "id": "iuc6r0ZSKkCh"
      },
      "source": [
        "**2. Atributos en scikit-learn**\n",
        "\n",
        "Los atributos son características o información que pertenecen al objeto una vez que se ha entrenado o configurado."
      ]
    },
    {
      "cell_type": "markdown",
      "metadata": {
        "id": "O3UUjWmmKqgU"
      },
      "source": [
        "Principales atributos de los modelos:\n",
        "\n",
        "- .coef_ → Coeficientes o pesos del modelo.\n",
        "\n",
        "- .intercept_ → Valor del intercepto.\n",
        "\n",
        "- .n_iter_ → Número de iteraciones realizadas (en algunos algoritmos iterativos como regresión logística, SVM, etc.).\n",
        "\n",
        "- .labels_ → Etiquetas de clusters (en KMeans).\n",
        "\n",
        "- .cluster_centers_ → Centros de clusters (en KMeans)."
      ]
    },
    {
      "cell_type": "markdown",
      "metadata": {
        "id": "FSoh1XQvN_PN"
      },
      "source": [
        "Ejemplo con regresión lineal:"
      ]
    },
    {
      "cell_type": "code",
      "execution_count": 6,
      "metadata": {
        "colab": {
          "base_uri": "https://localhost:8080/"
        },
        "id": "4rIUVHP3KjUD",
        "outputId": "0fff2df2-1941-45ef-e194-46a6c191da0a"
      },
      "outputs": [],
      "source": [
        "from sklearn.linear_model import LinearRegression\n",
        "import numpy as np\n",
        "\n",
        "# Datos ficticios\n",
        "X = np.array([[1], [2], [3], [4], [5]])\n",
        "y = np.array([2, 4, 6, 8, 10])  # Relación perfecta y = 2x\n",
        "\n",
        "# Creamos el modelo\n",
        "modelo = LinearRegression()\n",
        "\n",
        "# Entrenamos\n",
        "modelo.fit(X, y)\n",
        "\n",
        "# Atributos\n",
        "print(\"Coeficiente (pendiente):\", modelo.coef_)\n",
        "print(\"Intercepto:\", modelo.intercept_)"
      ]
    },
    {
      "cell_type": "markdown",
      "metadata": {
        "id": "rQ_5xDbpKt5H"
      },
      "source": [
        "**3. Métodos en scikit-learn**\n",
        "\n",
        "Además de atributos, cada clase trae métodos (funciones dentro de la clase) que nos permiten hacer cosas.\n",
        "\n",
        "Los más comunes:\n",
        "\n",
        "- .fit(X, y) → Entrenar el modelo con datos.\n",
        "\n",
        "- .predict(X) → Predecir con datos nuevos.\n",
        "\n",
        "- .transform(X) → Transformar los datos (ej. escalar, normalizar).\n",
        "\n",
        "- .fit_transform(X) → Entrenar y transformar al mismo tiempo.\n",
        "\n",
        "Ejemplo con escalador:"
      ]
    },
    {
      "cell_type": "code",
      "execution_count": 7,
      "metadata": {
        "colab": {
          "base_uri": "https://localhost:8080/"
        },
        "id": "Ai3VybIxKzAj",
        "outputId": "3264b2b7-9bda-4f5f-b449-0b3ee629168c"
      },
      "outputs": [],
      "source": [
        "from sklearn.preprocessing import StandardScaler\n",
        "\n",
        "scaler = StandardScaler()\n",
        "X = [[1, 2], [3, 4], [5, 6]]\n",
        "\n",
        "# Entrenar y transformar\n",
        "X_scaled = scaler.fit_transform(X)\n",
        "\n",
        "print(\"Media:\", scaler.mean_)     # atributo\n",
        "print(\"Varianza:\", scaler.var_)   # atributo\n",
        "print(\"Datos escalados:\", X_scaled)  # resultado del método"
      ]
    },
    {
      "cell_type": "markdown",
      "metadata": {
        "id": "sPDu5xb1K-X8"
      },
      "source": [
        "Resumiendo:\n",
        "- Una clase es el “molde” → Ejemplo: LinearRegression.\n",
        "- Un objeto es lo que creamos al usar la clase → modelo = LinearRegression().\n",
        "- Los atributos son los datos que guarda el objeto después de entrenar → como .coef_, .intercept_, .labels_.\n",
        "- Los métodos son las funciones que podemos ejecutar sobre el objeto → como .fit(), .predict(), .transform()."
      ]
    },
    {
      "cell_type": "markdown",
      "metadata": {
        "id": "hQMCdBUZCvcw"
      },
      "source": [
        "## Ejercicios"
      ]
    },
    {
      "cell_type": "markdown",
      "metadata": {
        "id": "RegL4MFbLcDb"
      },
      "source": [
        "### Ejercicio 1:\n",
        "Cree una clase llamada `Producto` con atributos: `nombre`, `precio` y `cantidad`.  \n",
        "Agregue un método `valor_total()` que calcule el valor total del inventario del producto (precio * cantidad)."
      ]
    },
    {
      "cell_type": "code",
      "execution_count": 8,
      "metadata": {
        "id": "bCjHcto4f5zi"
      },
      "outputs": [],
      "source": []
    },
    {
      "cell_type": "code",
      "execution_count": 9,
      "metadata": {
        "colab": {
          "base_uri": "https://localhost:8080/"
        },
        "id": "sX5suUTIDB5e",
        "outputId": "40055838-6203-4456-efc9-766f9fb4e043"
      },
      "outputs": [],
      "source": [
        "p1 = Producto(\"Café\", 20000, 50)\n",
        "print(\"Valor total del inventario:\", p1.valor_total())\n",
        "# Rta: Valor total del inventario: 1000000"
      ]
    },
    {
      "cell_type": "markdown",
      "metadata": {
        "id": "m0TEdSvXLfmp"
      },
      "source": [
        "### Ejercicio 2:\n",
        "Cree una clase llamada `País` con atributos: `nombre`, `poblacion` y `PIB`.  \n",
        "Agregue un método que calcule el **PIB per cápita**."
      ]
    },
    {
      "cell_type": "code",
      "execution_count": 10,
      "metadata": {
        "id": "itlnBIthf9LQ"
      },
      "outputs": [],
      "source": [
        "\n"
      ]
    },
    {
      "cell_type": "code",
      "execution_count": 11,
      "metadata": {
        "colab": {
          "base_uri": "https://localhost:8080/"
        },
        "id": "kvvKkLAiDFDE",
        "outputId": "c02edba8-08c8-47b5-a654-e7cf9a945c13"
      },
      "outputs": [],
      "source": [
        "colombia = Pais(\"Colombia\", 52000000, 3500000000)\n",
        "print(\"PIB per cápita:\", colombia.pib_per_capita())\n",
        "# Rta: PIB per cápita: 67.30769230769231"
      ]
    },
    {
      "cell_type": "markdown",
      "metadata": {
        "id": "IdbFcXi9DYzg"
      },
      "source": [
        "### Ejercicio 3:\n",
        "Cree una clase `CuentaBancaria` con atributos: `titular` y `saldo`.  \n",
        "Agregue métodos para `depositar(monto)` y `retirar(monto)`.  \n",
        "Muestre un mensaje de error si se intenta retirar más dinero del que hay en la cuenta."
      ]
    },
    {
      "cell_type": "code",
      "execution_count": 12,
      "metadata": {
        "id": "Xm8ceJSKDTpI"
      },
      "outputs": [],
      "source": []
    },
    {
      "cell_type": "code",
      "execution_count": 13,
      "metadata": {
        "id": "lPzwL30mgIuk"
      },
      "outputs": [],
      "source": [
        "cuenta = CuentaBancaria(\"Laura\", 100000)"
      ]
    },
    {
      "cell_type": "code",
      "execution_count": 14,
      "metadata": {
        "colab": {
          "base_uri": "https://localhost:8080/"
        },
        "id": "36BozPQegYLn",
        "outputId": "16abb4fa-5c1b-407d-dcd2-26c12dc3e307"
      },
      "outputs": [],
      "source": [
        "cuenta.depositar(50000)\n",
        "# Rta: Depósito exitoso. Nuevo saldo: 150000"
      ]
    },
    {
      "cell_type": "code",
      "execution_count": 15,
      "metadata": {
        "colab": {
          "base_uri": "https://localhost:8080/"
        },
        "id": "0g829qztgay7",
        "outputId": "787c3231-182a-43fa-8d7e-58231da60426"
      },
      "outputs": [],
      "source": [
        "cuenta.retirar(120000)\n",
        "# Rta: Retiro exitoso. Nuevo saldo: 30000"
      ]
    },
    {
      "cell_type": "code",
      "execution_count": 16,
      "metadata": {
        "colab": {
          "base_uri": "https://localhost:8080/"
        },
        "id": "wsu-baEZgb7i",
        "outputId": "bbbb9c31-3491-4e04-d8d5-9bda2962e7f7"
      },
      "outputs": [],
      "source": [
        "cuenta.retirar(80000)\n",
        "# Rta: Fondos insuficientes."
      ]
    }
  ],
  "metadata": {
    "colab": {
      "provenance": []
    },
    "kernelspec": {
      "display_name": "Python 3",
      "language": "python",
      "name": "python3"
    }
  },
  "nbformat": 4,
  "nbformat_minor": 0
}
