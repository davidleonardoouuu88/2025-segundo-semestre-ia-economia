{
  "cells": [
    {
      "cell_type": "markdown",
      "source": [
        "<a href=\"https://colab.research.google.com/github/LinaMariaCastro/curso-ia-para-economia/blob/main/clases/5_Aprendizaje_supervisado/1_Taller_Regresion_Lineal.ipynb\" target=\"_parent\"><img src=\"https://colab.research.google.com/assets/colab-badge.svg\" alt=\"Open In Colab\"/></a>"
      ],
      "metadata": {
        "id": "DHNQuIqAmvl5"
      },
      "id": "DHNQuIqAmvl5"
    },
    {
      "cell_type": "markdown",
      "source": [
        "# **Inteligencia Artificial con Aplicaciones en Economía I**\n",
        "\n",
        "- 👩‍🏫 **Profesora:** [Lina María Castro](https://www.linkedin.com/in/lina-maria-castro)  \n",
        "- 📧 **Email:** [lmcastroco@gmail.com](mailto:lmcastroco@gmail.com)  \n",
        "- 🎓 **Universidad:** Universidad Externado de Colombia - Facultad de Economía"
      ],
      "metadata": {
        "id": "5iiwfbXCQv5D"
      },
      "id": "5iiwfbXCQv5D"
    },
    {
      "cell_type": "markdown",
      "source": [
        "# **Taller: Regresión Lineal**"
      ],
      "metadata": {
        "id": "dU-UqrDscLfY"
      },
      "id": "dU-UqrDscLfY"
    },
    {
      "cell_type": "markdown",
      "source": [
        "**IMPORTANTE**: Guarda una copia de este notebook en tu Google Drive o computador."
      ],
      "metadata": {
        "id": "0dQjQRRI-Jwh"
      },
      "id": "0dQjQRRI-Jwh"
    },
    {
      "cell_type": "markdown",
      "source": [
        "**Taller en parejas**"
      ],
      "metadata": {
        "id": "q_CzcRIty0sF"
      },
      "id": "q_CzcRIty0sF"
    },
    {
      "cell_type": "markdown",
      "source": [
        "**Nombres estudiantes:**\n",
        "\n",
        "-\n",
        "-"
      ],
      "metadata": {
        "id": "NyfFoG84-DmF"
      },
      "id": "NyfFoG84-DmF"
    },
    {
      "cell_type": "markdown",
      "source": [
        "**Forma de entrega**\n",
        "\n",
        "Jupyter Notebook publicado en su cuenta de Github con el nombre “Taller_PCA_apellidos_estudiantes.ipynb”.\n",
        "\n",
        "**Plazo de entrega**\n",
        "\n",
        "Hoy, 29 de octubre, máximo a las 11:59 p.m., debes enviar link del notebook al correo lina.castro6@uexternado.edu.co, de lo contrario, no será tenido en cuenta.\n",
        "\n",
        "**Instrucciones Generales**\n",
        "\n",
        "Completa el código en las celdas marcadas con `### TU CÓDIGO AQUÍ ###`. Puedes añadir más celdas si lo requieres."
      ],
      "metadata": {
        "id": "KcbzsUiz025j"
      },
      "id": "KcbzsUiz025j"
    },
    {
      "cell_type": "markdown",
      "source": [
        "Contexto: Tu Primer Proyecto en AutoAnalitica 📈 🚗\n",
        "\n",
        "¡Felicitaciones! Has sido contratado como Científico de Datos Junior en AutoAnalitica, una firma de consultoría líder que asesora a grandes concesionarios de autos usados en el país.\n",
        "\n",
        "Tu primer proyecto es construir un prototipo de modelo de pricing inteligente. La gerencia de uno de nuestros clientes principales está preocupada porque sus agentes de ventas tasan los vehículos que reciben basándose únicamente en su intuición, lo que genera precios inconsistentes y pérdida de oportunidades.\n",
        "\n",
        "El objetivo: Desarrollar un modelo de machine learning que pueda predecir el precio de venta justo de un automóvil basándose en sus características (antigüedad, kilómetros recorridos, tipo de combustible, etc.). Esta herramienta no busca reemplazar al vendedor, sino darle un precio base, basado en datos, para hacer ofertas más rápidas, justas y competitivas. Tu misión hoy es construir el primer modelo base y evaluar su precisión."
      ],
      "metadata": {
        "id": "MbrAKcwwhtgi"
      },
      "id": "MbrAKcwwhtgi"
    },
    {
      "cell_type": "markdown",
      "metadata": {
        "id": "uC6BKFk0Vepw"
      },
      "source": [
        "# 1. Importar librerías necesarias"
      ],
      "id": "uC6BKFk0Vepw"
    },
    {
      "cell_type": "code",
      "execution_count": null,
      "metadata": {
        "id": "QVVqykyJVepx"
      },
      "outputs": [],
      "source": [
        "### TU CÓDIGO AQUÍ ###\n"
      ],
      "id": "QVVqykyJVepx"
    },
    {
      "cell_type": "markdown",
      "source": [
        "### Mejorar visualización de dataframes y gráficos"
      ],
      "metadata": {
        "id": "jHE2ZLJuEPIe"
      },
      "id": "jHE2ZLJuEPIe"
    },
    {
      "cell_type": "code",
      "source": [
        "# Que muestre todas las columnas\n",
        "pd.options.display.max_columns = None\n",
        "# En los dataframes, mostrar los float con dos decimales\n",
        "pd.options.display.float_format = '{:,.2f}'.format\n",
        "\n",
        "# Configuraciones para una mejor visualización\n",
        "sns.set(style='whitegrid')\n",
        "plt.rcParams['figure.figsize'] = (10, 6)"
      ],
      "metadata": {
        "id": "72TA8V1fETCm"
      },
      "execution_count": null,
      "outputs": [],
      "id": "72TA8V1fETCm"
    },
    {
      "cell_type": "markdown",
      "source": [
        "# 2. Cargar el dataset `car data.csv`."
      ],
      "metadata": {
        "id": "Xdm1I4N2Zh6W"
      },
      "id": "Xdm1I4N2Zh6W"
    },
    {
      "cell_type": "markdown",
      "source": [
        "- Car_Name: The name of each car.\n",
        "- Year: The year that the car was bought.\n",
        "- Selling_Price: The price that the car has at the sale time (thousands of USD). Esta es la variable objetivo.\n",
        "- Present_Price: The price that car has right now (thousands of USD).\n",
        "- Kms_Driven: The number of kilometers that the car is driven.\n",
        "- Fuel_Type: The type of fuel that the car consumes.\n",
        "- Seller_Type: The type of car seller: individual or dealer.\n",
        "- Transmission: The type of the car gear: manual or automatic.\n",
        "- Owner: The number of previous owners of the car."
      ],
      "metadata": {
        "id": "FSMaXMGLle4T"
      },
      "id": "FSMaXMGLle4T"
    },
    {
      "cell_type": "code",
      "execution_count": null,
      "metadata": {
        "id": "o6yFPDwIVepz"
      },
      "outputs": [],
      "source": [
        "# Carga el dataset\n",
        "### TU CÓDIGO AQUÍ ###\n"
      ],
      "id": "o6yFPDwIVepz"
    },
    {
      "cell_type": "code",
      "source": [
        "# Mostrar las primeras filas para entender la estructura\n",
        "### TU CÓDIGO AQUÍ ###\n"
      ],
      "metadata": {
        "id": "iFz_1f4rWEvl"
      },
      "id": "iFz_1f4rWEvl",
      "execution_count": null,
      "outputs": []
    },
    {
      "cell_type": "markdown",
      "metadata": {
        "id": "IbwYOkv_Vep4"
      },
      "source": [
        "# 3. Análisis Exploratorio de Datos (EDA) y preparación de datos"
      ],
      "id": "IbwYOkv_Vep4"
    },
    {
      "cell_type": "code",
      "source": [
        "df.info()"
      ],
      "metadata": {
        "id": "f8_qLSPfb8-h"
      },
      "id": "f8_qLSPfb8-h",
      "execution_count": null,
      "outputs": []
    },
    {
      "cell_type": "code",
      "source": [
        "# Revisa si hay filas duplicadas y elíminalas\n",
        "### TU CÓDIGO AQUÍ ###\n"
      ],
      "metadata": {
        "id": "sqpoN709cecC"
      },
      "id": "sqpoN709cecC",
      "execution_count": null,
      "outputs": []
    },
    {
      "cell_type": "code",
      "source": [
        "# Muestras las estadísticas descriptivas\n",
        "### TU CÓDIGO AQUÍ ###\n"
      ],
      "metadata": {
        "id": "5BNgm8sfcA8q"
      },
      "id": "5BNgm8sfcA8q",
      "execution_count": null,
      "outputs": []
    },
    {
      "cell_type": "code",
      "source": [
        "# Grafica un histograma para ver la distribución de la variable independiente \"Selling_Price\"\n",
        "### TU CÓDIGO AQUÍ ###\n"
      ],
      "metadata": {
        "id": "IesJ6PaSfRiY"
      },
      "id": "IesJ6PaSfRiY",
      "execution_count": null,
      "outputs": []
    },
    {
      "cell_type": "markdown",
      "source": [
        "Escribe tus conclusiones aquí."
      ],
      "metadata": {
        "id": "prSlmFWTfhJ4"
      },
      "id": "prSlmFWTfhJ4"
    },
    {
      "cell_type": "code",
      "execution_count": null,
      "metadata": {
        "id": "Jk-YhaB5Vep4"
      },
      "outputs": [],
      "source": [
        "# Visualiza la relación entre 'Kms_Driven' y 'Selling_Price'\n",
        "### TU CÓDIGO AQUÍ ###\n"
      ],
      "id": "Jk-YhaB5Vep4"
    },
    {
      "cell_type": "markdown",
      "metadata": {
        "id": "ijxTQYJBVep5"
      },
      "source": [
        "Basado en el gráfico, ¿qué tipo de relación observas? ¿Es lo que esperabas económicamente?"
      ],
      "id": "ijxTQYJBVep5"
    },
    {
      "cell_type": "code",
      "source": [
        "# Crea la variable \"Car_Age\" que será la resta entre el año actual y el año del carro\n",
        "### TU CÓDIGO AQUÍ ###\n"
      ],
      "metadata": {
        "id": "u84ZrjpcdBni"
      },
      "id": "u84ZrjpcdBni",
      "execution_count": null,
      "outputs": []
    },
    {
      "cell_type": "code",
      "source": [
        "# Elimina la columna 'Car_Name' que no usaremos\n",
        "### TU CÓDIGO AQUÍ ###\n"
      ],
      "metadata": {
        "id": "uu68wnUya2Yx"
      },
      "id": "uu68wnUya2Yx",
      "execution_count": null,
      "outputs": []
    },
    {
      "cell_type": "code",
      "execution_count": null,
      "metadata": {
        "id": "AzJSmjTvVep5"
      },
      "outputs": [],
      "source": [
        "# Calcula la matriz de correlación para las variables numéricas y grafica el heatmap\n",
        "### TU CÓDIGO AQUÍ ###\n"
      ],
      "id": "AzJSmjTvVep5"
    },
    {
      "cell_type": "markdown",
      "source": [
        "Escribe tus conclusiones aquí."
      ],
      "metadata": {
        "id": "oBXdPb1ufGSZ"
      },
      "id": "oBXdPb1ufGSZ"
    },
    {
      "cell_type": "code",
      "source": [
        "# Realiza un gráfico de pairplot para ver el comportamiento de las variables independientes y la dependiente\n",
        "### TU CÓDIGO AQUÍ ###\n"
      ],
      "metadata": {
        "id": "FFYnIg6ne1qF"
      },
      "id": "FFYnIg6ne1qF",
      "execution_count": null,
      "outputs": []
    },
    {
      "cell_type": "markdown",
      "source": [
        "Escribe tus conclusiones aquí."
      ],
      "metadata": {
        "id": "-3riWddRe-GJ"
      },
      "id": "-3riWddRe-GJ"
    },
    {
      "cell_type": "code",
      "execution_count": null,
      "metadata": {
        "id": "VO7nSsWtVep7"
      },
      "outputs": [],
      "source": [
        "# Convierte variables categóricas a numéricas para que el modelo las entienda.\n",
        "# La regresión lineal no puede trabajar con texto ('Petrol', 'Dealer').\n",
        "# Usaremos One-Hot Encoding con pd.get_dummies() para convertirlas.\n",
        "# drop_first=True es importante para evitar multicolinealidad perfecta en las variables dummy\n",
        "### TU CÓDIGO AQUÍ ###\n"
      ],
      "id": "VO7nSsWtVep7"
    },
    {
      "cell_type": "markdown",
      "metadata": {
        "id": "SE45BhyKVep9"
      },
      "source": [
        "# 4. Construcción y Evaluación del Modelo"
      ],
      "id": "SE45BhyKVep9"
    },
    {
      "cell_type": "code",
      "execution_count": null,
      "metadata": {
        "id": "j8uaG__uVep-"
      },
      "outputs": [],
      "source": [
        "# Define tus variables X e y\n",
        "### TU CÓDIGO AQUÍ ###\n"
      ],
      "id": "j8uaG__uVep-"
    },
    {
      "cell_type": "code",
      "execution_count": null,
      "metadata": {
        "id": "A3sp3ECZVep-"
      },
      "outputs": [],
      "source": [
        "# Divide los datos en entrenamiento y prueba (80% / 20%)\n",
        "### TU CÓDIGO AQUÍ ###\n"
      ],
      "id": "A3sp3ECZVep-"
    },
    {
      "cell_type": "code",
      "execution_count": null,
      "metadata": {
        "id": "1F1J9l0nVep_"
      },
      "outputs": [],
      "source": [
        "# Entrena el modelo de Regresión Lineal\n",
        "### TU CÓDIGO AQUÍ ###\n"
      ],
      "id": "1F1J9l0nVep_"
    },
    {
      "cell_type": "code",
      "execution_count": null,
      "metadata": {
        "id": "dNy-LCDRVep_"
      },
      "outputs": [],
      "source": [
        "# Realiza predicciones sobre el conjunto de prueba\n",
        "### TU CÓDIGO AQUÍ ###\n"
      ],
      "id": "dNy-LCDRVep_"
    },
    {
      "cell_type": "code",
      "execution_count": null,
      "metadata": {
        "id": "hRT-w0CLVep_"
      },
      "outputs": [],
      "source": [
        "# Calcula las métricas de evaluación (RMSE y R2) para entrenamiento y prueba y compáralas\n",
        "### TU CÓDIGO AQUÍ ###\n"
      ],
      "id": "hRT-w0CLVep_"
    },
    {
      "cell_type": "markdown",
      "metadata": {
        "id": "wJY-pITlVeqA"
      },
      "source": [
        "# 5. Conclusión para el Cliente"
      ],
      "id": "wJY-pITlVeqA"
    },
    {
      "cell_type": "markdown",
      "metadata": {
        "id": "puiGLU4KVeqA"
      },
      "source": [
        "*Escribe un párrafo para los gerentes de 'AutoAnalitica'.*\n",
        "\n",
        "1. Empieza explicando qué es el RMSE en términos sencillos (ej. \"nuestro modelo se equivoca en promedio en...\"). Recuerda que el precio en el dataset está en miles de dólares.\n"
      ],
      "id": "puiGLU4KVeqA"
    },
    {
      "cell_type": "markdown",
      "source": [
        "2. Termina dando tu recomendación: ¿Es este modelo lo suficientemente bueno como un primer paso? ¿Para qué podría ser útil?"
      ],
      "metadata": {
        "id": "j9CHVzMWg1um"
      },
      "id": "j9CHVzMWg1um"
    }
  ],
  "metadata": {
    "kernelspec": {
      "display_name": "Python 3 (ipykernel)",
      "language": "python",
      "name": "python3"
    },
    "language_info": {
      "codemirror_mode": {
        "name": "ipython",
        "version": 3
      },
      "file_extension": ".py",
      "mimetype": "text/x-python",
      "name": "python",
      "nbconvert_exporter": "python",
      "pygments_lexer": "ipython3",
      "version": "3.10.12"
    },
    "colab": {
      "provenance": []
    }
  },
  "nbformat": 4,
  "nbformat_minor": 5
}