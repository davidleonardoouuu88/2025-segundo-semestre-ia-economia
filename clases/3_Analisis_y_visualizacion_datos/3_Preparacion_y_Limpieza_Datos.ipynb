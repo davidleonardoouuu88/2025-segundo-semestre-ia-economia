{
  "cells": [
    {
      "cell_type": "markdown",
      "metadata": {
        "id": "kd-dVAbJ8uyo"
      },
      "source": [
        "<a href=\"https://colab.research.google.com/github/LinaMariaCastro/curso-ia-para-economia/blob/main/clases/3_Analisis_y_visualizacion_datos/3_Preparacion_y_Limpieza_Datos.ipynb\" target=\"_parent\"><img src=\"https://colab.research.google.com/assets/colab-badge.svg\" alt=\"Open In Colab\"/></a>"
      ]
    },
    {
      "cell_type": "markdown",
      "metadata": {
        "id": "UxY55o_PQ7jE"
      },
      "source": [
        "# **Inteligencia Artificial con Aplicaciones en Economía I**\n",
        "\n",
        "- 👩‍🏫 **Profesora:** [Lina María Castro](https://www.linkedin.com/in/lina-maria-castro)  \n",
        "- 📧 **Email:** [lmcastroco@gmail.com](mailto:lmcastroco@gmail.com)  \n",
        "- 🎓 **Universidad:** Universidad Externado de Colombia - Facultad de Economía"
      ]
    },
    {
      "cell_type": "markdown",
      "metadata": {
        "id": "fgMCFLbQBIu0"
      },
      "source": [
        "# 🧹**Métodos de preparación y limpieza de datos**"
      ]
    },
    {
      "cell_type": "markdown",
      "metadata": {
        "id": "SeLwPfkfXMBs"
      },
      "source": [
        "👉 Luego de cargar nuestro dataset, el primer paso es limpiar los datos, para que podamos confiar en ellos. Aunque puede llegar a ser un proceso tedioso, es una parte **crítica** para lograr hacer un correcto y adecuado análisis de los datos.\n",
        "\n",
        "✅ Resultado: un dataset limpio, coherente y confiable."
      ]
    },
    {
      "cell_type": "markdown",
      "metadata": {
        "id": "002f12a4"
      },
      "source": [
        "**Objetivos de Aprendizaje**\n",
        "\n",
        "Al finalizar este notebook, serás capaz de:\n",
        "\n",
        "1. **Identificar y manejar distintos tipos de problemas** en conjuntos de datos  como duplicados, valores faltantes, tipos de datos incorrectos e inconsistencias de formato.\n",
        "2. **Aplicar técnicas de limpieza para transformar datos crudos** en un formato listo para el análisis, utilizando Pandas.\n",
        "3. **Comprender las implicaciones económicas y los sesgos** que pueden surgir de una limpieza de datos deficiente o de decisiones de limpieza sesgadas.\n",
        "4. **Aplicar buenas prácticas** en proyectos de análisis económico y ciencia de datos."
      ]
    },
    {
      "cell_type": "markdown",
      "metadata": {
        "id": "CyC5T3ZDiL_t"
      },
      "source": [
        "Imagina que eres un economista del Banco de la República encargado de analizar la inflación en diferentes regiones del país. Recibes un conjunto de datos con precios de productos, pero al revisarlos, notas que algunas entradas tienen precios en diferentes monedas, otras tienen símbolos de moneda ($) que impiden hacer cálculos, y algunas filas están duplicadas o contienen errores evidentes.\n",
        "\n",
        "Si intentaras calcular la inflación con estos datos sucios, tu resultado sería incorrecto e inútil para la política monetaria. **La limpieza de datos es el proceso de convertir esta \"materia prima\" defectuosa en un insumo de calidad para que tus modelos económicos y de machine learning sean fiables.** Es similar a la inspección de calidad que se realiza en una fábrica: antes de usar cualquier componente, debes asegurarte de que está en perfectas condiciones."
      ]
    },
    {
      "cell_type": "markdown",
      "metadata": {
        "id": "2T-ohW51wS74"
      },
      "source": [
        "**Datos crudos Vs Procesados**\n",
        "\n",
        "![Datos crudos Vs Procesados](https://drive.google.com/uc?id=11i1KhvpeDKMjcxL9rUX7W4pVcjXzz04w)"
      ]
    },
    {
      "cell_type": "markdown",
      "metadata": {
        "id": "zgWgTivFCUBe"
      },
      "source": [
        "**Actividad de discusión rápida:** ¿Qué problemas de datos han visto en Excel o en reportes de su carrera?"
      ]
    },
    {
      "cell_type": "markdown",
      "metadata": {
        "id": "ArbkQWmDbVZC"
      },
      "source": [
        "---"
      ]
    },
    {
      "cell_type": "markdown",
      "metadata": {
        "id": "CvffQiPyDLJG"
      },
      "source": [
        "## Importar librerías"
      ]
    },
    {
      "cell_type": "code",
      "execution_count": null,
      "metadata": {
        "id": "YFPOnxMFDBFP"
      },
      "outputs": [],
      "source": [
        "import os\n",
        "import numpy as np\n",
        "import pandas as pd\n",
        "import warnings\n",
        "warnings.filterwarnings('ignore')"
      ]
    },
    {
      "cell_type": "markdown",
      "metadata": {
        "id": "jHE2ZLJuEPIe"
      },
      "source": [
        "## Mejorar visualización de los dataframes"
      ]
    },
    {
      "cell_type": "code",
      "execution_count": null,
      "metadata": {
        "id": "72TA8V1fETCm"
      },
      "outputs": [],
      "source": [
        "# Que muestre todas las columnas\n",
        "pd.options.display.max_columns = None\n",
        "# En los dataframes, mostrar los float con dos decimales\n",
        "pd.options.display.float_format = '{:,.2f}'.format"
      ]
    },
    {
      "cell_type": "markdown",
      "metadata": {
        "id": "ZZDidlYvVBQk"
      },
      "source": [
        "## Establecer la ruta de los datasets"
      ]
    },
    {
      "cell_type": "code",
      "execution_count": null,
      "metadata": {
        "colab": {
          "base_uri": "https://localhost:8080/"
        },
        "id": "KYRaLbXlMc_c",
        "outputId": "fb821ec0-e4b6-4086-b32a-5c0e1e3bc2f1"
      },
      "outputs": [],
      "source": [
        "from google.colab import drive, files\n",
        "drive.mount('/content/drive')"
      ]
    },
    {
      "cell_type": "code",
      "execution_count": null,
      "metadata": {
        "id": "dQSa_neuGLji"
      },
      "outputs": [],
      "source": [
        "path = '/content/drive/MyDrive/2025_ii_curso_ia_economia/datasets'"
      ]
    },
    {
      "cell_type": "code",
      "execution_count": null,
      "metadata": {
        "id": "cka8EDXhQuee"
      },
      "outputs": [],
      "source": [
        "# Para establecer el directorio de los archivos\n",
        "os.chdir(path)"
      ]
    },
    {
      "cell_type": "markdown",
      "metadata": {
        "id": "NE1KRuONbSAY"
      },
      "source": [
        "---"
      ]
    },
    {
      "cell_type": "markdown",
      "metadata": {
        "id": "WcvoOWeMMju1"
      },
      "source": [
        "**NOTA:** CONTROL+K+C COMENTA Y DESCOMENTA CTRL+K+U"
      ]
    },
    {
      "cell_type": "markdown",
      "metadata": {
        "id": "DssR8AuKAz6b"
      },
      "source": [
        "---"
      ]
    },
    {
      "cell_type": "markdown",
      "metadata": {
        "id": "PZQWax9c4Xot"
      },
      "source": [
        "Como ejemplo, vamos a trabajar con un conjunto de datos de la UNCTAD, el cual trae información de los flujos de inversión extranjera directa en el mundo desde 1970 hasta 2021. Este set de datos ha sido modificado con fines educativos."
      ]
    },
    {
      "cell_type": "markdown",
      "metadata": {
        "id": "SMx0i2r4j1mN"
      },
      "source": [
        "## Cargar el dataset"
      ]
    },
    {
      "cell_type": "code",
      "execution_count": null,
      "metadata": {
        "id": "KeNpq4ZopTkr"
      },
      "outputs": [],
      "source": [
        "df = pd.read_excel('UNCTAD_2021-FDI.xlsx', skiprows=4)"
      ]
    },
    {
      "cell_type": "markdown",
      "metadata": {
        "id": "MaEILKvJD_lk"
      },
      "source": [
        "## Exploración inicial del dataset"
      ]
    },
    {
      "cell_type": "code",
      "execution_count": null,
      "metadata": {
        "colab": {
          "base_uri": "https://localhost:8080/",
          "height": 1000
        },
        "id": "bQ-n1sUS6guW",
        "outputId": "44401dda-5987-4b66-8409-df85980c9f8d"
      },
      "outputs": [],
      "source": [
        "df"
      ]
    },
    {
      "cell_type": "code",
      "execution_count": null,
      "metadata": {
        "colab": {
          "base_uri": "https://localhost:8080/"
        },
        "id": "K4aFkzQzuIxe",
        "outputId": "59ddc2b9-5d72-42a1-ed29-34a83e80b98e"
      },
      "outputs": [],
      "source": [
        "df.shape"
      ]
    },
    {
      "cell_type": "code",
      "execution_count": null,
      "metadata": {
        "colab": {
          "base_uri": "https://localhost:8080/"
        },
        "id": "rjLmhgA5rOXX",
        "outputId": "9a0ba06c-3a6b-48c9-ee71-84f79278ae33"
      },
      "outputs": [],
      "source": [
        "df.info()"
      ]
    },
    {
      "cell_type": "markdown",
      "metadata": {
        "id": "WZxtiX7DMjvd"
      },
      "source": [
        "## Eliminar la primera fila"
      ]
    },
    {
      "cell_type": "code",
      "execution_count": null,
      "metadata": {
        "colab": {
          "base_uri": "https://localhost:8080/",
          "height": 660
        },
        "id": "oo6nPY_BMjvd",
        "outputId": "0fb0ca6a-b5fd-42ff-c571-9b42e03e3062"
      },
      "outputs": [],
      "source": [
        "df.drop(index=0, inplace=True)\n",
        "df.head()"
      ]
    },
    {
      "cell_type": "markdown",
      "metadata": {
        "id": "Xz2mOJiTGOTf"
      },
      "source": [
        "## Reiniciar índice para mantener el orden"
      ]
    },
    {
      "cell_type": "code",
      "execution_count": null,
      "metadata": {
        "colab": {
          "base_uri": "https://localhost:8080/",
          "height": 660
        },
        "id": "i9ikfiCFMjvW",
        "outputId": "f06272a7-29d4-4698-c46a-d06d4b899d3e"
      },
      "outputs": [],
      "source": [
        "df.reset_index(inplace=True,drop=True)\n",
        "df.head()"
      ]
    },
    {
      "cell_type": "markdown",
      "metadata": {
        "id": "rOjGltDL2aHC"
      },
      "source": [
        "## Ejercicio: Convertir el valor de la inversión de object a float"
      ]
    },
    {
      "cell_type": "code",
      "execution_count": null,
      "metadata": {},
      "outputs": [],
      "source": []
    },
    {
      "cell_type": "markdown",
      "metadata": {
        "id": "dzm6yYXhBsv0"
      },
      "source": [
        "Se logró convertir los datos a números! Ya se pueden realizar operaciones con estos."
      ]
    },
    {
      "cell_type": "code",
      "execution_count": null,
      "metadata": {
        "colab": {
          "base_uri": "https://localhost:8080/"
        },
        "id": "DhRxtINECN-1",
        "outputId": "6ef118f1-efa7-4d44-ec25-8e66bc96922b"
      },
      "outputs": [],
      "source": [
        "df['2020'].mean()"
      ]
    },
    {
      "cell_type": "code",
      "execution_count": null,
      "metadata": {
        "colab": {
          "base_uri": "https://localhost:8080/",
          "height": 335
        },
        "id": "apkonG8vCWL_",
        "outputId": "926a6cf4-bd57-4c71-d612-a9f4e61fb92e"
      },
      "outputs": [],
      "source": [
        "df['2020'].describe()"
      ]
    },
    {
      "cell_type": "code",
      "execution_count": null,
      "metadata": {
        "colab": {
          "base_uri": "https://localhost:8080/",
          "height": 320
        },
        "id": "TWcwtXuWCZbX",
        "outputId": "a7d487d7-af1c-42ba-cb51-feaa5439803d"
      },
      "outputs": [],
      "source": [
        "df.describe()"
      ]
    },
    {
      "cell_type": "markdown",
      "metadata": {
        "id": "Tfcy-DtIMjvR"
      },
      "source": [
        "## Redondear las cifras de inversión a un decimal"
      ]
    },
    {
      "cell_type": "code",
      "execution_count": null,
      "metadata": {
        "colab": {
          "base_uri": "https://localhost:8080/",
          "height": 660
        },
        "id": "HPPeH3MfcEH8",
        "outputId": "90b22cd7-e4ee-40fe-e559-63f9439e527e"
      },
      "outputs": [],
      "source": [
        "# Redondear el valor de una columna a 1 decimal\n",
        "df['1970'] = df['1970'].round(1)\n",
        "df.head()"
      ]
    },
    {
      "cell_type": "code",
      "execution_count": null,
      "metadata": {
        "colab": {
          "base_uri": "https://localhost:8080/",
          "height": 424
        },
        "id": "RaWdA00yMjvS",
        "outputId": "3c4cb2b6-7e2f-47cf-e104-2937b0fd4277"
      },
      "outputs": [],
      "source": [
        "# Redondear el valor de todas las columnas del dataframe a 1 decimal\n",
        "df = df.round(1)\n",
        "df.head(3)\n"
      ]
    },
    {
      "cell_type": "markdown",
      "metadata": {
        "id": "dJJSmyB1Mjve"
      },
      "source": [
        "## Eliminar columnas innecesarias"
      ]
    },
    {
      "cell_type": "markdown",
      "metadata": {
        "id": "pg1gIwGmCavn"
      },
      "source": [
        "### Opción 1"
      ]
    },
    {
      "cell_type": "code",
      "execution_count": null,
      "metadata": {
        "colab": {
          "base_uri": "https://localhost:8080/",
          "height": 424
        },
        "id": "yN0CYCvPMjve",
        "outputId": "a6b76281-1364-4355-97da-24a2b3dc7fb0"
      },
      "outputs": [],
      "source": [
        "# Vamos a dejar la información solo hasta 2020\n",
        "df.drop(columns=['2021'], inplace=True)\n",
        "df.head(3)"
      ]
    },
    {
      "cell_type": "markdown",
      "metadata": {
        "id": "sfPbpmEpBjjN"
      },
      "source": [
        "### Opción 2"
      ]
    },
    {
      "cell_type": "code",
      "execution_count": null,
      "metadata": {
        "colab": {
          "base_uri": "https://localhost:8080/",
          "height": 424
        },
        "id": "bVNDe_75BGSW",
        "outputId": "b5f694b8-8615-42a1-e4d3-95f787e7636c"
      },
      "outputs": [],
      "source": [
        "# Vamos a dejar solo los años de 1980 en adelante\n",
        "borrar = ['1970', '1971', '1972', '1973', '1974', '1975', '1976', '1977',\n",
        "       '1978', '1979']\n",
        "df=df.drop(columns=borrar)\n",
        "df.head(3)"
      ]
    },
    {
      "cell_type": "markdown",
      "metadata": {
        "id": "yxupW2GoCqk7"
      },
      "source": [
        "### Opción 3"
      ]
    },
    {
      "cell_type": "code",
      "execution_count": null,
      "metadata": {
        "colab": {
          "base_uri": "https://localhost:8080/",
          "height": 306
        },
        "id": "mBHozUZrMjve",
        "outputId": "56558207-da08-4ef0-db0d-2915bf51834a"
      },
      "outputs": [],
      "source": [
        "# En este caso voy a dejar los datos solo desde el año 2000 en adelante\n",
        "df = df[['YEAR', '2000', '2001', '2002', '2003', '2004', '2005',\n",
        "       '2006', '2007', '2008', '2009', '2010', '2011', '2012', '2013', '2014',\n",
        "       '2015', '2016', '2017', '2018', '2019', '2020', 'DIRECTION',\n",
        "       'SUBMISSION_DATE', 'MEASURE', 'MODE']]\n",
        "df.head(2)"
      ]
    },
    {
      "cell_type": "markdown",
      "metadata": {
        "id": "0LAi0sxWMjvf"
      },
      "source": [
        "## Cambiar el nombre de una columna"
      ]
    },
    {
      "cell_type": "code",
      "execution_count": null,
      "metadata": {
        "colab": {
          "base_uri": "https://localhost:8080/",
          "height": 306
        },
        "id": "0JRhldEaMjvf",
        "outputId": "9187f59c-8ab2-4cc5-d3c5-f9ce8b69d378"
      },
      "outputs": [],
      "source": [
        "# Vamos a renombrar la columna YEAR\n",
        "df.rename(columns={\"YEAR\": \"COUNTRY\"}, inplace=True)\n",
        "#df = df.rename(columns={\"YEAR\": \"COUNTRY\"})\n",
        "df.head(2)"
      ]
    },
    {
      "cell_type": "markdown",
      "metadata": {
        "id": "MDIlNQJWMjvf"
      },
      "source": [
        "## Reorganizar columnas"
      ]
    },
    {
      "cell_type": "code",
      "execution_count": null,
      "metadata": {
        "colab": {
          "base_uri": "https://localhost:8080/"
        },
        "id": "1VZND_nuF4YX",
        "outputId": "04a130da-9822-453e-c1f6-2813ce6f32f2"
      },
      "outputs": [],
      "source": [
        "df.columns"
      ]
    },
    {
      "cell_type": "code",
      "execution_count": null,
      "metadata": {
        "colab": {
          "base_uri": "https://localhost:8080/",
          "height": 306
        },
        "id": "rjOluRBsMjvg",
        "outputId": "6e82d3ca-875c-4b6f-bd2b-68946b652185"
      },
      "outputs": [],
      "source": [
        "# Colocar el nombre de las columnas en el orden que quiero que queden\n",
        "df = df[['COUNTRY', 'DIRECTION', 'SUBMISSION_DATE',\n",
        "       'MEASURE', 'MODE', '2000', '2001', '2002', '2003', '2004', '2005', '2006',\n",
        "       '2007', '2008', '2009', '2010', '2011', '2012', '2013', '2014', '2015',\n",
        "       '2016', '2017', '2018', '2019', '2020']]\n",
        "df.head(2)"
      ]
    },
    {
      "cell_type": "markdown",
      "metadata": {
        "id": "104zQqvQMjvV"
      },
      "source": [
        "## Procesamiento de Índices"
      ]
    },
    {
      "cell_type": "code",
      "execution_count": null,
      "metadata": {
        "colab": {
          "base_uri": "https://localhost:8080/",
          "height": 692
        },
        "id": "TM2UrvkSMjvV",
        "outputId": "25f30cd1-5ab2-4f0a-ce4c-ba6f6c4c3462"
      },
      "outputs": [],
      "source": [
        "# Volver una columna el índice del df\n",
        "df = df.set_index('COUNTRY')\n",
        "df.head()"
      ]
    },
    {
      "cell_type": "code",
      "execution_count": null,
      "metadata": {
        "colab": {
          "base_uri": "https://localhost:8080/",
          "height": 660
        },
        "id": "qugZHn3oMjvV",
        "outputId": "7f532121-99a6-4b6f-fcd9-6257ff225815"
      },
      "outputs": [],
      "source": [
        "# Convertir en columna el índice del df\n",
        "df = df.reset_index()\n",
        "df.head()"
      ]
    },
    {
      "cell_type": "markdown",
      "metadata": {
        "id": "rfrnYvEF6AOh"
      },
      "source": [
        "## Revisar y ajustar las variables categóricas"
      ]
    },
    {
      "cell_type": "markdown",
      "metadata": {
        "id": "k8meFGIh7K0Y"
      },
      "source": [
        "### Direction"
      ]
    },
    {
      "cell_type": "code",
      "execution_count": null,
      "metadata": {
        "colab": {
          "base_uri": "https://localhost:8080/"
        },
        "id": "Yfus_VFm4Bo9",
        "outputId": "a673e981-337b-4970-c02a-d68e4e348ba4"
      },
      "outputs": [],
      "source": [
        "df['DIRECTION'].unique()"
      ]
    },
    {
      "cell_type": "code",
      "execution_count": null,
      "metadata": {
        "colab": {
          "base_uri": "https://localhost:8080/"
        },
        "id": "WFYo3n_97NUs",
        "outputId": "2efe8f30-56d0-4d7b-8e1f-f3e7e59c4b3d"
      },
      "outputs": [],
      "source": [
        "# Para borrar los espacios en blanco al principio y al final del string\n",
        "df['DIRECTION']=df['DIRECTION'].str.strip()\n",
        "df['DIRECTION'].unique()"
      ]
    },
    {
      "cell_type": "code",
      "execution_count": null,
      "metadata": {
        "colab": {
          "base_uri": "https://localhost:8080/"
        },
        "id": "b_yY0-lM7lNl",
        "outputId": "4d260419-35ec-452d-9606-9623ab125e4b"
      },
      "outputs": [],
      "source": [
        "# Se quitan los ceros del principio del string\n",
        "df['DIRECTION'] = df['DIRECTION'].str.lstrip('00000')\n",
        "df['DIRECTION'].unique()"
      ]
    },
    {
      "cell_type": "code",
      "execution_count": null,
      "metadata": {
        "colab": {
          "base_uri": "https://localhost:8080/"
        },
        "id": "H-0kYQGRLJG9",
        "outputId": "f706971a-5632-436e-c09e-183a6cf8e8ff"
      },
      "outputs": [],
      "source": [
        "df['DIRECTION'] = df['DIRECTION'].str.upper()\n",
        "df['DIRECTION'].unique()"
      ]
    },
    {
      "cell_type": "markdown",
      "metadata": {
        "id": "e2LIeMUQ72XF"
      },
      "source": [
        "### Measure"
      ]
    },
    {
      "cell_type": "code",
      "execution_count": null,
      "metadata": {
        "colab": {
          "base_uri": "https://localhost:8080/"
        },
        "id": "LK1jl3jq7k3m",
        "outputId": "f70c3e17-ff6d-4817-a33d-5e7a0cd5255f"
      },
      "outputs": [],
      "source": [
        "df['MEASURE'].unique()"
      ]
    },
    {
      "cell_type": "code",
      "execution_count": null,
      "metadata": {
        "colab": {
          "base_uri": "https://localhost:8080/"
        },
        "id": "St2X3ZC1Mjvg",
        "outputId": "698639b6-251d-46fd-ad67-f0099f90ec1f"
      },
      "outputs": [],
      "source": [
        "df['MEASURE'] = df['MEASURE'].replace({\"US dollars at current prices in milions\": \"US dollars at current prices in millions\"})\n",
        "df['MEASURE'].unique()"
      ]
    },
    {
      "cell_type": "code",
      "execution_count": null,
      "metadata": {
        "colab": {
          "base_uri": "https://localhost:8080/"
        },
        "id": "Qnzco-VFKVzI",
        "outputId": "7d16f82b-598e-4c35-a42d-54d2211b7d9d"
      },
      "outputs": [],
      "source": [
        "df['MEASURE'] = df['MEASURE'].str.upper()\n",
        "df['MEASURE'].unique()"
      ]
    },
    {
      "cell_type": "code",
      "execution_count": null,
      "metadata": {
        "colab": {
          "base_uri": "https://localhost:8080/",
          "height": 476
        },
        "id": "QZgrNzMnLzkG",
        "outputId": "ecc32b78-40b2-456d-8b5a-56d95f31ecee"
      },
      "outputs": [],
      "source": [
        "# Dividir en dos partes el string\n",
        "df['CURRENCY'] = df['MEASURE'].str.split('AT',expand=True)[0]\n",
        "df['MEASURE_2'] = df['MEASURE'].str.split('AT',expand=True)[1]\n",
        "df.head(3)"
      ]
    },
    {
      "cell_type": "code",
      "execution_count": null,
      "metadata": {
        "colab": {
          "base_uri": "https://localhost:8080/",
          "height": 476
        },
        "id": "SDxoanGRYkPT",
        "outputId": "1999f15f-754b-401d-b4d7-c6435fcabf53"
      },
      "outputs": [],
      "source": [
        "df['PRICE_TYPE'] = df['MEASURE_2'].str.split('IN',expand=True)[0]\n",
        "df['UNIT'] = df['MEASURE_2'].str.split('IN',expand=True)[1]\n",
        "df.head(3)"
      ]
    },
    {
      "cell_type": "code",
      "execution_count": null,
      "metadata": {
        "colab": {
          "base_uri": "https://localhost:8080/"
        },
        "id": "sUtHI7kWczw3",
        "outputId": "9bb72bd8-c543-4bd6-de16-5f0fc7960301"
      },
      "outputs": [],
      "source": [
        "df.columns"
      ]
    },
    {
      "cell_type": "code",
      "execution_count": null,
      "metadata": {
        "colab": {
          "base_uri": "https://localhost:8080/",
          "height": 216
        },
        "id": "w53PNEYMc2MJ",
        "outputId": "e0510580-51a1-4a00-b661-db7e7fef3fa0"
      },
      "outputs": [],
      "source": [
        "# Eliminar 'MEASURE' y 'MEASURE_2' y reorganizar columnas\n",
        "df = df[['COUNTRY', 'MODE', 'DIRECTION', 'CURRENCY', 'UNIT', 'PRICE_TYPE', 'SUBMISSION_DATE', '2000',\n",
        "       '2001', '2002', '2003', '2004', '2005', '2006', '2007', '2008', '2009',\n",
        "       '2010', '2011', '2012', '2013', '2014', '2015', '2016', '2017', '2018',\n",
        "       '2019', '2020']]\n",
        "df.head(3)"
      ]
    },
    {
      "cell_type": "markdown",
      "metadata": {
        "id": "xMxsNN0a-crO"
      },
      "source": [
        "### Mode"
      ]
    },
    {
      "cell_type": "code",
      "execution_count": null,
      "metadata": {
        "colab": {
          "base_uri": "https://localhost:8080/"
        },
        "id": "3DvIiPOr_yNm",
        "outputId": "114236a4-6417-493b-8656-7f9e7239600a"
      },
      "outputs": [],
      "source": [
        "df['MODE'].unique()"
      ]
    },
    {
      "cell_type": "code",
      "execution_count": null,
      "metadata": {
        "colab": {
          "base_uri": "https://localhost:8080/"
        },
        "id": "2Jp8PUuC_5kS",
        "outputId": "1c54b1c8-b129-49e6-c8c0-8b60e165cc10"
      },
      "outputs": [],
      "source": [
        "# Se quitan las comillas del final del string\n",
        "df['MODE'] = df['MODE'].str.rstrip(\"'''\")\n",
        "df['MODE'].unique()"
      ]
    },
    {
      "cell_type": "code",
      "execution_count": null,
      "metadata": {
        "colab": {
          "base_uri": "https://localhost:8080/"
        },
        "id": "41ez8EHJKKxw",
        "outputId": "b77d18bd-8b81-404d-98b1-079647da4956"
      },
      "outputs": [],
      "source": [
        "df['MODE'] = df['MODE'].str.upper()\n",
        "df['MODE'].unique()"
      ]
    },
    {
      "cell_type": "code",
      "execution_count": null,
      "metadata": {
        "colab": {
          "base_uri": "https://localhost:8080/",
          "height": 313
        },
        "id": "ThJK6PW2J9pr",
        "outputId": "e2cb0035-4d1a-4bb0-846f-e76766f1ee41"
      },
      "outputs": [],
      "source": [
        "# Contar el número de caracteres\n",
        "df[\"num_caracteres\"] = df[\"MODE\"].str.len()\n",
        "df.head()"
      ]
    },
    {
      "cell_type": "code",
      "execution_count": null,
      "metadata": {
        "colab": {
          "base_uri": "https://localhost:8080/"
        },
        "id": "hY4DnYIidsuI",
        "outputId": "86f80493-5741-43c7-d82a-bb412c34f5dd"
      },
      "outputs": [],
      "source": [
        "df[\"num_caracteres\"].unique()"
      ]
    },
    {
      "cell_type": "code",
      "execution_count": null,
      "metadata": {
        "id": "kO5GaHMSdx3s"
      },
      "outputs": [],
      "source": [
        "df.drop(columns=['num_caracteres'], inplace=True)"
      ]
    },
    {
      "cell_type": "markdown",
      "metadata": {
        "id": "ivithekT-jOO"
      },
      "source": [
        "## Convertir a tipo category"
      ]
    },
    {
      "cell_type": "markdown",
      "metadata": {
        "id": "6yZXSRW4DoYM"
      },
      "source": [
        "Convertir variables categóricas a tipo category en pandas es una muy buena práctica en ciencia de datos, y tiene varias ventajas importantes:\n",
        "- Una columna categórica se almacena como códigos numéricos internos en lugar de cadenas de texto repetidas. Esto reduce muchísimo el uso de memoria, sobre todo cuando tienes miles de filas con pocos valores distintos.\n",
        "- Operaciones como groupby(), value_counts(), merge() son más rápidas en columnas categóricas porque pandas trabaja con los códigos internos (números) en vez de cadenas de texto largas.\n",
        "- Preparación para Machine Learning: La mayoría de algoritmos no trabajan directamente con strings. Usar category es el primer paso para luego aplicar OneHotEncoding o LabelEncoding fácilmente.\n",
        "- Permite diferenciar variables que son realmente categóricas de las que son texto libre. Ejemplo: \"Bogotá\", \"Medellín\", \"Cali\" son categorías (ciudades), no simples cadenas de texto. En un directorio de empresas, la columna de razón social no sería categórica porque cada fila tiene un valor diferente."
      ]
    },
    {
      "cell_type": "code",
      "execution_count": null,
      "metadata": {
        "colab": {
          "base_uri": "https://localhost:8080/"
        },
        "id": "xzmJlIQsMjvU",
        "outputId": "f301ae7d-7dd3-4d93-d3bb-7d3bbac0879b"
      },
      "outputs": [],
      "source": [
        "categorias = ['DIRECTION', 'MODE', 'CURRENCY', 'PRICE_TYPE', 'UNIT']\n",
        "for categoria in categorias:\n",
        "  df[categoria] = df[categoria].astype('category')\n",
        "df.info()"
      ]
    },
    {
      "cell_type": "markdown",
      "metadata": {
        "id": "taewe0xb-vBm"
      },
      "source": [
        "## Revisar y ajustar las variables tipo fecha"
      ]
    },
    {
      "cell_type": "markdown",
      "metadata": {
        "id": "uo3jAwbGGCMM"
      },
      "source": [
        "Cambiar una columna de string, int o float a datetime tiene las siguientes ventajas:\n",
        "\n",
        "1. Permite aplicar operaciones de calendario como:\n",
        "- df[\"fecha\"].dt.year      # año\n",
        "- df[\"fecha\"].dt.month     # mes\n",
        "- df[\"fecha\"].dt.day       # día\n",
        "\n",
        "2. Permite comparaciones y filtros más fáciles. Ejemplo: seleccionar datos de 2023 en adelante.\n",
        "\n",
        "  df[df[\"fecha\"] >= \"2023-01-01\"]\n",
        "\n",
        "  Si fueran strings, hacer este filtro sería muy complicado y propenso a errores.\n",
        "\n",
        "3. Permite realizar operaciones matemáticas con fechas. Puedes calcular diferencias en días, semanas o meses:\n",
        "\n",
        "  (df[\"fecha\"].max() - df[\"fecha\"].min()).days\n",
        "\n",
        "4. Puedes ordenar la serie en orden cronológico."
      ]
    },
    {
      "cell_type": "code",
      "execution_count": null,
      "metadata": {
        "colab": {
          "base_uri": "https://localhost:8080/"
        },
        "id": "Juqm-Sl9MjvU",
        "outputId": "28e0cff4-55b1-4d0e-9a10-e3d79650e5ec"
      },
      "outputs": [],
      "source": [
        "# Pasar la columna a formato fecha\n",
        "df['SUBMISSION_DATE'] = pd.to_datetime(df['SUBMISSION_DATE'], format=\"%d%m%Y\")\n",
        "df.info()"
      ]
    },
    {
      "cell_type": "code",
      "execution_count": null,
      "metadata": {
        "colab": {
          "base_uri": "https://localhost:8080/",
          "height": 313
        },
        "id": "KKr74-aIHyNO",
        "outputId": "a6b6200c-575a-46c4-fdaf-d87cb09085f1"
      },
      "outputs": [],
      "source": [
        "df.head()"
      ]
    },
    {
      "cell_type": "code",
      "execution_count": null,
      "metadata": {
        "colab": {
          "base_uri": "https://localhost:8080/",
          "height": 313
        },
        "id": "ELqugJasH5LX",
        "outputId": "1f9f6034-abff-4085-bdc3-67c1098b6e32"
      },
      "outputs": [],
      "source": [
        "# Crear una nueva columna que diga solamente el día de envío de la información\n",
        "df['DIA'] = df[\"SUBMISSION_DATE\"].dt.day\n",
        "df.sample(5)"
      ]
    },
    {
      "cell_type": "code",
      "execution_count": null,
      "metadata": {
        "id": "JeeVtjjaINmL"
      },
      "outputs": [],
      "source": [
        "df.drop(columns=['DIA'], inplace=True)"
      ]
    },
    {
      "cell_type": "code",
      "execution_count": null,
      "metadata": {
        "colab": {
          "base_uri": "https://localhost:8080/",
          "height": 635
        },
        "id": "JxCGUv5tJHRR",
        "outputId": "a82a829f-5367-4520-ac37-88185b8c30d3"
      },
      "outputs": [],
      "source": [
        "# Filtrar los registros que se enviaron después del 22 de julio de 2022\n",
        "df[df[\"SUBMISSION_DATE\"] > \"2022-07-22\"]"
      ]
    },
    {
      "cell_type": "code",
      "execution_count": null,
      "metadata": {
        "colab": {
          "base_uri": "https://localhost:8080/"
        },
        "id": "MG4MVQzSJimN",
        "outputId": "b4c9d294-b95a-4e1d-e7ac-48f05f166da8"
      },
      "outputs": [],
      "source": [
        "# Para saber el número de días de envío de información que cubre el dataset\n",
        "(df[\"SUBMISSION_DATE\"].max() - df[\"SUBMISSION_DATE\"].min()).days"
      ]
    },
    {
      "cell_type": "code",
      "execution_count": null,
      "metadata": {
        "colab": {
          "base_uri": "https://localhost:8080/",
          "height": 617
        },
        "id": "gx5SIvaCJ5so",
        "outputId": "775d1e48-1ec5-4e52-af8a-ccbb7182e459"
      },
      "outputs": [],
      "source": [
        "# Ver el dataset en orden cronológico\n",
        "df.sort_values(by='SUBMISSION_DATE')"
      ]
    },
    {
      "cell_type": "markdown",
      "metadata": {
        "id": "fgY7845-MjvY"
      },
      "source": [
        "## Duplicados"
      ]
    },
    {
      "cell_type": "markdown",
      "metadata": {
        "id": "HDmo02xD09Jl"
      },
      "source": [
        "Puede generar un sesgo por sobrevaloración de una observación."
      ]
    },
    {
      "cell_type": "markdown",
      "metadata": {
        "id": "bAIa7Z3ReFo1"
      },
      "source": [
        "### Detectar duplicados"
      ]
    },
    {
      "cell_type": "code",
      "execution_count": null,
      "metadata": {
        "colab": {
          "base_uri": "https://localhost:8080/",
          "height": 313
        },
        "id": "3nBcxhJ0MjvY",
        "outputId": "5c951c62-35ba-4f4b-9b46-0248efd41c61"
      },
      "outputs": [],
      "source": [
        "# Encontrar filas con todos sus valores duplicados (ver sólo el primer valor repetido)\n",
        "df[df.duplicated()]"
      ]
    },
    {
      "cell_type": "code",
      "execution_count": null,
      "metadata": {
        "colab": {
          "base_uri": "https://localhost:8080/",
          "height": 557
        },
        "id": "cy-Nsdl6MjvY",
        "outputId": "822dc1fd-7ad6-4df8-e5a7-a4fbe4318742"
      },
      "outputs": [],
      "source": [
        "# Encontrar filas con todos sus valores duplicados (ver todos los valores repetidos)\n",
        "df[df.duplicated(keep=False)]"
      ]
    },
    {
      "cell_type": "code",
      "execution_count": null,
      "metadata": {
        "colab": {
          "base_uri": "https://localhost:8080/",
          "height": 635
        },
        "id": "gfJ78x1uegAt",
        "outputId": "b2e738fe-5859-4a1a-a619-6ebe0262021c"
      },
      "outputs": [],
      "source": [
        "# Encontrar duplicados en ciertas columnas, ver todos los valores repetidos\n",
        "df[df.duplicated(subset='COUNTRY', keep=False)]"
      ]
    },
    {
      "cell_type": "code",
      "execution_count": null,
      "metadata": {
        "colab": {
          "base_uri": "https://localhost:8080/",
          "height": 654
        },
        "id": "F3PdobyRMjvY",
        "outputId": "8f91da4b-5b0f-4c36-a1ec-b72535353155"
      },
      "outputs": [],
      "source": [
        "# Ver duplicados en varias columnas al tiempo\n",
        "df[df.duplicated(subset=['COUNTRY','MODE', 'DIRECTION'], keep=False)]"
      ]
    },
    {
      "cell_type": "markdown",
      "metadata": {
        "id": "7Lzy3aJafHwr"
      },
      "source": [
        "### Ver la cantidad de duplicados que existen"
      ]
    },
    {
      "cell_type": "code",
      "execution_count": null,
      "metadata": {
        "colab": {
          "base_uri": "https://localhost:8080/"
        },
        "id": "1qqLe6ADfKZy",
        "outputId": "c9d8b462-5440-4f62-f2eb-d8a949f9418b"
      },
      "outputs": [],
      "source": [
        "# En general\n",
        "df.duplicated().sum()"
      ]
    },
    {
      "cell_type": "code",
      "execution_count": null,
      "metadata": {
        "colab": {
          "base_uri": "https://localhost:8080/"
        },
        "id": "1uHDDT08MjvZ",
        "outputId": "676b45e5-264c-44a9-d584-56a8f2b66a90"
      },
      "outputs": [],
      "source": [
        "# En una columna específica\n",
        "df['COUNTRY'].duplicated().sum()"
      ]
    },
    {
      "cell_type": "code",
      "execution_count": null,
      "metadata": {
        "colab": {
          "base_uri": "https://localhost:8080/"
        },
        "id": "Umki29x4fTIm",
        "outputId": "d77fc396-f646-40b6-85c0-b12ddc43a88d"
      },
      "outputs": [],
      "source": [
        "# En varias columnas\n",
        "df.duplicated(subset=['COUNTRY','MODE', 'DIRECTION']).sum()"
      ]
    },
    {
      "cell_type": "markdown",
      "metadata": {
        "id": "YPUYZFVEfxaw"
      },
      "source": [
        "### Eliminar duplicados"
      ]
    },
    {
      "cell_type": "code",
      "execution_count": null,
      "metadata": {
        "id": "RM7gb2VcMjvZ"
      },
      "outputs": [],
      "source": [
        "# Eliminar filas con todos sus valores duplicados, conservando sólo el primer registro\n",
        "df.drop_duplicates(keep='first', inplace=True)"
      ]
    },
    {
      "cell_type": "code",
      "execution_count": null,
      "metadata": {
        "colab": {
          "base_uri": "https://localhost:8080/"
        },
        "id": "gXxcvPG6gNd_",
        "outputId": "8bf5a377-88ca-4256-b61e-7c494593e932"
      },
      "outputs": [],
      "source": [
        "df.duplicated().sum()"
      ]
    },
    {
      "cell_type": "code",
      "execution_count": null,
      "metadata": {
        "id": "9wZDvQUYgE5X"
      },
      "outputs": [],
      "source": [
        "# Eliminar filas con todos sus valores duplicados, conservando sólo el último registro\n",
        "# df.drop_duplicates(keep='last', inplace=True)"
      ]
    },
    {
      "cell_type": "code",
      "execution_count": null,
      "metadata": {
        "id": "b__AMkcXMjvZ"
      },
      "outputs": [],
      "source": [
        "# Borrar duplicados revisando solo una columna y dejando el último dato que encuentre\n",
        "# df = df.drop_duplicates(subset=\"COUNTRY\", keep=\"last\")"
      ]
    },
    {
      "cell_type": "markdown",
      "metadata": {
        "id": "gpspTTH3MjvW"
      },
      "source": [
        "## Valores faltantes"
      ]
    },
    {
      "cell_type": "markdown",
      "metadata": {
        "id": "XEpASN8V1C8z"
      },
      "source": [
        "Implica perdida de información que puede ser muy relevante para el análisis."
      ]
    },
    {
      "cell_type": "markdown",
      "metadata": {
        "id": "wf-vzuKQgmHa"
      },
      "source": [
        "### Detectar valores faltantes"
      ]
    },
    {
      "cell_type": "code",
      "execution_count": null,
      "metadata": {
        "colab": {
          "base_uri": "https://localhost:8080/"
        },
        "id": "OR7ySLLplF24",
        "outputId": "a955ed4c-c4e6-4960-aed1-bd8e3332f38d"
      },
      "outputs": [],
      "source": [
        "len(df)"
      ]
    },
    {
      "cell_type": "code",
      "execution_count": null,
      "metadata": {
        "colab": {
          "base_uri": "https://localhost:8080/",
          "height": 962
        },
        "id": "OcH_iaKTMjvW",
        "outputId": "e8af8919-a687-4618-fac5-747c6416354b"
      },
      "outputs": [],
      "source": [
        "# Ver la cantidad de valores nulos en cada columna\n",
        "df.isna().sum()"
      ]
    },
    {
      "cell_type": "code",
      "execution_count": null,
      "metadata": {
        "colab": {
          "base_uri": "https://localhost:8080/",
          "height": 635
        },
        "id": "_e-u374AMjvX",
        "outputId": "3042810d-4bce-4083-f396-0b9bb47655b0"
      },
      "outputs": [],
      "source": [
        "# Para filtrar los nulos de una columna\n",
        "df[df['2000'].isna()]"
      ]
    },
    {
      "cell_type": "code",
      "execution_count": null,
      "metadata": {
        "colab": {
          "base_uri": "https://localhost:8080/",
          "height": 635
        },
        "id": "PR1jDd68lw_I",
        "outputId": "a719ced2-3230-4b56-b566-6452a48af152"
      },
      "outputs": [],
      "source": [
        "# Para filtrar los nulos de varias columnas al tiempo\n",
        "df[df['2000'].isna() & df['2001'].isna()]"
      ]
    },
    {
      "cell_type": "code",
      "execution_count": null,
      "metadata": {
        "colab": {
          "base_uri": "https://localhost:8080/",
          "height": 635
        },
        "id": "w4hBD_TgMjvX",
        "outputId": "2183acd6-8e27-4479-f364-3e8f89e415ab"
      },
      "outputs": [],
      "source": [
        "df[df['2000'].isna() | df['2020'].isna()]"
      ]
    },
    {
      "cell_type": "markdown",
      "metadata": {
        "id": "CCAMBBGAgekg"
      },
      "source": [
        "### Imputar valores faltantes"
      ]
    },
    {
      "cell_type": "markdown",
      "metadata": {
        "id": "zFrXoA9D15qF"
      },
      "source": [
        "La elección del método no es trivial y debe basarse en el conocimiento del problema. Imputar con la media podría subestimar la variabilidad de un mercado, mientras que eliminar datos podría generar un sesgo de selección."
      ]
    },
    {
      "cell_type": "markdown",
      "metadata": {
        "id": "nBfK-MfGh0O_"
      },
      "source": [
        "### Eliminar filas con valores faltantes"
      ]
    },
    {
      "cell_type": "markdown",
      "metadata": {
        "id": "hS0WaEKTokzp"
      },
      "source": [
        "👉 Útil si los faltantes son muy pocos o irrelevantes."
      ]
    },
    {
      "cell_type": "code",
      "execution_count": null,
      "metadata": {
        "colab": {
          "base_uri": "https://localhost:8080/"
        },
        "id": "Ap3IUvk2mRJf",
        "outputId": "bb13e2cc-6864-477b-ea83-72f7e87f1a3f"
      },
      "outputs": [],
      "source": [
        "len(df)"
      ]
    },
    {
      "cell_type": "code",
      "execution_count": null,
      "metadata": {
        "colab": {
          "base_uri": "https://localhost:8080/"
        },
        "id": "MvlnHSBdmMqK",
        "outputId": "ca0b3a58-9866-4637-feda-c5fd91a6f877"
      },
      "outputs": [],
      "source": [
        "# Borrar la fila si hay nulos en ciertas columnas\n",
        "df_2 = df.dropna(subset=['2020'], how='all')\n",
        "len(df_2)"
      ]
    },
    {
      "cell_type": "code",
      "execution_count": null,
      "metadata": {
        "colab": {
          "base_uri": "https://localhost:8080/",
          "height": 962
        },
        "id": "J2ggZrNVpPoX",
        "outputId": "574bcb8e-960b-44b3-896f-ce39b0a24611"
      },
      "outputs": [],
      "source": [
        "df_2.isna().sum()"
      ]
    },
    {
      "cell_type": "code",
      "execution_count": null,
      "metadata": {
        "colab": {
          "base_uri": "https://localhost:8080/"
        },
        "id": "pG8qegdno1Fe",
        "outputId": "9c401bb9-a09a-4dcf-84b4-58ff68a06015"
      },
      "outputs": [],
      "source": [
        "# Borrar la fila si hay nulos en ciertas columnas\n",
        "df_3 = df.dropna(subset=['2018', '2019', '2020'], how='all')\n",
        "len(df_3)"
      ]
    },
    {
      "cell_type": "code",
      "execution_count": null,
      "metadata": {
        "colab": {
          "base_uri": "https://localhost:8080/",
          "height": 962
        },
        "id": "pfDcPJ9VpFN2",
        "outputId": "97f337b3-b2d2-4d12-93b4-00678a882957"
      },
      "outputs": [],
      "source": [
        "df_3.isna().sum()"
      ]
    },
    {
      "cell_type": "code",
      "execution_count": null,
      "metadata": {
        "colab": {
          "base_uri": "https://localhost:8080/"
        },
        "id": "DOk0ahRvmp1O",
        "outputId": "45fceb62-4592-40a2-b6a3-84356402c440"
      },
      "outputs": [],
      "source": [
        "# Borrar todas las filas o registros que tienen datos faltantes en el dataset\n",
        "df_4 = df.dropna()\n",
        "len(df_4)"
      ]
    },
    {
      "cell_type": "code",
      "execution_count": null,
      "metadata": {
        "colab": {
          "base_uri": "https://localhost:8080/",
          "height": 962
        },
        "id": "fVlz1aRFm1Y9",
        "outputId": "e7c836f0-9f67-45e7-91a6-25e21c889ceb"
      },
      "outputs": [],
      "source": [
        "df_4.isna().sum()"
      ]
    },
    {
      "cell_type": "markdown",
      "metadata": {
        "id": "BHMaOlCrqtML"
      },
      "source": [
        "#### Reemplazar todos los faltantes por un valor constante"
      ]
    },
    {
      "cell_type": "markdown",
      "metadata": {
        "id": "gQVcb3ewqwrw"
      },
      "source": [
        "👉 Se usa cuando un valor por defecto tiene sentido (ej. \"No aplica\", 0 para exportaciones)."
      ]
    },
    {
      "cell_type": "code",
      "execution_count": null,
      "metadata": {
        "colab": {
          "base_uri": "https://localhost:8080/",
          "height": 330
        },
        "id": "2Fdyqvy5nG9l",
        "outputId": "32538c73-76f8-40c2-e04d-fea45ae63cd6"
      },
      "outputs": [],
      "source": [
        "# Llenar los valores nulos con cero\n",
        "df['2000'] = df['2000'].fillna(0)\n",
        "df.tail()"
      ]
    },
    {
      "cell_type": "code",
      "execution_count": null,
      "metadata": {
        "colab": {
          "base_uri": "https://localhost:8080/",
          "height": 330
        },
        "id": "GnJ72GoOMjvX",
        "outputId": "3cfebdab-f286-435f-bc16-0fed65082a3b"
      },
      "outputs": [],
      "source": [
        "# Llenar los valores nulos con un string\n",
        "df['2001'] = df['2001'].fillna('No aplica')\n",
        "df.tail()"
      ]
    },
    {
      "cell_type": "markdown",
      "metadata": {
        "id": "jcFPTX-3q2TR"
      },
      "source": [
        "#### Imputación con estadísticas de la columna"
      ]
    },
    {
      "cell_type": "markdown",
      "metadata": {
        "id": "PCzjEZBjq6Vx"
      },
      "source": [
        "👉 Muy usado en economía. Por ejemplo, la media/mediana para ingresos."
      ]
    },
    {
      "cell_type": "code",
      "execution_count": null,
      "metadata": {
        "colab": {
          "base_uri": "https://localhost:8080/",
          "height": 330
        },
        "id": "x9RZqIx5nYMM",
        "outputId": "aea97895-f5f5-4ed2-d39e-83b3f4ef6607"
      },
      "outputs": [],
      "source": [
        "# Llenar los valores nulos con la media de la columna\n",
        "df['2002'] = df['2002'].fillna(df['2002'].mean())\n",
        "df.tail()"
      ]
    },
    {
      "cell_type": "markdown",
      "metadata": {
        "id": "VamqrwHIrSDz"
      },
      "source": [
        "#### Imputación con valores vecinos"
      ]
    },
    {
      "cell_type": "markdown",
      "metadata": {
        "id": "MnL6W-3jsA2U"
      },
      "source": [
        "👉 Muy útil en series de tiempo (ejemplo: inflación mensual, PIB trimestral)."
      ]
    },
    {
      "cell_type": "markdown",
      "metadata": {
        "id": "yf3miqwHrVBr"
      },
      "source": [
        "##### Forward fill (ffill): usa el último valor válido anterior"
      ]
    },
    {
      "cell_type": "code",
      "execution_count": null,
      "metadata": {
        "colab": {
          "base_uri": "https://localhost:8080/",
          "height": 330
        },
        "id": "iACdlboqrZMb",
        "outputId": "747e21c2-fba8-4312-9f31-8edfa5196bdf"
      },
      "outputs": [],
      "source": [
        "df[\"2003\"].fillna(method=\"ffill\", inplace=True)\n",
        "df.tail()"
      ]
    },
    {
      "cell_type": "markdown",
      "metadata": {
        "id": "4grZEiLbrvTm"
      },
      "source": [
        "##### Backward fill (bfill): usa el siguiente valor válido"
      ]
    },
    {
      "cell_type": "code",
      "execution_count": null,
      "metadata": {
        "colab": {
          "base_uri": "https://localhost:8080/",
          "height": 330
        },
        "id": "sd0196iOr0hb",
        "outputId": "e35a5dbb-2bf8-4626-d8b5-89f51b2026a4"
      },
      "outputs": [],
      "source": [
        "df[\"2004\"].fillna(method=\"bfill\", inplace=True)\n",
        "df.tail()"
      ]
    },
    {
      "cell_type": "markdown",
      "metadata": {
        "id": "JubnJrdNsG7H"
      },
      "source": [
        "#### Interpolación"
      ]
    },
    {
      "cell_type": "markdown",
      "metadata": {
        "id": "OBMNkQ5HsKLu"
      },
      "source": [
        "Calcula valores intermedios automáticamente"
      ]
    },
    {
      "cell_type": "markdown",
      "metadata": {
        "id": "Di2b8rq4sMp5"
      },
      "source": [
        "👉 Útil en datos económicos continuos, como tasas de crecimiento. Útil en series de tiempo."
      ]
    },
    {
      "cell_type": "code",
      "execution_count": null,
      "metadata": {
        "colab": {
          "base_uri": "https://localhost:8080/",
          "height": 330
        },
        "id": "JEhEdnclr8-r",
        "outputId": "3908c319-f14b-4c1e-c82e-53ccbdc55ebc"
      },
      "outputs": [],
      "source": [
        "df[\"2005\"].interpolate(method=\"linear\", inplace=True)\n",
        "df.tail()"
      ]
    },
    {
      "cell_type": "markdown",
      "metadata": {
        "id": "8py01gUUtMmQ"
      },
      "source": [
        "#### Modelos predictivos (Machine Learning)\n",
        "\n",
        "Usa algoritmos para predecir los valores faltantes. Por ejemplo:\n",
        "\n",
        "- KNN Imputer (usa vecinos más cercanos).\n",
        "\n",
        "- Regresión (predice usando otras variables)."
      ]
    },
    {
      "cell_type": "markdown",
      "metadata": {
        "id": "_4KxZorXvUqW"
      },
      "source": [
        "##### 📌  KNNImputer (Imputación con Vecinos Más Cercanos)\n",
        "\n",
        "Busca observaciones parecidas (vecinos) usando las demás variables del dataset.\n",
        "\n",
        "Si una observación tiene un dato faltante, se fija en los valores de esos vecinos más cercanos.\n",
        "\n",
        "Rellena el valor faltante con el promedio de los vecinos.\n",
        "\n",
        "* Ejemplo:\n",
        "\n",
        "Imagina que falta el valor de la inflación de Colombia, pero sí tenemos su PIB. El KNNImputer busca países con PIB similar (como Chile o Perú), y usa sus valores de inflación para calcular un promedio y rellenar el dato faltante de Colombia."
      ]
    },
    {
      "cell_type": "markdown",
      "metadata": {
        "id": "mf0yWxbpxWMD"
      },
      "source": [
        "👉 Cosas a tener en cuenta:\n",
        "\n",
        "- Solo funciona con variables numéricas.\n",
        "\n",
        "- Conviene escalar o normalizar las variables antes, porque si una está en millones (PIB) y otra en %, dominará la distancia.\n",
        "\n",
        "- El valor que se asigna es la media de los vecinos (aunque también podrías modificarlo para usar la mediana)."
      ]
    },
    {
      "cell_type": "code",
      "execution_count": null,
      "metadata": {
        "id": "9GuB1KS-sYZE"
      },
      "outputs": [],
      "source": [
        "from sklearn.impute import KNNImputer\n",
        "import numpy as np"
      ]
    },
    {
      "cell_type": "code",
      "execution_count": null,
      "metadata": {
        "colab": {
          "base_uri": "https://localhost:8080/",
          "height": 660
        },
        "id": "jMYbG5EPterG",
        "outputId": "fece43ef-67a1-4190-a8e7-4b4345ce9f55"
      },
      "outputs": [],
      "source": [
        "imputer = KNNImputer(n_neighbors=3)\n",
        "df[[\"2020\"]] = imputer.fit_transform(df[[\"2020\"]])\n",
        "df.tail()"
      ]
    }
  ],
  "metadata": {
    "colab": {
      "provenance": [],
      "toc_visible": true
    },
    "kernelspec": {
      "display_name": "myenv",
      "language": "python",
      "name": "python3"
    },
    "language_info": {
      "codemirror_mode": {
        "name": "ipython",
        "version": 3
      },
      "file_extension": ".py",
      "mimetype": "text/x-python",
      "name": "python",
      "nbconvert_exporter": "python",
      "pygments_lexer": "ipython3",
      "version": "3.11.1"
    },
    "orig_nbformat": 4
  },
  "nbformat": 4,
  "nbformat_minor": 0
}
