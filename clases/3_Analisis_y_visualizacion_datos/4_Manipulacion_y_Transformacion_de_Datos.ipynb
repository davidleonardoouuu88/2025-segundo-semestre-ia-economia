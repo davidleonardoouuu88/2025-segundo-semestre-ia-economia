{
  "cells": [
    {
      "cell_type": "markdown",
      "metadata": {
        "id": "jUwmbtkhQh8y"
      },
      "source": [
        "<a href=\"https://colab.research.google.com/github/LinaMariaCastro/curso-ia-para-economia/blob/main/clases/3_Analisis_y_visualizacion_datos/4_Manipulacion_y_Transformacion_de_Datos.ipynb\" target=\"_parent\"><img src=\"https://colab.research.google.com/assets/colab-badge.svg\" alt=\"Open In Colab\"/></a>"
      ]
    },
    {
      "cell_type": "code",
      "execution_count": null,
      "metadata": {
        "collapsed": true,
        "id": "BcBnfNh6Usk-"
      },
      "outputs": [],
      "source": [
        "#!pip install wbdata"
      ]
    },
    {
      "cell_type": "markdown",
      "metadata": {
        "id": "5iiwfbXCQv5D"
      },
      "source": [
        "# **Inteligencia Artificial con Aplicaciones en Economía I**\n",
        "\n",
        "- 👩‍🏫 **Profesora:** [Lina María Castro](https://www.linkedin.com/in/lina-maria-castro)  \n",
        "- 📧 **Email:** [lmcastroco@gmail.com](mailto:lmcastroco@gmail.com)  \n",
        "- 🎓 **Universidad:** Universidad Externado de Colombia - Facultad de Economía"
      ]
    },
    {
      "cell_type": "markdown",
      "metadata": {
        "id": "YQ0JPz6cOolu"
      },
      "source": [
        "# 🪄**Manipulación y transformación de datos**"
      ]
    },
    {
      "cell_type": "markdown",
      "metadata": {
        "id": "7DndmmzRXeYb"
      },
      "source": [
        "👉 Ahora que los datos están limpios, toca organizarlos para analizarlos.\n",
        "\n",
        "✅ Resultado: un dataset estructurado para responder preguntas económicas."
      ]
    },
    {
      "cell_type": "markdown",
      "metadata": {
        "id": "aOPEcCUbRevP"
      },
      "source": [
        "**Objetivos de Aprendizaje:**\n",
        "\n",
        "Al finalizar este notebook, serás capaz de:\n",
        "\n",
        "1. **Organizar y filtrar datos** para aislar la información más relevante para una pregunta de investigación económica.\n",
        "\n",
        "2. **Agregar y resumir datos** para calcular estadísticas descriptivas a nivel de grupo (e.g., por región, por nivel de ingreso).\n",
        "\n",
        "3. **Remodelar y transformar tablas de datos** para pasar de formatos anchos a largos y viceversa, una habilidad crucial para preparar datos para modelos econométricos y visualizaciones."
      ]
    },
    {
      "cell_type": "markdown",
      "metadata": {
        "id": "C85ifPvtSeVs"
      },
      "source": [
        "**Introducción**\n",
        "\n",
        "Imagina que eres un economista recién contratado en el Banco Mundial. Tu primer encargo es analizar la relación entre el Gasto Público en Educación (% del PIB) y el Crecimiento del PIB per cápita para diferentes regiones del mundo durante la última década.\n",
        "\n",
        "Recibes un enorme archivo csv con miles de filas y columnas, mezclando países, años e indicadores de todo tipo. No puedes simplemente introducir eso en un modelo. Primero, necesitas esculpir y analizar tus datos. Necesitas:\n",
        "\n",
        "- Ordenar los países para ver los que más y menos invierten.\n",
        "\n",
        "- Filtrar para quedarte solo con los años y los indicadores relevantes.\n",
        "\n",
        "- Agrupar por región para calcular el gasto promedio y ver si África Subsahariana invierte, en promedio, más o menos que América Latina.\n",
        "\n",
        "- Pivotar la tabla para que cada fila sea un país y cada columna un año, permitiéndote ver la evolución de un vistazo.\n",
        "\n",
        "Estas no son solo \"funciones de pandas\"; son las herramientas diarias de un economista."
      ]
    },
    {
      "cell_type": "markdown",
      "metadata": {
        "id": "CvffQiPyDLJG"
      },
      "source": [
        "## Importar librerías"
      ]
    },
    {
      "cell_type": "code",
      "execution_count": null,
      "metadata": {
        "id": "YFPOnxMFDBFP"
      },
      "outputs": [],
      "source": [
        "import numpy as np\n",
        "import pandas as pd\n",
        "import warnings\n",
        "warnings.filterwarnings('ignore')"
      ]
    },
    {
      "cell_type": "markdown",
      "metadata": {
        "id": "jHE2ZLJuEPIe"
      },
      "source": [
        "## Mejorar visualización de los dataframes"
      ]
    },
    {
      "cell_type": "code",
      "execution_count": null,
      "metadata": {
        "id": "72TA8V1fETCm"
      },
      "outputs": [],
      "source": [
        "# Que muestre todas las columnas\n",
        "pd.options.display.max_columns = None\n",
        "# En los dataframes, mostrar los float con dos decimales\n",
        "pd.options.display.float_format = '{:,.2f}'.format"
      ]
    },
    {
      "cell_type": "markdown",
      "metadata": {
        "id": "SMx0i2r4j1mN"
      },
      "source": [
        "## Cargar el dataset"
      ]
    },
    {
      "cell_type": "markdown",
      "metadata": {
        "id": "PZQWax9c4Xot"
      },
      "source": [
        "Como ejemplo, usaremos un **dataset real del Banco Mundial** que contiene indicadores de desarrollo. Esto nos permitirá realizar un análisis que un economista haría en su día a día."
      ]
    },
    {
      "cell_type": "markdown",
      "metadata": {
        "id": "CpdodkgKRwEi"
      },
      "source": [
        "Utilizaremos la API del Banco Mundial para obtener los datos."
      ]
    },
    {
      "cell_type": "code",
      "execution_count": null,
      "metadata": {
        "id": "wP2qVnBJU1Ss"
      },
      "outputs": [],
      "source": [
        "import wbdata"
      ]
    },
    {
      "cell_type": "code",
      "execution_count": null,
      "metadata": {
        "colab": {
          "base_uri": "https://localhost:8080/"
        },
        "id": "3cImmq_tU6gW",
        "outputId": "b6e2af6e-8a9e-4778-c859-c6584f21dbba"
      },
      "outputs": [],
      "source": [
        "# Listar bases de datos disponibles en el Banco Mundial\n",
        "# Nos interesa World Development Indicators\n",
        "wbdata.get_sources()"
      ]
    },
    {
      "cell_type": "code",
      "execution_count": null,
      "metadata": {
        "colab": {
          "base_uri": "https://localhost:8080/"
        },
        "id": "tMhc4oGGU_ms",
        "outputId": "da0ade11-c206-49a4-8da7-b2980d2958b4"
      },
      "outputs": [],
      "source": [
        "# Listar indicadores disponibles en World Development Indicators\n",
        "wbdata.get_indicators(source=2)"
      ]
    },
    {
      "cell_type": "code",
      "execution_count": null,
      "metadata": {
        "colab": {
          "base_uri": "https://localhost:8080/"
        },
        "id": "lA6IfhQyVwT7",
        "outputId": "749b7011-a2ef-49b5-92bd-2269536a3823"
      },
      "outputs": [],
      "source": [
        "# Buscar los indicadores de interés en World Development Indicators\n",
        "wbdata.get_indicators(query=\"GDP per capita\", source=2)"
      ]
    },
    {
      "cell_type": "code",
      "execution_count": null,
      "metadata": {
        "id": "8eJ5hCYaVUZv"
      },
      "outputs": [],
      "source": [
        "indicadores = {\"NY.GDP.PCAP.PP.CD\": \"PIB per cápita (PPA, USD internacionales)\",\n",
        "               \"SH.XPD.CHEX.PP.CD\": \"Gasto en salud per cápita (PPA, USD internacionales)\",\n",
        "               \"SP.DYN.LE00.IN\": \"Esperanza de vida (años)\",\n",
        "               \"SL.UEM.TOTL.NE.ZS\": \"Tasa de desempleo (%)\"}\n",
        "\n",
        "# Descargar datos para países de América del Sur de 2010 a 2022\n",
        "df = wbdata.get_dataframe(indicadores, country=[\"COL\", \"PER\", \"BRA\", \"CHL\", \"ARG\", \"BOL\", \"ECU\", \"PRY\", \"URY\"], date=(\"2010\", \"2022\"))\n",
        "df = df.reset_index()\n",
        "df = df.rename(columns={'country': 'País', 'date': 'Año'})"
      ]
    },
    {
      "cell_type": "markdown",
      "metadata": {
        "id": "MaEILKvJD_lk"
      },
      "source": [
        "## Exploración inicial del dataset"
      ]
    },
    {
      "cell_type": "code",
      "execution_count": null,
      "metadata": {
        "colab": {
          "base_uri": "https://localhost:8080/",
          "height": 441
        },
        "id": "OUuavpFwj4Ih",
        "outputId": "ad802b68-b2bf-4298-b095-b617aa768876"
      },
      "outputs": [],
      "source": [
        "df"
      ]
    },
    {
      "cell_type": "code",
      "execution_count": null,
      "metadata": {
        "colab": {
          "base_uri": "https://localhost:8080/"
        },
        "id": "K4aFkzQzuIxe",
        "outputId": "28582905-e826-4444-af71-c3bb166239d3"
      },
      "outputs": [],
      "source": [
        "df.shape"
      ]
    },
    {
      "cell_type": "code",
      "execution_count": null,
      "metadata": {
        "colab": {
          "base_uri": "https://localhost:8080/"
        },
        "id": "rjLmhgA5rOXX",
        "outputId": "0a8ef99f-b7df-4327-eff1-f9fa6bd76ba7"
      },
      "outputs": [],
      "source": [
        "df.info()"
      ]
    },
    {
      "cell_type": "code",
      "execution_count": null,
      "metadata": {
        "colab": {
          "base_uri": "https://localhost:8080/",
          "height": 398
        },
        "id": "-HjlkzR2hodq",
        "outputId": "cad413aa-4922-45e8-df42-01eb1103039c"
      },
      "outputs": [],
      "source": [
        "df[\"País\"].value_counts(dropna=False)"
      ]
    },
    {
      "cell_type": "markdown",
      "metadata": {
        "id": "ch5GVDNQkAdd"
      },
      "source": [
        "Tenemos una base de datos con información de 9 países de América del Sur para 13 años (2010-2022), lo que nos da un total de 117 filas. Se trajo información de 4 indicadores. La información se presenta en una estructura de panel de datos."
      ]
    },
    {
      "cell_type": "markdown",
      "metadata": {
        "id": "5j_ErRl_Mjvb"
      },
      "source": [
        "## Realizar filtros"
      ]
    },
    {
      "cell_type": "markdown",
      "metadata": {
        "id": "Hk7DNq1Op8DN"
      },
      "source": [
        "En ocasiones, un economista quiere seleccionar subconjuntos de datos para analizar. Por ejemplo, podemos estar interesados en conocer cómo se comportaron los indicadores en los distintos países en el año 2022, por lo que vamos a crear un dataframe solo con la información de 2022."
      ]
    },
    {
      "cell_type": "code",
      "execution_count": null,
      "metadata": {
        "colab": {
          "base_uri": "https://localhost:8080/",
          "height": 349
        },
        "id": "-7BLk-mJqg3V",
        "outputId": "adc2492a-2711-4366-9df3-53777ac7cafa"
      },
      "outputs": [],
      "source": [
        "df_2022 = df[df['Año'] == \"2022\"]\n",
        "df_2022"
      ]
    },
    {
      "cell_type": "code",
      "execution_count": null,
      "metadata": {
        "colab": {
          "base_uri": "https://localhost:8080/",
          "height": 349
        },
        "id": "Oxv6tvm8sAjL",
        "outputId": "783c6a4e-958d-49b1-e0a0-03f60c0d78ee"
      },
      "outputs": [],
      "source": [
        "# Reiniciamos el índice\n",
        "df_2022.reset_index(drop=True, inplace=True)\n",
        "df_2022"
      ]
    },
    {
      "cell_type": "markdown",
      "metadata": {
        "id": "oI7erNfUtcbb"
      },
      "source": [
        "### Filtrar por el índice"
      ]
    },
    {
      "cell_type": "markdown",
      "metadata": {
        "id": "5cCG829VEOIH"
      },
      "source": [
        "Queremos ver la información correspondiente al índice 3"
      ]
    },
    {
      "cell_type": "code",
      "execution_count": null,
      "metadata": {
        "colab": {
          "base_uri": "https://localhost:8080/",
          "height": 272
        },
        "id": "5TB6KrvyMjvb",
        "outputId": "76177195-bbaa-4a95-e2e1-38e6f1b926ea"
      },
      "outputs": [],
      "source": [
        "df_2022.iloc[3]"
      ]
    },
    {
      "cell_type": "markdown",
      "metadata": {
        "id": "y10MBe6HtqnC"
      },
      "source": [
        "### Filtrar por una columna"
      ]
    },
    {
      "cell_type": "markdown",
      "metadata": {
        "id": "yy1x_WbbEUlv"
      },
      "source": [
        "Queremos ver la información de Colombia"
      ]
    },
    {
      "cell_type": "code",
      "execution_count": null,
      "metadata": {
        "colab": {
          "base_uri": "https://localhost:8080/",
          "height": 98
        },
        "id": "AbIOxDFjsw2M",
        "outputId": "9c6a605e-d2c5-4366-e910-28abab47101b"
      },
      "outputs": [],
      "source": [
        "df_2022[df_2022['País']==\"Colombia\"]"
      ]
    },
    {
      "cell_type": "markdown",
      "metadata": {
        "id": "o_Oj8pIHGPmz"
      },
      "source": [
        "**Ejercico**\n",
        "\n",
        "Muéstrame todos los países que sean diferentes a Colombia"
      ]
    },
    {
      "cell_type": "code",
      "execution_count": null,
      "metadata": {
        "colab": {
          "base_uri": "https://localhost:8080/",
          "height": 318
        },
        "id": "fgR9s_EtGYmT",
        "outputId": "c0d46d8d-ed74-4f27-f221-1a30243b57c3"
      },
      "outputs": [],
      "source": []
    },
    {
      "cell_type": "markdown",
      "metadata": {
        "id": "yZxaNO6-EYxj"
      },
      "source": [
        "**Ejercicio**\n",
        "\n",
        "¿Qué países tienen una tasa de desempleo menor estrictamente a 5%?"
      ]
    },
    {
      "cell_type": "code",
      "execution_count": null,
      "metadata": {
        "colab": {
          "base_uri": "https://localhost:8080/",
          "height": 161
        },
        "id": "T_ugfcplsf7s",
        "outputId": "2fc08a6d-5a2a-475d-d338-9346f7c3cf88"
      },
      "outputs": [],
      "source": []
    },
    {
      "cell_type": "markdown",
      "metadata": {
        "id": "FRyRdu-ftucN"
      },
      "source": [
        "### Filtrar por varias columnas"
      ]
    },
    {
      "cell_type": "markdown",
      "metadata": {
        "id": "flNh_QmsEm5N"
      },
      "source": [
        "¿Qué países tienen una tasa de desempleo mayor o igual a 6% y una esperanza de vida mayor o igual a 75 años?"
      ]
    },
    {
      "cell_type": "code",
      "execution_count": null,
      "metadata": {
        "colab": {
          "base_uri": "https://localhost:8080/",
          "height": 192
        },
        "id": "LBrlCcbWtX51",
        "outputId": "a119312c-9c0a-454d-87d6-3cb95409ceb5"
      },
      "outputs": [],
      "source": [
        "df_2022[(df_2022['Tasa de desempleo (%)']>=6) & (df_2022['Esperanza de vida (años)']>=75)]"
      ]
    },
    {
      "cell_type": "markdown",
      "metadata": {
        "id": "-hxBerR-EvUz"
      },
      "source": [
        "¿Qué países tienen un PIB per cápita PPA mayor a USD 25.000 o un gasto en salud per cápita PPA mayor a USD 1.000?"
      ]
    },
    {
      "cell_type": "code",
      "execution_count": null,
      "metadata": {
        "colab": {
          "base_uri": "https://localhost:8080/",
          "height": 255
        },
        "id": "KB15EIZSDhRV",
        "outputId": "7841deac-bbac-47a4-8f00-58da4a269d7a"
      },
      "outputs": [],
      "source": [
        "df_2022[(df_2022['PIB per cápita (PPA, USD internacionales)']>25000) | (df_2022['Gasto en salud per cápita (PPA, USD internacionales)']>1000)]"
      ]
    },
    {
      "cell_type": "markdown",
      "metadata": {
        "id": "--t9ErNJuqwj"
      },
      "source": [
        "### Filtrar por el mínimo o máximo de una columna"
      ]
    },
    {
      "cell_type": "markdown",
      "metadata": {
        "id": "4rK11QEODvxL"
      },
      "source": [
        "¿Cuál país tiene el PIB per cápita más alto?"
      ]
    },
    {
      "cell_type": "code",
      "execution_count": null,
      "metadata": {
        "colab": {
          "base_uri": "https://localhost:8080/",
          "height": 98
        },
        "id": "PY5NC4-fu3-9",
        "outputId": "eb18fe24-b53c-4648-a745-7cd3cbb0dc77"
      },
      "outputs": [],
      "source": [
        "df_2022[df_2022['PIB per cápita (PPA, USD internacionales)'] == df_2022['PIB per cápita (PPA, USD internacionales)'].max()]"
      ]
    },
    {
      "cell_type": "markdown",
      "metadata": {
        "id": "UNFT3H7uDD55"
      },
      "source": [
        "**Ejercicio**\n",
        "\n",
        "¿Cuál país tiene la esperanza de vida más baja?"
      ]
    },
    {
      "cell_type": "code",
      "execution_count": null,
      "metadata": {
        "colab": {
          "base_uri": "https://localhost:8080/",
          "height": 98
        },
        "id": "WCHdtXkMvKwI",
        "outputId": "e4ccad6c-1812-4d86-ed67-a1c864d35635"
      },
      "outputs": [],
      "source": []
    },
    {
      "cell_type": "markdown",
      "metadata": {
        "id": "uHMSubr3JQjm"
      },
      "source": [
        "**Ejercicio**\n",
        "\n",
        "¿Qué países tienen un gasto en salud per cápita PPA por encima del promedio?"
      ]
    },
    {
      "cell_type": "code",
      "execution_count": null,
      "metadata": {
        "colab": {
          "base_uri": "https://localhost:8080/",
          "height": 161
        },
        "id": "k2ZllBYvI_tL",
        "outputId": "a023ab3f-0622-4103-d0c5-7a67a6844064"
      },
      "outputs": [],
      "source": []
    },
    {
      "cell_type": "markdown",
      "metadata": {
        "id": "f9oIqhdOv7a-"
      },
      "source": [
        "### Filtrar por una lista de valores"
      ]
    },
    {
      "cell_type": "markdown",
      "metadata": {
        "id": "mWVefrfzF6oX"
      },
      "source": [
        "Muéstrame los datos para Brasil y Ecuador"
      ]
    },
    {
      "cell_type": "code",
      "execution_count": null,
      "metadata": {
        "colab": {
          "base_uri": "https://localhost:8080/",
          "height": 129
        },
        "id": "1R0dnIqaMjvc",
        "outputId": "eed014c4-ad46-4c1b-f3af-68b3da92d971"
      },
      "outputs": [],
      "source": [
        "df_2022[df_2022['País'].isin(['Brazil','Ecuador'])]"
      ]
    },
    {
      "cell_type": "markdown",
      "metadata": {
        "id": "hd-GJgNhwG5z"
      },
      "source": [
        "### Filtrar los strings que contengan ciertos caracteres"
      ]
    },
    {
      "cell_type": "markdown",
      "metadata": {
        "id": "cTv0s0cnJkJL"
      },
      "source": [
        "Muéstrame los países que contengan \"P\""
      ]
    },
    {
      "cell_type": "code",
      "execution_count": null,
      "metadata": {
        "colab": {
          "base_uri": "https://localhost:8080/",
          "height": 129
        },
        "id": "N3jQLaO_wKaM",
        "outputId": "76cf4750-d48a-47ca-f43c-4c77918bbf16"
      },
      "outputs": [],
      "source": [
        "df_2022[df_2022['País'].str.contains(\"P\", na=False)]"
      ]
    },
    {
      "cell_type": "markdown",
      "metadata": {
        "id": "Wd5qSmd9Jvvk"
      },
      "source": [
        "Muéstrame los países que contengan \"Pe\" o \"Br\" o \"Ch\""
      ]
    },
    {
      "cell_type": "code",
      "execution_count": null,
      "metadata": {
        "colab": {
          "base_uri": "https://localhost:8080/",
          "height": 161
        },
        "id": "KsYFDIBnwpL4",
        "outputId": "bc90bdd3-f48e-49d9-a473-dbb2bcdf5cf5"
      },
      "outputs": [],
      "source": [
        "df_2022[df_2022['País'].str.contains(r'Pe|Br|Ch', na=False)]"
      ]
    },
    {
      "cell_type": "markdown",
      "metadata": {
        "id": "JZU8KUUJCz2u"
      },
      "source": [
        "**Ejercicio**\n",
        "\n",
        "Muestra los países que contengan \"guay\""
      ]
    },
    {
      "cell_type": "code",
      "execution_count": null,
      "metadata": {
        "colab": {
          "base_uri": "https://localhost:8080/",
          "height": 129
        },
        "id": "dyO6TRMvxQPR",
        "outputId": "38935755-30b6-434a-fd83-9bdee357080c"
      },
      "outputs": [],
      "source": []
    },
    {
      "cell_type": "markdown",
      "metadata": {
        "id": "RgpzckHkA1y7"
      },
      "source": [
        "### Filtrar por negación (todo excepto ...)"
      ]
    },
    {
      "cell_type": "markdown",
      "metadata": {
        "id": "gu2S40m5KJPK"
      },
      "source": [
        "Muéstrame todos los países excepto Brasil"
      ]
    },
    {
      "cell_type": "code",
      "execution_count": null,
      "metadata": {
        "colab": {
          "base_uri": "https://localhost:8080/",
          "height": 318
        },
        "id": "np93X8-DAjqI",
        "outputId": "4406a494-fc74-4b34-cb49-2bb1e585ae13"
      },
      "outputs": [],
      "source": [
        "df_2022[~(df_2022['País']=='Brazil')]"
      ]
    },
    {
      "cell_type": "markdown",
      "metadata": {
        "id": "EHHs30_rKOkq"
      },
      "source": [
        "**Ejercicio**\n",
        "\n",
        "Muéstrame todos los países excepto los que terminan en \"guay\". Filtra utilizando negación."
      ]
    },
    {
      "cell_type": "code",
      "execution_count": null,
      "metadata": {
        "colab": {
          "base_uri": "https://localhost:8080/",
          "height": 286
        },
        "id": "r7ikkzK1AJsL",
        "outputId": "982647ee-8dbb-4cb1-dc84-bb9f30873617"
      },
      "outputs": [],
      "source": []
    },
    {
      "cell_type": "markdown",
      "metadata": {
        "id": "LMKMyKwtB8hF"
      },
      "source": [
        "**Ejercicio**\n",
        "\n",
        "Muestra los países donde su PIB per cápita no sea mayor a USD 25.000 PPA y su tasa de desempleo no sea menor a 5%. Filtra utilizando negación."
      ]
    },
    {
      "cell_type": "code",
      "execution_count": null,
      "metadata": {
        "colab": {
          "base_uri": "https://localhost:8080/",
          "height": 161
        },
        "id": "uANk4wFMBnWV",
        "outputId": "f889d315-9a5f-4efe-bb19-151a465ffb94"
      },
      "outputs": [],
      "source": []
    },
    {
      "cell_type": "markdown",
      "metadata": {
        "id": "x1qSaQ2eMjva"
      },
      "source": [
        "## Ordenar el dataframe"
      ]
    },
    {
      "cell_type": "markdown",
      "metadata": {
        "id": "TlcI_1l4ljbx"
      },
      "source": [
        "Para un economista, ordenar es sinónimo de ranking. ¿Qué país tiene el mayor PIB? ¿Cuál tiene la menor tasa de inflación? sort_values() nos permite responder a estas preguntas."
      ]
    },
    {
      "cell_type": "markdown",
      "metadata": {
        "id": "fmrJ79fmUxUd"
      },
      "source": [
        "### Ordenar según el valor de una columna"
      ]
    },
    {
      "cell_type": "markdown",
      "metadata": {
        "id": "wN2uzfpeKx8W"
      },
      "source": [
        "Vamos a ordenar los países de menor a mayor gasto en salud per cápita"
      ]
    },
    {
      "cell_type": "code",
      "execution_count": null,
      "metadata": {
        "colab": {
          "base_uri": "https://localhost:8080/",
          "height": 349
        },
        "id": "5GOgPSLloycF",
        "outputId": "ab03b673-fe1a-47ac-8581-2f1ab172d53e"
      },
      "outputs": [],
      "source": [
        "df_2022.sort_values(by=['Gasto en salud per cápita (PPA, USD internacionales)'], ascending = True)"
      ]
    },
    {
      "cell_type": "markdown",
      "metadata": {
        "id": "UGwOBjicLEZq"
      },
      "source": [
        "**Ejercicio**\n",
        "\n",
        "Ordena los países de mayor a menor PIB per cápita PPA"
      ]
    },
    {
      "cell_type": "code",
      "execution_count": null,
      "metadata": {
        "colab": {
          "base_uri": "https://localhost:8080/",
          "height": 349
        },
        "id": "DiafxSjZMjvb",
        "outputId": "54afe000-29f5-466d-a43c-51f8cec28e05"
      },
      "outputs": [],
      "source": []
    },
    {
      "cell_type": "markdown",
      "metadata": {
        "id": "nLDxk_bSpEVh"
      },
      "source": [
        "**Ejercicio**\n",
        "\n",
        " Encuentra los 5 países con la menor tasa de desempleo en 2022."
      ]
    },
    {
      "cell_type": "code",
      "execution_count": null,
      "metadata": {
        "colab": {
          "base_uri": "https://localhost:8080/",
          "height": 224
        },
        "id": "SeSOw2jflixN",
        "outputId": "41e7e226-19ef-4ea9-bfc9-7f9f8141649b"
      },
      "outputs": [],
      "source": []
    },
    {
      "cell_type": "markdown",
      "metadata": {
        "id": "aI1duUqaUsoP"
      },
      "source": [
        "### Ordenar según el valor de varias columnas"
      ]
    },
    {
      "cell_type": "code",
      "execution_count": null,
      "metadata": {
        "colab": {
          "base_uri": "https://localhost:8080/",
          "height": 238
        },
        "id": "0BPKglLETiAG",
        "outputId": "feab5c74-a9f7-447d-b36f-34114f0628eb"
      },
      "outputs": [],
      "source": [
        "# Datos económicos sintéticos de varios países\n",
        "datos = {\n",
        "    'País': ['Colombia', 'Chile', 'México', 'Argentina', 'Perú', 'Panamá'],\n",
        "    'Región': ['Andina', 'Andina', 'Norteamérica', 'Sur', 'Andina', 'Centroamérica'],\n",
        "    'Crecimiento_PIB_%': [1.5, 2.1, 2.5, -1.1, 2.8, 4.1],\n",
        "    'Tasa_Desempleo_%': [10.5, 8.8, 3.5, 11.2, 7.5, 8.1]\n",
        "}\n",
        "\n",
        "# Creamos el DataFrame\n",
        "df_ejemplo = pd.DataFrame(datos)\n",
        "\n",
        "df_ejemplo"
      ]
    },
    {
      "cell_type": "code",
      "execution_count": null,
      "metadata": {
        "colab": {
          "base_uri": "https://localhost:8080/",
          "height": 238
        },
        "id": "C91msCa1UgQN",
        "outputId": "6ecc33dd-80ea-4e26-afa4-c8d2425e3af0"
      },
      "outputs": [],
      "source": [
        "df_ordenado = df_ejemplo.sort_values(by=['Región', 'Crecimiento_PIB_%'], ascending=[True, False])\n",
        "df_ordenado"
      ]
    },
    {
      "cell_type": "markdown",
      "metadata": {
        "id": "KtjeA55PMjvi"
      },
      "source": [
        "## Groupby"
      ]
    },
    {
      "cell_type": "markdown",
      "metadata": {
        "id": "Oh5lZSQOa5Yd"
      },
      "source": [
        "Esta es una de las herramientas más utilizadas, ya que permite agrupar por categorías y sacar mediciones para cada grupo como la media, la suma, la desviación estándar, el conteo de registros, etc.\n",
        "\n",
        "Para ello, se emplea la estrategia de Dividir-Aplicar-Combinar.\n",
        "\n",
        "- **Dividir (Split):** Se separa el DataFrame en grupos basados en una o más variables categóricas (ejemplo: País, Año, etc).\n",
        "\n",
        "- **Aplicar (Apply):** A cada grupo se le aplica una función (ejemplo: mean, sum, std).\n",
        "\n",
        "- **Combinar (Combine):** Se juntan los resultados en un nuevo DataFrame.\n",
        "\n",
        "Es como si el FMI quisiera calcular la tasa de inflación promedio para cada continente. Primero, divide el dataset global por continente. Luego, aplica la función de promedio a la columna de inflación para cada grupo. Finalmente, combina los resultados en una tabla resumen."
      ]
    },
    {
      "cell_type": "code",
      "execution_count": null,
      "metadata": {
        "colab": {
          "base_uri": "https://localhost:8080/",
          "height": 441
        },
        "id": "SXrGNlMgOi5R",
        "outputId": "8eb1b7ab-b2e7-4b14-c2a1-a0237583acc0"
      },
      "outputs": [],
      "source": [
        "# Dataframe original\n",
        "df"
      ]
    },
    {
      "cell_type": "markdown",
      "metadata": {
        "id": "xgXm7K3SxP3z"
      },
      "source": [
        "¿Cuál fue la esperanza de vida promedio de cada país entre 2010 y 2022?"
      ]
    },
    {
      "cell_type": "code",
      "execution_count": null,
      "metadata": {
        "colab": {
          "base_uri": "https://localhost:8080/",
          "height": 332
        },
        "id": "e8ls9XQeOtWV",
        "outputId": "91641b24-5ccd-4a03-c3a5-b71214bb71d1"
      },
      "outputs": [],
      "source": [
        "df.groupby('País')['Esperanza de vida (años)'].mean().reset_index()"
      ]
    },
    {
      "cell_type": "markdown",
      "metadata": {
        "id": "e2qvFhIIxgd7"
      },
      "source": [
        "Ordenemos de mayor a menor..."
      ]
    },
    {
      "cell_type": "code",
      "execution_count": null,
      "metadata": {
        "colab": {
          "base_uri": "https://localhost:8080/",
          "height": 332
        },
        "id": "Tz23gM4ATF7H",
        "outputId": "cfcefe93-0960-4536-c8bd-da9ba458b735"
      },
      "outputs": [],
      "source": [
        "df.groupby('País')['Esperanza de vida (años)'].mean().reset_index().sort_values(by='Esperanza de vida (años)', ascending=False)"
      ]
    },
    {
      "cell_type": "markdown",
      "metadata": {
        "id": "A9UTn0n_xn2i"
      },
      "source": [
        "¿Cuál fue la tasa de desempleo más baja que registró cada país entre 2010 y 2022?"
      ]
    },
    {
      "cell_type": "code",
      "execution_count": null,
      "metadata": {
        "colab": {
          "base_uri": "https://localhost:8080/",
          "height": 332
        },
        "id": "CX7BtFNdPZkG",
        "outputId": "227ab1f4-9707-4de4-bf22-7bd3121130da"
      },
      "outputs": [],
      "source": [
        "df.groupby('País')['Tasa de desempleo (%)'].min().reset_index()"
      ]
    },
    {
      "cell_type": "markdown",
      "metadata": {
        "id": "Vvo-q7CkxxE5"
      },
      "source": [
        "¿Cuánto sumó el gasto en salud per cápita de estos países en cada uno de los años de estudio (2010-2022)?"
      ]
    },
    {
      "cell_type": "code",
      "execution_count": null,
      "metadata": {
        "colab": {
          "base_uri": "https://localhost:8080/",
          "height": 457
        },
        "id": "fdz8uTWHPA4E",
        "outputId": "410d910d-5669-4d9f-f99a-e52f6dde5111"
      },
      "outputs": [],
      "source": [
        "df.groupby('Año')['Gasto en salud per cápita (PPA, USD internacionales)'].sum().reset_index()"
      ]
    },
    {
      "cell_type": "markdown",
      "metadata": {
        "id": "IspLQHPRyJcV"
      },
      "source": [
        "Para cada país de América del Sur, ¿cuál fue el promedio de PIB per cápita PPA y de gasto en salud per cápita PPA entre 2010 y 2022?"
      ]
    },
    {
      "cell_type": "code",
      "execution_count": null,
      "metadata": {
        "colab": {
          "base_uri": "https://localhost:8080/",
          "height": 332
        },
        "id": "TCO5ko5aMjvi",
        "outputId": "09113682-d02d-43c2-9542-5ce9526f4f56"
      },
      "outputs": [],
      "source": [
        "df.groupby(\"País\")[[\"PIB per cápita (PPA, USD internacionales)\",\"Gasto en salud per cápita (PPA, USD internacionales)\"]].mean().reset_index()"
      ]
    },
    {
      "cell_type": "markdown",
      "metadata": {
        "id": "T4jHBbm5zG-P"
      },
      "source": [
        "Para cada país de América del Sur, ¿cuál fue el promedio de gasto en salud per cápita PPA y cuál fue la máxima esperanza de vida entre 2010 y 2022?"
      ]
    },
    {
      "cell_type": "code",
      "execution_count": null,
      "metadata": {
        "colab": {
          "base_uri": "https://localhost:8080/",
          "height": 332
        },
        "id": "_ud3EKvBXipi",
        "outputId": "ba17e28e-4062-4884-9056-ac3666456fc6"
      },
      "outputs": [],
      "source": [
        "df.groupby(\"País\", as_index=False).agg(\n",
        "    gasto_promedio_salud = (\"Gasto en salud per cápita (PPA, USD internacionales)\", \"mean\"),\n",
        "    max_esperanza_de_vida = (\"Esperanza de vida (años)\", \"max\")\n",
        ")"
      ]
    },
    {
      "cell_type": "markdown",
      "metadata": {
        "id": "JceXBfrSzXFv"
      },
      "source": [
        "Para cada país de América del Sur, calcule el mínimo, el máximo y el promedio del gasto en salud per cápita PPA y de la esperanza de vida entre 2010 y 2022"
      ]
    },
    {
      "cell_type": "code",
      "execution_count": null,
      "metadata": {
        "colab": {
          "base_uri": "https://localhost:8080/",
          "height": 363
        },
        "id": "ArsumWitYDMx",
        "outputId": "586e473a-0fca-4bb8-d540-fbf25225f3bb"
      },
      "outputs": [],
      "source": [
        "df.groupby(\"País\")[[\"Gasto en salud per cápita (PPA, USD internacionales)\",\"Esperanza de vida (años)\"]].agg([\"min\", \"mean\", \"max\"]).reset_index()"
      ]
    },
    {
      "cell_type": "markdown",
      "metadata": {
        "id": "QoJVS04e0HWL"
      },
      "source": [
        "**Ejercicio**\n",
        "\n",
        "Para cada país de América del Sur, calcule la mediana y la desviación estándar del PIB per cápita PPA entre 2010 y 2022"
      ]
    },
    {
      "cell_type": "code",
      "execution_count": null,
      "metadata": {
        "colab": {
          "base_uri": "https://localhost:8080/",
          "height": 332
        },
        "id": "T1WAZDIf0H26",
        "outputId": "a4e931a7-a165-419c-cbb3-001ad5346175"
      },
      "outputs": [],
      "source": []
    },
    {
      "cell_type": "markdown",
      "metadata": {
        "id": "J6a3AUMWMjvo"
      },
      "source": [
        "## Tablas pivote o dinámicas"
      ]
    },
    {
      "cell_type": "markdown",
      "metadata": {
        "id": "_LhTU2gpbRMB"
      },
      "source": [
        "Una tabla pivote es una forma avanzada de groupby que nos **permite remodelar el DataFrame**, poniendo una variable categórica como índice, otra como columnas y una variable numérica como los valores. **Es similar a las tablas dinámicas en Excel.**\n",
        "\n",
        "Por ejemplo, creemos una tabla para un informe donde las filas son los países, las columnas son los años (2010, 2011, 2012...), y los valores en las celdas son la tasa de desempleo. Esto facilita enormemente la comparación de la evolución del desempleo entre países."
      ]
    },
    {
      "cell_type": "code",
      "execution_count": null,
      "metadata": {
        "colab": {
          "base_uri": "https://localhost:8080/",
          "height": 332
        },
        "id": "tfM8XnkYcSEC",
        "outputId": "af753a17-9949-44c6-fb69-e8688b7be541"
      },
      "outputs": [],
      "source": [
        "df_desempleo = df.pivot_table(index='País', columns='Año', values='Tasa de desempleo (%)').reset_index()\n",
        "df_desempleo"
      ]
    },
    {
      "cell_type": "markdown",
      "metadata": {
        "id": "fHF2GcFteknh"
      },
      "source": [
        "Este formato **ancho (wide)** es muy intuitivo. Podemos comparar fácilmente el desempleo en 2022 de los diferentes países de América del Sur y ver que el de Colombia es el más alto.\n",
        "\n",
        "También podemos seguir la fila de un país para ver su tendencia, como por ejemplo, ver el comportamiento que ha tenido la tasa de desempleo de Colombia entre 2010 y 2022 y ver que durante la pandemia llegó a un máximo de 16%.\n"
      ]
    },
    {
      "cell_type": "markdown",
      "metadata": {
        "id": "0dDoAOHe1M6W"
      },
      "source": [
        "A continuación, vamos a crear una tabla que presenta, para cada país, la evolución 2010-2022 del PIB per cápita PPA y de la tasa de desempleo."
      ]
    },
    {
      "cell_type": "code",
      "execution_count": null,
      "metadata": {
        "colab": {
          "base_uri": "https://localhost:8080/",
          "height": 383
        },
        "id": "IWhv8QzSf7Bo",
        "outputId": "bb611eb2-6826-49ba-e3ca-6a1a8f5b5b3f"
      },
      "outputs": [],
      "source": [
        "df1 = pd.pivot_table(df, index = 'País', columns = 'Año',\n",
        "                     values = ['PIB per cápita (PPA, USD internacionales)',\n",
        "                               'Tasa de desempleo (%)']).reset_index()\n",
        "df1"
      ]
    },
    {
      "cell_type": "markdown",
      "metadata": {
        "id": "T9KXwRR81cZ2"
      },
      "source": [
        "En la siguiente tabla, vamos a mostrar, para cada país, el valor promedio del PIB per cápita PPA y de la tasa de desempleo entre 2010 y 2022."
      ]
    },
    {
      "cell_type": "code",
      "execution_count": null,
      "metadata": {
        "colab": {
          "base_uri": "https://localhost:8080/",
          "height": 332
        },
        "id": "I7_hhITNiX4g",
        "outputId": "30b2f13a-ef63-44d9-d55d-d16bac64d3dc"
      },
      "outputs": [],
      "source": [
        "df2 = pd.pivot_table(df, index = 'País', values = ['PIB per cápita (PPA, USD internacionales)',\n",
        "                                                   'Tasa de desempleo (%)'],\n",
        "                     aggfunc='mean').reset_index()\n",
        "df2"
      ]
    },
    {
      "cell_type": "markdown",
      "metadata": {
        "id": "LDAmNQBl1y0w"
      },
      "source": [
        "A continuación se muestra, para cada país, el valor promedio y la desviación estándar del PIB per cápita PPA y el máximo y mínimo de la tasa de desempleo en el período 2010-2022."
      ]
    },
    {
      "cell_type": "code",
      "execution_count": null,
      "metadata": {
        "colab": {
          "base_uri": "https://localhost:8080/",
          "height": 363
        },
        "id": "X-tbULYxj7Dq",
        "outputId": "63a939b2-2025-4729-bced-0b93344828f1"
      },
      "outputs": [],
      "source": [
        "df3 = pd.pivot_table(df, index = 'País', values = ['PIB per cápita (PPA, USD internacionales)',\n",
        "                                                   'Tasa de desempleo (%)'],\n",
        "                     aggfunc={'PIB per cápita (PPA, USD internacionales)':['mean','std'],\n",
        "                              'Tasa de desempleo (%)':['min', 'max']}).reset_index()\n",
        "df3"
      ]
    },
    {
      "cell_type": "markdown",
      "metadata": {
        "id": "nbKtj8NXMjvq"
      },
      "source": [
        "## Transponer un dataframe"
      ]
    },
    {
      "cell_type": "markdown",
      "metadata": {
        "id": "gd5Xt61uvOd_"
      },
      "source": [
        "Dado que un dataframe es una matriz, lo podemos transponer."
      ]
    },
    {
      "cell_type": "code",
      "execution_count": null,
      "metadata": {
        "colab": {
          "base_uri": "https://localhost:8080/",
          "height": 332
        },
        "id": "pWrLbtYOnIsi",
        "outputId": "f5b3b40c-e067-436e-9bcb-0ee49f95fdbf"
      },
      "outputs": [],
      "source": [
        "# Dataframe inicial\n",
        "df_desempleo"
      ]
    },
    {
      "cell_type": "code",
      "execution_count": null,
      "metadata": {
        "colab": {
          "base_uri": "https://localhost:8080/",
          "height": 457
        },
        "id": "ce2f71gOoyee",
        "outputId": "9c222521-1284-4d0c-93e5-65db5c6786a1"
      },
      "outputs": [],
      "source": [
        "# Dataframe transpuesto\n",
        "df_desempleo_2 = df_desempleo.set_index('País').transpose().reset_index()\n",
        "df_desempleo_2"
      ]
    },
    {
      "cell_type": "markdown",
      "metadata": {
        "id": "gr9wLhGNZEhV"
      },
      "source": [
        "## Reshape del dataframe"
      ]
    },
    {
      "cell_type": "markdown",
      "metadata": {
        "id": "lfX8sxyplBrH"
      },
      "source": [
        "Transformando Formatos: de long a wide y de wide a long.\n",
        "\n",
        "\n",
        "**Formato Largo (Long):** Cada observación está en su propia fila. (Ej: Tenemos columnas de País, Año, Indicador, Valor, por lo que cada fila es una observación). Es el formato ideal para almacenar datos.\n",
        "\n",
        "**Formato Ancho (Wide):** Cada fila representa una unidad de observación (como un país) y las variables se extienden a lo largo de las columnas (Ej: Country, GDP_2010, GDP_2011, GDP_2012). Es ideal para analizar los datos."
      ]
    },
    {
      "cell_type": "markdown",
      "metadata": {
        "id": "F5E0O7VNr_6i"
      },
      "source": [
        "### Pasar de wide a long"
      ]
    },
    {
      "cell_type": "code",
      "execution_count": null,
      "metadata": {
        "colab": {
          "base_uri": "https://localhost:8080/",
          "height": 332
        },
        "id": "thMsfkIgsIrL",
        "outputId": "7ceaaac5-6421-4970-e994-683d6fc27cc1"
      },
      "outputs": [],
      "source": [
        "# Dataframe original\n",
        "df_desempleo"
      ]
    },
    {
      "cell_type": "code",
      "execution_count": null,
      "metadata": {
        "colab": {
          "base_uri": "https://localhost:8080/",
          "height": 424
        },
        "id": "SCqR9j5Bq3ei",
        "outputId": "9375b314-1b06-4f3a-cd88-0357f138aa52"
      },
      "outputs": [],
      "source": [
        "# Convertir a formato long\n",
        "df_largo_desempleo = pd.melt(\n",
        "    df_desempleo,\n",
        "    id_vars=['País'], # Columnas que se mantienen fijas\n",
        "    var_name='Año', # Nombre de la nueva columna de variables\n",
        "    value_name='Desempleo (%)' # Nombre de la nueva columna de valores\n",
        ")\n",
        "df_largo_desempleo"
      ]
    },
    {
      "cell_type": "markdown",
      "metadata": {
        "id": "wrO5qGQIuMuw"
      },
      "source": [
        "El dataframe del Banco Mundial, que tiene forma de panel de datos y es wide, también lo podemos convertir a long."
      ]
    },
    {
      "cell_type": "code",
      "execution_count": null,
      "metadata": {
        "colab": {
          "base_uri": "https://localhost:8080/",
          "height": 424
        },
        "id": "wkq75RoXlBMe",
        "outputId": "c9ac8746-8d00-48a9-f5a0-572654222ad5"
      },
      "outputs": [],
      "source": [
        "df_largo = pd.melt(\n",
        "    df,\n",
        "    id_vars=['País', 'Año'], # Columnas que se mantienen fijas\n",
        "    var_name='Indicador', # Nombre de la nueva columna de variables\n",
        "    value_name='Valor' # Nombre de la nueva columna de valores\n",
        ")\n",
        "df_largo"
      ]
    },
    {
      "cell_type": "markdown",
      "metadata": {
        "id": "bpJZbnOAsbv2"
      },
      "source": [
        "### Pasar de long a wide"
      ]
    },
    {
      "cell_type": "markdown",
      "metadata": {
        "id": "9qDcf0t6wlQD"
      },
      "source": [
        "Para pasar de formato long a wide se utilizan las tablas pivote que vimos previamente."
      ]
    },
    {
      "cell_type": "markdown",
      "metadata": {
        "id": "3u1gCVyssi-V"
      },
      "source": [
        "## Ejercicio\n",
        "\n",
        "Utiliza las tablas pivote para obtener, a partir de *df_largo*, un dataframe en formato wide de la esperanza de vida (en cada fila hay un país y en cada columna van los años de 2010 a 2022). Luego transforma el dataframe para que los años queden en las filas y los países en las columnas."
      ]
    },
    {
      "cell_type": "code",
      "execution_count": null,
      "metadata": {
        "colab": {
          "base_uri": "https://localhost:8080/",
          "height": 332
        },
        "id": "amFiaKULsfVL",
        "outputId": "a1e5d174-79dd-4718-d955-942f88bd32b9"
      },
      "outputs": [],
      "source": []
    },
    {
      "cell_type": "code",
      "execution_count": null,
      "metadata": {
        "colab": {
          "base_uri": "https://localhost:8080/",
          "height": 457
        },
        "id": "cYhuRC0LwXD4",
        "outputId": "ac529ba3-bebf-40f8-ec0f-e21c369a8ef5"
      },
      "outputs": [],
      "source": []
    }
  ],
  "metadata": {
    "colab": {
      "provenance": [],
      "toc_visible": true
    },
    "kernelspec": {
      "display_name": "Python 3",
      "name": "python3"
    },
    "language_info": {
      "name": "python"
    }
  },
  "nbformat": 4,
  "nbformat_minor": 0
}
