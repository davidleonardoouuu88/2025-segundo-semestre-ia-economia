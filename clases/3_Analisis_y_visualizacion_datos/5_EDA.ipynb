{
  "cells": [
    {
      "cell_type": "markdown",
      "metadata": {
        "id": "jUwmbtkhQh8y"
      },
      "source": [
        "<a href=\"https://colab.research.google.com/github/LinaMariaCastro/curso-ia-para-economia/blob/main/clases/3_Analisis_y_visualizacion_datos/5_EDA.ipynb\" target=\"_parent\"><img src=\"https://colab.research.google.com/assets/colab-badge.svg\" alt=\"Open In Colab\"/></a>"
      ]
    },
    {
      "cell_type": "markdown",
      "metadata": {
        "id": "5iiwfbXCQv5D"
      },
      "source": [
        "# **Inteligencia Artificial con Aplicaciones en Economía I**\n",
        "\n",
        "- 👩‍🏫 **Profesora:** [Lina María Castro](https://www.linkedin.com/in/lina-maria-castro)  \n",
        "- 📧 **Email:** [lmcastroco@gmail.com](mailto:lmcastroco@gmail.com)  \n",
        "- 🎓 **Universidad:** Universidad Externado de Colombia - Facultad de Economía"
      ]
    },
    {
      "cell_type": "markdown",
      "metadata": {
        "id": "YQ0JPz6cOolu"
      },
      "source": [
        "# 🔎📊**Análisis Exploratorio de Datos (Exploratory Data Analysis - EDA)**"
      ]
    },
    {
      "cell_type": "markdown",
      "metadata": {
        "id": "7DndmmzRXeYb"
      },
      "source": [
        "👉 Con datos listos, podemos descubrir patrones.\n",
        "\n",
        "✅ Resultado: entendemos la historia detrás de los datos y generamos hipótesis."
      ]
    },
    {
      "cell_type": "markdown",
      "metadata": {
        "id": "aOPEcCUbRevP"
      },
      "source": [
        "**Objetivos de Aprendizaje:**\n",
        "\n",
        "Al finalizar este notebook, serás capaz de:\n",
        "\n",
        "1. **Diagnosticar un conjunto de datos:** Utilizar funciones de Pandas para obtener un resumen estadístico y estructural de los datos, identificando tipos de variables, valores nulos y dimensiones.\n",
        "\n",
        "2. **Analizar y visualizar distribuciones:** Crear e interpretar gráficos univariados (histogramas, boxplots) para entender la distribución, tendencia central y dispersión de las variables económicas.\n",
        "\n",
        "3. **Descubrir relaciones entre variables:** Implementar y analizar gráficos multivariados (scatter plots, heatmaps) para identificar correlaciones, covarianzas y patrones entre múltiples indicadores económicos."
      ]
    },
    {
      "cell_type": "markdown",
      "metadata": {
        "id": "C85ifPvtSeVs"
      },
      "source": [
        "**Introducción**\n",
        "\n",
        "Imaginemos que la OCDE nos contrata para entender los factores que determinan el desarrollo económico de los países. Antes de lanzarnos a construir un complejo modelo econométrico con regresiones y series de tiempo, un buen economista haría un \"trabajo de campo\": viajaría (conceptualmente) a varios países, observaría sus economías, hablaría con la gente y recolectaría datos preliminares.\n",
        "\n",
        "El Análisis Exploratorio de Datos (EDA) es precisamente eso, es el proceso de usar estadísticas descriptivas y visualizaciones para \"dialogar\" con nuestros datos.\n",
        "\n",
        "Queremos que los datos nos cuenten su historia:\n",
        "\n",
        "- ¿Cómo es un país \"promedio\" en nuestra muestra? (Media, mediana)\n",
        "\n",
        "- ¿Qué tan desigual es el mundo en términos de ingreso o salud? (Desviación estándar, percentiles, boxplots)\n",
        "\n",
        "- ¿Existen \"clubes de convergencia\" o grupos de países con características similares? (Análisis de categorías, gráficos de densidad)\n",
        "\n",
        "- ¿Parece haber una relación entre la inversión en educación y el crecimiento del PIB? (Gráficos de dispersión, correlación)\n",
        "\n",
        "Hacer un buen EDA nos permite formular mejores hipótesis, detectar problemas de calidad en los datos (como outliers o valores faltantes) y construir modelos más robustos y significativos. Es el arte de hacer las preguntas correctas a nuestros datos antes de pedirles que nos den respuestas definitivas."
      ]
    },
    {
      "cell_type": "markdown",
      "metadata": {
        "id": "CvffQiPyDLJG"
      },
      "source": [
        "## Importar librerías"
      ]
    },
    {
      "cell_type": "code",
      "execution_count": null,
      "metadata": {
        "id": "ArVaNJk4k54P"
      },
      "outputs": [],
      "source": [
        "# En VS Code, si no has instalado las librerías, ejecutar:\n",
        "# %pip install matplotlib\n",
        "# %pip install seaborn\n",
        "# %pip install plotly"
      ]
    },
    {
      "cell_type": "code",
      "execution_count": null,
      "metadata": {
        "id": "YFPOnxMFDBFP"
      },
      "outputs": [],
      "source": [
        "import numpy as np\n",
        "import pandas as pd\n",
        "import matplotlib.pyplot as plt\n",
        "import seaborn as sns\n",
        "import plotly.express as px\n",
        "import warnings\n",
        "warnings.filterwarnings('ignore')"
      ]
    },
    {
      "cell_type": "markdown",
      "metadata": {
        "id": "jHE2ZLJuEPIe"
      },
      "source": [
        "## Mejorar visualización de los dataframes"
      ]
    },
    {
      "cell_type": "code",
      "execution_count": null,
      "metadata": {
        "id": "72TA8V1fETCm"
      },
      "outputs": [],
      "source": [
        "# Que muestre todas las columnas\n",
        "pd.options.display.max_columns = None\n",
        "# En los dataframes, mostrar los float con dos decimales\n",
        "pd.options.display.float_format = '{:,.2f}'.format"
      ]
    },
    {
      "cell_type": "code",
      "execution_count": null,
      "metadata": {
        "id": "DX3FSgBelLlB"
      },
      "outputs": [],
      "source": [
        "# Configuraciones para una mejor visualización de los gráficos\n",
        "sns.set_style(\"whitegrid\")"
      ]
    },
    {
      "cell_type": "markdown",
      "metadata": {
        "id": "SMx0i2r4j1mN"
      },
      "source": [
        "## Cargar el dataset"
      ]
    },
    {
      "cell_type": "markdown",
      "metadata": {
        "id": "PZQWax9c4Xot"
      },
      "source": [
        "Usaremos un dataset de **Gapminder** (https://www.gapminder.org/) que viene precargado en Plotly Express para facilitar el acceso. Contiene datos de PIB per cápita PPA a precios constantes, esperanza de vida y población para varios países a lo largo del tiempo."
      ]
    },
    {
      "cell_type": "markdown",
      "metadata": {
        "id": "Pqs9zhWIp4oz"
      },
      "source": [
        "**Nota**\n",
        "\n",
        "Gapminder es una fundación educativa independiente y sin fines de lucro. Fue cofundada en Suecia por el legendario médico y estadístico Hans Rosling, junto a su hijo y su nuera.\n",
        "\n",
        "La misión de la Fundación Gapminder es luchar contra las ideas erróneas y preconcebidas sobre el desarrollo global. Rosling sostenía que la mayoría de la gente, incluso personas muy educadas y en posiciones de poder, tienen una visión del mundo anticuada, dividiendo a los países en \"desarrollados\" y \"en vías de desarrollo\", una dicotomía que los datos ya no respaldan.\n",
        "\n",
        "El método de Gapminder para combatir esta desinformación es el uso magistral de la visualización de datos para contar historias (data storytelling)."
      ]
    },
    {
      "cell_type": "code",
      "execution_count": null,
      "metadata": {
        "id": "wP2qVnBJU1Ss"
      },
      "outputs": [],
      "source": [
        "df = px.data.gapminder()"
      ]
    },
    {
      "cell_type": "markdown",
      "metadata": {
        "id": "MaEILKvJD_lk"
      },
      "source": [
        "## Exploración inicial del dataset"
      ]
    },
    {
      "cell_type": "code",
      "execution_count": null,
      "metadata": {
        "colab": {
          "base_uri": "https://localhost:8080/",
          "height": 424
        },
        "id": "OUuavpFwj4Ih",
        "outputId": "42f404c5-c102-41e6-9266-89fa80638d13"
      },
      "outputs": [],
      "source": [
        "df"
      ]
    },
    {
      "cell_type": "code",
      "execution_count": null,
      "metadata": {
        "colab": {
          "base_uri": "https://localhost:8080/"
        },
        "id": "K4aFkzQzuIxe",
        "outputId": "4b2bfbef-4ba5-4c9b-8c67-1d2f34cc1eb8"
      },
      "outputs": [],
      "source": [
        "df.shape"
      ]
    },
    {
      "cell_type": "code",
      "execution_count": null,
      "metadata": {
        "colab": {
          "base_uri": "https://localhost:8080/"
        },
        "id": "rjLmhgA5rOXX",
        "outputId": "64e8913b-aa59-49f3-f9a4-421f408a39f9"
      },
      "outputs": [],
      "source": [
        "df.info()"
      ]
    },
    {
      "cell_type": "markdown",
      "metadata": {},
      "source": [
        "**Ejercicio**: Interprete los resultados."
      ]
    },
    {
      "cell_type": "code",
      "execution_count": null,
      "metadata": {
        "colab": {
          "base_uri": "https://localhost:8080/",
          "height": 424
        },
        "id": "SbmPVgalmufh",
        "outputId": "5d7448eb-05f1-4bae-f0ad-1345d89383ff"
      },
      "outputs": [],
      "source": [
        "# vamos a renombrar las columnas para un mejor entendimiento\n",
        "df.rename(columns={'lifeExp':'esperanza_vida',\n",
        "                   'pop':'poblacion',\n",
        "                   'gdpPercap':'pib_per_capita',\n",
        "                   'country':'pais',\n",
        "                   'continent':'continente',\n",
        "                   'year':'año'},\n",
        "          inplace=True)\n",
        "df"
      ]
    },
    {
      "cell_type": "code",
      "execution_count": null,
      "metadata": {
        "id": "kChXTuNA2APZ"
      },
      "outputs": [],
      "source": [
        "df['año'] = df['año'].astype('str')"
      ]
    },
    {
      "cell_type": "code",
      "execution_count": null,
      "metadata": {
        "id": "kgi78C4n2bTo"
      },
      "outputs": [],
      "source": [
        "df.drop(columns=['iso_alpha', 'iso_num'], inplace=True)"
      ]
    },
    {
      "cell_type": "markdown",
      "metadata": {
        "id": "3gRpJLK31voF"
      },
      "source": [
        "## Análisis de variables no numéricas"
      ]
    },
    {
      "cell_type": "markdown",
      "metadata": {
        "id": "nE3ESdXH4mpT"
      },
      "source": [
        "### Variables categóricas"
      ]
    },
    {
      "cell_type": "markdown",
      "metadata": {
        "id": "3b2ysTuu11wD"
      },
      "source": [
        "Para las variables categóricas, nos interesa saber cuántas categorías únicas existen, cuáles son y cómo se distribuyen las observaciones entre ellas."
      ]
    },
    {
      "cell_type": "code",
      "execution_count": null,
      "metadata": {
        "colab": {
          "base_uri": "https://localhost:8080/"
        },
        "id": "rnWqitbi4s-k",
        "outputId": "bdb1d9d9-32d7-400b-ae77-9cea24c03151"
      },
      "outputs": [],
      "source": [
        "df['continente'].unique()"
      ]
    },
    {
      "cell_type": "code",
      "execution_count": null,
      "metadata": {
        "colab": {
          "base_uri": "https://localhost:8080/"
        },
        "id": "0Xw_KH374xun",
        "outputId": "16c22adc-dd1e-4338-c75c-0d643c3f5172"
      },
      "outputs": [],
      "source": [
        "df['continente'].nunique()"
      ]
    },
    {
      "cell_type": "code",
      "execution_count": null,
      "metadata": {
        "colab": {
          "base_uri": "https://localhost:8080/"
        },
        "id": "CTB7SUbY1x3Z",
        "outputId": "d47b4fa0-962d-4a2d-d2e8-2ae502102f6a"
      },
      "outputs": [],
      "source": [
        "print(\"Conteo de observaciones por continente:\")\n",
        "print(df['continente'].value_counts())"
      ]
    },
    {
      "cell_type": "code",
      "execution_count": null,
      "metadata": {
        "colab": {
          "base_uri": "https://localhost:8080/"
        },
        "id": "6RUnp-k-2rTY",
        "outputId": "8587dae4-aa06-4dbc-8a03-1f445a82923e"
      },
      "outputs": [],
      "source": [
        "print(\"\\nPorcentaje de observaciones por continente:\")\n",
        "print(df['continente'].value_counts(normalize=True) * 100)"
      ]
    },
    {
      "cell_type": "markdown",
      "metadata": {
        "id": "C9VoGbbl5cUa"
      },
      "source": [
        "### Análisis de los individuos objeto de estudio"
      ]
    },
    {
      "cell_type": "markdown",
      "metadata": {
        "id": "7BZRWmXb4Raq"
      },
      "source": [
        "¿Qué países se encuentran en la base de datos?"
      ]
    },
    {
      "cell_type": "code",
      "execution_count": null,
      "metadata": {
        "colab": {
          "base_uri": "https://localhost:8080/"
        },
        "id": "cP8LIdL_2_xV",
        "outputId": "a28dc357-7c25-403d-bad4-1deb354100f4"
      },
      "outputs": [],
      "source": [
        "df['pais'].unique()"
      ]
    },
    {
      "cell_type": "markdown",
      "metadata": {
        "id": "rAyLdGJd4ZvY"
      },
      "source": [
        "¿Cuántos países son?"
      ]
    },
    {
      "cell_type": "code",
      "execution_count": null,
      "metadata": {
        "colab": {
          "base_uri": "https://localhost:8080/"
        },
        "id": "VmCUUDMz3Rdl",
        "outputId": "35925b49-1814-4968-ddd5-2eda61d2db0a"
      },
      "outputs": [],
      "source": [
        "df['pais'].nunique()"
      ]
    },
    {
      "cell_type": "code",
      "execution_count": null,
      "metadata": {
        "colab": {
          "base_uri": "https://localhost:8080/",
          "height": 490
        },
        "id": "_tXUrWPp5NO5",
        "outputId": "77172080-b18e-402b-e355-d2769c0f1afd"
      },
      "outputs": [],
      "source": [
        "df['pais'].value_counts()"
      ]
    },
    {
      "cell_type": "markdown",
      "metadata": {
        "id": "L6DHafHq594w"
      },
      "source": [
        "### Análisis de la dimensión temporal"
      ]
    },
    {
      "cell_type": "markdown",
      "metadata": {
        "id": "cqw0kMfp4dFK"
      },
      "source": [
        "¿Qué años se encuentran en la base de datos?"
      ]
    },
    {
      "cell_type": "code",
      "execution_count": null,
      "metadata": {
        "colab": {
          "base_uri": "https://localhost:8080/"
        },
        "id": "XTIs-TvC3Tbw",
        "outputId": "c6854da2-21b6-4b1b-944c-4551e76b2c5b"
      },
      "outputs": [],
      "source": [
        "df['año'].unique()"
      ]
    },
    {
      "cell_type": "markdown",
      "metadata": {
        "id": "43G1izWH4g_t"
      },
      "source": [
        "¿Cuántos años son?"
      ]
    },
    {
      "cell_type": "code",
      "execution_count": null,
      "metadata": {
        "colab": {
          "base_uri": "https://localhost:8080/"
        },
        "id": "u2eb6DvH3XUb",
        "outputId": "85246812-4d70-436e-c0f2-bd538f11168d"
      },
      "outputs": [],
      "source": [
        "df['año'].nunique()"
      ]
    },
    {
      "cell_type": "code",
      "execution_count": null,
      "metadata": {
        "colab": {
          "base_uri": "https://localhost:8080/",
          "height": 492
        },
        "id": "vr6-vI4e5OZD",
        "outputId": "985c7492-2e34-4c86-ce1f-4d61156fbae1"
      },
      "outputs": [],
      "source": [
        "df['año'].value_counts()"
      ]
    },
    {
      "cell_type": "markdown",
      "metadata": {
        "id": "5j_ErRl_Mjvb"
      },
      "source": [
        "## Estadísticas Descriptivas (Análisis Univariado)"
      ]
    },
    {
      "cell_type": "markdown",
      "metadata": {
        "id": "Hk7DNq1Op8DN"
      },
      "source": [
        "Ahora, vamos a calcular las estadísticas fundamentales para nuestras variables numéricas."
      ]
    },
    {
      "cell_type": "code",
      "execution_count": null,
      "metadata": {
        "colab": {
          "base_uri": "https://localhost:8080/",
          "height": 318
        },
        "id": "-7BLk-mJqg3V",
        "outputId": "842ada13-4ed7-4044-fdcc-0cb02c606242"
      },
      "outputs": [],
      "source": [
        "print(\"Estadísticas Descriptivas de las Variables Numéricas:\")\n",
        "df.describe()"
      ]
    },
    {
      "cell_type": "markdown",
      "metadata": {
        "id": "YW6KYBistQFC"
      },
      "source": [
        "**Trabajo en parejas**\n",
        "\n",
        "Realicen y compartan con la clase un análisis de estas estadísticas para esperanza de vida, población y PIB per cápita. Tiempo: 2 minutos."
      ]
    },
    {
      "cell_type": "code",
      "execution_count": null,
      "metadata": {
        "id": "jeXQDUxrtvEB"
      },
      "outputs": [],
      "source": []
    },
    {
      "cell_type": "markdown",
      "metadata": {
        "id": "2K5EbAK1vG9t"
      },
      "source": [
        "![asimetria](https://drive.google.com/uc?id=1M4qWRXBzUIVTNFSl5Yw2vfMppr1DQYXe)"
      ]
    },
    {
      "cell_type": "markdown",
      "metadata": {
        "id": "tyxOOEu6xZYx"
      },
      "source": [
        "También podemos calcular estas y otras medidas de forma individual."
      ]
    },
    {
      "cell_type": "code",
      "execution_count": null,
      "metadata": {
        "colab": {
          "base_uri": "https://localhost:8080/"
        },
        "id": "hoJ8ITytz-eh",
        "outputId": "d7c3c89d-8d2e-4944-f975-03368ba1b3e4"
      },
      "outputs": [],
      "source": [
        "# Conteo de los valores no nulos de la columna\n",
        "df['pib_per_capita'].count()"
      ]
    },
    {
      "cell_type": "code",
      "execution_count": null,
      "metadata": {
        "colab": {
          "base_uri": "https://localhost:8080/"
        },
        "id": "B5E_YYph0X4O",
        "outputId": "dfc47f1a-8270-4523-f0ba-dbee75b5289a"
      },
      "outputs": [],
      "source": [
        "# Mínimo\n",
        "df['pib_per_capita'].min()"
      ]
    },
    {
      "cell_type": "code",
      "execution_count": null,
      "metadata": {
        "colab": {
          "base_uri": "https://localhost:8080/"
        },
        "id": "QREFX1e-0Z-U",
        "outputId": "d5fb0a96-e728-4671-8754-52698b7bc39f"
      },
      "outputs": [],
      "source": [
        "# Máximo\n",
        "df['pib_per_capita'].max()"
      ]
    },
    {
      "cell_type": "code",
      "execution_count": null,
      "metadata": {
        "colab": {
          "base_uri": "https://localhost:8080/"
        },
        "id": "Oxv6tvm8sAjL",
        "outputId": "3387767a-b13c-404a-81ac-7a0770b0e9c0"
      },
      "outputs": [],
      "source": [
        "# Media\n",
        "df['pib_per_capita'].mean()"
      ]
    },
    {
      "cell_type": "code",
      "execution_count": null,
      "metadata": {
        "colab": {
          "base_uri": "https://localhost:8080/"
        },
        "id": "mVFBQC5V0gvE",
        "outputId": "68cf77fc-d23c-4a45-efe2-72c2706ab2b2"
      },
      "outputs": [],
      "source": [
        "# Desviación estándar\n",
        "df['pib_per_capita'].std()"
      ]
    },
    {
      "cell_type": "code",
      "execution_count": null,
      "metadata": {
        "colab": {
          "base_uri": "https://localhost:8080/"
        },
        "id": "U2Y-8Ze7xc_z",
        "outputId": "aa39e17b-8a6c-46b6-9430-f0dceb2e457e"
      },
      "outputs": [],
      "source": [
        "# Mediana\n",
        "df['pib_per_capita'].median()"
      ]
    },
    {
      "cell_type": "code",
      "execution_count": null,
      "metadata": {
        "colab": {
          "base_uri": "https://localhost:8080/"
        },
        "id": "tmZj4Ba8xvmZ",
        "outputId": "58af9d47-0d4f-44e8-f659-a24762e48f2d"
      },
      "outputs": [],
      "source": [
        "# Percentil 50 (mediana)\n",
        "df['pib_per_capita'].quantile(0.5)"
      ]
    },
    {
      "cell_type": "code",
      "execution_count": null,
      "metadata": {
        "colab": {
          "base_uri": "https://localhost:8080/",
          "height": 147
        },
        "id": "ohpVcsTCyiCU",
        "outputId": "485430de-c07a-47c4-cd60-284c2b0180d1"
      },
      "outputs": [],
      "source": [
        "# Percentil 25 y 75\n",
        "df['pib_per_capita'].quantile([0.25, 0.75])"
      ]
    },
    {
      "cell_type": "code",
      "execution_count": null,
      "metadata": {
        "colab": {
          "base_uri": "https://localhost:8080/",
          "height": 178
        },
        "id": "sK7Rey83ylrQ",
        "outputId": "b87690fb-e050-4376-c624-792692e5481d"
      },
      "outputs": [],
      "source": [
        "# Varios percentiles a la vez\n",
        "df['pib_per_capita'].quantile([0.1, 0.5, 0.9])"
      ]
    },
    {
      "cell_type": "code",
      "execution_count": null,
      "metadata": {
        "colab": {
          "base_uri": "https://localhost:8080/",
          "height": 366
        },
        "id": "Mzkv4I0pypZn",
        "outputId": "df4c29e1-d725-4c9e-f625-a0811993466e"
      },
      "outputs": [],
      "source": [
        "# Si quieres todos los deciles (10%, 20%, …, 90%)\n",
        "df['pib_per_capita'].quantile([i/10 for i in range(1, 10)])"
      ]
    },
    {
      "cell_type": "code",
      "execution_count": null,
      "metadata": {
        "colab": {
          "base_uri": "https://localhost:8080/",
          "height": 711
        },
        "id": "IeZ27POE0x0k",
        "outputId": "a183b40a-18f5-49c6-8370-7ae925601afa"
      },
      "outputs": [],
      "source": [
        "# Mostrar los 20 valores más altos\n",
        "df['pib_per_capita'].nlargest(n=20)"
      ]
    },
    {
      "cell_type": "code",
      "execution_count": null,
      "metadata": {
        "colab": {
          "base_uri": "https://localhost:8080/",
          "height": 241
        },
        "id": "ghDC0Auq1COc",
        "outputId": "aa4de115-c7e3-494c-a9dc-9064912a6da0"
      },
      "outputs": [],
      "source": [
        "# Mostrar los 5 valores más bajos\n",
        "df['pib_per_capita'].nsmallest(5)"
      ]
    },
    {
      "cell_type": "code",
      "execution_count": null,
      "metadata": {
        "colab": {
          "base_uri": "https://localhost:8080/",
          "height": 206
        },
        "id": "0P95mUTM1JsE",
        "outputId": "bfe0135b-6b3a-4db1-d6be-81eeb9fe0c42"
      },
      "outputs": [],
      "source": [
        "# Si quieres las filas completas del DataFrame que corresponden a esos 5 valores\n",
        "df.nsmallest(5, 'pib_per_capita')"
      ]
    },
    {
      "cell_type": "code",
      "execution_count": null,
      "metadata": {
        "colab": {
          "base_uri": "https://localhost:8080/",
          "height": 115
        },
        "id": "UML2hnngxhGz",
        "outputId": "31b8b99f-623e-4377-849f-298efb98053a"
      },
      "outputs": [],
      "source": [
        "# Moda\n",
        "df['esperanza_vida'].mode()"
      ]
    },
    {
      "cell_type": "code",
      "execution_count": null,
      "metadata": {
        "colab": {
          "base_uri": "https://localhost:8080/",
          "height": 490
        },
        "id": "XH_LVyg-zcN2",
        "outputId": "857fc4cf-35c4-4dfd-9b65-84d7122e93cf"
      },
      "outputs": [],
      "source": [
        "# Verificación\n",
        "df['esperanza_vida'].value_counts()"
      ]
    },
    {
      "cell_type": "markdown",
      "metadata": {
        "id": "_YcHs40D6L63"
      },
      "source": [
        "## Ejercicio\n",
        "\n",
        "Calcula las estadísticas descriptivas solo para los países del continente asiático (Asia) en el año 2007. ¿Cómo se compara el PIB per cápita medio de Asia en 2007 con la media global de toda la muestra que calculamos antes?"
      ]
    },
    {
      "cell_type": "code",
      "execution_count": null,
      "metadata": {
        "id": "G0OSBzbu9UiH"
      },
      "outputs": [],
      "source": []
    },
    {
      "cell_type": "markdown",
      "metadata": {
        "id": "ovHGo2TB93ud"
      },
      "source": [
        "## Visualización de Datos (Análisis Gráfico)"
      ]
    },
    {
      "cell_type": "markdown",
      "metadata": {
        "id": "FMAG75d9-Fzo"
      },
      "source": [
        "Ahora vamos a graficar nuestros datos para entender las historias que nos contaron las estadísticas descriptivas."
      ]
    },
    {
      "cell_type": "markdown",
      "metadata": {
        "id": "lCbMBkDphke_"
      },
      "source": [
        "**Nota**\n",
        "\n",
        "Para mayor información, consulte la documentación de las librerías:\n",
        "\n",
        "- Matplotlib: https://matplotlib.org/\n",
        "\n",
        "- Seaborn (enfocado en gráficos estadísticos): https://seaborn.pydata.org/index.html\n",
        "\n",
        "- Plotly (para gráficos interactivos): https://plotly.com/python/"
      ]
    },
    {
      "cell_type": "markdown",
      "metadata": {
        "id": "9ls_9JLV-IQI"
      },
      "source": [
        "### Visualizaciones Univariadas (Una variable)"
      ]
    },
    {
      "cell_type": "markdown",
      "metadata": {
        "id": "e1mjjHn8-LW1"
      },
      "source": [
        "Estos gráficos nos ayudan a entender la distribución de una sola variable."
      ]
    },
    {
      "cell_type": "markdown",
      "metadata": {
        "id": "XCL5iZML-N7Z"
      },
      "source": [
        "#### Histograma y Gráfico de Densidad"
      ]
    },
    {
      "cell_type": "markdown",
      "metadata": {
        "id": "4X6wqOuy-ias"
      },
      "source": [
        "¿Cómo se distribuye el PIB?"
      ]
    },
    {
      "cell_type": "code",
      "execution_count": null,
      "metadata": {
        "colab": {
          "base_uri": "https://localhost:8080/",
          "height": 525
        },
        "id": "F_uRGW04-CW7",
        "outputId": "75221cf2-ebdf-4740-9328-7d51bf18e6a4"
      },
      "outputs": [],
      "source": [
        "plt.figure(figsize=(12, 6))\n",
        "sns.histplot(df['pib_per_capita'], kde=True, bins=50)\n",
        "plt.title('Distribución del PIB per cápita global')\n",
        "plt.xlabel('PIB per Cápita (USD PPA a precios constantes)')\n",
        "plt.ylabel('Frecuencia')\n",
        "plt.show()"
      ]
    },
    {
      "cell_type": "markdown",
      "metadata": {
        "id": "OSd8RPxxsS8M"
      },
      "source": [
        "**Ejercicio**: Interprete el gráfico."
      ]
    },
    {
      "cell_type": "code",
      "execution_count": null,
      "metadata": {
        "id": "AgladR7JsbqM"
      },
      "outputs": [],
      "source": []
    },
    {
      "cell_type": "markdown",
      "metadata": {
        "id": "EV_LVrtf-vBa"
      },
      "source": [
        "#### Boxplot: Identificando la Dispersión y los Outliers"
      ]
    },
    {
      "cell_type": "markdown",
      "metadata": {
        "id": "gFiyzNAR-0GO"
      },
      "source": [
        "El boxplot es una de las herramientas más poderosas para un analista. Resume la distribución en 5 números (mínimo, Q1, mediana, Q3, máximo) y visualiza los outliers."
      ]
    },
    {
      "cell_type": "code",
      "execution_count": null,
      "metadata": {
        "colab": {
          "base_uri": "https://localhost:8080/",
          "height": 643
        },
        "id": "wVcMPsPY-rlL",
        "outputId": "3cf93ff1-97b3-4b9f-ce40-71290353a3c4"
      },
      "outputs": [],
      "source": [
        "plt.figure(figsize=(12, 8))\n",
        "sns.boxplot(y='continente', x='esperanza_vida', data=df)\n",
        "plt.title('Boxplot de Esperanza de Vida por Continente')\n",
        "plt.xlabel('Esperanza de Vida (Años)')\n",
        "plt.ylabel('Continente')\n",
        "plt.show()"
      ]
    },
    {
      "cell_type": "markdown",
      "metadata": {
        "id": "fmG9y4TUsd7H"
      },
      "source": [
        "**Ejercicio**: Interprete el gráfico."
      ]
    },
    {
      "cell_type": "code",
      "execution_count": null,
      "metadata": {
        "id": "F1JLIeFSse0r"
      },
      "outputs": [],
      "source": []
    },
    {
      "cell_type": "markdown",
      "metadata": {
        "id": "S-ZUedBuXRlT"
      },
      "source": [
        "#### Gráfico de Torta"
      ]
    },
    {
      "cell_type": "markdown",
      "metadata": {
        "id": "7SKArK1aXMzW"
      },
      "source": [
        "Un gráfico de torta (o pie chart) se usa para mostrar la proporción de cada categoría sobre un total. Es visualmente atractivo, pero como veremos, puede ser más difícil de interpretar con precisión que un gráfico de barras."
      ]
    },
    {
      "cell_type": "code",
      "execution_count": null,
      "metadata": {
        "colab": {
          "base_uri": "https://localhost:8080/",
          "height": 832
        },
        "id": "NV_RaNONXdo3",
        "outputId": "7bbce451-23a0-4f01-822c-b150fc89e817"
      },
      "outputs": [],
      "source": [
        "# 1. Preparar los datos: Contar las observaciones por continente\n",
        "conteo_continentes = df['continente'].value_counts()\n",
        "\n",
        "# 2. Crear el gráfico de torta\n",
        "plt.figure(figsize=(10, 10))\n",
        "plt.pie(conteo_continentes,\n",
        "        labels=conteo_continentes.index,\n",
        "        autopct='%1.1f%%', # Formato para mostrar porcentajes con un decimal\n",
        "        startangle=90      # Inicia el primer 'trozo' en la parte superior\n",
        "        )\n",
        "\n",
        "plt.title('Proporción de Observaciones por Continente', fontsize=16)\n",
        "plt.ylabel('') # Quitamos el label del eje y que matplotlib añade por defecto\n",
        "plt.show()"
      ]
    },
    {
      "cell_type": "markdown",
      "metadata": {
        "id": "21B5I9NAskVc"
      },
      "source": [
        "**Ejercicio**: Interprete el gráfico."
      ]
    },
    {
      "cell_type": "code",
      "execution_count": null,
      "metadata": {
        "id": "BYWfrK7Rsk4J"
      },
      "outputs": [],
      "source": []
    },
    {
      "cell_type": "markdown",
      "metadata": {
        "id": "rpSC5dFRYOUa"
      },
      "source": [
        "**Nota**\n",
        "\n",
        "Usa un gráfico de torta solo cuando tengas pocas categorías (idealmente, menos de 5) y tu objetivo principal sea destacar la proporción de una de esas categorías con respecto al total, más que comparar las categorías entre sí."
      ]
    },
    {
      "cell_type": "markdown",
      "metadata": {
        "id": "tWc_-kW1A-m7"
      },
      "source": [
        "#### Gráfico de Barras"
      ]
    },
    {
      "cell_type": "code",
      "execution_count": null,
      "metadata": {
        "colab": {
          "base_uri": "https://localhost:8080/",
          "height": 565
        },
        "id": "4_RkcLXw_IgU",
        "outputId": "47a7b54d-320a-4e9d-e825-d0ea18876d1f"
      },
      "outputs": [],
      "source": [
        "# Gráfico de Barras\n",
        "plt.figure(figsize=(10, 6))\n",
        "sns.countplot(y='continente', data=df, order = df['continente'].value_counts().index)\n",
        "plt.title('Número de Observaciones por Continente')\n",
        "plt.xlabel('Conteo')\n",
        "plt.ylabel('Continente')\n",
        "plt.show()"
      ]
    },
    {
      "cell_type": "markdown",
      "metadata": {
        "id": "L-V_t39ksnt7"
      },
      "source": [
        "**Ejercicio**: Interprete el gráfico."
      ]
    },
    {
      "cell_type": "code",
      "execution_count": null,
      "metadata": {
        "id": "b0XSnzlvsoOA"
      },
      "outputs": [],
      "source": []
    },
    {
      "cell_type": "markdown",
      "metadata": {
        "id": "ucjmvSB_BOBf"
      },
      "source": [
        "El gráfico de barras es generalmente preferible al de torta, ya que es más fácil comparar longitudes que áreas. "
      ]
    },
    {
      "cell_type": "markdown",
      "metadata": {
        "id": "lda2K86bBPtc"
      },
      "source": [
        "### Visualizaciones Multivariadas (Dos o más variables)"
      ]
    },
    {
      "cell_type": "markdown",
      "metadata": {
        "id": "dcCeVxH4BTj2"
      },
      "source": [
        "Aquí es donde empezamos a buscar relaciones."
      ]
    },
    {
      "cell_type": "markdown",
      "metadata": {
        "id": "DV3_LQwCBV6A"
      },
      "source": [
        "#### Gráfico de Dispersión (Scatter Plot)"
      ]
    },
    {
      "cell_type": "markdown",
      "metadata": {
        "id": "u0uIs2t7BYdg"
      },
      "source": [
        "El scatter plot es la herramienta fundamental para visualizar la relación entre dos variables numéricas."
      ]
    },
    {
      "cell_type": "code",
      "execution_count": null,
      "metadata": {
        "colab": {
          "base_uri": "https://localhost:8080/",
          "height": 606
        },
        "id": "Yf6rUemsBbHC",
        "outputId": "8107a0a6-35c6-4bb9-b911-5da3ef782714"
      },
      "outputs": [],
      "source": [
        "# Tomemos solo los datos de 2007 para una foto más clara\n",
        "df_2007 = df[df['año']=='2007']\n",
        "\n",
        "plt.figure(figsize=(12, 7))\n",
        "sns.scatterplot(x='pib_per_capita', y='esperanza_vida', data=df_2007)\n",
        "plt.title('Esperanza de Vida vs. PIB per Cápita (2007)')\n",
        "plt.xlabel('PIB per Cápita (USD PPA a precios constantes)')\n",
        "plt.ylabel('Esperanza de Vida (Años)')\n",
        "plt.xscale('log') # Usamos escala logarítmica para el PIB por su gran sesgo\n",
        "plt.show()"
      ]
    },
    {
      "cell_type": "markdown",
      "metadata": {
        "id": "ImcdyTrkssxy"
      },
      "source": [
        "**Ejercicio**: Interprete el gráfico."
      ]
    },
    {
      "cell_type": "code",
      "execution_count": null,
      "metadata": {
        "id": "9Q2C3KpDstXw"
      },
      "outputs": [],
      "source": []
    },
    {
      "cell_type": "markdown",
      "metadata": {
        "id": "1E-sXKeHB-9h"
      },
      "source": [
        "#### Gráfico de Burbujas: Añadiendo una Tercera Dimensión"
      ]
    },
    {
      "cell_type": "markdown",
      "metadata": {
        "id": "3diNwSleCCJ_"
      },
      "source": [
        "Podemos añadir la variable poblacion al tamaño de los puntos para crear un gráfico de burbujas."
      ]
    },
    {
      "cell_type": "code",
      "execution_count": null,
      "metadata": {
        "colab": {
          "base_uri": "https://localhost:8080/",
          "height": 493
        },
        "id": "05fATo4iB7I3",
        "outputId": "303e64e6-1d47-4657-88e5-a6ed388fbefc"
      },
      "outputs": [],
      "source": [
        "plt.figure(figsize=(14, 8))\n",
        "sns.scatterplot(x='pib_per_capita', y='esperanza_vida', data=df_2007,\n",
        "                size='poblacion', hue='continente', sizes=(20, 2000), alpha=0.7)\n",
        "plt.title('Esperanza de Vida, PIB per Cápita y Población por Continente (2007)')\n",
        "plt.xlabel('PIB per Cápita (USD PPA a precios constantes)')\n",
        "plt.ylabel('Esperanza de Vida (Años)')\n",
        "plt.xscale('log')\n",
        "plt.legend(title='Continente y Población', bbox_to_anchor=(1.05, 1), loc=2)\n",
        "plt.show()"
      ]
    },
    {
      "cell_type": "markdown",
      "metadata": {
        "id": "EHO84T9ksvYf"
      },
      "source": [
        "**Ejercicio**: Interprete el gráfico."
      ]
    },
    {
      "cell_type": "code",
      "execution_count": null,
      "metadata": {
        "id": "_NsBOSxQsv1t"
      },
      "outputs": [],
      "source": []
    },
    {
      "cell_type": "markdown",
      "metadata": {
        "id": "5JE9Ux8HCoOL"
      },
      "source": [
        "#### Gráfico de Línea"
      ]
    },
    {
      "cell_type": "code",
      "execution_count": null,
      "metadata": {
        "colab": {
          "base_uri": "https://localhost:8080/",
          "height": 572
        },
        "id": "d9L68PPVCfPD",
        "outputId": "05a01597-4ffc-4f74-dc7f-067007ab8b64"
      },
      "outputs": [],
      "source": [
        "# Calculemos el PIB per cápita promedio por año y continente\n",
        "pib_por_año_continente = df.groupby(['año', 'continente'])['pib_per_capita'].mean().reset_index()\n",
        "\n",
        "plt.figure(figsize=(14, 8))\n",
        "sns.lineplot(x='año', y='pib_per_capita', hue='continente', data=pib_por_año_continente, lw=3)\n",
        "plt.title('Evolución del PIB per Cápita Promedio por Continente (1952-2007)')\n",
        "plt.ylabel('PIB per Cápita Promedio (USD PPA a precios constantes)')\n",
        "plt.xlabel('Año')\n",
        "plt.legend(title='Continente')\n",
        "plt.show()"
      ]
    },
    {
      "cell_type": "markdown",
      "metadata": {
        "id": "7hslTOQbsx6W"
      },
      "source": [
        "**Ejercicio**: Interprete el gráfico."
      ]
    },
    {
      "cell_type": "code",
      "execution_count": null,
      "metadata": {
        "id": "1gayFl9Xsyhv"
      },
      "outputs": [],
      "source": []
    },
    {
      "cell_type": "markdown",
      "metadata": {
        "id": "IPLWVaTCVtU3"
      },
      "source": [
        "#### Gráfico de Barras Apiladas"
      ]
    },
    {
      "cell_type": "markdown",
      "metadata": {
        "id": "m2ufsH2vVxcC"
      },
      "source": [
        "Mientras que un gráfico de líneas es bueno para comparar las tendencias de cada continente por separado, un gráfico de barras apiladas nos permite responder dos preguntas a la vez:\n",
        "\n",
        "- ¿Cómo ha crecido la población total de nuestra muestra a lo largo de los años? (Altura total de la barra)\n",
        "\n",
        "- ¿Cómo ha cambiado la participación porcentual de cada continente en esa población total? (Tamaño relativo de cada color dentro de la barra)\n",
        "\n",
        "Para crearlo, primero necesitamos reorganizar (pivotar) nuestros datos para que los años sean el índice, los continentes sean las columnas y los valores sean la suma de la población."
      ]
    },
    {
      "cell_type": "code",
      "execution_count": null,
      "metadata": {
        "colab": {
          "base_uri": "https://localhost:8080/",
          "height": 537
        },
        "id": "n9KUEKh5V7lZ",
        "outputId": "33e12e60-c97d-4792-94dc-81768910e673"
      },
      "outputs": [],
      "source": [
        "# 1. Preparar los datos: Crear una tabla pivote\n",
        "# Agrupamos por año y continente, sumando la población.\n",
        "# Luego, usamos .unstack() para convertir los continentes en columnas.\n",
        "poblacion_continentes = df.groupby(['año', 'continente'])['poblacion'].sum().unstack()\n",
        "\n",
        "# 2. Crear el gráfico de barras apiladas\n",
        "ax = poblacion_continentes.plot(kind='bar', stacked=True, figsize=(16, 9),\n",
        "                                 colormap='viridis')\n",
        "\n",
        "# 3. Mejorar la legibilidad del gráfico\n",
        "plt.title('Población por Continente a lo Largo del Tiempo (Gráfico Apilado)', fontsize=20)\n",
        "plt.xlabel('Año', fontsize=14)\n",
        "plt.ylabel('Población (en miles de millones)', fontsize=14)\n",
        "plt.xticks(rotation=45)\n",
        "plt.legend(title='Continente', bbox_to_anchor=(1.02, 1), loc='upper left')\n",
        "\n",
        "# Formatear el eje Y para que muestre los números en miles de millones\n",
        "# Esto hace que el gráfico sea mucho más fácil de leer.\n",
        "formatter = lambda x, pos: f'{x/1e9:.1f}B'\n",
        "ax.yaxis.set_major_formatter(formatter)\n",
        "\n",
        "plt.tight_layout()\n",
        "plt.show()"
      ]
    },
    {
      "cell_type": "markdown",
      "metadata": {
        "id": "EL54oGV4s3kM"
      },
      "source": [
        "**Ejercicio**: Interprete el gráfico."
      ]
    },
    {
      "cell_type": "code",
      "execution_count": null,
      "metadata": {
        "id": "y8a_tlbDs4F6"
      },
      "outputs": [],
      "source": []
    },
    {
      "cell_type": "markdown",
      "metadata": {
        "id": "Pnu0WqlzDLPv"
      },
      "source": [
        "## Correlación"
      ]
    },
    {
      "cell_type": "markdown",
      "metadata": {
        "id": "0yYzboSuDOrs"
      },
      "source": [
        "Los gráficos de dispersión sugieren relaciones. La correlación las cuantifica numéricamente.\n",
        "\n",
        "- Correlación > 0: Relación positiva (cuando X sube, Y tiende a subir).\n",
        "\n",
        "- Correlación < 0: Relación negativa (cuando X sube, Y tiende a bajar).\n",
        "\n",
        "- Correlación ≈ 0: No hay relación lineal."
      ]
    },
    {
      "cell_type": "markdown",
      "metadata": {
        "id": "q5_19tc4DTje"
      },
      "source": [
        "Un **heatmap** es una forma excelente de visualizar la matriz de correlación, usando colores para representar los valores."
      ]
    },
    {
      "cell_type": "code",
      "execution_count": null,
      "metadata": {
        "colab": {
          "base_uri": "https://localhost:8080/",
          "height": 143
        },
        "id": "PntOPZBgdj8D",
        "outputId": "fe95622b-c53e-473e-cb9f-e7fdbcfaf744"
      },
      "outputs": [],
      "source": [
        "# Seleccionamos solo las columnas numéricas para la correlación\n",
        "df_numeric = df[['esperanza_vida', 'poblacion', 'pib_per_capita']]\n",
        "correlation_matrix = df_numeric.corr()\n",
        "correlation_matrix"
      ]
    },
    {
      "cell_type": "code",
      "execution_count": null,
      "metadata": {
        "colab": {
          "base_uri": "https://localhost:8080/",
          "height": 699
        },
        "id": "lRciovU8ayTG",
        "outputId": "4457d9de-f9ea-4c65-f0d6-92af205f76b0"
      },
      "outputs": [],
      "source": [
        "plt.figure(figsize=(10, 8))\n",
        "sns.heatmap(correlation_matrix, annot=True, cmap='coolwarm', fmt=\".2f\")\n",
        "plt.title('Matriz de Correlación de Variables Numéricas')\n",
        "plt.show()"
      ]
    },
    {
      "cell_type": "markdown",
      "metadata": {
        "id": "XHPPpaU6s57Y"
      },
      "source": [
        "**Ejercicio**: Interprete el gráfico."
      ]
    },
    {
      "cell_type": "code",
      "execution_count": null,
      "metadata": {
        "id": "Q3MHHuJYs6_C"
      },
      "outputs": [],
      "source": []
    },
    {
      "cell_type": "markdown",
      "metadata": {
        "id": "F5w4jciBNPuM"
      },
      "source": [
        "⚠️ Advertencia clave: **¡Correlación no implica causalidad!** El hecho de que dos variables se muevan juntas no significa que una cause la otra. Podría haber una tercera variable oculta (variable omitida) o la causalidad podría ir en la dirección opuesta."
      ]
    },
    {
      "cell_type": "markdown",
      "metadata": {
        "id": "-kAodbtSTmra"
      },
      "source": [
        "**Ejercicio de discusión**\n",
        "\n",
        "Hemos visto una correlación de 0.58 entre PIB per cápita y esperanza de vida. Pero, ¿es una prueba de que 'el dinero compra la salud'? Piensen por un minuto en al menos una tercera variable (una variable omitida) que podría estar causando que tanto el PIB como la esperanza de vida se muevan juntas."
      ]
    },
    {
      "cell_type": "markdown",
      "metadata": {
        "id": "hyj9qJ_gNkgQ"
      },
      "source": [
        "## Gráficos Avanzados con Seaborn"
      ]
    },
    {
      "cell_type": "markdown",
      "metadata": {
        "id": "_Kp87n_vNoAS"
      },
      "source": [
        "Seaborn ofrece herramientas de alto nivel para explorar relaciones complejas con poco código."
      ]
    },
    {
      "cell_type": "markdown",
      "metadata": {
        "id": "cOMq5IYPNrZL"
      },
      "source": [
        "### Pairplot: Todas las Relaciones de un Vistazo"
      ]
    },
    {
      "cell_type": "markdown",
      "metadata": {
        "id": "PuwP51qgNwNM"
      },
      "source": [
        "El pairplot crea una matriz de gráficos: histogramas en la diagonal (para ver la distribución de cada variable) y scatter plots en el resto (para ver la relación entre cada par de variables). Es una forma increíblemente eficiente de obtener una visión general."
      ]
    },
    {
      "cell_type": "code",
      "execution_count": null,
      "metadata": {
        "colab": {
          "base_uri": "https://localhost:8080/",
          "height": 787
        },
        "id": "3k0OBDiRZHEP",
        "outputId": "e599edbe-5f34-4e7a-acdf-727c1040e050"
      },
      "outputs": [],
      "source": [
        "# Usamos una muestra de los datos para que el gráfico se genere más rápido\n",
        "df_sample = df.sample(500)\n",
        "\n",
        "sns.pairplot(df_sample, diag_kind='kde')\n",
        "plt.suptitle('Pairplot de Indicadores (Muestra)', y=1.02)\n",
        "plt.show()"
      ]
    },
    {
      "cell_type": "code",
      "execution_count": null,
      "metadata": {
        "colab": {
          "base_uri": "https://localhost:8080/",
          "height": 787
        },
        "id": "z7VcWAyzN1jx",
        "outputId": "0d2f5a4d-8f48-411a-e715-4099a1a94e4e"
      },
      "outputs": [],
      "source": [
        "# Usamos una muestra de los datos para que el gráfico se genere más rápido\n",
        "df_sample = df.sample(500)\n",
        "\n",
        "sns.pairplot(df_sample, hue='continente', diag_kind='kde')\n",
        "plt.suptitle('Pairplot de Indicadores por Continente (Muestra)', y=1.02)\n",
        "plt.show()"
      ]
    },
    {
      "cell_type": "markdown",
      "metadata": {
        "id": "wk6Xt6XFN99i"
      },
      "source": [
        "Este único comando genera una gran cantidad of información. Podemos ver todas las relaciones bivariadas simultáneamente, segmentadas por color según el continente. Rápidamente podemos confirmar visualmente las correlaciones que vimos en el heatmap y las distribuciones de los histogramas, pero ahora con una capa adicional de detalle por continente."
      ]
    },
    {
      "cell_type": "markdown",
      "metadata": {
        "id": "DChX_2pTOCFo"
      },
      "source": [
        "### Violinplot"
      ]
    },
    {
      "cell_type": "markdown",
      "metadata": {
        "id": "RjxEjxPuOFnb"
      },
      "source": [
        "Combina un boxplot con un gráfico de densidad. Es útil para ver no solo el resumen estadístico sino también la forma completa de la distribución."
      ]
    },
    {
      "cell_type": "code",
      "execution_count": null,
      "metadata": {
        "colab": {
          "base_uri": "https://localhost:8080/",
          "height": 601
        },
        "id": "UvLTcmLfOMEM",
        "outputId": "39889c74-fee9-4072-f0bc-fb936ad0407d"
      },
      "outputs": [],
      "source": [
        "plt.figure(figsize=(12, 7))\n",
        "sns.violinplot(x='continente', y='esperanza_vida', data=df)\n",
        "plt.title('Distribución de Esperanza de Vida por Continente (Violin Plot)')\n",
        "plt.show()"
      ]
    },
    {
      "cell_type": "markdown",
      "metadata": {
        "id": "9eQFyHOoOHLb"
      },
      "source": [
        "### Joint Plot"
      ]
    },
    {
      "cell_type": "markdown",
      "metadata": {
        "id": "l-_CX-4POIQv"
      },
      "source": [
        "Muestra un scatter plot de dos variables y añade los histogramas o gráficos de densidad de cada variable en los márgenes."
      ]
    },
    {
      "cell_type": "code",
      "execution_count": null,
      "metadata": {
        "colab": {
          "base_uri": "https://localhost:8080/",
          "height": 633
        },
        "id": "lym8SqyUOQGH",
        "outputId": "da412caf-eb97-4933-a78f-e78d02e94291"
      },
      "outputs": [],
      "source": [
        "sns.jointplot(x='pib_per_capita', y='esperanza_vida', data=df_2007, alpha=0.3,marker='o')\n",
        "plt.suptitle('Joint Plot de PIB per Cápita y Esperanza de Vida (2007)', y=1.02)\n",
        "plt.show()"
      ]
    }
  ],
  "metadata": {
    "colab": {
      "provenance": [],
      "toc_visible": true
    },
    "kernelspec": {
      "display_name": "Python 3",
      "name": "python3"
    },
    "language_info": {
      "name": "python"
    }
  },
  "nbformat": 4,
  "nbformat_minor": 0
}
