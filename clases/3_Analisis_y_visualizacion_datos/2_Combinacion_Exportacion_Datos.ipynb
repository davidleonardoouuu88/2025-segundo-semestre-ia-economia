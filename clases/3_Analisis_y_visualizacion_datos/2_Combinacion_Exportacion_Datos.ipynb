{
  "cells": [
    {
      "cell_type": "markdown",
      "id": "7q6-ecuyJZMj",
      "metadata": {
        "id": "7q6-ecuyJZMj"
      },
      "source": [
        "<a href=\"https://colab.research.google.com/github/LinaMariaCastro/curso-ia-para-economia/blob/main/clases/3_Analisis_y_visualizacion_datos/2_Combinacion_Exportacion_Datos.ipynb\" target=\"_parent\"><img src=\"https://colab.research.google.com/assets/colab-badge.svg\" alt=\"Open In Colab\"/></a>"
      ]
    },
    {
      "cell_type": "markdown",
      "id": "UxY55o_PQ7jE",
      "metadata": {
        "id": "UxY55o_PQ7jE"
      },
      "source": [
        "# **Inteligencia Artificial con Aplicaciones en Economía I**\n",
        "\n",
        "- 👩‍🏫 **Profesora:** [Lina María Castro](https://www.linkedin.com/in/lina-maria-castro)  \n",
        "- 📧 **Email:** [lmcastroco@gmail.com](mailto:lmcastroco@gmail.com)  \n",
        "- 🎓 **Universidad:** Universidad Externado de Colombia - Facultad de Economía"
      ]
    },
    {
      "cell_type": "markdown",
      "id": "fgMCFLbQBIu0",
      "metadata": {
        "id": "fgMCFLbQBIu0"
      },
      "source": [
        "# 🛢️**Métodos de importación, combinación y exportación de datos**"
      ]
    },
    {
      "cell_type": "markdown",
      "id": "002f12a4",
      "metadata": {
        "id": "002f12a4"
      },
      "source": [
        "**Objetivos de Aprendizaje:**\n",
        "\n",
        "Al finalizar este notebook, serás capaz de:\n",
        "1.  **Conectar y extraer datos** desde bases de datos SQL (SQLite) y archivos semi-estructurados como JSON.\n",
        "2.  **Combinar múltiples datasets** de forma eficiente utilizando las funciones `concat` y `merge` de pandas.\n",
        "3.  **Exportar tus DataFrames resultantes** a diversos formatos para su uso posterior."
      ]
    },
    {
      "cell_type": "markdown",
      "id": "ArbkQWmDbVZC",
      "metadata": {
        "id": "ArbkQWmDbVZC"
      },
      "source": [
        "---"
      ]
    },
    {
      "cell_type": "markdown",
      "id": "CvffQiPyDLJG",
      "metadata": {
        "id": "CvffQiPyDLJG"
      },
      "source": [
        "## Importar librerías"
      ]
    },
    {
      "cell_type": "code",
      "execution_count": null,
      "id": "YFPOnxMFDBFP",
      "metadata": {
        "id": "YFPOnxMFDBFP"
      },
      "outputs": [],
      "source": [
        "import os\n",
        "import numpy as np\n",
        "import pandas as pd"
      ]
    },
    {
      "cell_type": "markdown",
      "id": "jHE2ZLJuEPIe",
      "metadata": {
        "id": "jHE2ZLJuEPIe"
      },
      "source": [
        "## Mejorar visualización de los dataframes"
      ]
    },
    {
      "cell_type": "code",
      "execution_count": null,
      "id": "72TA8V1fETCm",
      "metadata": {
        "id": "72TA8V1fETCm"
      },
      "outputs": [],
      "source": [
        "# Que muestre todas las columnas\n",
        "pd.options.display.max_columns = None\n",
        "# En los dataframes, mostrar los float con dos decimales\n",
        "pd.options.display.float_format = '{:,.2f}'.format"
      ]
    },
    {
      "cell_type": "markdown",
      "id": "ZZDidlYvVBQk",
      "metadata": {
        "id": "ZZDidlYvVBQk"
      },
      "source": [
        "## Establecer la ruta de los datasets"
      ]
    },
    {
      "cell_type": "code",
      "execution_count": null,
      "id": "KYRaLbXlMc_c",
      "metadata": {
        "colab": {
          "base_uri": "https://localhost:8080/"
        },
        "id": "KYRaLbXlMc_c",
        "outputId": "bc252b89-1412-429a-b147-d1752fd80a6f"
      },
      "outputs": [],
      "source": [
        "from google.colab import drive, files\n",
        "drive.mount('/content/drive')"
      ]
    },
    {
      "cell_type": "code",
      "execution_count": null,
      "id": "dQSa_neuGLji",
      "metadata": {
        "id": "dQSa_neuGLji"
      },
      "outputs": [],
      "source": [
        "path = '/content/drive/MyDrive/2025_ii_curso_ia_economia/datasets'"
      ]
    },
    {
      "cell_type": "code",
      "execution_count": null,
      "id": "cka8EDXhQuee",
      "metadata": {
        "id": "cka8EDXhQuee"
      },
      "outputs": [],
      "source": [
        "# Para establecer el directorio de los archivos\n",
        "os.chdir(path)"
      ]
    },
    {
      "cell_type": "markdown",
      "id": "NE1KRuONbSAY",
      "metadata": {
        "id": "NE1KRuONbSAY"
      },
      "source": [
        "---"
      ]
    },
    {
      "cell_type": "markdown",
      "id": "cF2NSo9wYlPI",
      "metadata": {
        "id": "cF2NSo9wYlPI"
      },
      "source": [
        "## Importando Datos de Diversas Fuentes\n",
        "\n",
        "Los datos económicos no siempre vienen en un `csv` o `Excel`. A menudo, necesitamos interactuar con sistemas más complejos como bases de datos o formatos web como JSON."
      ]
    },
    {
      "cell_type": "markdown",
      "id": "jLKf3FqqY5Xz",
      "metadata": {
        "id": "jLKf3FqqY5Xz"
      },
      "source": [
        "### Importación desde una Base de Datos SQL\n",
        "\n",
        "Las bases de datos son la columna vertebral de cualquier sistema de información. Bancos, entidades gubernamentales y empresas almacenan sus registros en bases de datos relacionales. Aprender a extraer datos de ellas es una habilidad crucial."
      ]
    },
    {
      "cell_type": "markdown",
      "id": "37v0bvS-Z1Nk",
      "metadata": {
        "id": "37v0bvS-Z1Nk"
      },
      "source": [
        "**¿Qué es una Base de Datos Relacional?**🗄️\n",
        "\n",
        "Imagina que administras una tienda. Podrías registrar todas tus ventas en una **gigantesca hoja de Excel**. Por cada venta, anotarías el nombre del cliente, su email, el nombre del producto, su precio, la fecha, etc.\n",
        "\n",
        "Pronto notarías los **problemas**:\n",
        "\n",
        "- **Redundancia:** Si Ana Pérez compra 10 veces, anotas su nombre y email 10 veces.\n",
        "\n",
        "- **Riesgo de Errores**: En una de esas 10 veces, podrías escribir \"Ana Peres\". Ahora, para el sistema, son dos clientas diferentes, y tus análisis serán incorrectos.\n",
        "\n",
        "- **Ineficiencia:** El archivo se vuelve enorme y lento.\n",
        "\n",
        "**Una base de datos relacional resuelve esto de forma elegante.** En lugar de una tabla gigante, creas tablas que se relacionan entre sí:\n",
        "\n",
        "- **Tabla Clientes:** Solo guarda información de clientes. Cada cliente tiene un \"id\" único: cliente_id, el cuál podría ser su número de cédula.\n",
        "\n",
        "- **Tabla Productos:** Solo guarda información de productos. Cada producto tiene un id único: producto_id.\n",
        "\n",
        "- **Tabla Ventas:** Registra un único id para la venta (venta_id), el cual podría ser el número de factura, la fecha de venta, la cantidad de productos y lo más importante: cliente_id y producto_id. En lugar de repetir todos los datos de clientes y productos vendidos, esta tabla solo registra los ids de estos.\n",
        "\n",
        "**La \"relación\" es el vínculo que se crea mediante estos IDs.** La tabla Ventas no sabe el nombre del cliente, pero sabe su cliente_id, y con este puede ir a buscar los detalles en la tabla Clientes.\n",
        "\n",
        "**En resumen, una base de datos relacional es un sistema para almacenar datos en tablas separadas y conectadas por llaves, lo que elimina la redundancia, garantiza la consistencia y permite cruzar información de forma muy poderosa.**"
      ]
    },
    {
      "cell_type": "markdown",
      "id": "88sGp4XmGgEF",
      "metadata": {
        "id": "88sGp4XmGgEF"
      },
      "source": [
        "![Ejemplo Base de Datos Realcional](https://drive.google.com/uc?id=1o0XV423UuWkbFzS6TUS_BfPrc12Bs2ln)"
      ]
    },
    {
      "cell_type": "markdown",
      "id": "GHv1LM5KZ4YY",
      "metadata": {
        "id": "GHv1LM5KZ4YY"
      },
      "source": [
        "**¿Qué es SQL?** 🗣️\n",
        "\n",
        "**SQL (Structured Query Language) es el idioma que se usa para pedirle al sistema que busque, filtre y combine información para generar reportes.**\n",
        "\n",
        "No es un lenguaje de programación como Python, sino un lenguaje de consulta. **Su objetivo es solicitar, manipular y gestionar datos dentro de una base de datos relacional.**\n",
        "\n",
        "La estructura de una petición básica en SQL es muy intuitiva y se parece a cómo pensarías la pregunta en español. Las \"palabras clave\" o **comandos más básicos** son:\n",
        "\n",
        "- **SELECT:** Elige las columnas que quieres ver.\n",
        "\n",
        "- **FROM:** Indica de qué tabla quieres sacar los datos.\n",
        "\n",
        "- **WHERE:** Aplica un filtro a las filas (observaciones) para obtener solo las que cumplen una condición."
      ]
    },
    {
      "cell_type": "markdown",
      "id": "8whDD-tCSMhE",
      "metadata": {
        "id": "8whDD-tCSMhE"
      },
      "source": [
        "Pregunta de negocio simple: **\"Quiero ver las ventas donde se ha vendido más de 5 unidades.\"**"
      ]
    },
    {
      "cell_type": "code",
      "execution_count": null,
      "id": "0BgNZpGaaDXe",
      "metadata": {
        "id": "0BgNZpGaaDXe"
      },
      "outputs": [],
      "source": [
        "SELECT * # Tráeme todas las columnas\n",
        "FROM Ventas # de la tabla Ventas\n",
        "WHERE cantidad > 5; # pero solo las filas (registros) donde se vendieron más de 5 unidades"
      ]
    },
    {
      "cell_type": "markdown",
      "id": "3V8biVKuagcA",
      "metadata": {
        "id": "3V8biVKuagcA"
      },
      "source": [
        "Aprender SQL es fundamental para un economista porque te da acceso directo a las fuentes primarias de datos en empresas y gobiernos, sin depender de que alguien más te exporte un archivo .csv."
      ]
    },
    {
      "cell_type": "markdown",
      "id": "ec5KjIoHZ4qq",
      "metadata": {
        "id": "ec5KjIoHZ4qq"
      },
      "source": [
        "Para el ejemplo, usaremos **SQLite**, un Sistema Gestor de Bases de Datos Relacionales sencillo que viene incluido con Python.\n",
        "\n",
        "**Nota:** Un **Sistema Gestor de Bases de Datos Relacionales** (SGBDR), o RDBMS por sus siglas en inglés, es el **software especializado que te permite crear, consultar, actualizar y administrar una base de datos relacional.** Se encarga de la seguridad, la integridad, la eficiencia de las consultas y el acceso concurrente, permitiendo que los datos sean un activo fiable y utilizable para una organización.\n",
        "\n",
        "Otros SGBDR son PostgreSQL y MySQL."
      ]
    },
    {
      "cell_type": "code",
      "execution_count": null,
      "id": "lhkH7z8DUNT5",
      "metadata": {
        "id": "lhkH7z8DUNT5"
      },
      "outputs": [],
      "source": [
        "import sqlite3"
      ]
    },
    {
      "cell_type": "code",
      "execution_count": null,
      "id": "yCV3U8__VqEi",
      "metadata": {
        "id": "yCV3U8__VqEi"
      },
      "outputs": [],
      "source": [
        "# Paso 1: Establecer una conexión con la base de datos SQLite\n",
        "conn = sqlite3.connect('economia_colombia.db')"
      ]
    },
    {
      "cell_type": "code",
      "execution_count": null,
      "id": "e8kbPZ7QWYSe",
      "metadata": {
        "colab": {
          "base_uri": "https://localhost:8080/",
          "height": 192
        },
        "id": "e8kbPZ7QWYSe",
        "outputId": "41260189-2ab0-48f5-d09d-5172c46a2443"
      },
      "outputs": [],
      "source": [
        "# Paso 2: Extraer los datos usando una consulta SQL\n",
        "# Consulta: Selecciona todas las columnas de la tabla 'indicadores_macro' (trae todos los datos)\n",
        "\n",
        "query = \"SELECT * FROM indicadores_macro\"\n",
        "df_from_sql = pd.read_sql_query(query, conn)\n",
        "\n",
        "print(\"Datos extraídos de la base de datos:\")\n",
        "display(df_from_sql)"
      ]
    },
    {
      "cell_type": "code",
      "execution_count": null,
      "id": "3BqQWiSWyk91",
      "metadata": {
        "colab": {
          "base_uri": "https://localhost:8080/",
          "height": 142
        },
        "id": "3BqQWiSWyk91",
        "outputId": "1ae1d4b3-07bc-43c7-d42f-72bd0717e491"
      },
      "outputs": [],
      "source": [
        "# Otra consulta: \"Selecciona todas las columnas de la tabla 'indicadores_macro' donde el año sea mayor a 2021\"\n",
        "\n",
        "query2 = \"SELECT * FROM indicadores_macro WHERE año > 2021\"\n",
        "df_from_sql2 = pd.read_sql_query(query2, conn)\n",
        "\n",
        "print(\"Datos extraídos de la base de datos:\")\n",
        "display(df_from_sql2)"
      ]
    },
    {
      "cell_type": "code",
      "execution_count": null,
      "id": "yyzgF-1kymFf",
      "metadata": {
        "id": "yyzgF-1kymFf"
      },
      "outputs": [],
      "source": [
        "# Paso 3: cerrar la conexión\n",
        "conn.close()"
      ]
    },
    {
      "cell_type": "markdown",
      "id": "tU7_TmZ5bbQu",
      "metadata": {
        "id": "tU7_TmZ5bbQu"
      },
      "source": [
        "---"
      ]
    },
    {
      "cell_type": "markdown",
      "id": "X5cDxJIDzAJq",
      "metadata": {
        "id": "X5cDxJIDzAJq"
      },
      "source": [
        "### Importación de Archivos JSON\n",
        "\n",
        "**JSON (JavaScript Object Notation)** es el lenguaje de la web. Muchas APIs y fuentes de datos abiertos (como las del gobierno) entregan la información en este formato, que es flexible pero puede ser anidado.\n",
        "\n",
        "Vamos a utilizar un ejemplo que simula datos de población y PIB per cápita para Colombia."
      ]
    },
    {
      "cell_type": "code",
      "execution_count": null,
      "id": "vdhw0vguUQ0Q",
      "metadata": {
        "id": "vdhw0vguUQ0Q"
      },
      "outputs": [],
      "source": [
        "import json"
      ]
    },
    {
      "cell_type": "markdown",
      "id": "GnfCkO8OXGWH",
      "metadata": {
        "id": "GnfCkO8OXGWH"
      },
      "source": [
        "Cargamos el archivo .json"
      ]
    },
    {
      "cell_type": "code",
      "execution_count": null,
      "id": "t9lzzLRTURuj",
      "metadata": {
        "colab": {
          "base_uri": "https://localhost:8080/"
        },
        "id": "t9lzzLRTURuj",
        "outputId": "7efaf598-f659-4557-9bca-83830672e066"
      },
      "outputs": [],
      "source": [
        "# Esta línea lee el archivo JSON y lo convierte en un objeto de Python\n",
        "json_data=json.load(open('ejemplo_poblacion_pib_pc.json','r'))\n",
        "json_data"
      ]
    },
    {
      "cell_type": "markdown",
      "id": "jtf2kklXXPBm",
      "metadata": {
        "id": "jtf2kklXXPBm"
      },
      "source": [
        "En pandas, podemos crear un dataframe directamente a partir de un objeto tipo JSON, ya que este archivo es equivalente a un diccionario de Python. Sin embargo, puede ocurrir que no obtengamos la tabla que queremos."
      ]
    },
    {
      "cell_type": "code",
      "execution_count": null,
      "id": "xfxzVDSPzPPS",
      "metadata": {
        "colab": {
          "base_uri": "https://localhost:8080/",
          "height": 363
        },
        "id": "xfxzVDSPzPPS",
        "outputId": "2b5a2f4b-be96-4661-cfbe-baaced50dab8"
      },
      "outputs": [],
      "source": [
        "data = pd.DataFrame(json_data)\n",
        "data"
      ]
    },
    {
      "cell_type": "markdown",
      "id": "XTHtG0TpZJRm",
      "metadata": {
        "id": "XTHtG0TpZJRm"
      },
      "source": [
        "Para convertirlo a DataFrame, a menudo es necesario \"normalizar\" los datos anidados.\n",
        "\n",
        "En este ejemplo, nos interesa la lista que está bajo la llave \"datos_poblacionales\", por lo que en lugar de convertir directamente a un dataframe, debemos utilizar json_normalize e indicar el record_path que queremos."
      ]
    },
    {
      "cell_type": "code",
      "execution_count": null,
      "id": "7Ii6fx0JzRD5",
      "metadata": {
        "colab": {
          "base_uri": "https://localhost:8080/",
          "height": 363
        },
        "id": "7Ii6fx0JzRD5",
        "outputId": "1158c846-28a0-4e61-b53f-d9d3dc9436f7"
      },
      "outputs": [],
      "source": [
        "df_from_json = pd.json_normalize(json_data, record_path='datos_poblacionales')\n",
        "df_from_json"
      ]
    },
    {
      "cell_type": "markdown",
      "id": "AtcSuGRcZR34",
      "metadata": {
        "id": "AtcSuGRcZR34"
      },
      "source": [
        "El código anterior solo extrae la tabla anidada de datos_poblacionales. ¿Pero qué pasa con la información del nivel superior, como \"pais\": \"Colombia\"?\n",
        "\n",
        "Para eso, json_normalize tiene el parámetro meta, en el cual podemos indicar qué otras llaves del nivel superior queremos añadir como columnas en nuestro dataFrame final."
      ]
    },
    {
      "cell_type": "code",
      "execution_count": null,
      "id": "lFWZrqimS7FL",
      "metadata": {
        "colab": {
          "base_uri": "https://localhost:8080/",
          "height": 363
        },
        "id": "lFWZrqimS7FL",
        "outputId": "f09aeeae-c37f-4944-bb16-07f88422b26a"
      },
      "outputs": [],
      "source": [
        "df_completo = pd.json_normalize(json_data, record_path='datos_poblacionales', meta=['pais'])\n",
        "df_completo"
      ]
    },
    {
      "cell_type": "markdown",
      "id": "XaqlRxt2bd2k",
      "metadata": {
        "id": "XaqlRxt2bd2k"
      },
      "source": [
        "---"
      ]
    },
    {
      "cell_type": "markdown",
      "id": "Xl3dgLY6zVOB",
      "metadata": {
        "id": "Xl3dgLY6zVOB"
      },
      "source": [
        "## Unir Datos con `pd.concat` y `pd.merge`\n",
        "\n",
        "Rara vez un proyecto de análisis económico se basa en una sola fuente de datos, por tanto, es muy importante saber combinar datasets de manera lógica y correcta."
      ]
    },
    {
      "cell_type": "markdown",
      "id": "I9sIpvoMzbJO",
      "metadata": {
        "id": "I9sIpvoMzbJO"
      },
      "source": [
        "### Concatenación con `pd.concat()`\n",
        "\n",
        "`concat` nos permite \"apilar\" DataFrames uno encima del otro (eje 0) o uno al lado del otro (eje 1). Su uso más común es para agregar nuevas filas al DataFrame.\n",
        "\n",
        "**Ejemplo:** Eres un analista del DANE, de la Coordinación de Comercio Internacional, y tienes el archivo de las exportaciones de bienes de julio 2024. Al mes siguiente, recibes el archivo de agosto. `concat` es la acción de tomar las hojas del nuevo reporte y añadirlas al final del reporte del mes anterior. Esto se suele hacer con los archivos de enero a diciembre para construir un único archivo consolidado del año."
      ]
    },
    {
      "cell_type": "code",
      "execution_count": null,
      "id": "na7mak2I1N_O",
      "metadata": {
        "colab": {
          "base_uri": "https://localhost:8080/",
          "height": 268
        },
        "id": "na7mak2I1N_O",
        "outputId": "7f1e0362-01ac-4010-a595-be4a51f82ee4"
      },
      "outputs": [],
      "source": [
        "df_expo_jul = pd.read_excel('expo_bienes_2024/07_Exportaciones_2024_Julio.xlsx')\n",
        "df_expo_jul.head(3)"
      ]
    },
    {
      "cell_type": "code",
      "execution_count": null,
      "id": "itLF3cN23Ge9",
      "metadata": {
        "colab": {
          "base_uri": "https://localhost:8080/",
          "height": 268
        },
        "id": "itLF3cN23Ge9",
        "outputId": "5abfd5e9-292e-44c7-a4f8-ffbd96136e38"
      },
      "outputs": [],
      "source": [
        "df_expo_ago = pd.read_excel('expo_bienes_2024/08_Exportaciones_2024_Agosto.xlsx')\n",
        "df_expo_ago.head(3)"
      ]
    },
    {
      "cell_type": "code",
      "execution_count": null,
      "id": "3Yuk7ht93RGl",
      "metadata": {
        "colab": {
          "base_uri": "https://localhost:8080/"
        },
        "id": "3Yuk7ht93RGl",
        "outputId": "e99d4d22-cf69-41d0-e580-c0112be7a002"
      },
      "outputs": [],
      "source": [
        "df_expo_jul.shape"
      ]
    },
    {
      "cell_type": "code",
      "execution_count": null,
      "id": "Tf9ZwzIp3U0w",
      "metadata": {
        "colab": {
          "base_uri": "https://localhost:8080/"
        },
        "id": "Tf9ZwzIp3U0w",
        "outputId": "437dbcb1-8cad-4607-fea9-9557d1522f2e"
      },
      "outputs": [],
      "source": [
        "df_expo_ago.shape"
      ]
    },
    {
      "cell_type": "code",
      "execution_count": null,
      "id": "_ofq6YMgpXS9",
      "metadata": {
        "colab": {
          "base_uri": "https://localhost:8080/",
          "height": 268
        },
        "id": "_ofq6YMgpXS9",
        "outputId": "4c812afa-e75f-46ae-fa5a-c5d140877d8a"
      },
      "outputs": [],
      "source": [
        "# Para concatenar un dataframe debajo del otro (axis=0)\n",
        "df_expo_2024 = pd.concat([df_expo_jul, df_expo_ago], axis = 0, ignore_index=True)\n",
        "df_expo_2024.head(3)"
      ]
    },
    {
      "cell_type": "code",
      "execution_count": null,
      "id": "l8XUAINp78_I",
      "metadata": {
        "colab": {
          "base_uri": "https://localhost:8080/",
          "height": 268
        },
        "id": "l8XUAINp78_I",
        "outputId": "d5dd2078-0732-4775-8896-5ed3f7e3dbae"
      },
      "outputs": [],
      "source": [
        "df_expo_2024.tail(3)"
      ]
    },
    {
      "cell_type": "code",
      "execution_count": null,
      "id": "Pgko95VE3qxG",
      "metadata": {
        "colab": {
          "base_uri": "https://localhost:8080/"
        },
        "id": "Pgko95VE3qxG",
        "outputId": "64b9d960-607e-4da0-cfba-31cf938bb37d"
      },
      "outputs": [],
      "source": [
        "df_expo_2024.shape"
      ]
    },
    {
      "cell_type": "code",
      "execution_count": null,
      "id": "wTqU5fDo3yLX",
      "metadata": {
        "colab": {
          "base_uri": "https://localhost:8080/",
          "height": 268
        },
        "id": "wTqU5fDo3yLX",
        "outputId": "de1b33da-6430-4056-da13-735cf0d98723"
      },
      "outputs": [],
      "source": [
        "# Para concatenar un dataframe al lado del otro, se coloca axis = 1\n",
        "df_expo_2024_hor = pd.concat([df_expo_jul, df_expo_ago], axis = 1)\n",
        "df_expo_2024_hor.head(3)"
      ]
    },
    {
      "cell_type": "code",
      "execution_count": null,
      "id": "Jlrctlof4Ae8",
      "metadata": {
        "colab": {
          "base_uri": "https://localhost:8080/"
        },
        "id": "Jlrctlof4Ae8",
        "outputId": "208632b2-b7bb-4220-b5b1-9c5ec041fdd7"
      },
      "outputs": [],
      "source": [
        "df_expo_2024_hor.shape"
      ]
    },
    {
      "cell_type": "code",
      "execution_count": null,
      "id": "gJIndNik4F0o",
      "metadata": {
        "colab": {
          "base_uri": "https://localhost:8080/",
          "height": 268
        },
        "id": "gJIndNik4F0o",
        "outputId": "1285e7ce-09ce-4ca2-e3dc-cb2038b75a81"
      },
      "outputs": [],
      "source": [
        "df_expo_2024_hor.tail(3)"
      ]
    },
    {
      "cell_type": "markdown",
      "id": "mwi4snXxz0vy",
      "metadata": {
        "id": "mwi4snXxz0vy"
      },
      "source": [
        "### Cruce de Información con `pd.merge()`\n",
        "\n",
        "`merge` es una de las operaciones más poderosas. Emula los `JOIN` de SQL y nos permite combinar DataFrames basándose en el valor de una o más columnas en común (llaves o \"keys\").\n",
        "\n",
        "**Ejemplo:** El Banco de la República te contrata. Te entregan una tabla con el Indicador de Seguimiento a la Economía (ISE) para cada mes. Por otro lado, la Bolsa de Valores de Colombia te da una tabla con el volumen de negociación del índice COLCAP, también para cada mes. `merge` es la operación de tomar estas dos tablas y, usando la columna \"mes\" como el punto de conexión, crear una nueva tabla más rica que contenga tanto el ISE como el volumen del COLCAP en la misma fila para cada mes."
      ]
    },
    {
      "cell_type": "markdown",
      "id": "UWavtXNl0EYr",
      "metadata": {
        "id": "UWavtXNl0EYr"
      },
      "source": [
        "Vamos a explorar los 4 tipos de `merge` más comunes: `inner`, `left`, `right`, y `outer`.\n",
        "\n",
        "![Tipos de merge](https://drive.google.com/uc?id=1JQ_QH90nibxiBXoZezP4GgtMFNMp7gzV)"
      ]
    },
    {
      "cell_type": "code",
      "execution_count": null,
      "id": "O3hZUgFq0HCq",
      "metadata": {
        "colab": {
          "base_uri": "https://localhost:8080/",
          "height": 367
        },
        "id": "O3hZUgFq0HCq",
        "outputId": "713eb890-0b7b-4d73-9a38-00c5653c5ec6"
      },
      "outputs": [],
      "source": [
        "# Para el ejemplo, vamos a crear dos dataframes\n",
        "\n",
        "# DataFrame 1: Datos de población por país\n",
        "df_poblacion = pd.DataFrame({\n",
        "    'codigo_pais': ['COL', 'MEX', 'PER', 'ECU'],\n",
        "    'poblacion_millones': [52.1, 128.9, 34.0, 18.0]\n",
        "})\n",
        "\n",
        "# DataFrame 2: Datos de Llegada de Inversión Extranjera Directa (IED)\n",
        "# Nota: No tenemos datos para Ecuador (ECU), pero sí para Argentina (ARG), que no está en el otro DF.\n",
        "df_ied = pd.DataFrame({\n",
        "    'iso_code': ['COL', 'MEX', 'PER', 'ARG'],\n",
        "    'ied_millones_usd': [17048, 35292, 11738, 15055]\n",
        "})\n",
        "\n",
        "print(\"Población:\")\n",
        "display(df_poblacion)\n",
        "print(\"IED:\")\n",
        "display(df_ied)"
      ]
    },
    {
      "cell_type": "markdown",
      "id": "irVLxr96ehZ0",
      "metadata": {
        "id": "irVLxr96ehZ0"
      },
      "source": [
        "#### MERGE TIPO 1: INNER JOIN (Intersección)\n",
        "\n",
        "Solo nos devuelve las filas donde la llave ('codigo_pais'/'iso_code') existe en AMBOS DataFrames."
      ]
    },
    {
      "cell_type": "code",
      "execution_count": null,
      "id": "RxHwQKIZ0Nz0",
      "metadata": {
        "colab": {
          "base_uri": "https://localhost:8080/",
          "height": 196
        },
        "id": "RxHwQKIZ0Nz0",
        "outputId": "ef581303-154d-470c-e8d4-50b8163cd9c6"
      },
      "outputs": [],
      "source": [
        "df_inner = pd.merge(df_poblacion, df_ied, left_on='codigo_pais', right_on='iso_code', how='inner')\n",
        "\n",
        "print(\"\\n--- INNER JOIN ---\")\n",
        "print(\"Resultado: Solo países presentes en ambos datasets.\")\n",
        "display(df_inner)\n"
      ]
    },
    {
      "cell_type": "markdown",
      "id": "nwWovzNoexvx",
      "metadata": {
        "id": "nwWovzNoexvx"
      },
      "source": [
        "#### MERGE TIPO 2: LEFT JOIN\n",
        "\n",
        "Mantiene TODAS las filas del DataFrame de la izquierda ('df_poblacion') y trae los datos del de la derecha si la llave coincide. Si no, pone NaN."
      ]
    },
    {
      "cell_type": "code",
      "execution_count": null,
      "id": "cDBo9FoC0QRt",
      "metadata": {
        "colab": {
          "base_uri": "https://localhost:8080/",
          "height": 227
        },
        "id": "cDBo9FoC0QRt",
        "outputId": "639ebedb-c6d1-450b-d3d7-d5f898eb4ce7"
      },
      "outputs": [],
      "source": [
        "df_left = pd.merge(df_poblacion, df_ied, left_on='codigo_pais', right_on='iso_code', how='left')\n",
        "\n",
        "print(\"\\n--- LEFT JOIN ---\")\n",
        "print(\"Resultado: Todos los países de 'población', con datos de IED si están disponibles.\")\n",
        "display(df_left)"
      ]
    },
    {
      "cell_type": "markdown",
      "id": "D4T_vKBrhsDT",
      "metadata": {
        "id": "D4T_vKBrhsDT"
      },
      "source": [
        "#### MERGE TIPO 3: RIGHT JOIN\n",
        "Mantiene TODAS las filas del DataFrame de la derecha ('df_ied') y trae los datos del de la izquierda si la llave coincide."
      ]
    },
    {
      "cell_type": "code",
      "execution_count": null,
      "id": "lKxv4Qea0SrC",
      "metadata": {
        "colab": {
          "base_uri": "https://localhost:8080/",
          "height": 227
        },
        "id": "lKxv4Qea0SrC",
        "outputId": "1dc7098e-8583-442b-b234-271eeca442f1"
      },
      "outputs": [],
      "source": [
        "df_right = pd.merge(df_poblacion, df_ied, left_on='codigo_pais', right_on='iso_code', how='right')\n",
        "\n",
        "print(\"\\n--- RIGHT JOIN ---\")\n",
        "print(\"Resultado: Todos los países de 'IED', con datos de población si están disponibles.\")\n",
        "display(df_right)"
      ]
    },
    {
      "cell_type": "markdown",
      "id": "dlczH8f8h1aX",
      "metadata": {
        "id": "dlczH8f8h1aX"
      },
      "source": [
        "#### MERGE TIPO 4: OUTER JOIN (Unión Completa)\n",
        "\n",
        "Mantiene TODAS las filas de AMBOS DataFrames. Rellena con NaN donde no hay correspondencia."
      ]
    },
    {
      "cell_type": "code",
      "execution_count": null,
      "id": "YtANv6lM0VOr",
      "metadata": {
        "colab": {
          "base_uri": "https://localhost:8080/",
          "height": 258
        },
        "id": "YtANv6lM0VOr",
        "outputId": "f1f60b5e-c788-4170-bc55-e2e1773e54ea"
      },
      "outputs": [],
      "source": [
        "df_outer = pd.merge(df_poblacion, df_ied, left_on='codigo_pais', right_on='iso_code', how='outer')\n",
        "\n",
        "print(\"\\n--- OUTER JOIN ---\")\n",
        "print(\"Resultado: Todos los países de ambos datasets.\")\n",
        "display(df_outer)"
      ]
    },
    {
      "cell_type": "markdown",
      "id": "189qZi0Kookl",
      "metadata": {
        "id": "189qZi0Kookl"
      },
      "source": [
        "#### Ejercicios"
      ]
    },
    {
      "cell_type": "markdown",
      "id": "pj8hg4NJ0ZlK",
      "metadata": {
        "id": "pj8hg4NJ0ZlK"
      },
      "source": [
        "1. Tienes el siguiente dataframe `df_econ` con datos económicos para Colombia, México, Perú y Brasil y el dataframe `df_poblacion` que creamos previamente. Usando un `merge`, crea un nuevo DataFrame llamado `df_final` que contenga el PIB per cápita, la inflación, las exportaciones y la población para cada país. ¿Qué tipo de `join` es el más apropiado si quieres mantener todos los datos de `df_econ`?"
      ]
    },
    {
      "cell_type": "code",
      "execution_count": null,
      "id": "XcyqWjKekQe1",
      "metadata": {
        "colab": {
          "base_uri": "https://localhost:8080/",
          "height": 175
        },
        "id": "XcyqWjKekQe1",
        "outputId": "197a1abc-8d6c-443b-ca69-ed1618782a64"
      },
      "outputs": [],
      "source": [
        "# Datos económicos por país\n",
        "df_econ = pd.DataFrame({\n",
        "    'pais_iso': ['COL', 'MEX', 'PER', 'BRA'],\n",
        "    'PIB_per_capita': [7917, 13954, 8316, 10296],\n",
        "    'Inflacion': [6.61, 4.72, 2.01, 4.83],\n",
        "    'Exportaciones': [49600, 680790, 74700, 337000]\n",
        "})\n",
        "df_econ"
      ]
    },
    {
      "cell_type": "code",
      "execution_count": null,
      "id": "y-f4RaVI0qeu",
      "metadata": {
        "colab": {
          "base_uri": "https://localhost:8080/",
          "height": 192
        },
        "id": "y-f4RaVI0qeu",
        "outputId": "e215a232-fab0-4db5-928a-c2831d7b455e"
      },
      "outputs": [],
      "source": []
    },
    {
      "cell_type": "code",
      "execution_count": null,
      "id": "kVfHygetnMak",
      "metadata": {
        "colab": {
          "base_uri": "https://localhost:8080/",
          "height": 175
        },
        "id": "kVfHygetnMak",
        "outputId": "d8c6bc81-04eb-48a7-f8dd-4abd6dd67252"
      },
      "outputs": [],
      "source": []
    },
    {
      "cell_type": "markdown",
      "id": "kmioCb5yoM1J",
      "metadata": {
        "id": "kmioCb5yoM1J"
      },
      "source": [
        "2. Tenemos estas dos tablas, una con países y su PIB, y otra con países y su índice de desarrollo humano (IDH). No todos los países están en ambas tablas. Discutan con su compañero qué tabla resultante obtendrían con un inner join vs un outer join."
      ]
    },
    {
      "cell_type": "code",
      "execution_count": null,
      "id": "d4Ff8uFfolHj",
      "metadata": {
        "colab": {
          "base_uri": "https://localhost:8080/",
          "height": 399
        },
        "id": "d4Ff8uFfolHj",
        "outputId": "37fee63d-8a13-4820-9530-fa0e1c972680"
      },
      "outputs": [],
      "source": [
        "# DataFrame 1: Datos de PIB por país\n",
        "df_pib = pd.DataFrame({\n",
        "    'pais': ['BRA', 'ARG', 'PER', 'CHL'],\n",
        "    'pib_millones_usd': [2188, 604, 283, 329]\n",
        "})\n",
        "\n",
        "# DataFrame 2: Datos IDH por país\n",
        "df_idh = pd.DataFrame({\n",
        "    'pais': ['BRA', 'CHL', 'COL', 'PER', 'MEX'],\n",
        "    'IDH': [0.786, 0.878, 0.788, 0.794, 0.789],\n",
        "    'Categoría': ['Alto', 'Muy alto', 'Alto', 'Alto', 'Alto']\n",
        "})\n",
        "\n",
        "print(\"PIB:\")\n",
        "display(df_pib)\n",
        "print(\"IDH:\")\n",
        "display(df_idh)"
      ]
    },
    {
      "cell_type": "code",
      "execution_count": null,
      "id": "8ojvk9JhtWxO",
      "metadata": {
        "colab": {
          "base_uri": "https://localhost:8080/",
          "height": 143
        },
        "id": "8ojvk9JhtWxO",
        "outputId": "f38f4fac-5edd-460a-86cf-24ae0d2e6ca8"
      },
      "outputs": [],
      "source": []
    },
    {
      "cell_type": "code",
      "execution_count": null,
      "id": "r9zTrkecttn2",
      "metadata": {
        "colab": {
          "base_uri": "https://localhost:8080/",
          "height": 238
        },
        "id": "r9zTrkecttn2",
        "outputId": "6d066374-6ce0-4349-913b-5b422baedd6c"
      },
      "outputs": [],
      "source": []
    },
    {
      "cell_type": "markdown",
      "id": "N50B7QPNpJWY",
      "metadata": {
        "id": "N50B7QPNpJWY"
      },
      "source": [
        "3.  He intentado hacer un merge entre estos dos DataFrames, pero Python me da un error. ¿Quién puede ver por qué está fallando el código?"
      ]
    },
    {
      "cell_type": "code",
      "execution_count": null,
      "id": "_sfxsIuRpl5o",
      "metadata": {
        "colab": {
          "base_uri": "https://localhost:8080/",
          "height": 367
        },
        "id": "_sfxsIuRpl5o",
        "outputId": "71fc243c-d5bf-4582-8aed-4a6cf6499559"
      },
      "outputs": [],
      "source": [
        "# DataFrame 1: Datos de PIB per cápita por país\n",
        "df_pib_pc = pd.DataFrame({\n",
        "    'país_iso': ['COL', 'MEX', 'PER', 'BRA'],\n",
        "    'PIB_per_capita': [7917, 13954, 8316, 10296]\n",
        "})\n",
        "\n",
        "# DataFrame 2: Datos de inflación por país\n",
        "df_inflacion = pd.DataFrame({\n",
        "    'pais_iso': ['COL', 'MEX', 'PER', 'BRA'],\n",
        "    'Inflacion': [6.61, 4.72, 2.01, 4.83]\n",
        "})\n",
        "\n",
        "print(\"PIB per cápita:\")\n",
        "display(df_pib_pc)\n",
        "print(\"Inflación:\")\n",
        "display(df_inflacion)"
      ]
    },
    {
      "cell_type": "code",
      "execution_count": null,
      "id": "boXt45MHvUGS",
      "metadata": {
        "colab": {
          "base_uri": "https://localhost:8080/",
          "height": 304
        },
        "id": "boXt45MHvUGS",
        "outputId": "26bb02f1-b7d3-4b55-ee68-58fe7dc54ace"
      },
      "outputs": [],
      "source": [
        "df_merge = pd.merge(df_pib_pc, df_inflacion, on='pais_iso', how='inner')\n",
        "df_merge"
      ]
    },
    {
      "cell_type": "code",
      "execution_count": null,
      "id": "TvL6YKJYwGOq",
      "metadata": {
        "colab": {
          "base_uri": "https://localhost:8080/",
          "height": 175
        },
        "id": "TvL6YKJYwGOq",
        "outputId": "1df97d13-c39e-447d-e296-16555b9627ef"
      },
      "outputs": [],
      "source": [
        "# Solución"
      ]
    },
    {
      "cell_type": "markdown",
      "id": "aa3a4166",
      "metadata": {},
      "source": [
        "4. Y en este merge, ¿qué está fallando?"
      ]
    },
    {
      "cell_type": "code",
      "execution_count": null,
      "id": "2FlFHnFFvmwC",
      "metadata": {
        "colab": {
          "base_uri": "https://localhost:8080/",
          "height": 367
        },
        "id": "2FlFHnFFvmwC",
        "outputId": "faf52acc-bbf8-41d2-aa1c-f65df3a2e04f"
      },
      "outputs": [],
      "source": [
        "# DataFrame 1: Datos de PIB en USD por municipio\n",
        "df_pib_usd = pd.DataFrame({\n",
        "    'cod_municipio': ['85424', '16784', '13968', '15978'],\n",
        "    'PIB_usd': [417, 1848, 283, 2188]\n",
        "})\n",
        "\n",
        "# DataFrame 2: Datos de poblacion por municipio\n",
        "df_poblacion = pd.DataFrame({\n",
        "    'cod_municipio': [85424, 16784, 13968, 15978],\n",
        "    'Población': ['49600', '680790', '74700', '337000']\n",
        "})\n",
        "\n",
        "print(\"PIB en USD:\")\n",
        "display(df_pib_usd)\n",
        "print(\"Población:\")\n",
        "display(df_poblacion)"
      ]
    },
    {
      "cell_type": "code",
      "execution_count": null,
      "id": "4ru2x2eYxIqn",
      "metadata": {
        "colab": {
          "base_uri": "https://localhost:8080/",
          "height": 321
        },
        "id": "4ru2x2eYxIqn",
        "outputId": "f5ac2148-ce6c-4ff9-ade4-6e03492c8dcb"
      },
      "outputs": [],
      "source": [
        "df_combinado = pd.merge(df_pib_usd, df_poblacion, on='cod_municipio', how='inner')\n",
        "df_combinado"
      ]
    },
    {
      "cell_type": "code",
      "execution_count": null,
      "id": "FpYhnAukyik3",
      "metadata": {
        "colab": {
          "base_uri": "https://localhost:8080/",
          "height": 175
        },
        "id": "FpYhnAukyik3",
        "outputId": "8a41d57a-b670-40a8-d9b2-83e1bf0ab76b"
      },
      "outputs": [],
      "source": [
        "# Solución"
      ]
    },
    {
      "cell_type": "markdown",
      "id": "XDjEmoUM_LXm",
      "metadata": {
        "id": "XDjEmoUM_LXm"
      },
      "source": [
        "#### Pregunta de discusión\n",
        "\n",
        "¿Qué harían si al intentar unir dos tablas del gobierno por \"nombre del municipio\", descubren que \"Bogotá D.C.\" en una tabla se llama \"Bogota\" y en la otra se llama Bogotá? ¿Cómo afecta esto a los diferentes tipos de join?"
      ]
    },
    {
      "cell_type": "markdown",
      "id": "xiTvh2dNz5rI",
      "metadata": {
        "id": "xiTvh2dNz5rI"
      },
      "source": [
        "#### Ejemplos aplicados a Economía\n",
        "\n",
        "- **Scoring de Crédito:** Unir el historial de crédito de un cliente (desde una base de datos SQL) con sus datos de redes sociales (desde una API que devuelve JSON) para crear un perfil de riesgo más completo.\n",
        "\n",
        "- **Análisis de Política Pública:** Combinar datos de ejecución presupuestal de municipios (archivo CSV del gobierno) con indicadores de pobreza del DANE (tabla en Excel) con el fin de evaluar el impacto del gasto.\n",
        "\n",
        "- **Investigación Macroeconómica:** Fusionar series de tiempo 2000-2025 sobre la inflación y el desempleo de todos los países de Latam (varios archivos de Excel) con el fin de crear un panel de datos y analizar el comportamiento de estas dos variables en el tiempo."
      ]
    },
    {
      "cell_type": "markdown",
      "id": "FO0MknNjdnCQ",
      "metadata": {
        "id": "FO0MknNjdnCQ"
      },
      "source": [
        "---"
      ]
    },
    {
      "cell_type": "markdown",
      "id": "gB88oreCoKBt",
      "metadata": {
        "id": "gB88oreCoKBt"
      },
      "source": [
        "## Casos especiales de importación de archivos"
      ]
    },
    {
      "cell_type": "markdown",
      "id": "hRXTaIbDoOFj",
      "metadata": {
        "id": "hRXTaIbDoOFj"
      },
      "source": [
        "### Llamar todos los archivos dentro de una carpeta y concatenarlos"
      ]
    },
    {
      "cell_type": "markdown",
      "id": "zVwxUl-bn1Ea",
      "metadata": {
        "id": "zVwxUl-bn1Ea"
      },
      "source": [
        "**Ejemplo:** Eres analista del DANE en la Coordinación de Comercio Internacional y cuentas con una carpeta que contiene los archivos de exportaciones de bienes correspondientes a julio, agosto y septiembre de 2024. Necesitas consolidarlos en un único archivo del tercer trimestre de 2024, pero no deseas cargar cada archivo de forma manual, sino que el programa procese automáticamente todos los archivos Excel ubicados en la carpeta que especifiques."
      ]
    },
    {
      "cell_type": "code",
      "execution_count": null,
      "id": "jnHsfTtj4YTY",
      "metadata": {
        "id": "jnHsfTtj4YTY"
      },
      "outputs": [],
      "source": [
        "import glob"
      ]
    },
    {
      "cell_type": "markdown",
      "id": "DhYDIRBOBEss",
      "metadata": {
        "id": "DhYDIRBOBEss"
      },
      "source": [
        "**Nota:** La librería glob se usa para buscar y listar archivos en carpetas que cumplen un patrón en su nombre (comodines como *, ?). Es muy útil cuando tienes muchos archivos CSV, Excel, TXT, etc. en una carpeta y quieres procesarlos en un solo paso."
      ]
    },
    {
      "cell_type": "code",
      "execution_count": null,
      "id": "Hovx1suQowfO",
      "metadata": {
        "colab": {
          "base_uri": "https://localhost:8080/",
          "height": 268
        },
        "id": "Hovx1suQowfO",
        "outputId": "906502ec-d2e8-4d79-ee66-da34b9af4508"
      },
      "outputs": [],
      "source": [
        "# Buscar todos los archivos Excel en la carpeta\n",
        "archivos = glob.glob('expo_bienes_2024/*.xlsx')\n",
        "\n",
        "# Lista para guardar DataFrames temporales\n",
        "lista_dfs = []\n",
        "\n",
        "for archivo in archivos:\n",
        "    try:\n",
        "        temp = pd.read_excel(archivo)\n",
        "        lista_dfs.append(temp)\n",
        "\n",
        "        # Verificar columnas para identificar si algún archivo tiene más de las que debería\n",
        "        if len(temp.columns) > 72:\n",
        "            print(archivo, len(temp.columns))\n",
        "\n",
        "    except Exception as e:\n",
        "        print(f\"Error leyendo {archivo}: {e}\")\n",
        "\n",
        "# Concatenar todos los DataFrames en uno solo\n",
        "df_expo = pd.concat(lista_dfs, ignore_index=True)\n",
        "df_expo.head(3)"
      ]
    },
    {
      "cell_type": "code",
      "execution_count": null,
      "id": "p7B1MgHOpc04",
      "metadata": {
        "colab": {
          "base_uri": "https://localhost:8080/"
        },
        "id": "p7B1MgHOpc04",
        "outputId": "0eb69624-0551-4075-9278-17c4c82c4775"
      },
      "outputs": [],
      "source": [
        "df_expo.shape"
      ]
    },
    {
      "cell_type": "code",
      "execution_count": null,
      "id": "-3H1ef_qpgoZ",
      "metadata": {
        "colab": {
          "base_uri": "https://localhost:8080/",
          "height": 210
        },
        "id": "-3H1ef_qpgoZ",
        "outputId": "17c06ba1-60bf-4036-ed1c-3bb12b8da5ee"
      },
      "outputs": [],
      "source": [
        "# Para comprobar los meses que quedaron en el dataframe\n",
        "df_expo['FECHA_PROCESO'].value_counts(dropna=False)"
      ]
    },
    {
      "cell_type": "markdown",
      "id": "HVfwmIZYobm5",
      "metadata": {
        "id": "HVfwmIZYobm5"
      },
      "source": [
        "### Cargar una base muy pesada (varias gigas) por chunks"
      ]
    },
    {
      "cell_type": "markdown",
      "id": "JFse9IvKp6Uj",
      "metadata": {
        "id": "JFse9IvKp6Uj"
      },
      "source": [
        "**Ejemplo**: Trabajas en la Dirección de Estudios Económicos de la Superintendencia de Sociedades y necesitas cargar y analizar la base de datos de las 10.000 empresas más grandes del país. Sin embargo, la carga completa está tardando varias horas y tu jefe te ha solicitado el análisis para las 4 de la tarde. Para optimizar el proceso y reducir significativamente el tiempo, decides realizar la carga por chunks."
      ]
    },
    {
      "cell_type": "code",
      "execution_count": null,
      "id": "HbB2P5ZDZZzW",
      "metadata": {
        "id": "HbB2P5ZDZZzW"
      },
      "outputs": [],
      "source": [
        "# Importamos la librería time que nos ayudará a medir el tiempo de ejecución\n",
        "from time import time"
      ]
    },
    {
      "cell_type": "code",
      "execution_count": null,
      "id": "5BEPepaGawnG",
      "metadata": {
        "colab": {
          "base_uri": "https://localhost:8080/"
        },
        "id": "5BEPepaGawnG",
        "outputId": "243bf082-b1f2-4bee-cf5d-56cf81788ccc"
      },
      "outputs": [],
      "source": [
        "tiempo_inicio = time()\n",
        "df_ssc = pd.read_csv('Supersociedades_2023.csv', encoding ='utf-8', dtype=str)\n",
        "df_ssc_reducido = df_ssc[['NIT', 'RAZON_SOCIAL', 'DEPARTAMENTO', 'MUNICIPIO',\n",
        "                            'CIIU', 'DESCRIPCION_CIIU']]\n",
        "tiempo_termino = time()\n",
        "tiempo_carga_completa= tiempo_termino - tiempo_inicio\n",
        "print(f\"Tiempo carga completa: {tiempo_carga_completa:.6f} segs\")"
      ]
    },
    {
      "cell_type": "code",
      "execution_count": null,
      "id": "yRjBq7cLsPjJ",
      "metadata": {
        "colab": {
          "base_uri": "https://localhost:8080/",
          "height": 143
        },
        "id": "yRjBq7cLsPjJ",
        "outputId": "4ea83d58-495f-48d4-e4ec-6ec94907cb22"
      },
      "outputs": [],
      "source": [
        "df_ssc_reducido.head(3)"
      ]
    },
    {
      "cell_type": "code",
      "execution_count": null,
      "id": "Jy22O1sW63HC",
      "metadata": {
        "colab": {
          "base_uri": "https://localhost:8080/"
        },
        "id": "Jy22O1sW63HC",
        "outputId": "62325bfa-0302-4336-e6a8-a61c5e10b57c"
      },
      "outputs": [],
      "source": [
        "df_ssc_reducido.shape"
      ]
    },
    {
      "cell_type": "code",
      "execution_count": null,
      "id": "TxvG5GUbojqy",
      "metadata": {
        "colab": {
          "base_uri": "https://localhost:8080/"
        },
        "id": "TxvG5GUbojqy",
        "outputId": "9d84a107-01e8-471b-a736-45a7c550f88b"
      },
      "outputs": [],
      "source": [
        "tiempo_inicio = time()\n",
        "df_chunk = pd.read_csv('Supersociedades_2023.csv', encoding ='utf-8', chunksize=1000)\n",
        "chunk_list = []\n",
        "for chunk in df_chunk:\n",
        "    chunk_reducido = chunk[['NIT', 'RAZON_SOCIAL', 'DEPARTAMENTO', 'MUNICIPIO',\n",
        "                            'CIIU', 'DESCRIPCION_CIIU']]\n",
        "\n",
        "    # Añadir los datos a la lista de objetos\n",
        "    chunk_list.append(chunk_reducido)\n",
        "\n",
        "# Concatenar los datos filtrados en un DataFrame\n",
        "df_ssc_reducido2 = pd.concat(chunk_list)\n",
        "tiempo_termino = time()\n",
        "tiempo_chunks = tiempo_termino - tiempo_inicio\n",
        "print(f\"Tiempo carga por chunks: {tiempo_chunks:.6f} segs\")"
      ]
    },
    {
      "cell_type": "code",
      "execution_count": null,
      "id": "sq2eMM_tbFld",
      "metadata": {
        "colab": {
          "base_uri": "https://localhost:8080/",
          "height": 206
        },
        "id": "sq2eMM_tbFld",
        "outputId": "fefbd2f9-762c-4f00-8682-1b4f3db77c92"
      },
      "outputs": [],
      "source": [
        "df_ssc_reducido2.head()"
      ]
    },
    {
      "cell_type": "code",
      "execution_count": null,
      "id": "Ga-ypaYl67mL",
      "metadata": {
        "colab": {
          "base_uri": "https://localhost:8080/"
        },
        "id": "Ga-ypaYl67mL",
        "outputId": "c6d84105-e01f-422b-8991-fa1c152d51e9"
      },
      "outputs": [],
      "source": [
        "df_ssc_reducido2.shape"
      ]
    },
    {
      "cell_type": "markdown",
      "id": "4b1aHv4adp4u",
      "metadata": {
        "id": "4b1aHv4adp4u"
      },
      "source": [
        "---"
      ]
    },
    {
      "cell_type": "markdown",
      "id": "0c4a080e",
      "metadata": {
        "id": "0c4a080e"
      },
      "source": [
        "## Guardar / exportar datos"
      ]
    },
    {
      "cell_type": "markdown",
      "id": "OjOz_tPKs_Y2",
      "metadata": {
        "id": "OjOz_tPKs_Y2"
      },
      "source": [
        "Una vez que hemos limpiado, combinado y analizado nuestros datos, el último paso es guardarlos. Esto nos permite compartir resultados o usarlos en otros programas (como R, Stata, o Tableau)."
      ]
    },
    {
      "cell_type": "markdown",
      "id": "1AIPF1Mivy8f",
      "metadata": {
        "id": "1AIPF1Mivy8f"
      },
      "source": [
        "### Guardar en CSV (Comma-Separated Values) - el más común"
      ]
    },
    {
      "cell_type": "code",
      "execution_count": null,
      "id": "VBbvPxuxLPdi",
      "metadata": {
        "id": "VBbvPxuxLPdi"
      },
      "outputs": [],
      "source": [
        "df_ssc_reducido.to_csv('Descargas/Supersociedades_2023_reducido.csv', encoding ='utf-8', index = False)"
      ]
    },
    {
      "cell_type": "markdown",
      "id": "88iSlBqLv1Zf",
      "metadata": {
        "id": "88iSlBqLv1Zf"
      },
      "source": [
        "### Guardar en TXT"
      ]
    },
    {
      "cell_type": "code",
      "execution_count": null,
      "id": "CSDabu6Pr9Ya",
      "metadata": {
        "id": "CSDabu6Pr9Ya"
      },
      "outputs": [],
      "source": [
        "df_ssc_reducido.to_csv('Descargas/Supersociedades_2023_reducido.txt', sep=\"|\", decimal=',', encoding ='utf-8', index= False)"
      ]
    },
    {
      "cell_type": "markdown",
      "id": "bZMtFzV_v45w",
      "metadata": {
        "id": "bZMtFzV_v45w"
      },
      "source": [
        "### Guardar en JSON\n",
        "\n",
        "El formato 'records' es muy útil para la web y APIs. Significa que cada fila del DataFrame se convertirá en un diccionario (JSON object) dentro de una lista.\n",
        "\n",
        "indent=4: Agrega sangría de 4 espacios en el JSON para que sea más legible.\n",
        "Si no se coloca, todo el JSON queda en una sola línea."
      ]
    },
    {
      "cell_type": "code",
      "execution_count": null,
      "id": "FmVVNOQ21E_5",
      "metadata": {
        "id": "FmVVNOQ21E_5"
      },
      "outputs": [],
      "source": [
        "df_final.to_json('Descargas/datos_macro_final.json', orient='records', indent=4)"
      ]
    },
    {
      "cell_type": "markdown",
      "id": "bKn4tqrpwK7y",
      "metadata": {
        "id": "bKn4tqrpwK7y"
      },
      "source": [
        "### Guardar en Excel"
      ]
    },
    {
      "cell_type": "code",
      "execution_count": null,
      "id": "970a93c2",
      "metadata": {
        "id": "970a93c2"
      },
      "outputs": [],
      "source": [
        "df_ssc_reducido.to_excel(\"Descargas/Supersociedades_2023_reducido.xlsx\", index=False)"
      ]
    },
    {
      "cell_type": "markdown",
      "id": "mnPlgLhAwQB8",
      "metadata": {
        "id": "mnPlgLhAwQB8"
      },
      "source": [
        "#### Guardar más de un dataframe en Excel"
      ]
    },
    {
      "cell_type": "code",
      "execution_count": null,
      "id": "xwJmfHS6sH1z",
      "metadata": {
        "id": "xwJmfHS6sH1z"
      },
      "outputs": [],
      "source": [
        "with pd.ExcelWriter('Descargas/Ejemplo.xlsx') as writer:\n",
        "    df_ssc_reducido.to_excel(writer, sheet_name='SSC', index=False)\n",
        "    df_final.to_excel(writer, sheet_name='Macro', index=False)"
      ]
    },
    {
      "cell_type": "markdown",
      "id": "UibZMZXzwUPP",
      "metadata": {
        "id": "UibZMZXzwUPP"
      },
      "source": [
        "#### Guardar un dataframe en un Excel que ya existe como una hoja adicional (mode='a)\n",
        "\n",
        "Si la hoja ya existe, la reemplaza."
      ]
    },
    {
      "cell_type": "code",
      "execution_count": null,
      "id": "k7HYXpSZsIP-",
      "metadata": {
        "id": "k7HYXpSZsIP-"
      },
      "outputs": [],
      "source": [
        "with pd.ExcelWriter('Descargas/Ejemplo.xlsx', mode='a', engine='openpyxl', if_sheet_exists='replace') as writer:\n",
        "    df_expo_2024.to_excel(writer, sheet_name='Expo', index = False)"
      ]
    }
  ],
  "metadata": {
    "colab": {
      "provenance": []
    },
    "kernelspec": {
      "display_name": "Python 3",
      "name": "python3"
    },
    "language_info": {
      "name": "python"
    }
  },
  "nbformat": 4,
  "nbformat_minor": 5
}
