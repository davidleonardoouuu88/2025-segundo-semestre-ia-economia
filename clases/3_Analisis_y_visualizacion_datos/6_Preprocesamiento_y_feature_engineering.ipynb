{
  "cells": [
    {
      "cell_type": "markdown",
      "metadata": {
        "id": "jUwmbtkhQh8y"
      },
      "source": [
        "<a href=\"https://colab.research.google.com/github/LinaMariaCastro/curso-ia-para-economia/blob/main/clases/3_Analisis_y_visualizacion_datos/6_Preprocesamiento_y_feature_engineering.ipynb\" target=\"_parent\"><img src=\"https://colab.research.google.com/assets/colab-badge.svg\" alt=\"Open In Colab\"/></a>"
      ]
    },
    {
      "cell_type": "markdown",
      "metadata": {
        "id": "5iiwfbXCQv5D"
      },
      "source": [
        "# **Inteligencia Artificial con Aplicaciones en Economía I**\n",
        "\n",
        "- 👩‍🏫 **Profesora:** [Lina María Castro](https://www.linkedin.com/in/lina-maria-castro)  \n",
        "- 📧 **Email:** [lmcastroco@gmail.com](mailto:lmcastroco@gmail.com)  \n",
        "- 🎓 **Universidad:** Universidad Externado de Colombia - Facultad de Economía"
      ]
    },
    {
      "cell_type": "markdown",
      "metadata": {
        "id": "5rIiARu0MXbU"
      },
      "source": [
        "# 🔧🧩**Preprocesamiento y feature engineering**"
      ]
    },
    {
      "cell_type": "markdown",
      "metadata": {
        "id": "MdYAmJyWYao4"
      },
      "source": [
        "👉 Último paso antes de machine learning: adaptar los datos para los algoritmos.\n",
        "\n",
        "✅ Resultado: dataset listo para modelar con aprendizaje supervisado o no supervisado."
      ]
    },
    {
      "cell_type": "markdown",
      "metadata": {
        "id": "JMOUuY1Y0k24"
      },
      "source": [
        "**Objetivos de Aprendizaje**\n",
        "\n",
        "Al finalizar este notebook, serás capaz de:\n",
        "\n",
        "1.  **Diseñar nuevas variables (`features`)** relevantes para problemas económicos a partir de datos existentes.\n",
        "2.  **Preprocesar y limpiar datos** para que sean consumibles por algoritmos de machine learning, manejando variables categóricas y valores atípicos (`outliers`).\n",
        "3.  **Transformar y escalar variables numéricas** para mejorar el rendimiento y la interpretabilidad de los modelos."
      ]
    },
    {
      "cell_type": "markdown",
      "metadata": {
        "id": "gmfpetKa1IiA"
      },
      "source": [
        "**Introducción**\n",
        "\n",
        "Imagina que trabajas como analista cuantitativo en un banco comercial. Tu tarea es decidir si aprobar o rechazar solicitudes de crédito. Una mala decisión (aprobar un crédito a alguien que no pagará) genera pérdidas. Otra mala decisión (rechazar un crédito a alguien que sí pagaría) implica un costo de oportunidad. Tu objetivo es construir un modelo que automatice y mejore esta decisión.\n",
        "\n",
        "Recibes un conjunto de datos históricos de clientes, con información demográfica (edad, sexo), financiera (cuentas de ahorro, historial crediticio) y del préstamo solicitado (monto, duración, propósito). Estos son los \"datos crudos\".\n",
        "\n",
        "Un modelo de machine learning no puede simplemente \"leer\" esta información. No entiende qué significa \"propósito: auto nuevo\" o qué implicaciones tiene una edad de 25 años frente a una de 60. Tu labor es actuar como un **traductor** y un **arquitecto**: traduces los datos a un lenguaje numérico que el modelo entienda y construyes nuevas variables que capturen de forma más precisa el **riesgo económico** de cada solicitante.\n",
        "\n",
        "-   Cuando un analista de crédito calcula el **ratio de endeudamiento** (deuda total / ingreso anual), está haciendo **feature engineering**.\n",
        "-   Cuando clasifica a un cliente como 'joven', 'adulto' o 'senior', está **discretizando una variable continua** (la edad) para capturar efectos no lineales del ciclo de vida.\n",
        "-   Cuando convierte el propósito del crédito ('auto', 'educación', 'vacaciones') a un formato numérico, está **codificando variables categóricas**.\n",
        "\n",
        "En resumen, estamos transformando datos en bruto en **indicadores de riesgo con significado económico** que un algoritmo pueda aprovechar. La calidad de nuestro modelo de scoring dependerá críticamente de la calidad de estas variables. Un buen conjunto de *features* puede hacer que un modelo simple supere a un modelo complejo con datos mal preparados.\n",
        "\n",
        "**\"Basura entra, basura sale\" (`Garbage In, Garbage Out`)**. La calidad de nuestro modelo depende críticamente de la calidad de nuestras variables."
      ]
    },
    {
      "cell_type": "markdown",
      "metadata": {
        "id": "CvffQiPyDLJG"
      },
      "source": [
        "## Importar librerías"
      ]
    },
    {
      "cell_type": "code",
      "execution_count": null,
      "metadata": {
        "id": "YFPOnxMFDBFP"
      },
      "outputs": [],
      "source": [
        "import numpy as np\n",
        "import pandas as pd\n",
        "import matplotlib.pyplot as plt\n",
        "import seaborn as sns\n",
        "import warnings\n",
        "warnings.filterwarnings('ignore')"
      ]
    },
    {
      "cell_type": "markdown",
      "metadata": {
        "id": "jHE2ZLJuEPIe"
      },
      "source": [
        "## Mejorar visualización de los dataframes y los gráficos"
      ]
    },
    {
      "cell_type": "code",
      "execution_count": null,
      "metadata": {
        "id": "72TA8V1fETCm"
      },
      "outputs": [],
      "source": [
        "# Que muestre todas las columnas\n",
        "pd.options.display.max_columns = None\n",
        "# En los dataframes, mostrar los float con dos decimales\n",
        "pd.options.display.float_format = '{:,.2f}'.format"
      ]
    },
    {
      "cell_type": "code",
      "execution_count": null,
      "metadata": {
        "id": "DX3FSgBelLlB"
      },
      "outputs": [],
      "source": [
        "# Configuraciones para una mejor visualización de los gráficos\n",
        "sns.set_style(\"whitegrid\")\n",
        "%matplotlib inline"
      ]
    },
    {
      "cell_type": "markdown",
      "metadata": {
        "id": "SMx0i2r4j1mN"
      },
      "source": [
        "## Cargar el dataset"
      ]
    },
    {
      "cell_type": "markdown",
      "metadata": {
        "id": "KdjzLpp0UkCK"
      },
      "source": [
        "Usaremos el dataset **German Credit Data** (https://archive.ics.uci.edu/dataset/144/statlog+german+credit+data), el cual contiene información sobre 1000 solicitantes de crédito. El conjunto de datos incluye a individuos a quienes efectivamente se les otorgó un crédito. No contiene información sobre los solicitantes que fueron rechazados.\n",
        "\n",
        "Para cada uno de estos 1000 individuos, el banco ya realizó una clasificación de riesgo a posteriori, es decir, después de observar su comportamiento de pago. **La columna objetivo es Risk (o 'Riesgo')** indica si, con el tiempo, el cliente resultó ser un buen pagador (cumplió con sus obligaciones) o un mal pagador (incurrió en impago o default).\n",
        "\n",
        "Por lo tanto, el objetivo de un modelo entrenado con estos datos no es decidir si se aprueba o no un crédito (ya que todos fueron aprobados), sino predecir, en el momento de la solicitud, la probabilidad de que un cliente aprobado se convierta en un mal pagador en el futuro.\n",
        "\n",
        "**Fuente Original:** Los datos fueron donados al repositorio de Machine Learning de la UCI (University of California, Irvine) por el Profesor Dr. Hans Hofmann del Instituto de Estadística y Econometría de la Universidad de Hamburgo.\n",
        "\n",
        "**Banco**: Aunque la información proviene de un banco real, el nombre del banco no se ha hecho público para mantener la confidencialidad. Los datos fueron anonimizados.\n",
        "\n",
        "**Período de Tiempo:** La información corresponde a créditos otorgados en Alemania aproximadamente entre 1973 y 1975. Esto es importante tenerlo en cuenta, ya que el contexto económico y social de esa época (Alemania Occidental antes de la reunificación) es muy diferente al actual. Por ejemplo, los montos en Marcos Alemanes (DM) y los perfiles de empleo pueden no ser directamente extrapolables a la economía de hoy, pero los patrones de comportamiento de riesgo crediticio siguen siendo muy valiosos para el aprendizaje."
      ]
    },
    {
      "cell_type": "code",
      "execution_count": null,
      "metadata": {
        "colab": {
          "base_uri": "https://localhost:8080/",
          "height": 349
        },
        "id": "A13oyxd4UkCL",
        "outputId": "8d1a9c48-f44a-4d39-ca78-d78158a09c9e"
      },
      "outputs": [],
      "source": [
        "# Cargar el dataset desde una URL pública\n",
        "url = 'https://archive.ics.uci.edu/ml/machine-learning-databases/statlog/german/german.data'\n",
        "# Los nombres de las columnas se encuentran en la documentación del dataset\n",
        "columns = ['Estado de la cuenta corriente existente', 'Duración en meses', 'Historia de crédito', 'Propósito',\n",
        "           'Monto del crédito',\n",
        "           'Cuenta de ahorros/bonos', 'Empleo actual desde',\n",
        "           'Tasa de pago a plazos en porcentaje del ingreso disponible',\n",
        "           'Estado personal y sexo', 'Otros deudores/fiadores', 'Residencia actual desde', 'Propiedad',\n",
        "           'Edad', 'Otros planes de pago', 'Alojamiento', 'Número de créditos existentes en este banco',\n",
        "           'Trabajo', 'Número de personas obligadas a prestar manutención a', 'Teléfono', 'Trabajador extranjero',\n",
        "           'Riesgo']\n",
        "\n",
        "df = pd.read_csv(url, sep=' ', header=None, names=columns)\n",
        "\n",
        "# Vistazo inicial a los datos\n",
        "print(\"Dimensiones del dataset:\", df.shape)\n",
        "df.head()"
      ]
    },
    {
      "cell_type": "code",
      "execution_count": null,
      "metadata": {
        "colab": {
          "base_uri": "https://localhost:8080/",
          "height": 643
        },
        "id": "FE4xGFsLf7YI",
        "outputId": "c7c4d6ad-8f06-4ccd-eb98-0bb58a0f528a"
      },
      "outputs": [],
      "source": [
        "# --- 1. Definición de los Diccionarios de Mapeo ---\n",
        "\n",
        "# Atributo 1: Estado de la cuenta corriente existente\n",
        "estado_cuenta_corriente_map = {\n",
        "    'A11': 'Menos de 0 DM',\n",
        "    'A12': 'Entre 0 y 200 DM',\n",
        "    'A13': 'Más de 200 DM / Salario asignado',\n",
        "    'A14': 'Sin cuenta corriente'\n",
        "}\n",
        "\n",
        "# Atributo 3: Historial crediticio\n",
        "historial_crediticio_map = {\n",
        "    'A30': 'Sin créditos / Todos pagados',\n",
        "    'A31': 'Todos los créditos en este banco pagados',\n",
        "    'A32': 'Créditos existentes pagados hasta ahora',\n",
        "    'A33': 'Retraso en pagos en el pasado',\n",
        "    'A34': 'Cuenta crítica / Otros créditos'\n",
        "}\n",
        "\n",
        "# Atributo 4: Propósito del crédito\n",
        "proposito_map = {\n",
        "    'A40': 'Automóvil (nuevo)',\n",
        "    'A41': 'Automóvil (usado)',\n",
        "    'A42': 'Muebles / Equipo',\n",
        "    'A43': 'Radio / Televisión',\n",
        "    'A44': 'Electrodomésticos',\n",
        "    'A45': 'Reparaciones',\n",
        "    'A46': 'Educación',\n",
        "    'A48': 'Reciclaje',\n",
        "    'A49': 'Negocios',\n",
        "    'A410': 'Otros'\n",
        "}\n",
        "\n",
        "# Atributo 6: Cuenta de ahorros/bonos\n",
        "cuenta_ahorros_map = {\n",
        "    'A61': 'Menos de 100 DM',\n",
        "    'A62': 'Entre 100 y 500 DM',\n",
        "    'A63': 'Entre 500 y 1000 DM',\n",
        "    'A64': 'Más de 1000 DM',\n",
        "    'A65': 'Desconocido / Sin cuenta'\n",
        "}\n",
        "\n",
        "# Atributo 7: Empleo actual desde\n",
        "empleo_actual_map = {\n",
        "    'A71': 'Desempleado',\n",
        "    'A72': 'Menos de 1 año',\n",
        "    'A73': 'Entre 1 y 4 años',\n",
        "    'A74': 'Entre 4 y 7 años',\n",
        "    'A75': 'Más de 7 años'\n",
        "}\n",
        "\n",
        "# Atributo 9: Estado civil y sexo\n",
        "estado_civil_sexo_map = {\n",
        "    'A91': 'Hombre: divorciado/separado',\n",
        "    'A92': 'Mujer: divorciada/separada/casada',\n",
        "    'A93': 'Hombre: soltero',\n",
        "    'A94': 'Hombre: casado/viudo',\n",
        "    'A95': 'Mujer: soltera'\n",
        "}\n",
        "\n",
        "# Atributo 10: Otros deudores/fiadores\n",
        "otros_deudores_map = {\n",
        "    'A101': 'Ninguno',\n",
        "    'A102': 'Co-solicitante',\n",
        "    'A103': 'Garante'\n",
        "}\n",
        "\n",
        "# Atributo 12: Propiedad\n",
        "propiedad_map = {\n",
        "    'A121': 'Bienes inmuebles',\n",
        "    'A122': 'Seguro de vida / Ahorro para vivienda',\n",
        "    'A123': 'Automóvil u otro',\n",
        "    'A124': 'Desconocido / Sin propiedad'\n",
        "}\n",
        "\n",
        "# Atributo 14: Otros planes de pago\n",
        "otros_planes_pago_map = {\n",
        "    'A141': 'Banco',\n",
        "    'A142': 'Tiendas',\n",
        "    'A143': 'Ninguno'\n",
        "}\n",
        "\n",
        "# Atributo 15: Alojamiento\n",
        "vivienda_map = {\n",
        "    'A151': 'Alquiler',\n",
        "    'A152': 'Propia',\n",
        "    'A153': 'Gratuita'\n",
        "}\n",
        "\n",
        "# Atributo 17: Trabajo\n",
        "empleo_map = {\n",
        "    'A171': 'Desempleado / No cualificado - no residente',\n",
        "    'A172': 'No cualificado - residente',\n",
        "    'A173': 'Empleado cualificado / Funcionario',\n",
        "    'A174': 'Directivo / Autónomo / Altamente cualificado'\n",
        "}\n",
        "\n",
        "# Atributo 19: Teléfono\n",
        "telefono_map = {\n",
        "    'A191': 'No tiene',\n",
        "    'A192': 'Sí, a su nombre'\n",
        "}\n",
        "\n",
        "# Atributo 20: trabajador extranjero\n",
        "trabajador_extranjero_map = {\n",
        "    'A201': 'Sí',\n",
        "    'A202': 'No'\n",
        "}\n",
        "\n",
        "# --- 2. Aplicación de los Mapeos al DataFrame ---\n",
        "# Creamos una copia para trabajar de forma segura\n",
        "df_mapeado = df.copy()\n",
        "\n",
        "# Se aplica el mapeo a cada columna usando los nombres en español\n",
        "df_mapeado['Estado de la cuenta corriente existente'] = df_mapeado['Estado de la cuenta corriente existente'].map(estado_cuenta_corriente_map)\n",
        "df_mapeado['Historia de crédito'] = df_mapeado['Historia de crédito'].map(historial_crediticio_map)\n",
        "df_mapeado['Propósito'] = df_mapeado['Propósito'].map(proposito_map)\n",
        "df_mapeado['Cuenta de ahorros/bonos'] = df_mapeado['Cuenta de ahorros/bonos'].map(cuenta_ahorros_map)\n",
        "df_mapeado['Empleo actual desde'] = df_mapeado['Empleo actual desde'].map(empleo_actual_map)\n",
        "df_mapeado['Estado personal y sexo'] = df_mapeado['Estado personal y sexo'].map(estado_civil_sexo_map)\n",
        "df_mapeado['Otros deudores/fiadores'] = df_mapeado['Otros deudores/fiadores'].map(otros_deudores_map)\n",
        "df_mapeado['Propiedad'] = df_mapeado['Propiedad'].map(propiedad_map)\n",
        "df_mapeado['Otros planes de pago'] = df_mapeado['Otros planes de pago'].map(otros_planes_pago_map)\n",
        "df_mapeado['Alojamiento'] = df_mapeado['Alojamiento'].map(vivienda_map)\n",
        "df_mapeado['Trabajo'] = df_mapeado['Trabajo'].map(empleo_map)\n",
        "df_mapeado['Teléfono'] = df_mapeado['Teléfono'].map(telefono_map)\n",
        "df_mapeado['Trabajador extranjero'] = df_mapeado['Trabajador extranjero'].map(trabajador_extranjero_map)\n",
        "\n",
        "# --- 3. Verificación de los Resultados ---\n",
        "print(\"DataFrame con valores reemplazados y columnas en español:\")\n",
        "display(df_mapeado.head())"
      ]
    },
    {
      "cell_type": "code",
      "execution_count": null,
      "metadata": {
        "colab": {
          "base_uri": "https://localhost:8080/"
        },
        "id": "a3UlGSKPNB4u",
        "outputId": "ac8922e0-4fa0-4237-cc4f-d9720a5eff7d"
      },
      "outputs": [],
      "source": [
        "df_mapeado.info()"
      ]
    },
    {
      "cell_type": "markdown",
      "metadata": {},
      "source": [
        "## Recategorizacion variable objetivo\n",
        "\n",
        "La variable `Riesgo` está codificada como 1 para 'Bueno' y 2 para 'Malo'. Vamos a recodificarla a 0 para 'Bueno' y 1 para 'Malo', que es la convención en problemas de clasificación de riesgo (el evento de interés, el 'default', es 1)."
      ]
    },
    {
      "cell_type": "code",
      "execution_count": null,
      "metadata": {},
      "outputs": [],
      "source": [
        "# Usamos .map() para la recodificación\n",
        "df_mapeado['Riesgo'] = df_mapeado['Riesgo'].map({1: 0, 2: 1})\n",
        "\n",
        "print(\"Distribución de la variable objetivo 'Riesgo':\")\n",
        "print(df_mapeado['Riesgo'].value_counts(normalize=True))"
      ]
    },
    {
      "cell_type": "markdown",
      "metadata": {},
      "source": [
        "Vemos un desbalance: 70% de los clientes son buenos y 30% son malos."
      ]
    },
    {
      "cell_type": "markdown",
      "metadata": {
        "id": "KleAIXUSUkCM"
      },
      "source": [
        "## Feature Engineering\n",
        "\n",
        "**Creación de nuevas variables a partir de las existentes.**\n",
        "\n",
        "Ejemplos:\n",
        "\n",
        "- PIB per cápita = PIB / población\n",
        "- Tasa de dependencia = población joven + mayor / población en edad de trabajar\n",
        "- Índice de concentración = exportaciones top 3 países / exportaciones totales\n",
        "\n",
        "Técnicas:\n",
        "\n",
        "- Transformaciones matemáticas (log, raíz cuadrada).\n",
        "- Variables de interacción (multiplicar dos variables).\n",
        "- Variables temporales (día, mes, trimestre, año)."
      ]
    },
    {
      "cell_type": "markdown",
      "metadata": {
        "id": "39FCi3s1UkCN"
      },
      "source": [
        "### Creación de variables a partir de operaciones entre columnas\n",
        "\n",
        "Una variable muy común en el análisis de crédito es la relación entre el monto del crédito y su duración. Un crédito muy grande a un plazo muy corto puede ser más riesgoso.\n",
        "\n",
        "**Hipótesis Económica:** La \"cuota mensual implícita\" (aunque no es exacta sin la tasa de interés) puede ser un indicador de la carga financiera."
      ]
    },
    {
      "cell_type": "code",
      "execution_count": null,
      "metadata": {
        "id": "b2zVHoMRcW7Z"
      },
      "outputs": [],
      "source": [
        "df_mapeado['Proxy pago mensual'] = df_mapeado['Monto del crédito'] / df_mapeado['Duración en meses']"
      ]
    },
    {
      "cell_type": "code",
      "execution_count": null,
      "metadata": {
        "colab": {
          "base_uri": "https://localhost:8080/",
          "height": 143
        },
        "id": "O1oKT1mwecdR",
        "outputId": "fcdebde1-3e31-42f8-e004-762698426b21"
      },
      "outputs": [],
      "source": [
        "df_mapeado[['Proxy pago mensual']].head(3)"
      ]
    },
    {
      "cell_type": "code",
      "execution_count": null,
      "metadata": {
        "colab": {
          "base_uri": "https://localhost:8080/",
          "height": 472
        },
        "id": "gYghNfA2UkCN",
        "outputId": "79902425-17ac-4f3d-fdda-a839c6d10fbc"
      },
      "outputs": [],
      "source": [
        "# Visualicemos la relación entre esta nueva variable y el riesgo\n",
        "sns.boxplot(x='Riesgo', y='Proxy pago mensual', data=df_mapeado)\n",
        "plt.title('Proxy de Cuota Mensual vs. Riesgo de Crédito')\n",
        "plt.xticks([0, 1], ['Buen Pagador', 'Mal Pagador'])\n",
        "plt.yscale('log')\n",
        "plt.show()\n",
        "\n",
        "# Interpretación: La mediana de la cuota mensual implícita es ligeramente más baja para los malos pagadores.\n",
        "# por lo que no parece que una mayor carga financiera mensual esté asociada con un mayor riesgo de incumplimiento.\n"
      ]
    },
    {
      "cell_type": "markdown",
      "metadata": {
        "id": "kx3L6hNh0sqT"
      },
      "source": [
        "### Transformaciones matemáticas"
      ]
    },
    {
      "cell_type": "code",
      "execution_count": null,
      "metadata": {
        "colab": {
          "base_uri": "https://localhost:8080/",
          "height": 206
        },
        "id": "XCm4LyCrzBRz",
        "outputId": "1733784e-3669-465a-d0e9-05902b213913"
      },
      "outputs": [],
      "source": [
        "df_mapeado['Log Monto del crédito'] = np.log(df_mapeado['Monto del crédito'])\n",
        "df_mapeado[['Monto del crédito', 'Log Monto del crédito']].head()"
      ]
    },
    {
      "cell_type": "markdown",
      "metadata": {
        "id": "4o_QZ9_Ws18h"
      },
      "source": [
        "### Asignación de valores según los valores de otra columna\n",
        "\n"
      ]
    },
    {
      "cell_type": "code",
      "execution_count": null,
      "metadata": {
        "colab": {
          "base_uri": "https://localhost:8080/",
          "height": 178
        },
        "id": "tJxpq7VTufhi",
        "outputId": "dc9bc5a4-a975-4f06-f975-e45314a16c63"
      },
      "outputs": [],
      "source": [
        "df_mapeado['Trabajador extranjero'].value_counts(dropna=False)"
      ]
    },
    {
      "cell_type": "code",
      "execution_count": null,
      "metadata": {
        "colab": {
          "base_uri": "https://localhost:8080/",
          "height": 206
        },
        "id": "Nd-tyrmateSg",
        "outputId": "ae6492df-2d34-4941-c5c7-3a93dcdc4730"
      },
      "outputs": [],
      "source": [
        "df_mapeado['Trabajador extranjero 2'] = np.where(df_mapeado['Trabajador extranjero'] == 'Sí', 1, 0)\n",
        "df_mapeado[['Trabajador extranjero', 'Trabajador extranjero 2']].sample(5)"
      ]
    },
    {
      "cell_type": "markdown",
      "metadata": {
        "id": "RuJVsGKiIujQ"
      },
      "source": [
        "### Ejercicio\n",
        "\n",
        "Crea una nueva variable llamada \"Cantidad de créditos\" donde tenga la etiqueta \"Pocos créditos\" si la persona solo tiene 1 o 2 créditos y \"Muchos créditos\" si tiene 3 o más. Utiliza np.where y los valores de la columna 'Número de créditos existentes en este banco'."
      ]
    },
    {
      "cell_type": "code",
      "execution_count": null,
      "metadata": {
        "id": "yS1xbda1Jrrq"
      },
      "outputs": [],
      "source": []
    },
    {
      "cell_type": "markdown",
      "metadata": {
        "id": "z-dRaghvxH4f"
      },
      "source": [
        "### Crear variables utilizando funciones"
      ]
    },
    {
      "cell_type": "markdown",
      "metadata": {
        "id": "yuO1BL13xa5g"
      },
      "source": [
        "#### Utilizando una función que se aplica al valor de una columna"
      ]
    },
    {
      "cell_type": "code",
      "execution_count": null,
      "metadata": {
        "colab": {
          "base_uri": "https://localhost:8080/",
          "height": 272
        },
        "id": "4IrmNfwuxtCj",
        "outputId": "4147d448-0e36-4fe7-e2b6-36491f948001"
      },
      "outputs": [],
      "source": [
        "df_mapeado['Empleo actual desde'].value_counts(dropna=False)"
      ]
    },
    {
      "cell_type": "code",
      "execution_count": null,
      "metadata": {
        "colab": {
          "base_uri": "https://localhost:8080/",
          "height": 206
        },
        "id": "g6HT2AmFxLx9",
        "outputId": "f7879538-d159-47a1-8bf5-66b9cb895d79"
      },
      "outputs": [],
      "source": [
        "def categoria_empleo(categoria):\n",
        "  if categoria == 'Menos de 1 año':\n",
        "    return 0\n",
        "  elif categoria == 'Entre 1 y 4 años':\n",
        "    return 1\n",
        "  elif categoria == 'Entre 4 y 7 años':\n",
        "    return 2\n",
        "  elif categoria == 'Más de 7 años':\n",
        "    return 3\n",
        "  else:\n",
        "    return -1\n",
        "\n",
        "df_mapeado['Empleo actual desde 2'] = df_mapeado['Empleo actual desde'].apply(categoria_empleo)\n",
        "df_mapeado[['Empleo actual desde', 'Empleo actual desde 2']].head()"
      ]
    },
    {
      "cell_type": "markdown",
      "metadata": {
        "id": "z7WxBTQPy_5W"
      },
      "source": [
        "#### Utilizando una función que se aplica al valor de varias columnas"
      ]
    },
    {
      "cell_type": "code",
      "execution_count": null,
      "metadata": {
        "colab": {
          "base_uri": "https://localhost:8080/",
          "height": 178
        },
        "id": "yDNgttO33HSN",
        "outputId": "868db1ae-26e4-4f0e-c694-f9de28a65ada"
      },
      "outputs": [],
      "source": [
        "df_mapeado['Número de personas obligadas a prestar manutención a'].value_counts(dropna=False)"
      ]
    },
    {
      "cell_type": "code",
      "execution_count": null,
      "metadata": {
        "colab": {
          "base_uri": "https://localhost:8080/",
          "height": 209
        },
        "id": "S4ivVOWz3WlC",
        "outputId": "711c0405-db42-4e9e-eaf9-a135be00002c"
      },
      "outputs": [],
      "source": [
        "df_mapeado['Alojamiento'].value_counts(dropna=False)"
      ]
    },
    {
      "cell_type": "code",
      "execution_count": null,
      "metadata": {
        "colab": {
          "base_uri": "https://localhost:8080/",
          "height": 206
        },
        "id": "NUoM2zIl3lcn",
        "outputId": "0f661a3d-8298-4de6-a685-a4a9d2207faf"
      },
      "outputs": [],
      "source": [
        "def nivel_gastos(alojamiento, personas):\n",
        "  if alojamiento == 'Propia' and personas == 1:\n",
        "    return 'Gastos bajos'\n",
        "  elif alojamiento == 'Gratuita' and personas == 1:\n",
        "    return 'Gastos bajos'\n",
        "  elif alojamiento == 'Gratuita' and personas == 2:\n",
        "    return 'Gastos altos'\n",
        "  else:\n",
        "    return 'Gastos altos'\n",
        "\n",
        "df_mapeado['Nivel gastos'] = df_mapeado.apply(lambda x: nivel_gastos(x['Alojamiento'], x['Número de personas obligadas a prestar manutención a']), axis=1)\n",
        "df_mapeado[['Alojamiento', 'Número de personas obligadas a prestar manutención a', 'Nivel gastos']].head()"
      ]
    },
    {
      "cell_type": "markdown",
      "metadata": {
        "id": "fqludd5yKkSg"
      },
      "source": [
        "#### Ejercicio\n",
        "\n",
        "Utiliza funciones para crear una columna llamada \"Bienes inmuebles\" que tenga el valor de 1 si en la columna \"Propiedad\" dice \"Bienes inmuebles\" y cero si no.\n"
      ]
    },
    {
      "cell_type": "code",
      "execution_count": null,
      "metadata": {
        "id": "SdFgfv_MLIio"
      },
      "outputs": [],
      "source": []
    },
    {
      "cell_type": "markdown",
      "metadata": {
        "id": "0EPz69zJMjvz"
      },
      "source": [
        "### A partir de fechas"
      ]
    },
    {
      "cell_type": "code",
      "execution_count": null,
      "metadata": {
        "id": "dbFWD8P6Mjv0"
      },
      "outputs": [],
      "source": [
        "# df_mapeado['Año'] = df_mapeado['Fecha'].dt.year\n",
        "# df_mapeado['Mes'] = df_mapeado['Fecha'].dt.month\n",
        "# df_mapeado['Dia'] = df_mapeado['Fecha'].dt.dayofweek\n",
        "# df_mapeado['Hora de la transacción'].dt.hour\n",
        "# df_mapeado['Minuto de la transacción'].dt.minute"
      ]
    },
    {
      "cell_type": "markdown",
      "metadata": {
        "id": "LmvgPoPkUkCO"
      },
      "source": [
        "### Crear variables categóricas a partir de numéricas (Binning)\n",
        "\n",
        "La edad es una variable continua, pero su efecto sobre el riesgo puede no ser lineal. Por ejemplo, tanto los muy jóvenes (poca experiencia financiera) como los muy mayores (ingresos inciertos post-retiro) pueden ser más riesgosos. Podemos agrupar la edad en categorías."
      ]
    },
    {
      "cell_type": "code",
      "execution_count": null,
      "metadata": {
        "colab": {
          "base_uri": "https://localhost:8080/",
          "height": 206
        },
        "id": "R1NNy8rIhQtz",
        "outputId": "40002bb0-fa0d-495f-bf7a-bf40bf3fbbe6"
      },
      "outputs": [],
      "source": [
        "# Usamos pd.cut para crear los \"bins\" o categorías de edad\n",
        "bins = [18, 30, 50, 100]\n",
        "labels = ['Joven', 'Adulto', 'Senior']\n",
        "df_mapeado['Grupo edad'] = pd.cut(df_mapeado['Edad'], bins=bins, labels=labels, right=False)\n",
        "\n",
        "df_mapeado[['Edad', 'Grupo edad']].head()"
      ]
    },
    {
      "cell_type": "code",
      "execution_count": null,
      "metadata": {
        "colab": {
          "base_uri": "https://localhost:8080/",
          "height": 472
        },
        "id": "a6VppphIUkCO",
        "outputId": "cf714652-0022-45ad-b5f5-0ea240ac078b"
      },
      "outputs": [],
      "source": [
        "# Visualizamos su impacto\n",
        "sns.barplot(x='Grupo edad', y='Riesgo', data=df_mapeado)\n",
        "plt.title('Tasa de Default por Grupo de Edad')\n",
        "plt.ylabel('Probabilidad de ser Mal Pagador')\n",
        "plt.show()\n",
        "\n",
        "# Interpretación: Los solicitantes más jóvenes tienen una tasa de incumplimiento más alta.\n",
        "# Esta nueva variable captura este efecto del ciclo de vida de una forma muy clara."
      ]
    },
    {
      "cell_type": "markdown",
      "metadata": {
        "id": "BlgH7QkwUkCP"
      },
      "source": [
        "### Ejercicio\n",
        "\n",
        "Usando el `df_mapeado`, crea una nueva variable categórica llamada `'Grupo monto crédito'` que clasifique el monto del crédito (`Monto del crédito`) en:\n",
        "- 'Bajo' (monto < 2000)\n",
        "- 'Medio' (2000 <= monto < 5000)\n",
        "- 'Alto' (monto >= 5000)\n",
        "\n",
        "Luego, crea un gráfico de barras para visualizar la relación entre `'Grupo monto crédito'` y `'Riesgo'`. ¿Qué grupo parece ser más riesgoso?"
      ]
    },
    {
      "cell_type": "code",
      "execution_count": null,
      "metadata": {
        "id": "DtU6f70-i4_m"
      },
      "outputs": [],
      "source": []
    },
    {
      "cell_type": "markdown",
      "metadata": {
        "id": "RbPpiDYoUkCP"
      },
      "source": [
        "## Codificación de Variables Categóricas\n",
        "\n",
        "Los modelos de machine learning son funciones matemáticas; no entienden texto como \"carro nuevo\" o \"educación\". Debemos convertir estas categorías en números de forma inteligente."
      ]
    },
    {
      "cell_type": "markdown",
      "metadata": {
        "id": "3Gedcfd5UkCM"
      },
      "source": [
        "### Reemplazo de dos categorías por 1 y 0"
      ]
    },
    {
      "cell_type": "markdown",
      "metadata": {
        "id": "NnRd7e40LyPJ"
      },
      "source": [
        "### Ejercicio\n",
        "\n",
        "Recategoriza la columna \"Teléfono\" colocando 1 si no tiene teléfono y 0 si lo tiene."
      ]
    },
    {
      "cell_type": "code",
      "execution_count": null,
      "metadata": {
        "id": "ugwtzsb3MBxZ"
      },
      "outputs": [],
      "source": []
    },
    {
      "cell_type": "markdown",
      "metadata": {
        "id": "WrKu2DELUkCQ"
      },
      "source": [
        "### One-Hot Encoding: Para variables nominales\n",
        "\n",
        "Se usa cuando las categorías no tienen un orden inherente. Por ejemplo, el Propósito del crédito. Crear una columna binaria (0/1) para cada propósito evita que el modelo asuma un orden falso (ej. que 'educación' es \"mayor\" que 'automóvil').\n",
        "\n",
        "**Notas:**\n",
        "- En los modelos de regresión hay que borrar una de las dummies, para árboles de decisión no es necesario.\n",
        "- Lo más conveniente es quitar aquella dummy que tenga más observaciones.\n",
        "- Los NA deben ser otra variable dummy."
      ]
    },
    {
      "cell_type": "code",
      "execution_count": null,
      "metadata": {
        "colab": {
          "base_uri": "https://localhost:8080/",
          "height": 429
        },
        "id": "L3vhKxY-kS-6",
        "outputId": "3eeef678-1696-4177-82bd-f8c7759bcd8c"
      },
      "outputs": [],
      "source": [
        "df_mapeado['Propósito'].value_counts(dropna=False)"
      ]
    },
    {
      "cell_type": "code",
      "execution_count": null,
      "metadata": {
        "colab": {
          "base_uri": "https://localhost:8080/",
          "height": 643
        },
        "id": "YrUjoZsnUkCQ",
        "outputId": "1afd7c39-c610-4fdb-a4fa-2d691ca2e46e"
      },
      "outputs": [],
      "source": [
        "# Aplicamos One-Hot Encoding a la variable 'Propósito'\n",
        "dummies = pd.get_dummies(df_mapeado['Propósito'], prefix='Propósito', drop_first=True, dtype=int, dummy_na=True) # drop_first para evitar multicolinealidad perfecta\n",
        "\n",
        "# Unimos los dummies al DataFrame original y eliminamos la columna original\n",
        "df_mapeado = pd.concat([df_mapeado, dummies], axis=1)\n",
        "df_mapeado.drop('Propósito', axis=1, inplace=True)\n",
        "\n",
        "print(\"DataFrame con One-Hot Encoding para 'Propósito':\")\n",
        "df_mapeado.head()"
      ]
    },
    {
      "cell_type": "markdown",
      "metadata": {
        "id": "cLBUGzn3MG5U"
      },
      "source": [
        "### Ejercicio\n",
        "\n",
        "Aplica One-Hot Encoding a la variable \"Estado personal y sexo\"."
      ]
    },
    {
      "cell_type": "code",
      "execution_count": null,
      "metadata": {
        "id": "m_eKYs9iMfJd"
      },
      "outputs": [],
      "source": []
    },
    {
      "cell_type": "markdown",
      "metadata": {
        "id": "WXbaopCuUkCQ"
      },
      "source": [
        "### Label Encoding (Mapeo Manual): Para variables ordinales\n",
        "\n",
        "Se usa cuando las categorías SÍ tienen un orden claro. Por ejemplo, `Cuenta de ahorros/bonos`. La documentación nos dice que A61 = < 100 DM, A62 = 100 <= ... < 500 DM, etc. Hay un orden claro.\n",
        "\n",
        "**¡Cuidado!** Usar el `LabelEncoder` de scikit-learn puede asignar números alfabéticamente (A61=0, A62=1, ...), lo que podría ser correcto por casualidad. Es más seguro y explícito hacer un mapeo manual para garantizar que el orden económico se preserve."
      ]
    },
    {
      "cell_type": "code",
      "execution_count": null,
      "metadata": {
        "colab": {
          "base_uri": "https://localhost:8080/",
          "height": 272
        },
        "id": "Yv3IiykRnZrm",
        "outputId": "910f8054-2786-4194-d8ea-4e620fa73781"
      },
      "outputs": [],
      "source": [
        "df_mapeado['Cuenta de ahorros/bonos'].value_counts(dropna=False)"
      ]
    },
    {
      "cell_type": "code",
      "execution_count": null,
      "metadata": {
        "colab": {
          "base_uri": "https://localhost:8080/",
          "height": 225
        },
        "id": "BSR-9rPVov2s",
        "outputId": "58d6ff47-2b40-45be-dff7-9c37b63a0c16"
      },
      "outputs": [],
      "source": [
        "# Mapeo explícito para asegurar el orden correcto\n",
        "savings_map = {'Menos de 100 DM': 0, 'Entre 100 y 500 DM': 1,\n",
        "               'Entre 500 y 1000 DM': 2, 'Más de 1000 DM': 3,\n",
        "               'Desconocido / Sin cuenta': -1} # Asignamos -1 a desconocido\n",
        "\n",
        "df_mapeado['Cuenta de ahorros codificada'] = df_mapeado['Cuenta de ahorros/bonos'].map(savings_map)\n",
        "\n",
        "print(\"DataFrame con Label Encoding para Cuentas de Ahorro:\")\n",
        "df_mapeado[['Cuenta de ahorros/bonos', 'Cuenta de ahorros codificada']].head()"
      ]
    },
    {
      "cell_type": "code",
      "execution_count": null,
      "metadata": {
        "colab": {
          "base_uri": "https://localhost:8080/",
          "height": 206
        },
        "id": "jVri5ZaVCpuS",
        "outputId": "ea542eb3-f988-46bc-f081-c7cc83fc69fd"
      },
      "outputs": [],
      "source": [
        "# Ejemplo de cómo se haría con LabelEncoder\n",
        "from sklearn.preprocessing import LabelEncoder\n",
        "\n",
        "# Inicializar el LabelEncoder\n",
        "# Creamos una instancia del codificador.\n",
        "le = LabelEncoder()\n",
        "\n",
        "df_mapeado['Cuenta de ahorros codificada le'] = le.fit_transform(df_mapeado['Cuenta de ahorros/bonos'])\n",
        "df_mapeado[['Cuenta de ahorros/bonos', 'Cuenta de ahorros codificada', 'Cuenta de ahorros codificada le']].head()"
      ]
    },
    {
      "cell_type": "markdown",
      "metadata": {
        "id": "v4xFxssCDy0G"
      },
      "source": [
        "¿Cuándo usar LabelEncoder y cuándo tener cuidado? ⚠️\n",
        "\n",
        "- **Ideal para la variable objetivo (y):** Es la herramienta perfecta para codificar la variable que quieres predecir en un problema de clasificación. Por ejemplo, si quieres predecir ['Perro', 'Gato', 'Pájaro'], LabelEncoder los convertirá a [2, 0, 1], lo cual es perfecto.\n",
        "\n",
        "- **Cuidado al usarlo en variables predictoras (X):** Debes tener precaución al usar LabelEncoder en tus variables de entrada. El problema es que crea una relación ordinal artificial, basada en un orden alfabético."
      ]
    },
    {
      "cell_type": "markdown",
      "metadata": {
        "id": "Lxnu6svCUkCQ"
      },
      "source": [
        "## Tratamiento de Outliers (Valores Atípicos)\n",
        "\n",
        "Los outliers son observaciones extremas que pueden distorsionar nuestros modelos, especialmente los lineales. Imagina analizar el 'Monto del crédito'; un crédito inusualmente grande puede sesgar las relaciones que el modelo aprende."
      ]
    },
    {
      "cell_type": "code",
      "execution_count": null,
      "metadata": {
        "colab": {
          "base_uri": "https://localhost:8080/",
          "height": 472
        },
        "id": "d6-feyrYpU0z",
        "outputId": "0d3c0264-a96a-4268-e093-ca1007f92b73"
      },
      "outputs": [],
      "source": [
        "# Detectemos outliers en la variable 'Monto del crédito'\n",
        "sns.boxplot(x=df_mapeado['Monto del crédito'])\n",
        "plt.title('Detección de Outliers en el Monto del Crédito')\n",
        "plt.show()"
      ]
    },
    {
      "cell_type": "code",
      "execution_count": null,
      "metadata": {
        "colab": {
          "base_uri": "https://localhost:8080/"
        },
        "id": "fosZIR0yUkCR",
        "outputId": "1a6ea7c1-2fe2-49fb-9955-5b6927f62e9a"
      },
      "outputs": [],
      "source": [
        "# Cálculo de los límites con el Rango Intercuartílico (IQR)\n",
        "Q1 = df_mapeado['Monto del crédito'].quantile(0.25)\n",
        "Q3 = df_mapeado['Monto del crédito'].quantile(0.75)\n",
        "IQR = Q3 - Q1\n",
        "limite_superior = Q3 + 1.5 * IQR\n",
        "\n",
        "print(f\"Límite superior para Monto del crédito: {limite_superior:.2f}\")\n",
        "\n",
        "outliers = df_mapeado[df_mapeado['Monto del crédito'] > limite_superior]\n",
        "print(f\"\\nNúmero de outliers detectados: {len(outliers)}\")"
      ]
    },
    {
      "cell_type": "markdown",
      "metadata": {
        "id": "fRiKgmxXUkCR"
      },
      "source": [
        "### Tratamiento de Outliers: Capping (Acotamiento)\n",
        "\n",
        "Una estrategia común es el \"capping\", que consiste en reemplazar los valores atípicos con el valor del límite superior. Así no perdemos la observación completa, solo reducimos su influencia extrema."
      ]
    },
    {
      "cell_type": "code",
      "execution_count": null,
      "metadata": {
        "id": "2mMmqlZRpzNG"
      },
      "outputs": [],
      "source": [
        "# Hacemos una copia para el ejemplo\n",
        "df_capped = df_mapeado.copy()\n",
        "\n",
        "# Aplicamos el capping\n",
        "df_capped['Monto del crédito'] = np.where(df_capped['Monto del crédito'] > limite_superior,\n",
        "                                      limite_superior,\n",
        "                                      df_capped['Monto del crédito'])"
      ]
    },
    {
      "cell_type": "code",
      "execution_count": null,
      "metadata": {
        "colab": {
          "base_uri": "https://localhost:8080/",
          "height": 472
        },
        "id": "Z-c0II4RUkCR",
        "outputId": "f87162b8-d3a2-4289-ec5e-11d98883e10b"
      },
      "outputs": [],
      "source": [
        "# Comprobamos visualmente\n",
        "sns.boxplot(x=df_capped['Monto del crédito'])\n",
        "plt.title('Monto del Crédito después del Capping')\n",
        "plt.show()"
      ]
    },
    {
      "cell_type": "markdown",
      "metadata": {
        "id": "oegy0CXB8Vt2"
      },
      "source": [
        "### Tratamiento de Outliers: logaritmo natural"
      ]
    },
    {
      "cell_type": "code",
      "execution_count": null,
      "metadata": {
        "colab": {
          "base_uri": "https://localhost:8080/",
          "height": 206
        },
        "id": "g8MAx52b9sst",
        "outputId": "d81866c9-ea90-425c-87c6-1737e39ba793"
      },
      "outputs": [],
      "source": [
        "# Previamente ya habíamos calculado el logaritmo natural del monto del crédito\n",
        "#df_mapeado['Log Monto del crédito'] = np.log(df_mapeado['Monto del crédito'])\n",
        "df_mapeado[['Monto del crédito', 'Log Monto del crédito']].head()"
      ]
    },
    {
      "cell_type": "code",
      "execution_count": null,
      "metadata": {
        "colab": {
          "base_uri": "https://localhost:8080/",
          "height": 473
        },
        "id": "a52KSuYX97Yo",
        "outputId": "a7fa6e5c-e24b-4a58-f0fd-4dc5a9a2ce1f"
      },
      "outputs": [],
      "source": [
        "sns.boxplot(x=df_mapeado['Log Monto del crédito'])\n",
        "plt.title('Logaritmo natural Monto del crédito')\n",
        "plt.show()"
      ]
    },
    {
      "cell_type": "markdown",
      "metadata": {
        "id": "2Wtzdqt7UkCR"
      },
      "source": [
        "## Escalado y Normalización de Variables\n",
        "\n",
        "Muchos algoritmos son sensibles a la escala. Si la edad va de 18 a 75 y el monto del crédito de 2.500 a 180.000, el modelo podría darle más importancia al monto solo por su magnitud numérica. Por eso, debemos poner las variables en una escala comparable. Es como comparar el PIB per cápita (en miles de USD) con la tasa de desempleo (en %), sus escalas son muy diferentes.\n",
        "\n",
        "El escalado y la normalización son técnicas de preprocesamiento de datos que ajustan la escala de las variables numéricas para que todas estén en un rango específico.\n",
        "\n",
        "- Se aplica cuando hay más de una variable predictora, para evitar efectos de escala entre variables que pueden tener rangos de valores muy distintos.\n",
        "- No siempre es necesario, pero no perjudica aplicarlo.\n",
        "- Sí es necesario para todos los algoritmos basados en distancia, como KNN y K_means, y sensibles a la escala como redes neuronales y máquinas de soporte vectorial."
      ]
    },
    {
      "cell_type": "markdown",
      "metadata": {
        "id": "0KsfBwVeUkCR"
      },
      "source": [
        "### Estandarización (StandardScaler)\n",
        "\n",
        "Transforma los datos para que tengan una media de 0 y una desviación estándar de 1.\n",
        "\n",
        "Es la técnica más común y robusta.\n",
        "\n",
        "Permite ver cuántas desviaciones estándar se aleja cada individuo de la media en cada indicador."
      ]
    },
    {
      "cell_type": "code",
      "execution_count": null,
      "metadata": {
        "colab": {
          "base_uri": "https://localhost:8080/",
          "height": 371
        },
        "id": "hyMIMS2aUkCR",
        "outputId": "ec2f825b-021d-404b-8db9-3e9d746afb96"
      },
      "outputs": [],
      "source": [
        "from sklearn.preprocessing import StandardScaler\n",
        "\n",
        "scaler = StandardScaler()\n",
        "\n",
        "# Seleccionamos las columnas numéricas que queremos escalar\n",
        "cols_to_scale = ['Duración en meses', 'Monto del crédito', 'Edad', 'Proxy pago mensual']\n",
        "\n",
        "# Creamos los nombres para las nuevas columnas escaladas\n",
        "scaled_cols = [col + '_scaled' for col in cols_to_scale]\n",
        "\n",
        "# Ajustamos y transformamos\n",
        "df_capped[scaled_cols] = scaler.fit_transform(df_capped[cols_to_scale])\n",
        "\n",
        "print(\"Media y Desv. Est. de las variables escaladas:\")\n",
        "print(df_capped[scaled_cols].describe().loc[['mean', 'std']])\n",
        "\n",
        "df_capped[cols_to_scale + scaled_cols].head()"
      ]
    },
    {
      "cell_type": "markdown",
      "metadata": {
        "id": "jlguWUD49YZT"
      },
      "source": [
        "### Normalización (MinMaxScaler)\n",
        "\n",
        "Ajusta la escala de las variables numéricas para que todas estén en un rango entre 0 y 1.\n",
        "\n",
        "En otras palabras, toma cada columna numérica, encuentra el valor mínimo y máximo, y reescala todos los valores de esa columna de la siguiente manera:\n",
        "\n",
        "- El valor mínimo original se convierte en 0.\n",
        "- El valor máximo original se convierte en 1.\n",
        "- Todos los demás valores se transforman a un decimal proporcional dentro de ese rango."
      ]
    },
    {
      "cell_type": "code",
      "execution_count": null,
      "metadata": {
        "colab": {
          "base_uri": "https://localhost:8080/",
          "height": 371
        },
        "id": "wYUJ85Ji9Utt",
        "outputId": "ef7dd870-4955-4fc5-8ccd-889198fe7cbb"
      },
      "outputs": [],
      "source": [
        "from sklearn.preprocessing import MinMaxScaler\n",
        "\n",
        "min_max_scaler = MinMaxScaler()\n",
        "\n",
        "# Seleccionamos las columnas numéricas que queremos escalar\n",
        "cols_to_norm = ['Duración en meses', 'Monto del crédito', 'Edad', 'Proxy pago mensual']\n",
        "\n",
        "# Creamos los nombres para las nuevas columnas escaladas\n",
        "norm_cols = [col + '_norm' for col in cols_to_norm]\n",
        "\n",
        "# Ajustamos y transformamos\n",
        "df_capped[norm_cols] = min_max_scaler.fit_transform(df_capped[cols_to_norm])\n",
        "\n",
        "print(\"Mínimo y máximo de las variables normalizadas:\")\n",
        "print(df_capped[norm_cols].describe().loc[['min', 'max']])\n",
        "\n",
        "df_capped[cols_to_norm + norm_cols].head()\n",
        "#df_escalado = pd.DataFrame(data=df_escalado, columns=df.columns)"
      ]
    },
    {
      "cell_type": "code",
      "execution_count": null,
      "metadata": {
        "colab": {
          "base_uri": "https://localhost:8080/"
        },
        "id": "zeL1hbAMN3IK",
        "outputId": "d8fa39df-d5e7-4baf-bbb3-e65ec66c7dd2"
      },
      "outputs": [],
      "source": [
        "df_capped.info()"
      ]
    }
  ],
  "metadata": {
    "colab": {
      "provenance": [],
      "toc_visible": true
    },
    "kernelspec": {
      "display_name": "Python 3",
      "language": "python",
      "name": "python3"
    },
    "language_info": {
      "codemirror_mode": {
        "name": "ipython",
        "version": 3
      },
      "file_extension": ".py",
      "mimetype": "text/x-python",
      "name": "python",
      "nbconvert_exporter": "python",
      "pygments_lexer": "ipython3",
      "version": "3.8.8"
    }
  },
  "nbformat": 4,
  "nbformat_minor": 0
}
