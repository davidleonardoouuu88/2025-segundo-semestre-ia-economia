{
  "cells": [
    {
      "cell_type": "markdown",
      "metadata": {
        "id": "DHNQuIqAmvl5"
      },
      "source": [
        "<a href=\"https://colab.research.google.com/github/LinaMariaCastro/curso-ia-para-economia/blob/main/clases/3_Analisis_y_visualizacion_datos/8_Mineria_de_texto.ipynb\" target=\"_parent\"><img src=\"https://colab.research.google.com/assets/colab-badge.svg\" alt=\"Open In Colab\"/></a>"
      ]
    },
    {
      "cell_type": "markdown",
      "metadata": {
        "id": "5iiwfbXCQv5D"
      },
      "source": [
        "# **Inteligencia Artificial con Aplicaciones en Economía I**\n",
        "\n",
        "- 👩‍🏫 **Profesora:** [Lina María Castro](https://www.linkedin.com/in/lina-maria-castro)  \n",
        "- 📧 **Email:** [lmcastroco@gmail.com](mailto:lmcastroco@gmail.com)  \n",
        "- 🎓 **Universidad:** Universidad Externado de Colombia - Facultad de Economía"
      ]
    },
    {
      "cell_type": "markdown",
      "metadata": {
        "id": "nfsUhkvVAwb_"
      },
      "source": [
        "# 📄 **Minería de texto y análisis de sentimientos**"
      ]
    },
    {
      "cell_type": "markdown",
      "metadata": {
        "id": "rYgWrWp5_dDB"
      },
      "source": [
        "**Objetivos de Aprendizaje**\n",
        "\n",
        "Al finalizar este notebook, serás capaz de:\n",
        "\n",
        "1.  **Comprender la importancia del texto como fuente de datos**.\n",
        "2.  **Realizar el preprocesamiento de un documento de texto**: limpieza, normalización, tokenización y eliminación de palabras muy comunes que no aportan mucho significado (*stop words*).\n",
        "3.  **Aplicar técnicas de análisis de frecuencia** para identificar los términos más relevantes en un texto.\n",
        "4.  **Visualizar los resultados** de un análisis de texto mediante nubes de palabras para una interpretación rápida e intuitiva.\n",
        "5.  **Realizar análisis de sentimientos** sobre comentarios de empresas en internet."
      ]
    },
    {
      "cell_type": "markdown",
      "metadata": {
        "id": "X84yTi9e_dDM"
      },
      "source": [
        "## Importar librerías\n",
        "\n",
        "Necesitaremos algunas librerías clave para el Procesamiento de Lenguaje Natural (NLP) como `nltk` y `wordcloud`."
      ]
    },
    {
      "cell_type": "code",
      "execution_count": null,
      "metadata": {
        "id": "DNewpZX__dDN"
      },
      "outputs": [],
      "source": [
        "# Instalamos las librerías necesarias, si no las hemos instalado previamente\n",
        "# %pip install nltk wordcloud scikit-learn"
      ]
    },
    {
      "cell_type": "code",
      "execution_count": null,
      "metadata": {
        "id": "nMPlxfM6CbaY"
      },
      "outputs": [],
      "source": [
        "import os\n",
        "import nltk\n",
        "import re\n",
        "import pandas as pd\n",
        "from nltk.corpus import stopwords\n",
        "from nltk.tokenize import word_tokenize\n",
        "from wordcloud import WordCloud\n",
        "import matplotlib.pyplot as plt\n",
        "import seaborn as sns\n",
        "import warnings\n",
        "warnings.filterwarnings('ignore')"
      ]
    },
    {
      "cell_type": "code",
      "execution_count": null,
      "metadata": {
        "colab": {
          "base_uri": "https://localhost:8080/"
        },
        "id": "pM_mrk0fDe8k",
        "outputId": "32d9c27a-dcd2-4aaa-bcb7-93147abb7c03"
      },
      "outputs": [],
      "source": [
        "# Descargamos componentes necesarios de NLTK (solo se ejecuta la primera vez)\n",
        "nltk.download('punkt_tab')\n",
        "nltk.download('stopwords')"
      ]
    },
    {
      "cell_type": "markdown",
      "metadata": {
        "id": "jHE2ZLJuEPIe"
      },
      "source": [
        "## Mejorar visualización de los dataframes"
      ]
    },
    {
      "cell_type": "code",
      "execution_count": null,
      "metadata": {
        "id": "72TA8V1fETCm"
      },
      "outputs": [],
      "source": [
        "# Que muestre todas las columnas\n",
        "pd.options.display.max_columns = None\n",
        "# En los dataframes, mostrar los float con dos decimales\n",
        "pd.options.display.float_format = '{:,.2f}'.format"
      ]
    },
    {
      "cell_type": "markdown",
      "metadata": {
        "id": "El4-DpOz_dDO"
      },
      "source": [
        "## El Corpus: Un Comunicado del Banco de la República\n",
        "\n",
        "Usaremos como *corpus* (nuestro conjunto de documentos de texto) un comunicado de prensa real del Banco de la República de Colombia publicado el 5 de agosto: \"Minutas BanRep: La Junta Directiva del Banco de la República decidió por mayoría mantener inalterada la tasa de interés de política monetaria en 9,25%\".\n",
        "\n",
        "Este tipo de documento es ideal porque su lenguaje tiene un impacto directo en las expectativas de los agentes económicos y en los mercados financieros.\n",
        "\n",
        "Link del comunicado: https://www.banrep.gov.co/es/noticias/minutas-banrep-julio-2025"
      ]
    },
    {
      "cell_type": "code",
      "execution_count": null,
      "metadata": {
        "id": "ToZ6GSb-2Rff"
      },
      "outputs": [],
      "source": [
        "texto_banco_republica = \"\"\"\n",
        "Entre mayo y junio la inflación anual se redujo de 5,1% a 4,8%. Esta disminución fue impulsada por la moderación de la inflación de las canastas de alimentos y de regulados.  En el caso de alimentos su inflación cayó de 4,7% a 4,3%, debido principalmente a la reducción de la inflación de perecederos. En cuanto a los regulados, su inflación se redujo de 6,3% a 5,5%, jalonada por la menor inflación de servicios públicos, especialmente de energía eléctrica. La inflación básica (sin alimentos ni regulados) se estabilizó en 4,8%, interrumpiendo su tendencia descendente, como resultado de algunas alzas en bienes y servicios diversos. Las expectativas de inflación se mantuvieron por encima de la meta. En el caso de los analistas, según las encuestas de julio, éstas se sitúan en 4,7% y 3,8% en la mediana para finales de 2025 y 2026 respectivamente. Las expectativas obtenidas de los mercados de deuda pública muestran comportamientos mixtos.\n",
        "La actividad económica continúa con el dinamismo observado en el primer trimestre cuando alcanzó un crecimiento de 2,7% anual. En efecto, el índice de seguimiento de la economía (ISE) presentó en mayo una variación anual del 2,7% liderado por las actividades terciarias. Otros indicadores como las ventas al por menor, la producción manufacturera, y la demanda de energía, también mostraron resultados positivos. Sobre esta base, el equipo técnico estima que en el segundo trimestre la actividad económica crecería a un ritmo anual de 2,7%, jalonado por una demanda interna que se expandiría 4,1%.\n",
        "Las condiciones de financiamiento externo del país se mantienen restrictivas, en un entorno de elevada incertidumbre mundial por los conflictos en varias regiones del mundo; tensiones comerciales globales que no obstante se han moderado; y la lenta normalización esperada de la política monetaria en los Estados Unidos. Respecto a estas dos últimas, las recientes negociaciones comerciales entre los Estados Unidos y otras economías como China, Reino Unido y la Unión Europea han acordado aranceles más bajos que los inicialmente anunciados. De otra parte, en los Estados Unidos la Reserva Federal (Fed) mantuvo inalterada la tasa de interés de política monetaria entre el 4,25 % y 4,5 % en su sesión de julio.\n",
        "Los directores de la Junta coincidieron en destacar el buen desempeño que la economía colombiana ha venido mostrando en lo corrido del año, caracterizado por una actividad económica dinámica y una reducción de la tasa de desempleo, en un contexto en el que el crédito comienza a mostrar tasas de crecimiento reales positivas. Resaltaron el fortalecimiento de la demanda interna impulsada principalmente por el consumo privado. Reconocieron que el ritmo de descenso de la inflación en la primera mitad de 2025 ha sido más lento que el esperado, en un entorno de choques de origen externo que han tornado las condiciones financieras internacionales especialmente restrictivas. Señalaron que el persistente desajuste fiscal crea retos importantes para el país. En estas condiciones, cuatro miembros de la Junta se inclinaron por mantener inalterada la tasa de interés de política en 9,25%, dos de ellos votaron por una reducción de 50 pbs, y uno por un recorte de 25 pbs.\n",
        "\n",
        "Los miembros del grupo mayoritario señalaron que la reducción de la inflación anual observada en junio y las perspectivas sobre su trayectoria en los próximos meses, no crean las condiciones propicias para proceder con un recorte de la tasa de interés de política. Advierten que se trató de un resultado de origen puntual que no asegura la convergencia de la inflación hacia la meta del 3% en un horizonte prudente. Al respecto, anotaron que la inflación básica (sin alimentos ni regulados) se mantuvo inalterada en junio, y que las expectativas de inflación para fines de 2025 y 2026 medidas en julio no se redujeron con respecto a las que existían en mayo. El equipo técnico proyecta una inflación total y básica de 4,7% y 4,2% para 2025 y de 3,2% y 3,3% para 2026 respectivamente. No obstante, estos directores resaltaron que se vislumbran riesgos inflacionarios a corto plazo de llegarse a presentar faltantes de financiamiento del déficit fiscal o de la cuenta corriente de la balanza de pagos que presionen al alza la tasa de cambio. Añadieron que un incremento sustancial del salario mínimo para 2026 en línea con lo ocurrido en años anteriores constituiría nuevamente un obstáculo para acercarse a la meta de inflación. Con respecto al panorama fiscal, subrayaron que el mayor déficit del Gobierno Central previsto para 2025 y para 2026 genera un impulso macroeconómico que se reflejaría en mayores presiones inflacionarias y en un incremento adicional a la ya alta prima de riesgo país. Señalaron que el favorable desempeño macroeconómico en materia de crecimiento y empleo de la primera mitad del año reduce los dilemas de política monetaria, lo cual permite que ésta se enfoque en el objetivo de buscar la convergencia de la inflación a la meta, mediante decisiones cautelosas sobre la tasa de interés, sin grandes sacrificios económicos a corto plazo y con la perspectiva de lograr la estabilidad de precios. Insistieron en que la inflación constituye un impuesto altamente regresivo que afecta desproporcionadamente a los hogares en condición de pobreza y en que los países que han consolidado la estabilidad de precios tienden a registrar mayores tasas de crecimiento, en buena medida porque logran mantener tasas de interés reales más bajas en el tiempo.\n",
        "\n",
        "Los directores que votaron por una reducción de 50 pbs sostienen que la tasa de interés real de política monetaria descontando la inflación observada (tasa ex-post), del último año y medio (de enero del 2024 a junio del 2025) es 9,2 veces superior al promedio entre enero del 2010 y diciembre del 2023. La primera fue de 4,15% y la segunda 0,45%. Agregan que actualmente ésta se ubica en 4,4%, la segunda más alta de la región después de Brasil. Basados en esta evidencia, señalan que la postura de política monetaria en Colombia es altamente restrictiva. En segundo término, consideran que los cálculos de variables inobservables, tales como la tasa de interés neutral; la brecha del PIB; y la brecha de desempleo, que el equipo técnico utiliza para respaldar sus recomendaciones a la Junta, son discutibles por estar basadas en resultados de modelos, que no pueden verificarse empíricamente.  Argumentan que la inflación anual se ubicó en 4,82% en junio, reduciéndose frente al registro de mayo (5,05%) y sorprendiendo a la baja a los analistas del mercado. Aunque aún se encuentra por encima del rango meta, la trayectoria descendente refuerza el espacio para continuar con la reducción de tasas. El equipo técnico de la Dirección General de Política Macroeconómica del Ministerio de Hacienda (DGPM) proyecta en su última actualización de supuestos macroeconómicos que la inflación se sitúe en 4,5% al cierre de 2025. Las expectativas de inflación para cierre de 2025 se ubican en 4,79% en julio, disminuyendo 2pbs frente a lo esperado el mes pasado (4,81%). Además, las expectativas a 12 y 24 meses se mantienen ancladas en el rango meta del Banco de la República, ubicándose en 3,79% y 3,49% respectivamente, lo que sugiere espacio para mantener la senda de recortes de la tasa de interés. La tasa de interés real se ubicaría en 4,6% en julio, 2,0pps por encima del nivel neutral estimado por el Banco de la República (2,6%). Dado que se espera que la inflación mantenga su senda decreciente durante el resto del año y que la brecha del producto se ubique en terreno negativo, se considera apropiado continuar implementando reducciones en la tasa de interés en las próximas reuniones de la JDBR. Insisten en que tasas de interés reales altas como las que actualmente se observan en Colombia afectan las posibilidades de crecimiento económico, y en particular el dinamismo del sector manufacturero, que requiere incentivos mayores, se considera que continuar con la trayectoria de reducciones en la tasa de interés favorecería el impulso del sector industrial sobre el crecimiento económico. Agregaron que una reducción de tasas de interés también ofrecería un estímulo importante para el microcrédito y la economía popular.  De igual forma sustentan que los incrementos en el salario mínimo real en los últimos tres años no han tenido los efectos inflacionarios insinuados y, por otro lado, han contribuido a la reducción de los indicadores de pobreza, como se evidencia en la tasa de desempleo decreciente y reducción de la pobreza monetaria. Para atender los desequilibrios fiscales es prioritario garantizar el mayor crecimiento de la economía y una ley de financiamiento que permita la sostenibilidad fiscal en el mediano plazo.\n",
        "\n",
        "El director que votó por un recorte de 25 pbs considera que cumplir el mandato constitucional de controlar la inflación se realiza en el contexto de cumplir con el objetivo principal de la política económica que es mantener un crecimiento sostenido y aumentar el empleo, especialmente en un país muy desigual como Colombia. Concuerda en que si bien, la coyuntura fiscal es compleja, se distancia de las expectativas excesivamente negativas sobre un posible deterioro fiscal, y valora la transparencia del Gobierno en este campo. Subraya que, a pesar de la activación de la cláusula de escape de la regla fiscal y de la reducción de la calificación crediticia, la prima de riesgo ha venido disminuyendo en las últimas semanas, corrigiendo desviaciones previas, como lo muestra el reciente descenso del CDS. Adicionalmente, observa que la tasa de cambio ha permanecido en sendas por debajo de los 4.200 pesos, y converge a las variaciones de otros países de la región, dando con ello señales de estabilidad. Finalmente advierte que, si bien las variables macroeconómicas continúan en una senda positiva, la inversión privada disminuye en algunos sectores tradicionales, razón por la cual es importante dar señales que permitan dar confianza a la inversión, para lo cual la tasa de interés de política cumple una función esencial.\n",
        "\"\"\""
      ]
    },
    {
      "cell_type": "markdown",
      "metadata": {
        "id": "LcF3VaXE_dDP"
      },
      "source": [
        "## Preprocesamiento del Texto: La Limpieza de Datos\n",
        "\n",
        "Este es el paso más importante. Un texto 'sucio' puede llevar a conclusiones erróneas. Seguiremos una rutina estándar:"
      ]
    },
    {
      "cell_type": "markdown",
      "metadata": {
        "id": "yppEXwDpBaU7"
      },
      "source": [
        "### 1. Normalización\n",
        "\n",
        "Convertir todo a minúsculas para que 'Inflación' e 'inflación' se traten como la misma palabra."
      ]
    },
    {
      "cell_type": "code",
      "execution_count": null,
      "metadata": {
        "colab": {
          "base_uri": "https://localhost:8080/",
          "height": 165
        },
        "id": "kS22w1rjIDP3",
        "outputId": "b4ed0ab6-ecbb-49c7-e98a-2e2c24a084b9"
      },
      "outputs": [],
      "source": [
        "texto_limpio = texto_banco_republica.lower()\n",
        "texto_limpio"
      ]
    },
    {
      "cell_type": "markdown",
      "metadata": {
        "id": "45AEx_LfBgJE"
      },
      "source": [
        "### 2. Limpieza de caracteres no alfabéticos\n",
        "\n",
        "Usamos expresiones regulares para quitar puntuación y números."
      ]
    },
    {
      "cell_type": "markdown",
      "metadata": {
        "id": "CIcHhZEGKXg9"
      },
      "source": [
        "re.sub(patrón, reemplazo, texto) → busca todas las coincidencias de un patrón regex en el texto y las reemplaza por el valor que le indiques.\n",
        "\n",
        "En este caso:\n",
        "\n",
        "- patrón = r'[^a-záéíóúñ\\s]'\n",
        "\n",
        "- reemplazo = '' (una cadena vacía → borra lo encontrado)\n",
        "\n",
        "- texto = texto_limpio\n",
        "\n",
        "Explicación del patrón r'[^a-záéíóúñ\\s]':\n",
        "\n",
        "- [] → define un conjunto de caracteres permitidos.\n",
        "\n",
        "- ^ (dentro de []) → significa “no” (niega lo que sigue).\n",
        "\n",
        "- a-z → letras minúsculas de la a a la z.\n",
        "\n",
        "- áéíóúñ → se añaden explícitamente vocales con tilde y la ñ, comunes en español.\n",
        "\n",
        "- \\s → representa espacios en blanco (incluye espacio, tabulador, salto de línea)."
      ]
    },
    {
      "cell_type": "code",
      "execution_count": null,
      "metadata": {
        "colab": {
          "base_uri": "https://localhost:8080/",
          "height": 165
        },
        "id": "KH_h5KntIKSI",
        "outputId": "69f85560-f085-4cea-8803-166b0c9e850a"
      },
      "outputs": [],
      "source": [
        "texto_limpio = re.sub(r'[^a-záéíóúñ\\s]', '', texto_limpio)\n",
        "texto_limpio"
      ]
    },
    {
      "cell_type": "markdown",
      "metadata": {
        "id": "vvwIbKCUBkxs"
      },
      "source": [
        "### 3. Tokenización\n",
        "\n",
        "Dividir el texto en una lista de palabras individuales (tokens)."
      ]
    },
    {
      "cell_type": "code",
      "execution_count": null,
      "metadata": {
        "colab": {
          "base_uri": "https://localhost:8080/"
        },
        "id": "kC3CQPDZBrsr",
        "outputId": "d65de4e5-88ea-4758-af16-f00b4263a595"
      },
      "outputs": [],
      "source": [
        "tokens = word_tokenize(texto_limpio, 'spanish')\n",
        "tokens"
      ]
    },
    {
      "cell_type": "markdown",
      "metadata": {
        "id": "elEdN3stBx9L"
      },
      "source": [
        "### 4. Eliminación de Stop Words"
      ]
    },
    {
      "cell_type": "markdown",
      "metadata": {
        "id": "z1hipT6NBUz0"
      },
      "source": [
        "En procesamiento de lenguaje natural (PLN), las stop words son palabras muy comunes en un idioma que, por lo general, no aportan mucho significado y se eliminan antes de hacer un análisis de texto.\n",
        "\n",
        "- Ejemplos en español:\n",
        "\n",
        "  - artículos: el, la, los, las, un, una\n",
        "\n",
        "  - preposiciones: en, de, con, para, por, sobre\n",
        "\n",
        "  - pronombres y conectores: que, se, lo, y, o, pero, como\n",
        "\n",
        "- ¿Por qué quitarlas?\n",
        "\n",
        "Si estás construyendo una nube de palabras o entrenando un modelo de machine learning, esas palabras aparecen con muchísima frecuencia y pueden ocultar las palabras realmente relevantes (ej. comida, servicio, lento, delicioso).\n",
        "\n",
        "- Ejemplo:\n",
        "\n",
        "  - Frase original: \"El servicio fue excelente y la comida deliciosa\"\n",
        "\n",
        "  - Después de eliminar stop words: \"servicio excelente comida deliciosa\"\n",
        "\n",
        "Así se destacan las palabras que llevan la información importante."
      ]
    },
    {
      "cell_type": "code",
      "execution_count": null,
      "metadata": {
        "colab": {
          "base_uri": "https://localhost:8080/"
        },
        "id": "h1EMi1J_Mg-e",
        "outputId": "eee51dcd-90cd-411c-e02e-cc991a759c92"
      },
      "outputs": [],
      "source": [
        "stop_words_es = set(stopwords.words('spanish'))\n",
        "stop_words_es"
      ]
    },
    {
      "cell_type": "code",
      "execution_count": null,
      "metadata": {
        "colab": {
          "base_uri": "https://localhost:8080/"
        },
        "id": "VLCD-cWqMc7F",
        "outputId": "e6580de8-a3d3-4fbe-93a8-07923fe8c957"
      },
      "outputs": [],
      "source": [
        "tokens_filtrados = [palabra for palabra in tokens if palabra not in stop_words_es]\n",
        "tokens_filtrados"
      ]
    },
    {
      "cell_type": "code",
      "execution_count": null,
      "metadata": {
        "colab": {
          "base_uri": "https://localhost:8080/"
        },
        "id": "Nk21hxCFMquk",
        "outputId": "e3ff82ec-76cb-4730-ad0f-fe1e2a507d2c"
      },
      "outputs": [],
      "source": [
        "print(\"--- Antes del preprocesamiento ---\")\n",
        "print(texto_banco_republica[:175] + \"...\")\n",
        "print(\"\\n--- Después del preprocesamiento (primeros 20 tokens) ---\")\n",
        "print(tokens_filtrados[:12])"
      ]
    },
    {
      "cell_type": "markdown",
      "metadata": {
        "id": "h496bgxP_dDR"
      },
      "source": [
        "## Análisis de Frecuencia\n",
        "\n",
        "Una vez que tenemos los tokens limpios, el análisis más directo es contar cuáles son los más frecuentes. Esto nos da una idea clara de los temas centrales del documento."
      ]
    },
    {
      "cell_type": "code",
      "execution_count": null,
      "metadata": {
        "colab": {
          "base_uri": "https://localhost:8080/",
          "height": 220
        },
        "id": "LFT57z8JM0Vv",
        "outputId": "3e7687e3-7f42-46ba-c3e9-6b0f0990a3ed"
      },
      "outputs": [],
      "source": [
        "# Usamos FreqDist de NLTK para contar la frecuencia de cada token\n",
        "freq = nltk.FreqDist(tokens_filtrados)\n",
        "\n",
        "print(\"Las 10 palabras más frecuentes:\")\n",
        "display(freq.most_common(10))"
      ]
    },
    {
      "cell_type": "markdown",
      "metadata": {
        "id": "tHfWrLYT4Bga"
      },
      "source": [
        "Ahora, visualicemos esto con una nube de palabras."
      ]
    },
    {
      "cell_type": "markdown",
      "metadata": {
        "id": "epVjHSlT3sjZ"
      },
      "source": [
        "## Nube de palabras (Word Cloud)\n",
        "\n",
        "Es una **herramienta de visualización de texto** que representa las palabras más frecuentes en un conjunto de datos textuales, donde el tamaño de cada palabra refleja su frecuencia o relevancia. Es muy útil como primer paso exploratorio y como recurso visual y comunicativo\n",
        "\n",
        "Sirve para:\n",
        "\n",
        "- Exploración rápida de texto: Permite tener una visión general de los temas más recurrentes en un documento, corpus de textos, redes sociales, encuestas abiertas, reseñas, etc.\n",
        "\n",
        "- Identificación de patrones y temas clave: Destaca las palabras que más aparecen, ayudando a detectar tendencias, intereses o preocupaciones en un grupo de personas.\n",
        "\n",
        "- Comunicación visual: Resume información textual de manera atractiva y comprensible para públicos no técnicos, útil en presentaciones o reportes.\n",
        "\n",
        "- Detección preliminar de sesgos o errores: Si aparecen muchas palabras irrelevantes (ej. “el”, “la”, “que”), puede evidenciar la necesidad de limpieza de datos (stopwords, lematización)."
      ]
    },
    {
      "cell_type": "code",
      "execution_count": null,
      "metadata": {
        "colab": {
          "base_uri": "https://localhost:8080/",
          "height": 165
        },
        "id": "TT91H6VsNC3T",
        "outputId": "99e3786e-db5f-411f-840f-0a7190576333"
      },
      "outputs": [],
      "source": [
        "texto_para_nube = \" \".join(tokens_filtrados)\n",
        "texto_para_nube"
      ]
    },
    {
      "cell_type": "code",
      "execution_count": null,
      "metadata": {
        "colab": {
          "base_uri": "https://localhost:8080/",
          "height": 524
        },
        "id": "MVHCdMGXNJmy",
        "outputId": "b0f5da68-d0bb-4fa6-eaba-1ee61acefc7c"
      },
      "outputs": [],
      "source": [
        "wordcloud = WordCloud(width=800, height=400, background_color='white', colormap='viridis').generate(texto_para_nube)\n",
        "\n",
        "plt.figure(figsize=(12, 6))\n",
        "plt.imshow(wordcloud, interpolation='bilinear')\n",
        "plt.axis(\"off\")\n",
        "plt.title('Términos Clave en el Comunicado del Banco de la República', fontsize=16)\n",
        "plt.show()"
      ]
    },
    {
      "cell_type": "markdown",
      "metadata": {
        "id": "ztVrGymvNOEM"
      },
      "source": [
        "**Interpretación Económica:** La nube de palabras resalta instantáneamente los conceptos centrales, donde 'inflación', 'tasa', 'interés', 'crecimiento', 'reducción', son visiblemente los más importantes. Esto confirma, sin necesidad de leer el documento completo, que el comunicado trata sobre el trade-off entre controlar la inflación mediante la tasa de interés y su posible efecto en el crecimiento económico. Es una herramienta poderosa para el análisis rápido de sentimiento y enfoque de política."
      ]
    },
    {
      "cell_type": "markdown",
      "metadata": {
        "id": "7T89CTbX_dDY"
      },
      "source": [
        "## Ejercicio\n",
        "\n",
        "Ahora vamos a modificar la lista de `stop_words` para incluir otras palabras que no agreguen mucho significado, y volvemos a generar la nube de palabras. ¿Qué términos ganan importancia una vez que eliminamos las otras palabras que hacían ruido?"
      ]
    },
    {
      "cell_type": "code",
      "execution_count": null,
      "metadata": {
        "id": "zgdtVDmTOZyu"
      },
      "outputs": [],
      "source": [
        "# 1. Creamos una nueva lista de stop words extendida\n",
        "stop_words_personalizada = set(stopwords.words('spanish'))\n",
        "stop_words_personalizada.update(['junta', 'directiva', 'sesión', 'hoy', 'decidió', 'equipo', 'técnico', 'pbs',\n",
        "                                 'respectivamente', 'resultado', 'considera', 'unido', 'anual', 'año',\n",
        "                                 'especialmente', 'directores', 'tasa', 'ésta'])"
      ]
    },
    {
      "cell_type": "code",
      "execution_count": null,
      "metadata": {
        "id": "zKVHfZh5OdW2"
      },
      "outputs": [],
      "source": [
        "# 2. Re-filtramos los tokens originales\n",
        "tokens_originales = word_tokenize(re.sub(r'[^a-záéíóúñ\\s]', '', texto_banco_republica.lower()), 'spanish')\n",
        "tokens_filtrados_v2 = [palabra for palabra in tokens_originales if palabra not in stop_words_personalizada]"
      ]
    },
    {
      "cell_type": "code",
      "execution_count": null,
      "metadata": {
        "colab": {
          "base_uri": "https://localhost:8080/",
          "height": 521
        },
        "id": "UAN7IV-XOhJK",
        "outputId": "3e4dcfb6-a4b6-4f7d-a384-1cf1b904400a"
      },
      "outputs": [],
      "source": [
        "# 3. Generamos la nueva nube de palabras\n",
        "texto_para_nube_v2 = \" \".join(tokens_filtrados_v2)\n",
        "wordcloud_v2 = WordCloud(width=800, height=400, background_color='black', colormap='plasma').generate(texto_para_nube_v2)\n",
        "\n",
        "plt.figure(figsize=(12, 6))\n",
        "plt.imshow(wordcloud_v2, interpolation='bilinear')\n",
        "plt.axis(\"off\")\n",
        "plt.title('Términos Clave en el Comunicado del Banco de la República')\n",
        "plt.show()"
      ]
    },
    {
      "cell_type": "markdown",
      "metadata": {
        "id": "QopU5rPEOl_-"
      },
      "source": [
        "Al eliminar los términos institucionales, palabras como 'inflación', 'interés', 'crecimiento' y 'reducción' se vuelven más visibles. Esto nos ayuda a enfocarnos aún más en los conceptos claves del comunicado."
      ]
    },
    {
      "cell_type": "markdown",
      "metadata": {
        "id": "ple6JIDj7_eR"
      },
      "source": [
        "## Análisis de sentimientos"
      ]
    },
    {
      "cell_type": "markdown",
      "metadata": {
        "id": "Yn8wHLQr8Bx8"
      },
      "source": [
        "Vamos a trabajar con un conjunto de datos de reseñas en español.\n",
        "\n",
        "Link: https://github.com/AlessandroGianfelici/spanish_reviews_dataset\n",
        "\n",
        "Este conjunto de datos se ha recopilado de internet mediante técnicas de web scraping.\n",
        "\n",
        "Para cada observación, el conjunto de datos contiene el nombre de la empresa (codificado por razones de privacidad), el título de la reseña, el texto de la reseña y el número de estrellas (de 1 a 5).\n",
        "\n",
        "El dataset se encuentra en el repositorio del curso, carpeta 'datasets', archivo 'reviews_data.txt'"
      ]
    },
    {
      "cell_type": "markdown",
      "metadata": {
        "id": "zDVWavcQ9zAW"
      },
      "source": [
        "### Cargar el dataset"
      ]
    },
    {
      "cell_type": "code",
      "execution_count": null,
      "metadata": {
        "colab": {
          "base_uri": "https://localhost:8080/"
        },
        "id": "KYRaLbXlMc_c",
        "outputId": "1e8b2adb-0abc-4f07-d521-0966d24e61b3"
      },
      "outputs": [],
      "source": [
        "from google.colab import drive, files\n",
        "drive.mount('/content/drive')"
      ]
    },
    {
      "cell_type": "code",
      "execution_count": null,
      "metadata": {
        "id": "dQSa_neuGLji"
      },
      "outputs": [],
      "source": [
        "path = '/content/drive/MyDrive/2025_ii_curso_ia_economia/datasets'"
      ]
    },
    {
      "cell_type": "code",
      "execution_count": null,
      "metadata": {
        "id": "cka8EDXhQuee"
      },
      "outputs": [],
      "source": [
        "# Para establecer el directorio de los archivos\n",
        "os.chdir(path)"
      ]
    },
    {
      "cell_type": "code",
      "execution_count": null,
      "metadata": {
        "colab": {
          "base_uri": "https://localhost:8080/",
          "height": 423
        },
        "id": "zEjW10KsumIj",
        "outputId": "2b45e360-1203-4d04-ee15-6f9543aa4a11"
      },
      "outputs": [],
      "source": [
        "df = pd.read_csv('reviews_data.txt')\n",
        "df"
      ]
    },
    {
      "cell_type": "code",
      "execution_count": null,
      "metadata": {
        "colab": {
          "base_uri": "https://localhost:8080/"
        },
        "id": "TXL2821OvOXZ",
        "outputId": "9925fe40-af4f-4662-dd7d-e26ac1d51798"
      },
      "outputs": [],
      "source": [
        "df.info()"
      ]
    },
    {
      "cell_type": "markdown",
      "metadata": {
        "id": "Y6jB7BT0_1NF"
      },
      "source": [
        "### Vamos a analizar las reseñas positivas de una sola compañía"
      ]
    },
    {
      "cell_type": "code",
      "execution_count": null,
      "metadata": {
        "colab": {
          "base_uri": "https://localhost:8080/",
          "height": 423
        },
        "id": "YwqiIDTgyT96",
        "outputId": "7b8ac43d-885c-4bbe-f521-a5f857f5d6f2"
      },
      "outputs": [],
      "source": [
        "# Vamos a seleccionar una sola compañía y vamos a analizarsus reseñas\n",
        "df_pos = df[(df['company_name']==-8121737614821815175) & (df['review_stars']>=4)]\n",
        "df_pos"
      ]
    },
    {
      "cell_type": "code",
      "execution_count": null,
      "metadata": {
        "colab": {
          "base_uri": "https://localhost:8080/",
          "height": 178
        },
        "id": "b9uerRqOyT96",
        "outputId": "81d260ca-53a6-448c-eb51-ff2bd36fa9e1"
      },
      "outputs": [],
      "source": [
        "df_pos['review_stars'].value_counts(normalize=True)"
      ]
    },
    {
      "cell_type": "code",
      "execution_count": null,
      "metadata": {
        "colab": {
          "base_uri": "https://localhost:8080/",
          "height": 165
        },
        "id": "tFxvYLc8yT97",
        "outputId": "5b436efe-f69f-4635-95d0-7af6f0bb2b0a"
      },
      "outputs": [],
      "source": [
        "# Concatenar todas las filas de la columna en un solo texto\n",
        "texto_pos = \" \".join(df_pos[\"review_text\"])\n",
        "texto_pos\n"
      ]
    },
    {
      "cell_type": "code",
      "execution_count": null,
      "metadata": {
        "id": "KhSQ3LUpyT97"
      },
      "outputs": [],
      "source": [
        "# 1. Normalización: Convertir todo a minúsculas para que 'Inflación' e 'inflación' se traten como la misma palabra.\n",
        "texto_limpio = texto_pos.lower()\n",
        "\n",
        "# 2. Limpieza de caracteres no alfabéticos: Usamos expresiones regulares para quitar puntuación y números.\n",
        "texto_limpio = re.sub(r'[^a-záéíóúñ\\s]', '', texto_limpio)\n",
        "\n",
        "# 3. Tokenización: Dividir el texto en una lista de palabras individuales (tokens).\n",
        "tokens = word_tokenize(texto_limpio, 'spanish')\n",
        "\n",
        "# 4. Eliminación de Stop Words: Quitar palabras comunes en español que no aportan significado económico.\n",
        "stop_words_es = set(stopwords.words('spanish'))\n",
        "\n",
        "tokens_filtrados = [palabra for palabra in tokens if palabra not in stop_words_es]"
      ]
    },
    {
      "cell_type": "code",
      "execution_count": null,
      "metadata": {
        "colab": {
          "base_uri": "https://localhost:8080/",
          "height": 220
        },
        "id": "2MO6Q0fmyT98",
        "outputId": "bf69328b-06fc-4814-84b5-01375ba14203"
      },
      "outputs": [],
      "source": [
        "# Usamos FreqDist de NLTK para contar la frecuencia de cada token\n",
        "freq = nltk.FreqDist(tokens_filtrados)\n",
        "\n",
        "print(\"Las 10 palabras más frecuentes:\")\n",
        "display(freq.most_common(10))"
      ]
    },
    {
      "cell_type": "code",
      "execution_count": null,
      "metadata": {
        "id": "ZBoAympU-lgY"
      },
      "outputs": [],
      "source": [
        "# 1. Creamos una nueva lista de stop words extendida\n",
        "stop_words_personalizada = set(stopwords.words('spanish'))\n",
        "stop_words_personalizada.update(['camping', 'bungalow', 'bungalows', 'allcamps'])\n",
        "\n",
        "# 2. Re-filtramos los tokens originales\n",
        "tokens_originales = word_tokenize(re.sub(r'[^a-záéíóúñ\\s]', '', texto_pos.lower()), 'spanish')\n",
        "tokens_filtrados_v2 = [palabra for palabra in tokens_originales if palabra not in stop_words_personalizada]"
      ]
    },
    {
      "cell_type": "code",
      "execution_count": null,
      "metadata": {
        "id": "XIny9nsMyT98"
      },
      "outputs": [],
      "source": [
        "# Ahora, visualicemos esto con una nube de palabras.\n",
        "# La nube de palabras es excelente para presentaciones, ya que resume el contenido de forma visual e impactante.\n",
        "texto_para_nube = \" \".join(tokens_filtrados_v2)"
      ]
    },
    {
      "cell_type": "code",
      "execution_count": null,
      "metadata": {
        "colab": {
          "base_uri": "https://localhost:8080/",
          "height": 523
        },
        "id": "Fo6TGcMSyT98",
        "outputId": "fbf3a323-621a-448a-fb18-059a82e0d6e8"
      },
      "outputs": [],
      "source": [
        "wordcloud = WordCloud(width=800, height=400, background_color='white', colormap='viridis').generate(texto_para_nube)\n",
        "\n",
        "plt.figure(figsize=(12, 6))\n",
        "plt.imshow(wordcloud, interpolation='bilinear')\n",
        "plt.axis(\"off\")\n",
        "plt.title('Reseñas positivas', fontsize=16)\n",
        "plt.show()"
      ]
    },
    {
      "cell_type": "markdown",
      "metadata": {
        "id": "Pds2jktT_76M"
      },
      "source": [
        "### Ahora, vamos a analizar las reseñas negativas"
      ]
    },
    {
      "cell_type": "code",
      "execution_count": null,
      "metadata": {
        "colab": {
          "base_uri": "https://localhost:8080/",
          "height": 676
        },
        "id": "xG8JeIo_u9v3",
        "outputId": "6d6512c5-ccaa-445a-c93a-ed92ac272f20"
      },
      "outputs": [],
      "source": [
        "df_neg = df[(df['company_name']==-8121737614821815175) & (df['review_stars']<=2)]\n",
        "df_neg"
      ]
    },
    {
      "cell_type": "code",
      "execution_count": null,
      "metadata": {
        "colab": {
          "base_uri": "https://localhost:8080/",
          "height": 178
        },
        "id": "Sgjht0SCvVS4",
        "outputId": "d191e523-9a43-4800-a38c-0f09fdfc29ef"
      },
      "outputs": [],
      "source": [
        "df_neg['review_stars'].value_counts(normalize=True)"
      ]
    },
    {
      "cell_type": "code",
      "execution_count": null,
      "metadata": {
        "colab": {
          "base_uri": "https://localhost:8080/",
          "height": 165
        },
        "id": "pYpXLeQi_vmH",
        "outputId": "e9a93d15-b40b-43ab-b4ad-0151e7bdc5cb"
      },
      "outputs": [],
      "source": [
        "# Concatenar todas las filas de la columna en un solo texto\n",
        "texto_neg = \" \".join(df_neg[\"review_text\"])\n",
        "texto_neg\n"
      ]
    },
    {
      "cell_type": "code",
      "execution_count": null,
      "metadata": {
        "id": "jP1Vwgr__vmJ"
      },
      "outputs": [],
      "source": [
        "# 1. Normalización: Convertir todo a minúsculas para que 'Inflación' e 'inflación' se traten como la misma palabra.\n",
        "texto_limpio = texto_neg.lower()\n",
        "\n",
        "# 2. Limpieza de caracteres no alfabéticos: Usamos expresiones regulares para quitar puntuación y números.\n",
        "texto_limpio = re.sub(r'[^a-záéíóúñ\\s]', '', texto_limpio)\n",
        "\n",
        "# 3. Tokenización: Dividir el texto en una lista de palabras individuales (tokens).\n",
        "tokens = word_tokenize(texto_limpio, 'spanish')\n",
        "\n",
        "# 4. Eliminación de Stop Words: Quitar palabras comunes en español que no aportan significado económico.\n",
        "stop_words_es = set(stopwords.words('spanish'))\n",
        "\n",
        "tokens_filtrados = [palabra for palabra in tokens if palabra not in stop_words_es]"
      ]
    },
    {
      "cell_type": "code",
      "execution_count": null,
      "metadata": {
        "colab": {
          "base_uri": "https://localhost:8080/",
          "height": 220
        },
        "id": "qWPaIkrU_vmK",
        "outputId": "c4e5ea08-ebf3-44e4-b3dc-fad102fb2ee7"
      },
      "outputs": [],
      "source": [
        "# Usamos FreqDist de NLTK para contar la frecuencia de cada token\n",
        "freq = nltk.FreqDist(tokens_filtrados)\n",
        "\n",
        "print(\"Las 10 palabras más frecuentes:\")\n",
        "display(freq.most_common(10))"
      ]
    },
    {
      "cell_type": "code",
      "execution_count": null,
      "metadata": {
        "id": "bpNTT4yi_vmK"
      },
      "outputs": [],
      "source": [
        "# 1. Creamos una nueva lista de stop words extendida\n",
        "stop_words_personalizada = set(stopwords.words('spanish'))\n",
        "stop_words_personalizada.update(['camping', 'bungalow', 'bungalows', 'si', 'allcamps'])\n",
        "\n",
        "# 2. Re-filtramos los tokens originales\n",
        "tokens_originales = word_tokenize(re.sub(r'[^a-záéíóúñ\\s]', '', texto_neg.lower()), 'spanish')\n",
        "tokens_filtrados_v2 = [palabra for palabra in tokens_originales if palabra not in stop_words_personalizada]"
      ]
    },
    {
      "cell_type": "code",
      "execution_count": null,
      "metadata": {
        "id": "8-lx7he0_vmL"
      },
      "outputs": [],
      "source": [
        "# Ahora, visualicemos esto con una nube de palabras.\n",
        "# La nube de palabras es excelente para presentaciones, ya que resume el contenido de forma visual e impactante.\n",
        "texto_para_nube = \" \".join(tokens_filtrados_v2)"
      ]
    },
    {
      "cell_type": "code",
      "execution_count": null,
      "metadata": {
        "colab": {
          "base_uri": "https://localhost:8080/",
          "height": 523
        },
        "id": "6vd1f_cQ_vmL",
        "outputId": "777f060e-8490-4ee5-ca9c-4112a64c5d04"
      },
      "outputs": [],
      "source": [
        "wordcloud = WordCloud(width=800, height=400, background_color='white', colormap='viridis').generate(texto_para_nube)\n",
        "\n",
        "plt.figure(figsize=(12, 6))\n",
        "plt.imshow(wordcloud, interpolation='bilinear')\n",
        "plt.axis(\"off\")\n",
        "plt.title('Reseñas negativas', fontsize=16)\n",
        "plt.show()"
      ]
    },
    {
      "cell_type": "markdown",
      "metadata": {
        "id": "A70YcF4FHBi5"
      },
      "source": [
        "### Análisis de sentimientos con un modelo preentrenado de redes neuronales"
      ]
    },
    {
      "cell_type": "markdown",
      "metadata": {
        "id": "1u7wIjmvHUhx"
      },
      "source": [
        "**Hugging Face** es el ecosistema más usado actualmente para acceder, usar y compartir **modelos de IA preentrenados**. Lo hace tan sencillo que con unas pocas líneas de código ya puedes aplicar análisis de sentimientos, traducción, chatbots, clasificación de texto y mucho más."
      ]
    },
    {
      "cell_type": "markdown",
      "metadata": {
        "id": "klw9D14LHmBc"
      },
      "source": [
        "Un modelo preentrenado de HuggingFace para análisis de sentimientos en español es una red neuronal de lenguaje natural (NLP) que ya fue entrenada previamente con millones de textos en español. Por eso, en lugar de partir de cero, podemos aprovechar su conocimiento del idioma y de cómo se expresan emociones.\n",
        "\n",
        "El entrenamiento se hace con datasets grandes de reseñas, tweets o comentarios que ya tienen una etiqueta de sentimiento (positivo, negativo, neutral).\n",
        "\n",
        "Lo interesante es que el modelo no solo busca palabras individuales (como \"bueno\", \"excelente\",...), sino que entiende contexto, negaciones, sarcasmo y combinaciones de palabras.\n",
        "\n",
        "En la práctica, lo usamos cargándolo con transformers (HuggingFace) y con una sola línea ya puede clasificar cada comentario en positivo/negativo/neutral sin necesidad de entrenar nada adicional."
      ]
    },
    {
      "cell_type": "code",
      "execution_count": null,
      "metadata": {
        "id": "g9b1ny7CDY5c"
      },
      "outputs": [],
      "source": [
        "from transformers import pipeline"
      ]
    },
    {
      "cell_type": "code",
      "execution_count": null,
      "metadata": {
        "colab": {
          "base_uri": "https://localhost:8080/"
        },
        "id": "_cp7tNeZDauq",
        "outputId": "e4a46bb0-b55b-47ad-9b80-68b2fbec93d0"
      },
      "outputs": [],
      "source": [
        "# Cargar un modelo multilingüe de sentimientos\n",
        "analisis = pipeline(\"sentiment-analysis\", model=\"nlptown/bert-base-multilingual-uncased-sentiment\")"
      ]
    },
    {
      "cell_type": "code",
      "execution_count": null,
      "metadata": {
        "id": "0cPdaH4iD5op"
      },
      "outputs": [],
      "source": [
        "df_empresa = df[(df['company_name']==-8121737614821815175)]"
      ]
    },
    {
      "cell_type": "code",
      "execution_count": null,
      "metadata": {
        "id": "g3BrO1ikDdWX"
      },
      "outputs": [],
      "source": [
        "# Aplicar a cada comentario\n",
        "df_empresa[\"puntaje\"] = df_empresa[\"review_text\"].apply(lambda x: analisis(x)[0][\"label\"])"
      ]
    },
    {
      "cell_type": "code",
      "execution_count": null,
      "metadata": {
        "colab": {
          "base_uri": "https://localhost:8080/",
          "height": 241
        },
        "id": "Xp_vWSP8ETpU",
        "outputId": "62ddea81-f2fc-48f9-f7f2-6f72745cbd1d"
      },
      "outputs": [],
      "source": [
        "df_empresa.head()"
      ]
    },
    {
      "cell_type": "markdown",
      "metadata": {
        "id": "IVy670stDuwK"
      },
      "source": [
        "Este modelo devuelve etiquetas tipo “1 star” a “5 stars”, que puedes mapear a:\n",
        "\n",
        "1–2 estrellas → negativo\n",
        "\n",
        "3 estrellas → neutral\n",
        "\n",
        "4–5 estrellas → positivo"
      ]
    },
    {
      "cell_type": "code",
      "execution_count": null,
      "metadata": {
        "colab": {
          "base_uri": "https://localhost:8080/",
          "height": 272
        },
        "id": "yWBYepi2FHJ7",
        "outputId": "7f4cca8d-4b82-452f-fed3-68c02f172f2d"
      },
      "outputs": [],
      "source": [
        "df_empresa[\"puntaje\"].value_counts()"
      ]
    },
    {
      "cell_type": "code",
      "execution_count": null,
      "metadata": {
        "id": "QzTeCPf0FDAa"
      },
      "outputs": [],
      "source": [
        "def clasificar(puntaje):\n",
        "    if puntaje == '5 stars' or puntaje == '4 stars':\n",
        "        return \"positivo\"\n",
        "    elif puntaje == '3 stars':\n",
        "        return \"neutral\"\n",
        "    else:\n",
        "        return \"negativo\"\n",
        "\n",
        "df_empresa[\"sentimiento\"] = df_empresa[\"puntaje\"].apply(clasificar)"
      ]
    },
    {
      "cell_type": "code",
      "execution_count": null,
      "metadata": {
        "colab": {
          "base_uri": "https://localhost:8080/",
          "height": 472
        },
        "id": "-JKBAqsIEAcn",
        "outputId": "2e4c6b1b-eab5-4f90-e5ff-bb354a5457a9"
      },
      "outputs": [],
      "source": [
        "sns.countplot(x=\"sentimiento\", data=df_empresa)\n",
        "plt.title(\"Distribución del sentimiento de los comentarios\")\n",
        "plt.show()"
      ]
    }
  ],
  "metadata": {
    "colab": {
      "provenance": [],
      "toc_visible": true
    },
    "kernelspec": {
      "display_name": "Python 3",
      "language": "python",
      "name": "python3"
    },
    "language_info": {
      "codemirror_mode": {
        "name": "ipython",
        "version": 3
      },
      "file_extension": ".py",
      "mimetype": "text/x-python",
      "name": "python",
      "nbconvert_exporter": "python",
      "pygments_lexer": "ipython3",
      "version": "3.8.8"
    }
  },
  "nbformat": 4,
  "nbformat_minor": 0
}
