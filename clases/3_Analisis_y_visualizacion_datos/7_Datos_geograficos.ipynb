{
  "cells": [
    {
      "cell_type": "markdown",
      "metadata": {
        "id": "DHNQuIqAmvl5"
      },
      "source": [
        "<a href=\"https://colab.research.google.com/github/LinaMariaCastro/curso-ia-para-economia/blob/main/clases/3_Analisis_y_visualizacion_datos/7_Datos_geograficos.ipynb\" target=\"_parent\"><img src=\"https://colab.research.google.com/assets/colab-badge.svg\" alt=\"Open In Colab\"/></a>"
      ]
    },
    {
      "cell_type": "markdown",
      "metadata": {
        "id": "5iiwfbXCQv5D"
      },
      "source": [
        "# **Inteligencia Artificial con Aplicaciones en Economía I**\n",
        "\n",
        "- 👩‍🏫 **Profesora:** [Lina María Castro](https://www.linkedin.com/in/lina-maria-castro)  \n",
        "- 📧 **Email:** [lmcastroco@gmail.com](mailto:lmcastroco@gmail.com)  \n",
        "- 🎓 **Universidad:** Universidad Externado de Colombia - Facultad de Economía"
      ]
    },
    {
      "cell_type": "markdown",
      "metadata": {
        "id": "_h2J-U6umrw7"
      },
      "source": [
        "# 🗺️ **Análisis de datos geográficos**"
      ]
    },
    {
      "cell_type": "markdown",
      "metadata": {
        "id": "lTKyMbdvnL8X"
      },
      "source": [
        "\n",
        "**Objetivos de Aprendizaje**\n",
        "\n",
        "Al finalizar este notebook, serás capaz de:\n",
        "\n",
        "1.  **Comprender la estructura de los datos geográficos vectoriales** (shapefiles) y su relevancia en el análisis económico.\n",
        "2.  **Navegar el Geoportal del DANE** para descargar el Marco Geoestadístico Nacional, la fuente oficial de los mapas de Colombia.\n",
        "3.  **Cargar, procesar y visualizar datos geoespaciales** en Python utilizando la librería `geopandas`.\n",
        "4.  **Enriquecer un mapa** uniendo datos económicos (como el Índice de Pobreza Multidimensional) para crear visualizaciones coropléticas y derivar conclusiones económicas a partir de patrones espaciales."
      ]
    },
    {
      "cell_type": "markdown",
      "metadata": {
        "id": "5_Crw8MAmrw_"
      },
      "source": [
        "**Introducción**\n",
        "\n",
        "Analizar variables económicas sin su contexto espacial es como suponer que todos los agentes económicos operan en un mismo punto, sin vecinos, sin regiones y sin costos de desplazamiento. Hoy vamos a romper ese supuesto. Aprenderemos a incorporar la dimensión espacial para visualizar cómo fenómenos como la pobreza, la riqueza o la actividad económica no se distribuyen de manera uniforme, sino que forman **clústeres**, **corredores** y **fronteras** que revelan historias profundas sobre el desarrollo económico de un país."
      ]
    },
    {
      "cell_type": "markdown",
      "metadata": {
        "id": "GEyAZ5dSmrxA"
      },
      "source": [
        "## Importar librerías\n",
        "\n",
        "Lo primero es asegurarnos de tener las herramientas necesarias. La librería principal para este trabajo es `geopandas`, que extiende la funcionalidad de `pandas` para permitir el manejo de datos geográficos."
      ]
    },
    {
      "cell_type": "code",
      "execution_count": null,
      "metadata": {
        "id": "VZtc4sJ3mrxC"
      },
      "outputs": [],
      "source": [
        "# Si no tienes instaladas las librerías, ejecuta esta celda.\n",
        "# Geopandas puede tener dependencias complejas; la instalación puede tardar unos minutos.\n",
        "# %pip install geopandas requests\n",
        "# %pip install requests"
      ]
    },
    {
      "cell_type": "code",
      "execution_count": null,
      "metadata": {
        "id": "l9YE5nS-ovMs"
      },
      "outputs": [],
      "source": [
        "import numpy as np\n",
        "import pandas as pd\n",
        "import geopandas as gpd\n",
        "import matplotlib.pyplot as plt\n",
        "import requests\n",
        "import zipfile\n",
        "import io\n",
        "import os"
      ]
    },
    {
      "cell_type": "markdown",
      "metadata": {
        "id": "jHE2ZLJuEPIe"
      },
      "source": [
        "## Mejorar visualización de los dataframes"
      ]
    },
    {
      "cell_type": "code",
      "execution_count": null,
      "metadata": {
        "id": "72TA8V1fETCm"
      },
      "outputs": [],
      "source": [
        "# Que muestre todas las columnas\n",
        "pd.options.display.max_columns = None\n",
        "# En los dataframes, mostrar los float con dos decimales\n",
        "pd.options.display.float_format = '{:,.2f}'.format"
      ]
    },
    {
      "cell_type": "markdown",
      "metadata": {
        "id": "SMx0i2r4j1mN"
      },
      "source": [
        "## Cargar el dataset"
      ]
    },
    {
      "cell_type": "markdown",
      "metadata": {
        "id": "VBO4J0evmrxD"
      },
      "source": [
        "Para cualquier análisis geoespacial sobre Colombia, la fuente de datos primordial es el **Departamento Administrativo Nacional de Estadística (DANE)**. El DANE mantiene el **Marco Geoestadístico Nacional (MGN)**, que es el conjunto de todas las divisiones geográficas del país (departamentos, municipios, etc.).\n",
        "\n",
        "**Guía paso a paso para descargar los datos del DANE:**\n",
        "\n",
        "1.  **Ir al Geoportal del DANE**: Abran un navegador y vayan a [https://geoportal.dane.gov.co/](https://geoportal.dane.gov.co/). Este es el centro de recursos geográficos de la entidad.\n",
        "\n",
        "2.  **Buscar el Marco Geoestadístico**: En la página principal, en el menú de descargas, busquen la sección del **Marco Geoestadístico Nacional (MGN)**. Suelen actualizarlo cada año.\n",
        "\n",
        "3.  **Seleccionar la Capa de Interés**: El MGN contiene muchas capas (veredas, sectores, etc.). Para nuestro análisis, nos interesa la capa de **Municipios**. Busquen la opción que diga algo como `Versión MGN2024-Nivel Municipio`.\n",
        "\n",
        "4.  **Descargar el Shapefile**: Los datos geográficos vectoriales suelen venir en formato **shapefile**. No es un solo archivo, sino un conjunto de archivos (`.shp`, `.shx`, `.dbf`, `.prj`, etc.) que funcionan juntos. Por eso, el DANE siempre los ofrece dentro de un archivo `.zip`.\n",
        "\n",
        "Para facilitar la clase, el siguiente código descargará y descomprimirá los datos del MGN 2024 directamente por nosotros."
      ]
    },
    {
      "cell_type": "code",
      "execution_count": null,
      "metadata": {
        "id": "0fPTEJ4Kp_Q-"
      },
      "outputs": [],
      "source": [
        "# URL oficial del DANE para el shapefile de municipios del MGN 2024\n",
        "url = 'https://geoportal.dane.gov.co/descargas/mgn_2024/MGN2024_MPIO_POLITICO.zip'\n",
        "#  Definir carpeta local donde se guardará el shapefile después de descargarlo y extraerlo\n",
        "directorio_extraccion = \"./shapefiles_dane\""
      ]
    },
    {
      "cell_type": "code",
      "execution_count": null,
      "metadata": {
        "id": "P0UAWcEttIQy"
      },
      "outputs": [],
      "source": [
        "print(\"Descargando y descomprimiendo los datos geográficos del DANE...\")\n",
        "try:\n",
        "    # Descarga el archivo ZIP desde la URL del DANE\n",
        "    r = requests.get(url)\n",
        "    # Convierte el contenido descargado (r.content) en un objeto tipo archivo en memoria con io.BytesIO().\n",
        "    # Luego abre ese archivo como un ZIP usando zipfile.ZipFile\n",
        "    z = zipfile.ZipFile(io.BytesIO(r.content))\n",
        "    # Descomprime todos los archivos dentro del ZIP en la carpeta indicada\n",
        "    z.extractall(directorio_extraccion)\n",
        "    print(f\"Archivos extraídos en la carpeta: '{directorio_extraccion}'\")\n",
        "except Exception as e:\n",
        "    print(f\"Ocurrió un error en la descarga: {e}\")"
      ]
    },
    {
      "cell_type": "code",
      "execution_count": null,
      "metadata": {
        "id": "uuQB-ilStQEr"
      },
      "outputs": [],
      "source": [
        "# --- Carga robusta del Shapefile ---\n",
        "# Buscamos el archivo .shp dentro del directorio de extracción para no depender de un nombre fijo\n",
        "path_to_shp = None\n",
        "for file in os.listdir(directorio_extraccion):\n",
        "    if file.endswith(\".shp\"):\n",
        "        path_to_shp = os.path.join(directorio_extraccion, file)\n",
        "        break\n",
        "\n",
        "if path_to_shp:\n",
        "    print(f\"Shapefile encontrado: {path_to_shp}\")\n",
        "    # Usar GeoPandas (gpd) para leer el shapefile y cargarlo en un GeoDataFrame\n",
        "    gdf_colombia = gpd.read_file(path_to_shp)\n",
        "    print(\"\\nPrimeras 5 filas del GeoDataFrame:\")\n",
        "    display(gdf_colombia.head())\n",
        "else:\n",
        "    print(\"No se encontró ningún archivo .shp en el directorio. Verifique la descarga.\")"
      ]
    },
    {
      "cell_type": "markdown",
      "metadata": {
        "id": "hE3PI7MCSeN5"
      },
      "source": [
        "**Nota:** Un GeoDataFrame es como un DataFrame de pandas pero con una columna especial geometry que guarda la geometría de los municipios (polígonos)."
      ]
    },
    {
      "cell_type": "markdown",
      "metadata": {
        "id": "yxXZjQ-hmrxI"
      },
      "source": [
        "## Inspección Inicial del Mapa\n",
        "\n",
        "Antes de hacer cualquier análisis, es fundamental visualizar los datos geográficos para asegurarse de que se cargaron correctamente."
      ]
    },
    {
      "cell_type": "code",
      "execution_count": null,
      "metadata": {
        "id": "g8DP9LYNmrxJ"
      },
      "outputs": [],
      "source": [
        "# Geopandas tiene un método .plot() integrado, que facilita una visualización rápida.\n",
        "fig, ax = plt.subplots(figsize=(10, 10))\n",
        "gdf_colombia.plot(ax=ax, edgecolor='black', linewidth=0.2)\n",
        "\n",
        "# Ajustes estéticos del gráfico\n",
        "ax.set_title('Mapa Político de Municipios de Colombia', fontsize=16)\n",
        "ax.set_xlabel('Longitud')\n",
        "ax.set_ylabel('Latitud')\n",
        "ax.grid(True, linestyle='--', alpha=0.6)\n",
        "plt.show()"
      ]
    },
    {
      "cell_type": "markdown",
      "metadata": {
        "id": "uq3qAHPDmrxK"
      },
      "source": [
        "## Enriqueciendo el Mapa con Datos Económicos\n",
        "\n",
        "Vamos a agregar el **Índice de Pobreza Multidimensional (IPM)** por municipio para 2018 (uno de los últimos datos consolidados a nivel municipal por el DANE). Este índice va más allá del ingreso y considera factores como educación, salud y condiciones de vivienda.\n",
        "\n",
        "El paso clave aquí es un **`merge`**, similar al que hacemos en `pandas`. La única condición es tener una **columna llave** en común entre el GeoDataFrame (mapa) y el DataFrame (datos económicos). Esta llave será el código único de cada municipio."
      ]
    },
    {
      "cell_type": "code",
      "execution_count": null,
      "metadata": {
        "id": "7o4fLNwg6ZU9"
      },
      "outputs": [],
      "source": [
        "df_ipm = pd.read_csv(\"Base_municipios.txt\", sep=\"|\", decimal=\",\", converters={'Cod. Municipio': str})\n",
        "df_ipm.head()"
      ]
    },
    {
      "cell_type": "code",
      "execution_count": null,
      "metadata": {
        "id": "sgRoaZM466V6"
      },
      "outputs": [],
      "source": [
        "df_ipm.info()"
      ]
    },
    {
      "cell_type": "code",
      "execution_count": null,
      "metadata": {
        "id": "ZfruQ2b57Ow3"
      },
      "outputs": [],
      "source": [
        "gdf_colombia.info()"
      ]
    },
    {
      "cell_type": "code",
      "execution_count": null,
      "metadata": {
        "id": "976G2O7I7cXF"
      },
      "outputs": [],
      "source": [
        "df_mapa_ipm = gdf_colombia.merge(df_ipm[['Cod. Municipio', '% pobreza municipio']], left_on='mpio_cdpmp', right_on='Cod. Municipio', how='left')\n",
        "df_mapa_ipm"
      ]
    },
    {
      "cell_type": "markdown",
      "metadata": {
        "id": "ol-qZg7jmrxL"
      },
      "source": [
        "## Creación de un Mapa Coroplético\n",
        "\n",
        "Ahora que tenemos los datos y las geometrías en un solo lugar, podemos crear un **mapa coroplético**. Este tipo de mapa utiliza una escala de colores para representar la intensidad de una variable en diferentes áreas, permitiéndonos identificar patrones espaciales de un vistazo."
      ]
    },
    {
      "cell_type": "code",
      "execution_count": null,
      "metadata": {
        "id": "GdTm3qmLmrxL"
      },
      "outputs": [],
      "source": [
        "fig, ax = plt.subplots(1, 1, figsize=(15, 15))\n",
        "\n",
        "df_mapa_ipm.plot(column='% pobreza municipio',           # La columna cuyos valores determinarán el color\n",
        "                    ax=ax,                 # El eje sobre el cual graficar\n",
        "                    legend=True,           # Mostrar la barra de colores (leyenda)\n",
        "                    cmap='viridis_r',      # Paleta de colores. '_r' la invierte (amarillo=bajo, morado=alto)\n",
        "                    missing_kwds={         # Cómo mostrar municipios sin datos de IPM\n",
        "                        'color': 'lightgrey',\n",
        "                        'label': 'Datos no disponibles',\n",
        "                    },\n",
        "                    legend_kwds={          # Opciones para la leyenda\n",
        "                        'label': \"Índice de Pobreza Multidimensional (IPM) 2018\",\n",
        "                        'orientation': \"horizontal\"\n",
        "                    })\n",
        "\n",
        "ax.set_title('Distribución de la Pobreza Multidimensional en Colombia (2018)', fontdict={'fontsize': 20, 'fontweight': 'bold'})\n",
        "ax.set_axis_off() # Quitamos los ejes de latitud y longitud que no aportan información aquí\n",
        "plt.show()"
      ]
    },
    {
      "cell_type": "markdown",
      "metadata": {
        "id": "HeWpWKZ68lJ3"
      },
      "source": [
        "**Análisis Económico-Espacial:** El mapa revela una fuerte 'autocorrelación espacial positiva' de la pobreza. Los municipios con alto IPM tienden a estar rodeados de otros municipios con alto IPM. Vemos una clara concentración de pobreza en la periferia del país (costa Pacífica, Caribe y la Orinoquía), en contraste con el centro andino. Esta visualización es una poderosa herramienta para el diseño de políticas públicas focalizadas."
      ]
    },
    {
      "cell_type": "markdown",
      "metadata": {
        "id": "3GpOa9D1mrxM"
      },
      "source": [
        "## Ejercicio\n",
        "\n",
        "El departamento de Antioquia es conocido por su fuerte economía pero también por sus desigualdades internas. Filtra el GeoDataFrame `df_mapa_ipm` para quedarte únicamente con los municipios de **Antioquia** (código de departamento `dpto_ccdgo` es `'05'`) y crea un mapa coroplético del IPM solo para esa región. ¿Qué patrones observas? ¿Qué municipio es el más y menos pobre?"
      ]
    },
    {
      "cell_type": "code",
      "execution_count": null,
      "metadata": {
        "id": "kVPxbjDk_sUz"
      },
      "outputs": [],
      "source": []
    },
    {
      "cell_type": "code",
      "execution_count": null,
      "metadata": {
        "id": "kEaI-m7195F3"
      },
      "outputs": [],
      "source": []
    },
    {
      "cell_type": "code",
      "execution_count": null,
      "metadata": {
        "id": "LQVZenUX94-B"
      },
      "outputs": [],
      "source": []
    }
  ],
  "metadata": {
    "colab": {
      "provenance": [],
      "toc_visible": true
    },
    "kernelspec": {
      "display_name": "Python 3",
      "language": "python",
      "name": "python3"
    },
    "language_info": {
      "codemirror_mode": {
        "name": "ipython",
        "version": 3
      },
      "file_extension": ".py",
      "mimetype": "text/x-python",
      "name": "python",
      "nbconvert_exporter": "python",
      "pygments_lexer": "ipython3",
      "version": "3.8.8"
    }
  },
  "nbformat": 4,
  "nbformat_minor": 0
}
