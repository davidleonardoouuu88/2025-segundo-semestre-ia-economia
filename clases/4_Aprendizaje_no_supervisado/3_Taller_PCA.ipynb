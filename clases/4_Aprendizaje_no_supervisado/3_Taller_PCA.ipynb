{
  "cells": [
    {
      "cell_type": "markdown",
      "source": [
        "<a href=\"https://colab.research.google.com/github/LinaMariaCastro/curso-ia-para-economia/blob/main/clases/4_Aprendizaje_no_supervisado/3_Taller_PCA.ipynb\" target=\"_parent\"><img src=\"https://colab.research.google.com/assets/colab-badge.svg\" alt=\"Open In Colab\"/></a>"
      ],
      "metadata": {
        "id": "DHNQuIqAmvl5"
      }
    },
    {
      "cell_type": "markdown",
      "source": [
        "# **Inteligencia Artificial con Aplicaciones en Economía I**\n",
        "\n",
        "- 👩‍🏫 **Profesora:** [Lina María Castro](https://www.linkedin.com/in/lina-maria-castro)  \n",
        "- 📧 **Email:** [lmcastroco@gmail.com](mailto:lmcastroco@gmail.com)  \n",
        "- 🎓 **Universidad:** Universidad Externado de Colombia - Facultad de Economía"
      ],
      "metadata": {
        "id": "5iiwfbXCQv5D"
      }
    },
    {
      "cell_type": "markdown",
      "source": [
        "# **Taller: Análisis de Componentes Principales - PCA**"
      ],
      "metadata": {
        "id": "dU-UqrDscLfY"
      }
    },
    {
      "cell_type": "markdown",
      "source": [
        "**IMPORTANTE**: Guarda una copia de este notebook en tu Google Drive o computador."
      ],
      "metadata": {
        "id": "0dQjQRRI-Jwh"
      }
    },
    {
      "cell_type": "markdown",
      "source": [
        "**Taller en parejas**"
      ],
      "metadata": {
        "id": "q_CzcRIty0sF"
      }
    },
    {
      "cell_type": "markdown",
      "source": [
        "**Nombres estudiantes:**\n",
        "\n",
        "-\n",
        "-"
      ],
      "metadata": {
        "id": "NyfFoG84-DmF"
      }
    },
    {
      "cell_type": "markdown",
      "source": [
        "**Forma de entrega**\n",
        "\n",
        "Jupyter Notebook publicado en su cuenta de Github con el nombre “Taller_PCA_apellidos_estudiantes.ipynb”.\n",
        "\n",
        "**Plazo de entrega**\n",
        "\n",
        "Hoy, 21 de octubre, máximo a las 11:59 p.m., debes enviar link del notebook al correo lina.castro6@uexternado.edu.co, de lo contrario, no será tenido en cuenta.\n",
        "\n",
        "**Instrucciones Generales**\n",
        "\n",
        "Completa el código en las celdas marcadas con `### TU CÓDIGO AQUÍ ###`. Puedes añadir más celdas si lo requieres."
      ],
      "metadata": {
        "id": "KcbzsUiz025j"
      }
    },
    {
      "cell_type": "markdown",
      "source": [
        "**Caso de Estudio: Consultoría para \"Inversiones Inmobiliarias S.A.\"** 🏢\n",
        "\n",
        "**El Escenario:**\n",
        "\n",
        "Acaban de ser contratados como analistas de datos en **\"Inversiones Inmobiliarias S.A.\"**, una firma líder en el sector de bienes raíces en la región. La firma está buscando expandir sus operaciones, pero se enfrenta a un desafío común: el mercado inmobiliario es complejo y está influenciado por una multitud de factores.\n",
        "\n",
        "**El Problema:**\n",
        "\n",
        "El equipo de valoración de propiedades actualmente utiliza modelos basados principalmente en metros cuadrados y número de habitaciones. Sin embargo, saben que factores como la **ubicación** (proximidad a parques, hospitales, transporte), la **seguridad** (tasa de criminalidad) y las **características intrínsecas** de la propiedad (baños, tamaño) interactúan de formas complejas. Tienen muchos datos (`houses.csv`), pero les cuesta extraer una visión clara y concisa de qué define realmente el \"atractivo\" de una propiedad más allá de lo obvio. Comparar propiedades con perfiles multidimensionales diferentes es difícil y propenso a errores.\n",
        "\n",
        "**Su Misión (como consultores):**\n",
        "\n",
        "La dirección les ha encargado aplicar técnicas avanzadas de *machine learning* para abordar este problema. Específicamente, quieren que utilicen el **Análisis de Componentes Principales (PCA)** para:\n",
        "\n",
        "1.  **Reducir la Complejidad:** Tomar las múltiples características de las propiedades y destilarlas en un número menor de \"factores\" o \"índices\" clave que capturen la esencia de lo que impulsa el valor.\n",
        "2.  **Crear Índices Interpretables:** No basta con reducir dimensiones; deben poder explicar qué significan estos nuevos índices en términos de negocio (ej. \"Índice de Tamaño y Comodidades\", \"Índice de Calidad de Ubicación\").\n",
        "\n",
        "**Su Entregable:**\n",
        "\n",
        "Deberán completar este Jupyter Notebook, realizando el análisis de PCA sobre el dataset `houses.csv`, interpretando los componentes principales y creando las visualizaciones solicitadas. Sus conclusiones serán presentadas al comité de inversiones para ayudarles a tomar decisiones más informadas."
      ],
      "metadata": {
        "id": "qXvDB1sevfp1"
      }
    },
    {
      "cell_type": "markdown",
      "metadata": {
        "id": "X84yTi9e_dDM"
      },
      "source": [
        "# 1. Importa las librerías necesarias"
      ]
    },
    {
      "cell_type": "code",
      "source": [
        "### TU CÓDIGO AQUÍ ###\n"
      ],
      "metadata": {
        "id": "-es5JStPdyRa"
      },
      "execution_count": null,
      "outputs": []
    },
    {
      "cell_type": "markdown",
      "source": [
        "### Mejorar visualización de dataframes y gráficos"
      ],
      "metadata": {
        "id": "jHE2ZLJuEPIe"
      }
    },
    {
      "cell_type": "code",
      "source": [
        "# Que muestre todas las columnas\n",
        "pd.options.display.max_columns = None\n",
        "# En los dataframes, mostrar los float con dos decimales\n",
        "pd.options.display.float_format = '{:,.2f}'.format\n",
        "\n",
        "# Configuraciones para una mejor visualización\n",
        "sns.set(style='whitegrid')\n",
        "plt.rcParams['figure.figsize'] = (10, 6)"
      ],
      "metadata": {
        "id": "72TA8V1fETCm"
      },
      "execution_count": null,
      "outputs": []
    },
    {
      "cell_type": "markdown",
      "metadata": {
        "id": "fKClSztxYBPX"
      },
      "source": [
        "# 2 Carga el dataset \"houses.csv\" que se encuentra en el repositorio del curso, carpeta \"datasets\" y muestra las primeras 5 filas."
      ]
    },
    {
      "cell_type": "code",
      "execution_count": null,
      "metadata": {
        "id": "GqUDK8asYBPX"
      },
      "outputs": [],
      "source": [
        "### TU CÓDIGO AQUÍ ###\n"
      ]
    },
    {
      "cell_type": "markdown",
      "metadata": {
        "id": "naVyD7NYYBPX"
      },
      "source": [
        "# 3. Análisis Exploratorio y Preprocesamiento de Datos"
      ]
    },
    {
      "cell_type": "markdown",
      "source": [
        "PCA tiene dos requisitos fundamentales:\n",
        "1.  **Solo funciona con variables numéricas.**\n",
        "2.  **Es muy sensible a la escala de las variables.**\n",
        "\n",
        "Por lo tanto, nuestro trabajo en esta sección es: identificar las variables relevantes, convertirlas a un formato numérico y estandarizarlas."
      ],
      "metadata": {
        "id": "vKZp8c0dyCGC"
      }
    },
    {
      "cell_type": "markdown",
      "source": [
        "## 3.1. Revisa si hay valores nulos y muestra el tipo de dato de cada una de las columnas"
      ],
      "metadata": {
        "id": "XU8hxYwJyICa"
      }
    },
    {
      "cell_type": "code",
      "source": [
        "### TU CÓDIGO AQUÍ ###\n"
      ],
      "metadata": {
        "id": "AsImAgtmyZY3"
      },
      "execution_count": null,
      "outputs": []
    },
    {
      "cell_type": "markdown",
      "metadata": {
        "id": "_t-iH36eYBPY"
      },
      "source": [
        "## 3.2. Codifica las Variables Categóricas Region y Crime_Rate\n",
        "\n",
        "* **Region:** Es una variable nominal (no hay un orden inherente). Por tanto, usa **One-Hot Encoding**. Incluye en el código drop_first=True y dtype=int.\n",
        "* **Crime_Rate:** Es una variable ordinal (Low < Medium < High). Por tanto, dale un valor numérico según este diccionario: mapping = {'High': 3, 'Medium': 2, 'Low': 1}"
      ]
    },
    {
      "cell_type": "code",
      "source": [
        "### TU CÓDIGO AQUÍ ###\n"
      ],
      "metadata": {
        "id": "ctqp82HlkQSi"
      },
      "execution_count": null,
      "outputs": []
    },
    {
      "cell_type": "markdown",
      "metadata": {
        "id": "yHXTMsQwYBPZ"
      },
      "source": [
        "## 3.3. Selección y Estandarización de Variables\n",
        "\n",
        "Ahora seleccionaremos todas las variables predictoras (features) y las estandarizaremos. La estandarización (dejar cada variable con media 0 y desviación estándar 1) es **crucial**. Si no lo hiciéramos, la variable con la mayor escala (por ejemplo, `Square_Meters`) dominaría el análisis de PCA, ya que PCA busca maximizar la varianza."
      ]
    },
    {
      "cell_type": "code",
      "source": [
        "# Seleccionamos las columnas que usaremos para PCA\n",
        "# Excluimos el ID, las categóricas originales y el precio (nuestra variable respuesta)\n",
        "features = ['Bedrooms', 'Bathrooms', 'Square_Meters', 'Dist_to_Park',\n",
        "            'Dist_to_Hospital', 'Dist_to_Underground', 'Dist_to_School',\n",
        "            'Crime_Rate_Encoded', 'Region_North', 'Region_South', 'Region_West']\n",
        "\n",
        "X = df_houses[features]\n",
        "y = df_houses['Price']"
      ],
      "metadata": {
        "id": "_lyrywEGzwdS"
      },
      "execution_count": null,
      "outputs": []
    },
    {
      "cell_type": "markdown",
      "source": [
        "Estandariza las variables que se encuentran en X. Llama al nuevo objeto X_scaled."
      ],
      "metadata": {
        "id": "ImV8slDY_l3w"
      }
    },
    {
      "cell_type": "code",
      "execution_count": null,
      "metadata": {
        "id": "RYGFjXeRYBPZ"
      },
      "outputs": [],
      "source": [
        "### TU CÓDIGO AQUÍ ###\n",
        "\n",
        "print('Dimensiones de los datos estandarizados:', X_scaled.shape)"
      ]
    },
    {
      "cell_type": "markdown",
      "source": [
        "## 3.4. Grafica un mapa de calor para ver las correlaciones entre las variables predictoras (features)."
      ],
      "metadata": {
        "id": "30lxbEDx0JZO"
      }
    },
    {
      "cell_type": "code",
      "source": [
        "### TU CÓDIGO AQUÍ ###\n"
      ],
      "metadata": {
        "id": "QrYs64WCoFdc"
      },
      "execution_count": null,
      "outputs": []
    },
    {
      "cell_type": "markdown",
      "source": [
        "## 3.5. Escribe un análisis sobre las correlaciones observadas. Haz énfasis en las correlaciones más altas (positivas o negativas)."
      ],
      "metadata": {
        "id": "MaolyNcY0a-M"
      }
    },
    {
      "cell_type": "markdown",
      "metadata": {
        "id": "cYb_oNWnYBPa"
      },
      "source": [
        "# 4. Aplicando el Análisis de Componentes Principales (PCA)"
      ]
    },
    {
      "cell_type": "markdown",
      "source": [
        "Con los datos limpios y estandarizados, es hora de aplicar PCA. Nuestro objetivo es determinar cuántos componentes principales necesitamos para capturar una cantidad significativa de la \"información\" (varianza) de nuestros datos originales."
      ],
      "metadata": {
        "id": "0RuV2AYU0kjq"
      }
    },
    {
      "cell_type": "markdown",
      "source": [
        "## 4.1. Instancia PCA. No especifiques n_components para calcularlos todos. Ajusta PCA a los datos escalados."
      ],
      "metadata": {
        "id": "7nEJfuic0p79"
      }
    },
    {
      "cell_type": "code",
      "execution_count": null,
      "metadata": {
        "id": "bSHV7HX2YBPa"
      },
      "outputs": [],
      "source": [
        "### TU CÓDIGO AQUÍ ###\n"
      ]
    },
    {
      "cell_type": "markdown",
      "metadata": {
        "id": "gJoiEAhbYBPa"
      },
      "source": [
        "## 4.2. Varianza Explicada\n",
        "\n",
        "El aspecto más importante de PCA es la **varianza explicada**. Cada componente principal explica un porcentaje de la varianza total de los datos. El primer componente siempre explica la mayor parte, el segundo un poco menos, y así sucesivamente."
      ]
    },
    {
      "cell_type": "markdown",
      "source": [
        "Grafica la varianza explicada acumulada para decidir cuántos componentes son suficientes."
      ],
      "metadata": {
        "id": "IZacP-2q05_2"
      }
    },
    {
      "cell_type": "code",
      "execution_count": null,
      "metadata": {
        "id": "O5uBruPYYBPa"
      },
      "outputs": [],
      "source": [
        "### TU CÓDIGO AQUÍ ###\n"
      ]
    },
    {
      "cell_type": "markdown",
      "metadata": {
        "id": "HA4ZBy12YBPg"
      },
      "source": [
        "Este gráfico es nuestra herramienta de decisión. Nos muestra el **trade-off entre simplicidad e información**.\n",
        "- Si queremos el modelo más simple posible, podríamos usar 2 o 3 componentes, pero solo explicaríamos 40-50% de la variabilidad en los datos (perderíamos mucha información).\n",
        "- Una regla común en la industria es mantener suficientes componentes para explicar entre el 90% y el 95% de la varianza."
      ]
    },
    {
      "cell_type": "markdown",
      "source": [
        "## 4.3. ¿Con cuántos componentes se captura el 90% de la información contenida en nuestras 11 variables originales?"
      ],
      "metadata": {
        "id": "2PnOMrP-1iGn"
      }
    },
    {
      "cell_type": "markdown",
      "metadata": {
        "id": "frDxyODlYBPg"
      },
      "source": [
        "# 5. Re-aplicando PCA indicando el Número de Componentes Deseados"
      ]
    },
    {
      "cell_type": "markdown",
      "source": [
        "Corre PCA de nuevo, pero esta vez especificando que queremos quedarnos con 4 componentes."
      ],
      "metadata": {
        "id": "_w7XvKhDAUiI"
      }
    },
    {
      "cell_type": "code",
      "execution_count": null,
      "metadata": {
        "id": "t6kU80OTYBPg"
      },
      "outputs": [],
      "source": [
        "### TU CÓDIGO AQUÍ ###\n"
      ]
    },
    {
      "cell_type": "markdown",
      "metadata": {
        "id": "slM9PORcYBPh"
      },
      "source": [
        "Hemos reducido las dimensiones, pero ¿qué significan estas nuevas 4 variables? Para un economista, esta es la parte más importante. Debemos \"bautizar\" a nuestros componentes entendiendo qué variables originales los componen.\n",
        "\n",
        "Esto lo hacemos analizando los **loadings** (cargas o pesos) de cada variable original en cada componente."
      ]
    },
    {
      "cell_type": "markdown",
      "source": [
        "## 5.1. Grafica el mapa de calor de los loadings"
      ],
      "metadata": {
        "id": "15ul1mi-3F25"
      }
    },
    {
      "cell_type": "code",
      "execution_count": null,
      "metadata": {
        "id": "6PkekndoYBPh"
      },
      "outputs": [],
      "source": [
        "### TU CÓDIGO AQUÍ ###\n"
      ]
    },
    {
      "cell_type": "markdown",
      "source": [
        "## 5.2. Realiza una interpretación de los componentes. ¿Cuáles variables tienen las cargas altas y positivas y cuáles las cargas altas y negativas? De acuerdo con este análisis, ¿qué nombre le darías a cada componente?"
      ],
      "metadata": {
        "id": "gaqiEuy23Wya"
      }
    }
  ],
  "metadata": {
    "kernelspec": {
      "display_name": "Python 3",
      "language": "python",
      "name": "python3"
    },
    "language_info": {
      "codemirror_mode": {
        "name": "ipython",
        "version": 3
      },
      "file_extension": ".py",
      "mimetype": "text/x-python",
      "name": "python",
      "nbconvert_exporter": "python",
      "pygments_lexer": "ipython3",
      "version": "3.8.8"
    },
    "colab": {
      "provenance": [],
      "toc_visible": true
    }
  },
  "nbformat": 4,
  "nbformat_minor": 0
}