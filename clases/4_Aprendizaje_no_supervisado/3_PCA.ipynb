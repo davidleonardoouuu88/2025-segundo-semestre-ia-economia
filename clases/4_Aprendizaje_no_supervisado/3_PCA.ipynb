{
  "cells": [
    {
      "cell_type": "markdown",
      "source": [
        "<a href=\"https://colab.research.google.com/github/LinaMariaCastro/curso-ia-para-economia/blob/main/clases/4_Aprendizaje_no_supervisado/3_PCA.ipynb\" target=\"_parent\"><img src=\"https://colab.research.google.com/assets/colab-badge.svg\" alt=\"Open In Colab\"/></a>"
      ],
      "metadata": {
        "id": "DHNQuIqAmvl5"
      }
    },
    {
      "cell_type": "markdown",
      "source": [
        "# **Inteligencia Artificial con Aplicaciones en Economía I**\n",
        "\n",
        "- 👩‍🏫 **Profesora:** [Lina María Castro](https://www.linkedin.com/in/lina-maria-castro)  \n",
        "- 📧 **Email:** [lmcastroco@gmail.com](mailto:lmcastroco@gmail.com)  \n",
        "- 🎓 **Universidad:** Universidad Externado de Colombia - Facultad de Economía"
      ],
      "metadata": {
        "id": "5iiwfbXCQv5D"
      }
    },
    {
      "cell_type": "markdown",
      "source": [
        "# 🔽 **Reducción de Dimensionalidad con Análisis de Componentes Principales (PCA)**"
      ],
      "metadata": {
        "id": "dU-UqrDscLfY"
      }
    },
    {
      "cell_type": "markdown",
      "metadata": {
        "id": "iiqSyj3lYBPG"
      },
      "source": [
        "**Objetivos de Aprendizaje**\n",
        "\n",
        "Al finalizar este notebook, serás capaz de:\n",
        "\n",
        "1.  **Entender la \"Maldición de la Dimensionalidad\"** y por qué reducir el número de variables es crucial en el análisis económico y de negocios.\n",
        "2.  **Aplicar el Análisis de Componentes Principales (PCA)** para transformar un conjunto de datos con muchas variables correlacionadas en un conjunto más pequeño de variables no correlacionadas (componentes).\n",
        "3.  **Interpretar los resultados de PCA** en un contexto de negocio, traduciendo los componentes principales a conceptos económicos tangibles como \"índices sintéticos\".\n",
        "4.  **Utilizar PCA como un paso de preprocesamiento** para mejorar el rendimiento de modelos de clustering (K-Means) y de aprendizaje supervisado."
      ]
    },
    {
      "cell_type": "markdown",
      "metadata": {
        "id": "pRi4wWjEYBPI"
      },
      "source": [
        "**Introducción**\n",
        "\n",
        "Imaginemos que somos analistas en el Banco Interamericano de Desarrollo y se nos encarga la tarea de crear un único **\"Índice de Salud Macroeconómica\"** para todos los países de América Latina. Contamos con una gran cantidad de datos: PIB per cápita, tasa de inflación, tasa de desempleo, balanza comercial, inversión extranjera directa, deuda pública, etc. (más de 50 indicadores).\n",
        "\n",
        "El problema es evidente: ¿cómo comparamos a Colombia con Argentina si uno tiene baja inflación pero alto desempleo, y el otro tiene casi pleno empleo pero una inflación desbordada? Comparar países a través de 50 dimensiones es computacionalmente complejo y, sobre todo, difícil de interpretar de manera intuitiva. Además, muchas de estas variables están correlacionadas.\n",
        "\n",
        "La **reducción de dimensionalidad** es la técnica que nos permite resolver este problema. Es como si tomáramos todas esas variables económicas y las \"destiláramos\" para obtener la esencia. El **Análisis de Componentes Principales (PCA)** es nuestro \"alambique\".\n",
        "\n",
        "PCA nos permitirá crear nuevas variables (componentes principales) que son una combinación de las originales. Por ejemplo, podríamos descubrir que:\n",
        "* **Componente Principal 1 (CP1):** Agrupa fuertemente el PIB, la inversión y el bajo desempleo. Podríamos interpretarlo como un **\"Índice de Crecimiento y Prosperidad\"**.\n",
        "* **Componente Principal 2 (CP2):** Agrupa la estabilidad de precios (baja inflación) y una deuda pública controlada. Podríamos llamarlo **\"Índice de Estabilidad Macroeconómica\"**.\n",
        "\n",
        "De esta forma, pasamos de 50 variables difíciles de manejar a solo 2 o 3 índices sintéticos que capturan la mayor parte de la información relevante y que sí podemos usar para comparar, visualizar y analizar a los países de manera efectiva."
      ]
    },
    {
      "cell_type": "markdown",
      "source": [
        "## Advertencias\n",
        "\n",
        "- PCA solo se puede utilizar para variables numéricas, ya que se base en el cálculo de la covarianza y la varianza.\n",
        "- Las variables categóricas se pueden incluir si primero se transforman a números con One-Hot Encoding y Ordinal Encoding.\n",
        "- Obligatoriamente, las variables se deben estandarizar o ajustar a valores entre cero y uno."
      ],
      "metadata": {
        "id": "qBI9PeGXG8H_"
      }
    },
    {
      "cell_type": "markdown",
      "metadata": {
        "id": "d5aToHiaYBPK"
      },
      "source": [
        "## ¿Cómo funciona PCA?"
      ]
    },
    {
      "cell_type": "code",
      "source": [
        "from IPython.display import YouTubeVideo\n",
        "\n",
        "# ID del video: https://www.youtube.com/watch?v=x-7BHjMA15M\n",
        "YouTubeVideo('x-7BHjMA15M', width=800, height=450)"
      ],
      "metadata": {
        "id": "Y1a-QJxxw9GO"
      },
      "execution_count": null,
      "outputs": []
    },
    {
      "cell_type": "markdown",
      "source": [
        "Antes de saltar a un complejo dataset, entendamos la magia de PCA con un ejemplo de juguete de solo **2 variables**, con datos que generaremos nosotros mismos."
      ],
      "metadata": {
        "id": "FkAbso-SxavC"
      }
    },
    {
      "cell_type": "code",
      "source": [
        "import numpy as np\n",
        "import pandas as pd\n",
        "import matplotlib.pyplot as plt\n",
        "import seaborn as sns\n",
        "from sklearn.decomposition import PCA"
      ],
      "metadata": {
        "id": "-es5JStPdyRa"
      },
      "execution_count": null,
      "outputs": []
    },
    {
      "cell_type": "code",
      "source": [
        "# 1. Generar Datos Correlacionados\n",
        "np.random.seed(42) # Para reproducibilidad\n",
        "# Creamos 100 puntajes de matemáticas (media 70, std dev 10)\n",
        "puntajes_mat = np.random.normal(70, 10, 100)\n",
        "# Creamos puntajes de física correlacionados con matemáticas + algo de ruido\n",
        "puntajes_fis = puntajes_mat * 0.8 + np.random.normal(0, 5, 100) + 10 # El +10 ajusta la media\n",
        "\n",
        "# Combinamos en una matriz X (100 filas, 2 columnas)\n",
        "X_simple = np.vstack((puntajes_mat, puntajes_fis)).T\n",
        "\n",
        "print(\"Primeros 5 puntajes:\")\n",
        "X_simple[:5,:]"
      ],
      "metadata": {
        "id": "B4v_iJKvd-CR"
      },
      "execution_count": null,
      "outputs": []
    },
    {
      "cell_type": "code",
      "execution_count": null,
      "metadata": {
        "id": "4-YS9s28YBPL"
      },
      "outputs": [],
      "source": [
        "# 2. Graficar los Datos Originales\n",
        "plt.figure(figsize=(8, 8))\n",
        "plt.scatter(X_simple[:, 0], X_simple[:, 1], alpha=0.7)\n",
        "plt.title('Puntajes Inventados de Estudiantes (Correlacionados)')\n",
        "plt.xlabel('Puntaje Matemáticas')\n",
        "plt.ylabel('Puntaje Física')\n",
        "plt.axis('equal') # Asegura que la escala de los ejes sea la misma\n",
        "plt.grid(True)\n",
        "plt.show()"
      ]
    },
    {
      "cell_type": "code",
      "source": [
        "df_simple = pd.DataFrame(X_simple, columns=['Matemáticas', 'Física'])\n",
        "corr = df_simple.corr().round(2)\n",
        "sns.heatmap(corr, annot=True, cmap='viridis')\n",
        "plt.show()"
      ],
      "metadata": {
        "id": "JU-x8C20bc9z"
      },
      "execution_count": null,
      "outputs": []
    },
    {
      "cell_type": "markdown",
      "metadata": {
        "id": "pPrwV0DVYBPM"
      },
      "source": [
        "**El Problema:**\n",
        "\n",
        "Como esperábamos, las variables `Puntaje_Matemáticas` y `Puntaje_Física` están **altamente correlacionadas**. Los estudiantes buenos en una tienden a serlo en la otra. El gráfico muestra una nube de puntos alargada y diagonal. Tenemos dos dimensiones (eje X = Matemáticas, eje Y = Física), pero la información es **redundante**. La mayor parte de la \"acción\" (la varianza) ocurre a lo largo de esa línea diagonal.\n",
        "\n",
        "**La Solución de PCA:**\n",
        "\n",
        "PCA **rotará los ejes** para encontrar una nueva perspectiva que describa mejor los datos. Lo hace encontrando las **direcciones de máxima varianza**.\n",
        "\n",
        "1.  **Centrar los datos:** PCA funciona sobre datos centrados (media cero). Aunque `StandardScaler` lo hace automáticamente, lo haremos manualmente aquí para entenderlo mejor.\n",
        "2.  **Aplicar PCA:** Usaremos `sklearn` para encontrar los componentes.\n",
        "3.  **Visualizar los Componentes:** Graficaremos los vectores de los componentes sobre los datos originales."
      ]
    },
    {
      "cell_type": "code",
      "source": [
        "# 1. Centrar los datos (restar la media de cada columna)\n",
        "X_centrado = X_simple - X_simple.mean(axis=0)"
      ],
      "metadata": {
        "id": "ZNMHBtr9b7go"
      },
      "execution_count": null,
      "outputs": []
    },
    {
      "cell_type": "code",
      "source": [
        "# 2. Aplicar PCA\n",
        "pca_simple = PCA()\n",
        "pca_simple.fit(X_centrado)"
      ],
      "metadata": {
        "id": "LphjCXwxetyI"
      },
      "execution_count": null,
      "outputs": []
    },
    {
      "cell_type": "code",
      "execution_count": null,
      "metadata": {
        "id": "vDvW62U_YBPN"
      },
      "outputs": [],
      "source": [
        "# Los componentes son los 'eigenvectors'\n",
        "print(\"Dirección de los Componentes Principales (vectores propios):\")\n",
        "print(pca_simple.components_)"
      ]
    },
    {
      "cell_type": "markdown",
      "source": [
        "**¿Qué es esto?** Esta matriz te dice la dirección de los nuevos ejes (Componentes Principales) en relación con los ejes originales (Matemáticas y Física). Cada fila representa un componente principal (CP). Los números en la fila indican cómo contribuye cada variable original a ese componente.\n",
        "\n",
        "**Fila 1 (CP1):** [0.753, 0.657]\n",
        "\n",
        "- Este es el vector que define la dirección del primer componente principal (CP1), el eje naranja en nuestro gráfico.\n",
        "\n",
        "- Nos dice que para moverte una unidad a lo largo de este nuevo eje CP1, necesitas moverte 0.753 unidades en la dirección del eje original de Matemáticas Y 0.657 unidades en la dirección del eje original de Física.\n",
        "\n",
        "- **Interpretación:** Como ambos números son positivos y de magnitud similar, significa que CP1 representa una combinación ponderada de ambas habilidades. Un puntaje alto en CP1 significa ser bueno tanto en Matemáticas como en Física. Por eso lo llamamos \"Índice General de Aptitud Científica\".\n",
        "\n",
        "**Fila 2 (CP2):** [-0.657, 0.753]\n",
        "\n",
        "- Este es el vector que define la dirección del segundo componente principal (CP2), el eje verde, que es perpendicular al CP1.\n",
        "\n",
        "- Para moverte una unidad a lo largo de CP2, necesitas moverte -0.657 en Matemáticas (hacia la izquierda) y +0.753 en Física (hacia arriba).\n",
        "\n",
        "- **Interpretación:** Este componente captura la diferencia relativa entre las habilidades. Un puntaje alto en CP2 podría significar ser relativamente mejor en Física que en Matemáticas, y viceversa. Sin embargo, como veremos, este componente es mucho menos importante."
      ],
      "metadata": {
        "id": "Z2Rj7s7fu4_3"
      }
    },
    {
      "cell_type": "code",
      "source": [
        "# La varianza explicada por cada uno de los componentes son los 'eigenvalues' (o explained_variance_)\n",
        "print(\"\\nVarianza explicada por cada componente (valores propios):\")\n",
        "print(pca_simple.explained_variance_)"
      ],
      "metadata": {
        "id": "0UEMsTP_vQ--"
      },
      "execution_count": null,
      "outputs": []
    },
    {
      "cell_type": "markdown",
      "source": [
        "**¿Qué es esto?** Estos números (los eigenvalues o valores propios) te dicen cuánta varianza (información, dispersión) de los datos originales es capturada por cada componente principal. Son la \"longitud\" efectiva de los nuevos ejes en términos de información.\n",
        "\n",
        "**CP1:** 134.9\n",
        "\n",
        "- El primer componente captura una gran cantidad de la dispersión total de los puntos.\n",
        "\n",
        "**CP2:** 13.6\n",
        "\n",
        "- El segundo componente captura mucha menos dispersión.\n",
        "\n",
        "- **Interpretación:** La diferencia enorme entre estos dos valores confirma lo que vimos en el gráfico: la mayor parte de la \"acción\" (la variabilidad de los puntajes) ocurre a lo largo de la dirección del CP1. El CP2 captura variaciones mucho menores."
      ],
      "metadata": {
        "id": "sKyh0XJmvS6v"
      }
    },
    {
      "cell_type": "code",
      "source": [
        "print(\"\\nPorcentaje de varianza explicada:\")\n",
        "print(pca_simple.explained_variance_ratio_)"
      ],
      "metadata": {
        "id": "VbNqddnrvSda"
      },
      "execution_count": null,
      "outputs": []
    },
    {
      "cell_type": "markdown",
      "source": [
        "**¿Qué es esto?** Es simplemente la varianza explicada de cada componente (el punto anterior) expresada como un porcentaje de la varianza total. Se calcula dividiendo la varianza de cada componente entre la suma de todas las varianzas (134.9 / (134.9 + 13.6) y 13.6 / (134.9 + 13.6)).\n",
        "\n",
        "**CP1:** 0.908 (o 90.8%)\n",
        "\n",
        "- El primer componente principal captura el 90.8% de toda la información (varianza) presente en los puntajes originales de Matemáticas y Física 🤯\n",
        "\n",
        "**CP2:** 0.092 (o 9.2%)\n",
        "\n",
        "- El segundo componente solo captura el 9.2% restante.\n",
        "\n",
        "- **Interpretación y decisión:** Este resultado es la justificación para la reducción de dimensionalidad. Como el CP1 explica una porción tan abrumadoramente grande de la información, podemos decidir descartar el CP2 con una pérdida mínima de información (solo el 9.2%). Pasamos de representar a cada estudiante con 2 números (Mate, Física) a representarlo con 1 solo número (su proyección sobre el eje CP1), nuestro \"Índice General de Aptitud Científica\".\n",
        "\n",
        "Hemos simplificado el problema exitosamente."
      ],
      "metadata": {
        "id": "OjDO8chHvcdr"
      }
    },
    {
      "cell_type": "code",
      "execution_count": null,
      "metadata": {
        "id": "OjBjt0ILYBPO"
      },
      "outputs": [],
      "source": [
        "# 3. Visualizar los Componentes\n",
        "plt.figure(figsize=(8, 8))\n",
        "plt.scatter(X_centrado[:, 0], X_centrado[:, 1], alpha=0.7, label='Datos Centrados')\n",
        "\n",
        "# Graficamos los vectores de los componentes\n",
        "for i, (comp, var) in enumerate(zip(pca_simple.components_, pca_simple.explained_variance_)):\n",
        "    # Multiplicamos el componente (vector unitario) por la raíz de la varianza (desviación estándar)\n",
        "    # para darle una longitud proporcional a la información que captura. Usamos un factor (3) para que sea más visible.\n",
        "    comp = comp * np.sqrt(var) * 3\n",
        "    plt.arrow(0, 0, comp[0], comp[1],\n",
        "              head_width=3, head_length=5, fc=f'C{i+1}', ec=f'C{i+1}', linewidth=2,\n",
        "              label=f'CP{i+1} ({pca_simple.explained_variance_ratio_[i]*100:.1f}%)')\n",
        "\n",
        "plt.title('Datos Centrados y Componentes Principales')\n",
        "plt.xlabel('Matemáticas (centrado)')\n",
        "plt.ylabel('Física (centrado)')\n",
        "plt.axis('equal')\n",
        "plt.grid(True)\n",
        "plt.legend()\n",
        "plt.show()"
      ]
    },
    {
      "cell_type": "markdown",
      "metadata": {
        "id": "JA3ysdhuYBPO"
      },
      "source": [
        "**Interpretación del gráfico y los resultados:**\n",
        "\n",
        "- Los **puntos azules** son nuestros datos originales, pero centrados en el origen (0,0).\n",
        "- El **vector naranja (CP1)** apunta exactamente en la dirección donde los datos están más dispersos (la dirección de la diagonal). PCA nos dice que este componente explica ¡el **90.8%** de la varianza total!\n",
        "- El **vector verde (CP2)** es perpendicular al CP1 y apunta en la dirección de la varianza restante (solo el **9.2%**).\n",
        "\n",
        "**La Reducción:**\n",
        "\n",
        "Como el CP1 captura casi toda la información, podemos **descartar el CP2**.\n",
        "\n",
        "Hemos **reducido la dimensionalidad de 2D a 1D**. En lugar de tener dos puntajes (`Puntaje_Matemáticas`, `Puntaje_Física`), ahora podemos representar a cada estudiante con un solo valor: su proyección sobre el eje CP1. Este nuevo valor podría interpretarse como un **\"Índice General de Aptitud Científica\"**."
      ]
    },
    {
      "cell_type": "markdown",
      "source": [
        "## Ejemplo de PCA para Visualización y Segmentación"
      ],
      "metadata": {
        "id": "FZWFdi8Wy6Er"
      }
    },
    {
      "cell_type": "markdown",
      "metadata": {
        "id": "eqHoZif1YBPP"
      },
      "source": [
        "Ahora veremos un ejemplo clásico. El dataset de \"Vinos\" contiene los resultados de un análisis químico de **13 constituyentes** (alcohol, acidez, magnesio, etc.) para **3 tipos diferentes de vino** cultivados en la misma región de Italia.\n",
        "\n",
        "**El Problema:** ¿Podemos visualizar si estos 3 tipos de vino son químicamente distintos? Graficar en 13 dimensiones es imposible.\n",
        "\n",
        "**El Objetivo:** Usaremos PCA para reducir estas 13 dimensiones a solo 2 y así poder graficar los 3 tipos de vino en un plano 2D para ver si se separan y se diferencian."
      ]
    },
    {
      "cell_type": "markdown",
      "metadata": {
        "id": "X84yTi9e_dDM"
      },
      "source": [
        "### Importar librerías"
      ]
    },
    {
      "cell_type": "code",
      "execution_count": null,
      "metadata": {
        "id": "3jvnUtZiYBPQ"
      },
      "outputs": [],
      "source": [
        "from sklearn.datasets import load_wine\n",
        "from sklearn.preprocessing import StandardScaler"
      ]
    },
    {
      "cell_type": "markdown",
      "source": [
        "### Mejorar visualización de dataframes y gráficos"
      ],
      "metadata": {
        "id": "jHE2ZLJuEPIe"
      }
    },
    {
      "cell_type": "code",
      "source": [
        "# Que muestre todas las columnas\n",
        "pd.options.display.max_columns = None\n",
        "# En los dataframes, mostrar los float con dos decimales\n",
        "pd.options.display.float_format = '{:,.2f}'.format\n",
        "\n",
        "# Configuraciones para una mejor visualización\n",
        "sns.set(style='whitegrid')\n",
        "plt.rcParams['figure.figsize'] = (10, 6)"
      ],
      "metadata": {
        "id": "72TA8V1fETCm"
      },
      "execution_count": null,
      "outputs": []
    },
    {
      "cell_type": "code",
      "source": [
        "# Cargar el dataset de vinos desde sklearn\n",
        "wine_data = load_wine()\n",
        "X_wine = pd.DataFrame(wine_data.data, columns=wine_data.feature_names)\n",
        "y_wine = wine_data.target # Esta es nuestra variable objetivo (tipo de vino 0, 1 o 2)"
      ],
      "metadata": {
        "id": "gokKZSwrhciC"
      },
      "execution_count": null,
      "outputs": []
    },
    {
      "cell_type": "code",
      "source": [
        "X_wine.head()"
      ],
      "metadata": {
        "id": "O6FC4yvMhjDr"
      },
      "execution_count": null,
      "outputs": []
    },
    {
      "cell_type": "code",
      "source": [
        "y_wine"
      ],
      "metadata": {
        "id": "hkJvovsxhks_"
      },
      "execution_count": null,
      "outputs": []
    },
    {
      "cell_type": "code",
      "execution_count": null,
      "metadata": {
        "id": "wEICmxc_YBPR"
      },
      "outputs": [],
      "source": [
        "print(\"dimensiones de las características: \", X_wine.shape)\n",
        "print(\"\\nNombre de las 13 variables químicas:\")\n",
        "print(X_wine.columns)"
      ]
    },
    {
      "cell_type": "code",
      "source": [
        "corr = X_wine.corr().round(2)\n",
        "sns.heatmap(corr, annot=True, cmap='viridis')\n",
        "plt.show()"
      ],
      "metadata": {
        "id": "ZXppmgRId0yZ"
      },
      "execution_count": null,
      "outputs": []
    },
    {
      "cell_type": "markdown",
      "metadata": {
        "id": "8B9hX7eBYBPS"
      },
      "source": [
        "### Estandarización de los Datos\n",
        "\n",
        "Como vimos, este paso es **crítico**. Las 13 variables químicas tienen escalas totalmente diferentes, por lo que debemos estandarizarlas."
      ]
    },
    {
      "cell_type": "code",
      "execution_count": null,
      "metadata": {
        "id": "rqr44Qq2YBPS"
      },
      "outputs": [],
      "source": [
        "scaler_wine = StandardScaler()\n",
        "X_wine_scaled = scaler_wine.fit_transform(X_wine)"
      ]
    },
    {
      "cell_type": "markdown",
      "metadata": {
        "id": "0GE8dDvNYBPT"
      },
      "source": [
        "### Aplicación de PCA y Selección de Componentes\n",
        "\n",
        "Vamos a aplicar PCA y ver cuánta varianza explican los componentes."
      ]
    },
    {
      "cell_type": "code",
      "source": [
        "pca_wine = PCA()\n",
        "pca_wine.fit(X_wine_scaled)"
      ],
      "metadata": {
        "id": "Zl1BdxdKoiKK"
      },
      "execution_count": null,
      "outputs": []
    },
    {
      "cell_type": "code",
      "execution_count": null,
      "metadata": {
        "id": "BGxXqYUUYBPT"
      },
      "outputs": [],
      "source": [
        "# Graficamos la varianza explicada acumulada\n",
        "varianza_acumulada_wine = np.cumsum(pca_wine.explained_variance_ratio_)\n",
        "\n",
        "plt.figure(figsize=(10, 7))\n",
        "plt.plot(range(1, len(varianza_acumulada_wine) + 1), varianza_acumulada_wine, marker='o', linestyle='--')\n",
        "plt.title('Varianza Explicada Acumulada (Dataset Vinos)', fontsize=16)\n",
        "plt.xlabel('Número de Componentes Principales', fontsize=12)\n",
        "plt.ylabel('Varianza Acumulada Explicada', fontsize=12)\n",
        "plt.axhline(y=0.8, color='g', linestyle='-', label='80% de Varianza')\n",
        "plt.show()"
      ]
    },
    {
      "cell_type": "markdown",
      "metadata": {
        "id": "8ExxYJ1PYBPU"
      },
      "source": [
        "**Interpretación del Gráfico:**\n",
        "\n",
        "Los dos primeros componentes (CP1 y CP2) explican **más del 55%** de la varianza total. Si bien no es un umbral altísimo como 90%, para un objetivo de **visualización** en 2D, está bien. Nos quedaremos solo con 2 componentes.\n",
        "\n",
        "Vamos a re-aplicar PCA pidiendo solo 2 componentes."
      ]
    },
    {
      "cell_type": "code",
      "execution_count": null,
      "metadata": {
        "id": "p9YFus6bYBPU"
      },
      "outputs": [],
      "source": [
        "pca_wine_2 = PCA(n_components=2)\n",
        "X_wine_pca = pca_wine_2.fit_transform(X_wine_scaled)\n",
        "\n",
        "print(\"Dimensiones del dataset original:\", X_wine_scaled.shape)\n",
        "print(\"Dimensiones del dataset reducido:\", X_wine_pca.shape)"
      ]
    },
    {
      "cell_type": "code",
      "source": [
        "# Varianza explicada\n",
        "pca_wine_2.explained_variance_ratio_"
      ],
      "metadata": {
        "id": "8inLoSQ9fFNt"
      },
      "execution_count": null,
      "outputs": []
    },
    {
      "cell_type": "code",
      "source": [
        "# Varianza explicada acumulada\n",
        "pca_wine_2.explained_variance_ratio_.cumsum()"
      ],
      "metadata": {
        "id": "nq2VEfchfeJY"
      },
      "execution_count": null,
      "outputs": []
    },
    {
      "cell_type": "markdown",
      "source": [
        "**En el gráfico de varianza acumulada, ¿cómo decido el número exacto de componentes?**\n",
        "\n",
        "No hay una regla dura y fija, es más un criterio de negocio o de investigación. La elección implica un trade-off entre la simplicidad del modelo y la cantidad de información que retenemos. Las guías más comunes son:\n",
        "\n",
        "- **El Método del Codo:** Buscas en el gráfico el punto donde añadir un nuevo componente ya no aporta un gran aumento en la varianza explicada. Es el \"codo\" de la curva.\n",
        "\n",
        "- **Umbral de Varianza Acumulada:** La regla más usada en la práctica. Se decide un umbral, por ejemplo, 'quiero explicar al menos el 90% de la varianza'. Y se eligen los componentes necesarios para alcanzarlo. Para análisis exploratorios rápidos, un 80% puede ser suficiente. Para modelos que irán a producción, se suele exigir 95% o incluso 99%.\n",
        "\n",
        "- **Interpretabilidad:** A veces, eliges un número de componentes que, aunque no lleguen a un umbral alto, son muy fáciles de interpretar económicamente. Por ejemplo, si con 3 componentes explicas el 75% de la varianza y puedes llamarlos 'Crecimiento', 'Estabilidad' y 'Capital Humano', esa simplicidad puede ser más valiosa que tener 8 componentes que expliquen el 95% pero sean ininteligibles.\""
      ],
      "metadata": {
        "id": "-9wccMBxFe_p"
      }
    },
    {
      "cell_type": "markdown",
      "metadata": {
        "id": "xEM_mbPiYBPV"
      },
      "source": [
        "### 1.4 Visualización de la Segmentación de Vinos\n",
        "\n",
        "Ahora, vamos a graficar cada vino usando sus nuevos dos ejes (CP1 y CP2) y los colorearemos por su tipo de vino real (la variable `y_wine`)."
      ]
    },
    {
      "cell_type": "code",
      "source": [
        "# Guardamos los resultados en un nuevo dataframe\n",
        "df_wine_pca = pd.DataFrame(X_wine_pca, columns=['CP1', 'CP2'])\n",
        "df_wine_pca['Tipo_Vino'] = y_wine\n",
        "df_wine_pca.head()"
      ],
      "metadata": {
        "id": "3EfW9zgrpSDQ"
      },
      "execution_count": null,
      "outputs": []
    },
    {
      "cell_type": "code",
      "execution_count": null,
      "metadata": {
        "id": "UHUkPDmyYBPV"
      },
      "outputs": [],
      "source": [
        "plt.figure(figsize=(12, 8))\n",
        "sns.scatterplot(x='CP1', y='CP2', data=df_wine_pca, hue='Tipo_Vino', palette='viridis', s=100, alpha=0.8)\n",
        "plt.title('Segmentación de Vinos usando los 2 Componentes Principales', fontsize=16)\n",
        "plt.xlabel('Componente Principal 1', fontsize=12)\n",
        "plt.ylabel('Componente Principal 2', fontsize=12)\n",
        "plt.legend(title='Tipo de Vino')\n",
        "plt.show()"
      ]
    },
    {
      "cell_type": "markdown",
      "metadata": {
        "id": "qcSooFGvYBPV"
      },
      "source": [
        "**Conclusión de la Visualización:**\n",
        "\n",
        "PCA logró tomar las 13 variables químicas y proyectarlas en 2 dimensiones de tal forma que los tres tipos de vino (0, 1 y 2) **quedan casi perfectamente separados**.\n",
        "\n",
        "Esto nos demuestra que la composición química de los vinos es, en efecto, distinta, y que PCA fue capaz de encontrar los \"ejes\" (componentes) que mejor demuestran esta separación. Ahora, cualquier modelo de clasificación que use CP1 y CP2 será extremadamente efectivo."
      ]
    },
    {
      "cell_type": "markdown",
      "metadata": {
        "id": "SzDgnD3sYBPW"
      },
      "source": [
        "### Interpretación de los Loadings (¿Qué significan CP1 y CP2?)\n",
        "\n",
        "Ya vimos que los componentes separan los vinos, pero... ¿qué son? ¿Qué característica química están midiendo? Para esto, analizamos los **loadings**."
      ]
    },
    {
      "cell_type": "code",
      "source": [
        "df_wine_loadings = pd.DataFrame(pca_wine_2.components_,\n",
        "                                columns=wine_data.feature_names,\n",
        "                                index=['CP1', 'CP2'])\n",
        "df_wine_loadings"
      ],
      "metadata": {
        "id": "s6RNbs3Hpn23"
      },
      "execution_count": null,
      "outputs": []
    },
    {
      "cell_type": "code",
      "execution_count": null,
      "metadata": {
        "id": "gfs2i1_JYBPW"
      },
      "outputs": [],
      "source": [
        "plt.figure(figsize=(15, 6))\n",
        "sns.heatmap(df_wine_loadings, annot=True, cmap='viridis', fmt='.2f')\n",
        "plt.title('Mapa de Calor de los Loadings (Dataset Vinos)', fontsize=16)\n",
        "plt.show()"
      ]
    },
    {
      "cell_type": "markdown",
      "metadata": {
        "id": "OaulZHUqYBPW"
      },
      "source": [
        "**Interpretación 🍇:**\n",
        "\n",
        "Miremos qué variables tienen los pesos (loadings) más altos en cada componente:\n",
        "\n",
        "* **Componente Principal 1 (CP1):**\n",
        "    * Tiene cargas **altas y positivas** en `flavanoids` (0.42), `total_phenols` (0.39) y `od280/od315_of_diluted_wines` (0.38). Estos son **antioxidantes** que vienen de la cáscara de la uva y dan estructura y color al vino.\n",
        "    * Tiene cargas **negativas** en `nonflavanoid_phenols` (-0.3), `malic_acid` (-0.25) y `alcalinity_of_ash` (-0.24).\n",
        "    * **Interpretación:** El CP1 parece ser un **\"Índice de Estructura y Madurez\"**. Un valor alto en CP1 (hacia la derecha en el gráfico) representa vinos con muchos fenoles y flavonoides (típico de vinos tintos robustos). Vemos que los vinos tipo 0 están a la derecha, y los tipo 1 y 2 a la izquierda.\n",
        "\n",
        "* **Componente Principal 2 (CP2):**\n",
        "    * Tiene cargas **altas y positivas** en `color_intensity` (0.53), `alcohol` (0.48) y `proline` (0.36).\n",
        "    * Tiene cargas **altas y negativas** en `hue` (-0.28) y `od280/od315_of_diluted_wines` (-0.16).\n",
        "    * **Interpretación:** El CP2 parece ser un **\"Índice de Graduación Alcohólica y Color\"**. Un valor alto en CP2 (hacia arriba en el gráfico) representa vinos con más alcohol y color. Vemos que este eje es el que mejor separa los vinos tipo 1 (abajo) de los vinos tipo 2 (arriba).\n",
        "\n",
        "**Conclusión:** Hemos reducido 13 variables químicas a 2 índices interpretables que segmentan perfectamente el mercado."
      ]
    },
    {
      "cell_type": "markdown",
      "source": [
        "### Aplicación: Clustering con K-Means sobre Componentes Principales\n",
        "\n",
        "Hemos visto que PCA ayuda a visualizar la separación natural de los vinos. ¿Podría un algoritmo de clustering como K-Means **descubrir estos grupos por sí mismo**, usando solo los componentes principales?\n",
        "\n",
        "Como vimos con el dataset de casas, K-Means funciona mucho mejor en espacios de baja dimensionalidad. Apliquémoslo a nuestros 2 componentes del vino."
      ],
      "metadata": {
        "id": "SSol0QNbJqG2"
      }
    },
    {
      "cell_type": "code",
      "source": [
        "from sklearn.cluster import KMeans"
      ],
      "metadata": {
        "id": "l_W6BUblKH5F"
      },
      "execution_count": null,
      "outputs": []
    },
    {
      "cell_type": "code",
      "source": [
        "# Instanciamos KMeans pidiendo 3 clusters (sabemos que hay 3 tipos de vino)\n",
        "kmeans_wine = KMeans(n_clusters=3, random_state=42, n_init=10)\n",
        "\n",
        "# Ajustamos y predecimos sobre los datos PCA (X_wine_pca tiene CP1 y CP2)\n",
        "df_wine_pca['Cluster_KMeans'] = kmeans_wine.fit_predict(X_wine_pca)\n",
        "\n",
        "# Visualizamos los clusters encontrados por K-Means\n",
        "plt.figure(figsize=(12, 8))\n",
        "sns.scatterplot(x='CP1', y='CP2', data=df_wine_pca, hue='Cluster_KMeans', palette='viridis', s=100, alpha=0.8)\n",
        "plt.title('Clusters de Vinos Encontrados por K-Means usando PCA', fontsize=16)\n",
        "plt.xlabel('CP1: Índice de Estructura Fenólica y Madurez', fontsize=12)\n",
        "plt.ylabel('CP2: Índice de Intensidad Alcohólica y Cromática', fontsize=12)\n",
        "plt.legend(title='Cluster K-Means')\n",
        "plt.show()"
      ],
      "metadata": {
        "id": "pV7Zx6ZoJwVh"
      },
      "execution_count": null,
      "outputs": []
    },
    {
      "cell_type": "markdown",
      "source": [
        "**Comparación y Conclusión:**\n",
        "\n",
        "Comparen este gráfico con el anterior coloreado por `Tipo_Vino`. K-Means, utilizando solo las coordenadas CP1 y CP2, ha sido capaz de **recrear casi perfectamente la separación original** de los tres tipos de vino. Los colores de los clusters pueden no coincidir exactamente con los números originales (K-Means asigna 0, 1, 2 arbitrariamente), pero la **agrupación es casi la misma**.\n",
        "\n",
        "Esto demuestra cómo PCA, al reducir la dimensionalidad y el ruido, crea una representación de los datos donde los grupos subyacentes se vuelven mucho más evidentes y fáciles de detectar para algoritmos como K-Means. Es un excelente ejemplo de **PCA como preprocesamiento para clustering**."
      ],
      "metadata": {
        "id": "SxoUc3b_J47r"
      }
    },
    {
      "cell_type": "markdown",
      "source": [
        "## Ventajas de utilizar PCA\n",
        "\n",
        "- **Interpretabilidad:** Es imposible explicarle a un gerente o a un ministro qué significa el coeficiente de 50 variables diferentes. Pero es muy poderoso decirle: 'Hemos creado un Índice de Dinamismo Económico (nuestro CP1), y por cada punto que un país mejora en este índice, la inversión extranjera aumenta en X%'. PCA nos ayuda a contar una historia más clara.\n",
        "\n",
        "- **Reducir la Multicolinealidad:** En econometría, sabemos que la multicolinealidad (alta correlación entre variables predictoras) infla los errores estándar de nuestros coeficientes y hace que el modelo sea inestable. Como los componentes principales son, por construcción, no correlacionados entre sí, eliminamos este problema de raíz.\n",
        "\n",
        "- **Eficiencia Computacional:** Entrenar un modelo con 500 variables puede ser lento y costoso. Si PCA nos permite obtener un 95% de la misma información con solo 30 componentes, el proceso es mucho más rápido y eficiente. Es como optimizar los recursos de cómputo.\"\n",
        "\n"
      ],
      "metadata": {
        "id": "upaMPzskGhsf"
      }
    },
    {
      "cell_type": "markdown",
      "metadata": {
        "id": "0gG56ZMgYBPm"
      },
      "source": [
        "## Conclusiones\n",
        "\n",
        "La **reducción de dimensionalidad con PCA** es una herramienta poderosa para el economista y el científico de datos, ya que nos permite:\n",
        "\n",
        "1.  **Combatir la Maldición de la Dimensionalidad:** Simplificamos modelos complejos, reducimos el riesgo de overfitting y mejoramos la eficiencia computacional.\n",
        "2.  **Crear Variables Sintéticas Interpretables:** Pasamos de un conjunto de variables correlacionadas a un nuevo conjunto de \"índices\" (los componentes) que resumen la información y tienen un significado económico o de negocio.\n",
        "3.  **Mejorar la Visualización:** Nos permite explorar la estructura oculta de nuestros datos en 2D o 3D, revelando patrones que serían invisibles de otra manera (Ej. Vinos).\n",
        "4.  **Actuar como un paso de Ingeniería de Características:**\n",
        "    - **Para Clustering:** Permite que algoritmos como K-Means funcionen correctamente al reducir el ruido y el espacio dimensional.\n",
        "    - **Para Regresión Lineal y, en general, Aprendizaje Supervisado:** Resuelve el problema de la multicolinealidad. Se tiene un modelo mucho más parsimonioso (menos variables). Puede, incluso, mejorar la precisión del modelo al filtrar el ruido."
      ]
    }
  ],
  "metadata": {
    "kernelspec": {
      "display_name": "Python 3",
      "language": "python",
      "name": "python3"
    },
    "language_info": {
      "codemirror_mode": {
        "name": "ipython",
        "version": 3
      },
      "file_extension": ".py",
      "mimetype": "text/x-python",
      "name": "python",
      "nbconvert_exporter": "python",
      "pygments_lexer": "ipython3",
      "version": "3.8.8"
    },
    "colab": {
      "provenance": [],
      "toc_visible": true
    }
  },
  "nbformat": 4,
  "nbformat_minor": 0
}