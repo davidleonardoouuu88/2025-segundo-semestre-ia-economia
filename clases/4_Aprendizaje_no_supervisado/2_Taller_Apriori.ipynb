{
  "cells": [
    {
      "cell_type": "markdown",
      "metadata": {
        "id": "DHNQuIqAmvl5"
      },
      "source": [
        "<a href=\"https://colab.research.google.com/github/LinaMariaCastro/curso-ia-para-economia/blob/main/clases/4_Aprendizaje_no_supervisado/2_Taller_Apriori.ipynb\" target=\"_parent\"><img src=\"https://colab.research.google.com/assets/colab-badge.svg\" alt=\"Open In Colab\"/></a>\n",
        "\n"
      ]
    },
    {
      "cell_type": "markdown",
      "metadata": {
        "id": "5iiwfbXCQv5D"
      },
      "source": [
        "# **Inteligencia Artificial con Aplicaciones en Economía I**\n",
        "\n",
        "- 👩‍🏫 **Profesora:** [Lina María Castro](https://www.linkedin.com/in/lina-maria-castro)  \n",
        "- 📧 **Email:** [lmcastroco@gmail.com](mailto:lmcastroco@gmail.com)  \n",
        "- 🎓 **Universidad:** Universidad Externado de Colombia - Facultad de Economía"
      ]
    },
    {
      "cell_type": "markdown",
      "metadata": {
        "id": "0rfIMoBmE1Ap"
      },
      "source": [
        "# **Taller: Análisis de Patrones de Consumo Internacional con Apriori**"
      ]
    },
    {
      "cell_type": "markdown",
      "metadata": {
        "id": "0dQjQRRI-Jwh"
      },
      "source": [
        "**IMPORTANTE**: Guarda una copia de este notebook en tu Google Drive o computador."
      ]
    },
    {
      "cell_type": "markdown",
      "metadata": {
        "id": "q_CzcRIty0sF"
      },
      "source": [
        "**Taller en parejas**"
      ]
    },
    {
      "cell_type": "markdown",
      "metadata": {
        "id": "NyfFoG84-DmF"
      },
      "source": [
        "**Nombres estudiantes:**\n",
        "\n",
        "-\n",
        "-"
      ]
    },
    {
      "cell_type": "markdown",
      "metadata": {
        "id": "KcbzsUiz025j"
      },
      "source": [
        "**Forma de entrega**\n",
        "\n",
        "Jupyter Notebook publicado en su cuenta de Github con el nombre “Taller_Apriori_apellidos_estudiantes.ipynb”.\n",
        "\n",
        "**Plazo de entrega**\n",
        "\n",
        "Hoy, 16 de octubre, máximo a las 11:59 p.m., debes enviar link del notebook al correo lina.castro6@uexternado.edu.co, de lo contrario, no será tenido en cuenta.\n",
        "\n",
        "**Instrucciones Generales**\n",
        "\n",
        "Completa el código en las celdas marcadas con `### TU CÓDIGO AQUÍ ###`. Puedes añadir más celdas si lo requieres."
      ]
    },
    {
      "cell_type": "markdown",
      "metadata": {
        "id": "fIYF9RZrFx0F"
      },
      "source": [
        "**Caso de Estudio: Consultoría para el PNUD**\n",
        "\n",
        "**Contexto:** Una firma multinacional de e-commerce, \"Global Retail Inc.\", te ha contratado como consultor de datos. La empresa opera en múltiples países y ha notado que sus ventas y la efectividad de sus campañas de marketing varían significativamente entre regiones. Su hipótesis es que los patrones de compra y las asociaciones de productos son diferentes en cada mercado.\n",
        "\n",
        "**Tu Misión:** Analizar el historial de transacciones de la empresa para descubrir y comparar las reglas de asociación de productos para dos de sus mercados más grandes: el Reino Unido y Alemania. Tu objetivo final es entregar recomendaciones de negocio accionables (ej. estrategias de cross-selling, promociones personalizadas) basadas en los patrones de consumo que descubras en cada país.\n",
        "\n",
        "**Dataset:** Online Retail Data Set del repositorio de UCI. Encuentra mayor información en: https://archive.ics.uci.edu/dataset/352/online+retail"
      ]
    },
    {
      "cell_type": "markdown",
      "metadata": {
        "id": "M35O8HzlGna7"
      },
      "source": [
        "## Ejercicio 1: Configuración Inicial, Carga y Exploración de Datos"
      ]
    },
    {
      "cell_type": "markdown",
      "metadata": {
        "id": "tx670zdlNtvQ"
      },
      "source": [
        "1.1 Importa las librerías necesarias"
      ]
    },
    {
      "cell_type": "code",
      "execution_count": null,
      "metadata": {
        "id": "z8OKVbSJE3-k"
      },
      "outputs": [],
      "source": [
        "### TU CÓDIGO AQUÍ ###\n",
        "\n",
        "import warnings\n",
        "warnings.filterwarnings('ignore')"
      ]
    },
    {
      "cell_type": "code",
      "execution_count": null,
      "metadata": {
        "id": "UphwYfZpGXsk"
      },
      "outputs": [],
      "source": [
        "# Configuraciones de visualización\n",
        "pd.options.display.max_columns = None\n",
        "pd.options.display.float_format = '{:,.2f}'.format"
      ]
    },
    {
      "cell_type": "markdown",
      "metadata": {
        "id": "CMbWKnltN_50"
      },
      "source": [
        "1.2 Carga el dataset \"retail_top30_products.csv\" que se encuentra en el repositorio del curso, carpeta \"datasets\"."
      ]
    },
    {
      "cell_type": "code",
      "execution_count": null,
      "metadata": {
        "id": "KYRaLbXlMc_c"
      },
      "outputs": [],
      "source": [
        "### TU CÓDIGO AQUÍ ###\n"
      ]
    },
    {
      "cell_type": "code",
      "execution_count": null,
      "metadata": {
        "id": "196LBPXYyeNu"
      },
      "outputs": [],
      "source": [
        "print(\"Dimensiones del DataFrame:\")\n",
        "print(df.shape)"
      ]
    },
    {
      "cell_type": "code",
      "execution_count": null,
      "metadata": {
        "id": "OrfRrLb3yhNG"
      },
      "outputs": [],
      "source": [
        "print(\"\\nInformación general del DataFrame:\")\n",
        "df.info()"
      ]
    },
    {
      "cell_type": "markdown",
      "metadata": {
        "id": "BRmQ0Z34OiP4"
      },
      "source": [
        "1.3 Revisa si hay valores nulos en alguna columna y cuántos son"
      ]
    },
    {
      "cell_type": "code",
      "execution_count": null,
      "metadata": {
        "id": "luFSwi1X6sPx"
      },
      "outputs": [],
      "source": [
        "### TU CÓDIGO AQUÍ ###\n"
      ]
    },
    {
      "cell_type": "markdown",
      "metadata": {
        "id": "CxckL193Ooze"
      },
      "source": [
        "1.4 Genera las estadísticas descriptivas de las variables numéricas"
      ]
    },
    {
      "cell_type": "code",
      "execution_count": null,
      "metadata": {
        "id": "MxivjnRq6Rqr"
      },
      "outputs": [],
      "source": [
        "### TU CÓDIGO AQUÍ ###\n"
      ]
    },
    {
      "cell_type": "markdown",
      "metadata": {
        "id": "Z1hOgV3Myw3i"
      },
      "source": [
        "1.5 Observando las salidas del ejercicio anterior, ¿qué problemas potenciales identificas en las columnas Description, CustomerID y Quantity? ¿Ves algo inusual en los precios (UnitPrice)?"
      ]
    },
    {
      "cell_type": "markdown",
      "metadata": {
        "id": "dtJB9TCPzHay"
      },
      "source": [
        "## Ejercicio 2: Limpieza y Preprocesamiento de Datos"
      ]
    },
    {
      "cell_type": "markdown",
      "metadata": {
        "id": "P6VAx2GRzLMN"
      },
      "source": [
        "Los datos del mundo real rara vez son perfectos. Antes de cualquier análisis, debemos \"sanear\" nuestro dataset. Completa el código en cada paso según las instrucciones."
      ]
    },
    {
      "cell_type": "markdown",
      "metadata": {
        "id": "_pwltoB1zT0W"
      },
      "source": [
        "2.1 **Manejo de Valores Nulos**: Las transacciones sin un CustomerID no son útiles para nosotros, ya que no podemos agrupar las compras de un cliente específico."
      ]
    },
    {
      "cell_type": "code",
      "execution_count": null,
      "metadata": {
        "id": "U-sj4by7zc7D"
      },
      "outputs": [],
      "source": [
        "# TAREA: Elimina todas las filas donde 'CustomerID' es nulo.\n",
        "### TU CÓDIGO AQUÍ ###\n"
      ]
    },
    {
      "cell_type": "code",
      "execution_count": null,
      "metadata": {
        "id": "eE2uAM_CzeQX"
      },
      "outputs": [],
      "source": [
        "# El tipo de dato de CustomerID debe ser entero\n",
        "### TU CÓDIGO AQUÍ ###\n"
      ]
    },
    {
      "cell_type": "markdown",
      "metadata": {
        "id": "692DcQzY0BPf"
      },
      "source": [
        "2.2 **Limpieza de Descripciones de Productos** Las descripciones pueden tener espacios en blanco al inicio o al final que podrían hacer que un mismo producto se cuente como dos diferentes."
      ]
    },
    {
      "cell_type": "code",
      "execution_count": null,
      "metadata": {
        "id": "sMIVCo1xHBkW"
      },
      "outputs": [],
      "source": [
        "# TAREA: Limpia la columna 'Description' eliminando espacios extra al inicio y al final.\n",
        "### TU CÓDIGO AQUÍ ###\n"
      ]
    },
    {
      "cell_type": "markdown",
      "metadata": {
        "id": "IVstEafz0Izp"
      },
      "source": [
        "2.3 **Filtrado de Transacciones Anómalas**: Las facturas (InvoiceNo) que empiezan con 'C' indican una cancelación. Estas no son compras reales y deben ser eliminadas. Del mismo modo, las cantidades (Quantity) negativas representan devoluciones."
      ]
    },
    {
      "cell_type": "code",
      "execution_count": null,
      "metadata": {
        "id": "DelzC1r173Dl"
      },
      "outputs": [],
      "source": [
        "# TAREA: Elimina las filas que correspondan a cancelaciones.\n",
        "### TU CÓDIGO AQUÍ ###\n"
      ]
    },
    {
      "cell_type": "code",
      "execution_count": null,
      "metadata": {
        "id": "3N3k0nRr0JIY"
      },
      "outputs": [],
      "source": [
        "# TAREA: Elimina las filas con cantidades negativas.\n",
        "### TU CÓDIGO AQUÍ ###\n"
      ]
    },
    {
      "cell_type": "code",
      "execution_count": null,
      "metadata": {
        "id": "aESz8rfa0eXf"
      },
      "outputs": [],
      "source": [
        "# NO MODIFICAR ESTA CELDA\n",
        "assert df_limpio['Quantity'].min() > 0, \"Error: Todavía hay cantidades negativas.\"\n",
        "assert df_limpio['CustomerID'].isnull().sum() == 0, \"Error: Aún hay valores nulos en CustomerID.\"\n",
        "assert df_limpio[df_limpio['InvoiceNo'].str.contains('C')].empty, \"Error: Todavía hay facturas de cancelación.\"\n",
        "print(\"¡La limpieza básica ha sido exitosa!\")"
      ]
    },
    {
      "cell_type": "markdown",
      "metadata": {
        "id": "dhIoMfZbHRWd"
      },
      "source": [
        "## Ejercicio 3: Análisis Comparativo por País"
      ]
    },
    {
      "cell_type": "markdown",
      "metadata": {
        "id": "bJwjCIjB0nXg"
      },
      "source": [
        "Ahora que los datos están limpios, vamos a segmentarlos y a aplicar el algoritmo Apriori para encontrar los patrones de compra en el Reino Unido y Alemania."
      ]
    },
    {
      "cell_type": "markdown",
      "metadata": {
        "id": "O5KneUa30s11"
      },
      "source": [
        "**Preparación de la Cesta de Mercado (Función)**\n",
        "\n",
        "La siguiente función toma un dataframe, lo agrupa por factura y descripción, y lo transforma en el formato de matriz binaria que necesita el algoritmo Apriori. Estudia esta función, no necesitas modificarla."
      ]
    },
    {
      "cell_type": "code",
      "execution_count": null,
      "metadata": {
        "id": "h4yMVnI706-4"
      },
      "outputs": [],
      "source": [
        "# NO MODIFICAR ESTA CELDA\n",
        "def preparar_cesta(dataframe, pais):\n",
        "    \"\"\"Filtra por país y prepara la matriz de transacciones.\"\"\"\n",
        "\n",
        "    # Filtrar por el país de interés\n",
        "    df_pais = dataframe[dataframe['Country'] == pais]\n",
        "\n",
        "    # Crear la cesta: agrupar productos por factura\n",
        "    cesta = (df_pais.groupby(['InvoiceNo', 'Description'])['Quantity']\n",
        "             .sum().unstack().reset_index().fillna(0)\n",
        "             .set_index('InvoiceNo'))\n",
        "\n",
        "    # Convertir todas las cantidades positivas a 1 y todo lo demás a 0\n",
        "    def encode_units(x):\n",
        "        if x <= 0:\n",
        "            return 0\n",
        "        if x >= 1:\n",
        "            return 1\n",
        "\n",
        "    cesta_encoded = cesta.applymap(encode_units)\n",
        "    return cesta_encoded"
      ]
    },
    {
      "cell_type": "markdown",
      "metadata": {
        "id": "5lCQgW_Gw4GZ"
      },
      "source": [
        "3.1 Análisis para el Reino Unido (United Kingdom)"
      ]
    },
    {
      "cell_type": "code",
      "execution_count": null,
      "metadata": {
        "id": "bLs61PokHby6"
      },
      "outputs": [],
      "source": [
        "# TAREA: Usa la función preparar_cesta para obtener la matriz de transacciones del Reino Unido.\n",
        "### TU CÓDIGO AQUÍ ###\n"
      ]
    },
    {
      "cell_type": "code",
      "execution_count": null,
      "metadata": {
        "id": "JC0fCoyj1b0f"
      },
      "outputs": [],
      "source": [
        "# TAREA: Aplica el algoritmo apriori para encontrar itemsets con un soporte mínimo de 2%.\n",
        "### TU CÓDIGO AQUÍ ###\n"
      ]
    },
    {
      "cell_type": "code",
      "execution_count": null,
      "metadata": {
        "id": "l7FjceUa1fJH"
      },
      "outputs": [],
      "source": [
        "# TAREA: Genera las reglas de asociación. Queremos reglas con un Lift mayor a 3.\n",
        "### TU CÓDIGO AQUÍ ###\n"
      ]
    },
    {
      "cell_type": "code",
      "execution_count": null,
      "metadata": {
        "id": "m5kCHUCc1kHB"
      },
      "outputs": [],
      "source": [
        "# Ordena las reglas por Lift y Confianza de mayor a menor\n",
        "### TU CÓDIGO AQUÍ ###\n"
      ]
    },
    {
      "cell_type": "markdown",
      "metadata": {
        "id": "cAGw2_yV1sxd"
      },
      "source": [
        "3.3 Observa las 3 reglas con el Lift más alto para el Reino Unido (1, 3 y 5). **Interprétalas:** ¿Qué te dicen estas asociaciones? ¿Qué tipo de productos son?"
      ]
    },
    {
      "cell_type": "markdown",
      "metadata": {
        "id": "69bisfMiTkBJ"
      },
      "source": [
        "3.4 Interpreta el Soporte para el antecedente y el consecuente, la Confianza y el Lift"
      ]
    },
    {
      "cell_type": "markdown",
      "metadata": {
        "id": "rl2T5pW-3Wh6"
      },
      "source": [
        "3.5 **Recomendación de Negocio:** Basado en estas reglas, ¿qué promoción o estrategia de venta específica podrías sugerir para el mercado del Reino Unido?"
      ]
    },
    {
      "cell_type": "markdown",
      "metadata": {
        "id": "wz2wb9vF17lw"
      },
      "source": [
        "3.6 Análisis para Alemania (Germany)"
      ]
    },
    {
      "cell_type": "code",
      "execution_count": null,
      "metadata": {
        "id": "0PxydrOH18j_"
      },
      "outputs": [],
      "source": [
        "# TAREA: Usa la función preparar_cesta para obtener la matriz de transacciones de Alemania.\n",
        "### TU CÓDIGO AQUÍ ###\n"
      ]
    },
    {
      "cell_type": "code",
      "execution_count": null,
      "metadata": {
        "id": "Kw4X54GI1-zH"
      },
      "outputs": [],
      "source": [
        "# TAREA: Aplica el algoritmo apriori con un soporte mínimo del 2%.\n",
        "### TU CÓDIGO AQUÍ ###\n"
      ]
    },
    {
      "cell_type": "code",
      "execution_count": null,
      "metadata": {
        "id": "GTlIxDKe2B6E"
      },
      "outputs": [],
      "source": [
        "# TAREA: Genera las reglas de asociación con un Lift mayor a 3.\n",
        "### TU CÓDIGO AQUÍ ###\n"
      ]
    },
    {
      "cell_type": "code",
      "execution_count": null,
      "metadata": {
        "id": "i-vSQNmU2Fbu"
      },
      "outputs": [],
      "source": [
        "# Ordena las reglas por Lift y Confianza de mayor a menor\n",
        "### TU CÓDIGO AQUÍ ###\n"
      ]
    },
    {
      "cell_type": "markdown",
      "metadata": {
        "id": "L2QuMMj72KRc"
      },
      "source": [
        "3.7 Observa las 3 reglas con el Lift más alto para Alemania (1, 3 y 5). **Interprétalas:** ¿Qué patrones de consumo específicos del mercado alemán revelan estas reglas? ¿Son diferentes a los del Reino Unido?\n",
        "\n"
      ]
    },
    {
      "cell_type": "markdown",
      "metadata": {
        "id": "VjXuys6oS0Iq"
      },
      "source": [
        "3.8 Interpreta el Soporte para el antecedente y el consecuente, la Confianza y el Lift"
      ]
    },
    {
      "cell_type": "markdown",
      "metadata": {
        "id": "QPJgf2JY3AAX"
      },
      "source": [
        "3.9 **Recomendación de Negocio:** ¿Qué campaña de marketing (diferente a la del Reino Unido) podrías diseñar para los clientes alemanes?"
      ]
    }
  ],
  "metadata": {
    "colab": {
      "provenance": [],
      "toc_visible": true
    },
    "kernelspec": {
      "display_name": "Python 3",
      "language": "python",
      "name": "python3"
    },
    "language_info": {
      "codemirror_mode": {
        "name": "ipython",
        "version": 3
      },
      "file_extension": ".py",
      "mimetype": "text/x-python",
      "name": "python",
      "nbconvert_exporter": "python",
      "pygments_lexer": "ipython3",
      "version": "3.8.8"
    }
  },
  "nbformat": 4,
  "nbformat_minor": 0
}
