{
  "cells": [
    {
      "cell_type": "markdown",
      "metadata": {
        "id": "DHNQuIqAmvl5"
      },
      "source": [
        "<a href=\"https://colab.research.google.com/github/LinaMariaCastro/curso-ia-para-economia/blob/main/clases/4_Aprendizaje_no_supervisado/2_Apriori.ipynb\" target=\"_parent\"><img src=\"https://colab.research.google.com/assets/colab-badge.svg\" alt=\"Open In Colab\"/></a>"
      ]
    },
    {
      "cell_type": "markdown",
      "metadata": {
        "id": "5iiwfbXCQv5D"
      },
      "source": [
        "# **Inteligencia Artificial con Aplicaciones en Economía I**\n",
        "\n",
        "- 👩‍🏫 **Profesora:** [Lina María Castro](https://www.linkedin.com/in/lina-maria-castro)  \n",
        "- 📧 **Email:** [lmcastroco@gmail.com](mailto:lmcastroco@gmail.com)  \n",
        "- 🎓 **Universidad:** Universidad Externado de Colombia - Facultad de Economía"
      ]
    },
    {
      "cell_type": "markdown",
      "metadata": {
        "id": "ZZarStGHDPY4"
      },
      "source": [
        "# 🔗 **Aprendizaje por Reglas de Asociación: Algoritmo Apriori**"
      ]
    },
    {
      "cell_type": "markdown",
      "metadata": {
        "id": "7TkpEqqzDPY5"
      },
      "source": [
        "## Objetivos de Aprendizaje\n",
        "\n",
        "Al finalizar este notebook, serás capaz de:\n",
        "\n",
        "1.  **Comprender la intuición** detrás de las reglas de asociación y sus métricas clave: **Soporte, Confianza y Lift**.\n",
        "2.  **Realizar el preprocesamiento de datos** necesario para transformar datos transaccionales en un formato analizable.\n",
        "3.  **Aplicar el algoritmo Apriori** utilizando Python para extraer reglas de asociación significativas de un dataset real.\n",
        "4.  **Interpretar los resultados** del modelo en un contexto de inteligencia de mercados para proponer decisiones de negocio accionables."
      ]
    },
    {
      "cell_type": "markdown",
      "metadata": {
        "id": "PYxCLrAtDPY5"
      },
      "source": [
        "## Introducción\n",
        "\n",
        "Imaginemos que somos analistas de datos en Alkosto. Nuestro objetivo es simple: entender qué productos suelen comprar juntos nuestros clientes. Si podemos descifrar estos patrones, podemos tomar decisiones más inteligentes sobre marketing, ofertas y cómo organizar los productos en la tienda.\n",
        "\n",
        "El Análisis de Reglas de Asociación es la técnica que nos permite encontrar estas conexiones ocultas en los datos de ventas. Para ello, usamos tres métricas clave que nos ayudan a medir qué tan fuerte es una \"regla\" (como \"si los clientes compran pan, también compran leche\").\n",
        "\n",
        "1. **Soporte (Support):** *¿Qué tan popular es un producto?*\n",
        "\n",
        "- **Pregunta de Negocio:** ¿Con qué frecuencia se compran ciertos productos o combinaciones de productos?\n",
        "\n",
        "- **Explicación Directa:** El soporte es simplemente el porcentaje de todas las transacciones (o cestas de compra) que contienen un producto o una combinación específica. Nos dice qué tan popular es algo.\n",
        "\n",
        "- **Fórmula:**\n",
        "\n",
        "$$\\text{Soporte}(A \\cup B) = \\frac{\\text{Numero de transacciones con A y B}}{\\text{Total de transacciones}}*100$$\n",
        "\n",
        "- **Ejemplo:**\n",
        "  - Si de 1.000 carritos de compra, 300 llevan pan, el soporte del pan es 300/1000 = 30%.\n",
        "  - Si de esos 1000 carritos, 100 llevan pan y leche juntos, el soporte de la combinación {pan, leche} es 100/1000 = 10%.\n",
        "\n",
        "2. **Confianza (Confidence):** *¿Cuál es la asociación?*\n",
        "\n",
        "- **Pregunta de Negocio:** Si un cliente ya ha puesto el producto A en su cesta, ¿qué tan probable es que también ponga el producto B?\n",
        "\n",
        "- **Explicación Directa:** La confianza mide la probabilidad de que se compre un producto B, dado que ya se compró un producto A. Mide la fiabilidad de la inferencia {A} -> {B}.\n",
        "\n",
        "- **Fórmula:**\n",
        "\n",
        "$$\\text{Confianza}(A \\rightarrow B) = \\frac{\\text{Soporte}(A \\cup B)}{\\text{Soporte}(A)}*100$$\n",
        "\n",
        "- **Ejemplo:**\n",
        "\n",
        "  - Consideremos la regla {pan} -> {leche}. Ya sabemos que 300 carritos tienen pan. Si de esos 300, 100 también tienen leche, la confianza de la regla es 100/300 = 33% (siguiendo la fórmula: 10%/30% = 33%). Esto significa que el 33% de las veces que alguien compra pan, también compra leche.\n",
        "\n",
        "  Analicemos la fórmula:\n",
        "\n",
        "  Confianza = ((Número de transacciones con pan y leche) / (Total de transacciones)) / ((Número de transacciones con pan) / (Total de transacciones))\n",
        "  \n",
        "  Se anula (Total de transacciones) y queda:\n",
        "\n",
        "  Confianza = (Número de transacciones con pan y leche) / (Número de transacciones con pan)\n",
        "\n",
        "3. **Elevación (Lift):** *¿Es una relación real o una coincidencia?*\n",
        "\n",
        "- **Pregunta de Negocio:** ¿La compra de pan realmente impulsa la compra de leche, o la gente simplemente compra mucha leche de todos modos?\n",
        "\n",
        "- **Explicación Directa:** El Lift es la métrica más importante porque nos dice si una regla es realmente significativa o si es solo una coincidencia. Compara la probabilidad de que dos productos se compren juntos con la probabilidad de que se compren si fueran eventos independientes. Corrige los posibles engaños de la confianza.\n",
        "\n",
        "- **Fórmula:**\n",
        "\n",
        "$$\\text{Lift}(A \\rightarrow B) = \\frac{\\text{Confianza}(A \\rightarrow B)}{\\text{Soporte}(B)}$$\n",
        "\n",
        "- **Ejemplo:**\n",
        "\n",
        "  - Imaginemos la famosa regla {pañales} -> {cerveza}. Supongamos que la confianza de {pañales} -> {cerveza} es del 20%. Parece baja. Pero, ¿qué pasa si solo el 2% de todos los clientes compran cerveza?\n",
        "  \n",
        "    El Lift se calcularía como Confianza({pañales} -> {cerveza}) / Soporte({cerveza}) = 20% / 2% = 10.\n",
        "\n",
        "    Un Lift de 10 es altísimo. Significa que los clientes que compran pañales son 10 veces más propensos a comprar cerveza que un cliente promedio. Esa es una asociación muy fuerte y útil.\n",
        "\n",
        "- **Interpretación del Lift:**\n",
        "\n",
        "  - Lift > 1: La compra del producto A aumenta la probabilidad de que se compre el producto B. Son productos complementarios y la regla es interesante.\n",
        "\n",
        "  - Lift = 1: La compra de A no tiene ningún efecto en la compra de B. Son productos independientes y la regla no aporta valor.\n",
        "\n",
        "  - Lift < 1: La compra de A disminuye la probabilidad de que se compre el producto B. Son productos sustitutos (ej. si compran Coca-Cola, es menos probable que compren Pepsi)."
      ]
    },
    {
      "cell_type": "markdown",
      "metadata": {
        "id": "0fh7gzPPDPY5"
      },
      "source": [
        "## Un Ejemplo Intuitivo\n",
        "\n",
        "Antes de usar librerías complejas, vamos a calcular las métricas a mano con un mini-dataset. Esto es crucial para construir la intuición de lo que el algoritmo hará por nosotros.\n",
        "\n",
        "Imaginemos que tenemos 5 transacciones en nuestro pequeño café:"
      ]
    },
    {
      "cell_type": "code",
      "execution_count": null,
      "metadata": {
        "colab": {
          "base_uri": "https://localhost:8080/"
        },
        "id": "XT-OXkgODPY5",
        "outputId": "60d9aa70-b279-4abd-89da-e91a2f2b97e1"
      },
      "outputs": [],
      "source": [
        "# Dataset de transacciones de un café\n",
        "transacciones = [['cafe', 'pan', 'leche'],\n",
        "               ['cafe', 'azucar'],\n",
        "               ['cafe', 'pan', 'azucar'],\n",
        "               ['leche', 'pan'],\n",
        "               ['cafe', 'leche', 'pan', 'azucar']]\n",
        "\n",
        "total_transacciones = len(transacciones)\n",
        "print(f\"Tenemos un total de {total_transacciones} transacciones.\")"
      ]
    },
    {
      "cell_type": "markdown",
      "metadata": {
        "id": "4aqKd_y0DPY5"
      },
      "source": [
        "### 1.1 Calculando el Soporte\n",
        "\n",
        "Queremos encontrar el soporte para el itemset `{cafe, pan}`. Es decir, ¿en qué proporción de las transacciones aparecen el café y el pan juntos?"
      ]
    },
    {
      "cell_type": "code",
      "execution_count": null,
      "metadata": {
        "colab": {
          "base_uri": "https://localhost:8080/"
        },
        "id": "Soc7brbCDPY8",
        "outputId": "64c12a5b-3a28-49e2-9f43-3a1ba5aaeb08"
      },
      "outputs": [],
      "source": [
        "# Contemos manualmente\n",
        "frecuencia_cafe_pan = 0\n",
        "for t in transacciones:\n",
        "    if 'cafe' in t and 'pan' in t:\n",
        "        frecuencia_cafe_pan += 1\n",
        "\n",
        "soporte_cafe_pan = frecuencia_cafe_pan / total_transacciones\n",
        "\n",
        "print(f\"El itemset {{'cafe', 'pan'}} aparece en {frecuencia_cafe_pan} transacciones.\")\n",
        "print(f\"El soporte de {{'cafe', 'pan'}} es: {frecuencia_cafe_pan}/{total_transacciones} = {soporte_cafe_pan:.2f}\")"
      ]
    },
    {
      "cell_type": "markdown",
      "metadata": {
        "id": "QN2QsYTrDPY8"
      },
      "source": [
        "### 1.2 Calculando la Confianza\n",
        "\n",
        "Ahora, evaluemos la regla `{cafe} -> {pan}`. Si alguien compra café, ¿qué tan probable es que también compre pan?\n",
        "\n",
        "Necesitamos dos cosas: el soporte de `{cafe, pan}` (que ya tenemos) y el soporte de `{cafe}`."
      ]
    },
    {
      "cell_type": "code",
      "execution_count": null,
      "metadata": {
        "colab": {
          "base_uri": "https://localhost:8080/"
        },
        "id": "JSFGCmDVada2",
        "outputId": "0221c9ff-1eb3-43d7-b730-8d3056136f98"
      },
      "outputs": [],
      "source": [
        "# Primero, soporte de {cafe}\n",
        "frecuencia_cafe = 0\n",
        "for t in transacciones:\n",
        "    if 'cafe' in t:\n",
        "        frecuencia_cafe += 1\n",
        "\n",
        "soporte_cafe = frecuencia_cafe / total_transacciones\n",
        "\n",
        "print(f\"El itemset {{'cafe'}} aparece en {frecuencia_cafe} transacciones.\")\n",
        "print(f\"El soporte de {{'cafe'}} es: {frecuencia_cafe}/{total_transacciones} = {soporte_cafe:.2f}\")"
      ]
    },
    {
      "cell_type": "code",
      "execution_count": null,
      "metadata": {
        "colab": {
          "base_uri": "https://localhost:8080/"
        },
        "id": "9ltX12ppDPY8",
        "outputId": "80da2c9e-3397-48a3-bab7-92f31cbcda17"
      },
      "outputs": [],
      "source": [
        "# Ahora calculamos la confianza\n",
        "confianza_cafe_hacia_pan = soporte_cafe_pan / soporte_cafe\n",
        "\n",
        "print(f\"\\nLa confianza de la regla {{'cafe'}} -> {{'pan'}} es: {confianza_cafe_hacia_pan:.2f}\")\n",
        "print(f\"Interpretación: El 75% de las veces que alguien compra café, también compra pan.\")"
      ]
    },
    {
      "cell_type": "markdown",
      "metadata": {
        "id": "9L9rb1vwDPY8"
      },
      "source": [
        "### 1.3 Calculando el Lift (Elevación)\n",
        "\n",
        "Finalmente, ¿la regla `{cafe} -> {pan}` es realmente fuerte, o la gente simplemente compra mucho pan independientemente de si compra café?\n",
        "\n",
        "Necesitamos el soporte de `{pan}`."
      ]
    },
    {
      "cell_type": "code",
      "execution_count": null,
      "metadata": {
        "colab": {
          "base_uri": "https://localhost:8080/"
        },
        "id": "wqZMkkKxaw6s",
        "outputId": "7668a829-a2e7-463b-e174-ab8e0f110b24"
      },
      "outputs": [],
      "source": [
        "# Primero, soporte de {pan}\n",
        "frecuencia_pan = 0\n",
        "for t in transacciones:\n",
        "    if 'pan' in t:\n",
        "        frecuencia_pan += 1\n",
        "\n",
        "soporte_pan = frecuencia_pan / total_transacciones\n",
        "\n",
        "print(f\"El itemset {{'pan'}} aparece en {frecuencia_pan} transacciones.\")\n",
        "print(f\"El soporte de {{'pan'}} es: {frecuencia_pan}/{total_transacciones} = {soporte_pan:.2f}\")"
      ]
    },
    {
      "cell_type": "code",
      "execution_count": null,
      "metadata": {
        "colab": {
          "base_uri": "https://localhost:8080/"
        },
        "id": "DXs1fWpbDPY8",
        "outputId": "238db2b9-67e7-4ac9-b6ab-5b59d6d4ea21"
      },
      "outputs": [],
      "source": [
        "# Ahora calculamos el lift\n",
        "lift_cafe_pan = confianza_cafe_hacia_pan / soporte_pan\n",
        "\n",
        "print(f\"\\nEl Lift de la regla {{'cafe'}} -> {{'pan'}} es: {lift_cafe_pan:.2f}\")\n",
        "print(f\"Interpretación: Como el Lift es 0.94 (menor a 1), la presencia de café en la cesta en realidad disminuye ligeramente la probabilidad de comprar pan. La regla no es tan fuerte como parecía con la confianza.\")"
      ]
    },
    {
      "cell_type": "markdown",
      "metadata": {
        "id": "6DJORmc1DPY8"
      },
      "source": [
        "## Aplicación Real - Análisis de Cesta de un Supermercado\n",
        "\n",
        "Ahora que entendemos la mecánica, vamos a aplicar el algoritmo a un dataset real. Usaremos el dataset **\"Market Basket Optimisation\"** de Kaggle, que contiene 7.501 transacciones de un supermercado francés.\n",
        "\n",
        "**Librerías que usaremos:**\n",
        "* **Pandas:** Para la manipulación de datos.\n",
        "* **MLxtend (Machine Learning Extensions):** Es la herramienta estándar y recomendada en el ecosistema de Python para el análisis de reglas de asociación. Fue creada para complementar a scikit-learn con algoritmos y herramientas útiles que no están en el núcleo principal de la librería. Su implementación de Apriori es robusta, eficiente y la más utilizada."
      ]
    },
    {
      "cell_type": "code",
      "execution_count": null,
      "metadata": {
        "id": "9Ma7RPxaDPY8"
      },
      "outputs": [],
      "source": [
        "# Instalamos la librería si no está presente\n",
        "#!pip install mlxtend"
      ]
    },
    {
      "cell_type": "code",
      "execution_count": null,
      "metadata": {
        "id": "DEE9LMOADPY8"
      },
      "outputs": [],
      "source": [
        "import os\n",
        "import pandas as pd\n",
        "from mlxtend.frequent_patterns import apriori, association_rules\n",
        "from mlxtend.preprocessing import TransactionEncoder\n",
        "import warnings\n",
        "warnings.filterwarnings('ignore')"
      ]
    },
    {
      "cell_type": "markdown",
      "metadata": {
        "id": "jHE2ZLJuEPIe"
      },
      "source": [
        "## Mejorar visualización de dataframes"
      ]
    },
    {
      "cell_type": "code",
      "execution_count": null,
      "metadata": {
        "id": "72TA8V1fETCm"
      },
      "outputs": [],
      "source": [
        "# Que muestre todas las columnas\n",
        "pd.options.display.max_columns = None\n",
        "# En los dataframes, mostrar los float con dos decimales\n",
        "pd.options.display.float_format = '{:,.2f}'.format"
      ]
    },
    {
      "cell_type": "markdown",
      "metadata": {
        "id": "HAJxcPsXDPY8"
      },
      "source": [
        "### 2.1 Carga y Preprocesamiento de Datos\n",
        "\n",
        "El dataset original está en un formato \"ancho\", donde cada fila es una transacción y cada columna un ítem de esa transacción. El algoritmo Apriori necesita un formato diferente: una matriz booleana donde cada fila es una transacción y cada columna representa un producto único de la tienda. El valor será `True` o `1` si el producto está en la transacción, y `False` o `0` si no lo está."
      ]
    },
    {
      "cell_type": "code",
      "execution_count": null,
      "metadata": {
        "colab": {
          "base_uri": "https://localhost:8080/"
        },
        "id": "KYRaLbXlMc_c",
        "outputId": "98136d6f-e881-4170-86ff-831a67e99b8d"
      },
      "outputs": [],
      "source": [
        "from google.colab import drive, files\n",
        "drive.mount('/content/drive')"
      ]
    },
    {
      "cell_type": "code",
      "execution_count": null,
      "metadata": {
        "id": "dQSa_neuGLji"
      },
      "outputs": [],
      "source": [
        "path = '/content/drive/MyDrive/2025_ii_curso_ia_economia/datasets'"
      ]
    },
    {
      "cell_type": "code",
      "execution_count": null,
      "metadata": {
        "id": "cka8EDXhQuee"
      },
      "outputs": [],
      "source": [
        "# Para establecer el directorio de los archivos\n",
        "os.chdir(path)"
      ]
    },
    {
      "cell_type": "code",
      "execution_count": null,
      "metadata": {
        "colab": {
          "base_uri": "https://localhost:8080/",
          "height": 528
        },
        "id": "zEjW10KsumIj",
        "outputId": "78c116e6-9549-4df2-cbfa-2dec848af7fb"
      },
      "outputs": [],
      "source": [
        "df = pd.read_csv('Market_Basket_Optimisation.csv', header=None)\n",
        "df"
      ]
    },
    {
      "cell_type": "code",
      "execution_count": null,
      "metadata": {
        "colab": {
          "base_uri": "https://localhost:8080/"
        },
        "id": "fiiv9L4ktFLM",
        "outputId": "155cb358-0cbb-47ff-f04c-fd443306c86a"
      },
      "outputs": [],
      "source": [
        "print(\"Dimensiones del dataset:\", df.shape)"
      ]
    },
    {
      "cell_type": "code",
      "execution_count": null,
      "metadata": {
        "colab": {
          "base_uri": "https://localhost:8080/"
        },
        "id": "wwdmClfuDPY8",
        "outputId": "f868301b-8c55-4d7d-e3b1-2b05144234b4"
      },
      "outputs": [],
      "source": [
        "# Paso 1: Convertir el DataFrame de pandas a una lista de listas (transacciones)\n",
        "# Es importante manejar los valores 'NaN' que indican que no hay más productos en esa transacción\n",
        "transacciones_lista = []\n",
        "for i in range(0, df.shape[0]):\n",
        "    # Para la fila i del DataFrame, crea una lista con cada valor de la fila,\n",
        "    # pero solo si ese valor no es 'nan', y luego agrega esa nueva lista a transacciones_lista.\n",
        "    transacciones_lista.append([str(df.values[i,j]) for j in range(0, df.shape[1]) if str(df.values[i,j]) != 'nan'])\n",
        "\n",
        "# Veamos las primeras 5 transacciones\n",
        "transacciones_lista[:5]"
      ]
    },
    {
      "cell_type": "code",
      "execution_count": null,
      "metadata": {
        "colab": {
          "base_uri": "https://localhost:8080/",
          "height": 279
        },
        "id": "QiJ_xcHVDPY8",
        "outputId": "e4dcd896-e21a-4804-d7c3-f8c85241c89c"
      },
      "outputs": [],
      "source": [
        "# Paso 2: Usar TransactionEncoder para transformar la lista en una matriz booleana\n",
        "# Creamos una instancia de TransactionEncoder.\n",
        "te = TransactionEncoder()\n",
        "# Aplicamos el código a nuestra lista de transacciones\n",
        "te_ary = te.fit(transacciones_lista).transform(transacciones_lista)\n",
        "df_encoded = pd.DataFrame(te_ary, columns=te.columns_)\n",
        "\n",
        "print(\"Dimensiones del dataset transformado:\", df_encoded.shape)\n",
        "df_encoded.head()"
      ]
    },
    {
      "cell_type": "markdown",
      "metadata": {
        "id": "D2Zpb_icDPY8"
      },
      "source": [
        "### 2.2 Aplicando el Algoritmo Apriori\n",
        "\n",
        "El proceso tiene dos fases:\n",
        "1.  **Generar `frequent_itemsets`:** Encontrar todas las combinaciones de productos cuyo **soporte** sea mayor a un umbral mínimo (`min_support`). Este umbral es clave: si es muy bajo, tendremos demasiadas combinaciones irrelevantes; si es muy alto, podríamos perder patrones interesantes.\n",
        "2.  **Generar `association_rules`:** A partir de los itemsets frecuentes, calcular las métricas (confianza, lift) para generar las reglas finales, filtrando por un umbral mínimo de interés (ej. `lift > 1`)."
      ]
    },
    {
      "cell_type": "markdown",
      "metadata": {
        "id": "rM4stBKR3wOP"
      },
      "source": [
        "#### Fase 1: Encontrar itemsets frecuentes"
      ]
    },
    {
      "cell_type": "markdown",
      "metadata": {
        "id": "9u-3LaCl4Fbl"
      },
      "source": [
        "El objetivo acá es analizar todas las transacciones y devolver una lista de todas las combinaciones de productos ((ítems que aparecen solos, en pares, en tríos, etc.)) que superan un umbral de popularidad mínimo."
      ]
    },
    {
      "cell_type": "code",
      "execution_count": null,
      "metadata": {
        "colab": {
          "base_uri": "https://localhost:8080/",
          "height": 363
        },
        "id": "ru-jYN4gDPY8",
        "outputId": "c89c7c85-71d1-42ad-cf06-4b18274d0e36"
      },
      "outputs": [],
      "source": [
        "# Empezaremos con un soporte mínimo del 1% (0.01)\n",
        "# Esto significa que solo consideraremos combinaciones de productos que aparezcan en al menos el 1%\n",
        "# de todas las transacciones.\n",
        "frequent_itemsets = apriori(df_encoded, min_support=0.01, use_colnames=True)\n",
        "frequent_itemsets.sort_values(by='support', ascending=False).head(10)"
      ]
    },
    {
      "cell_type": "code",
      "execution_count": null,
      "metadata": {
        "colab": {
          "base_uri": "https://localhost:8080/"
        },
        "id": "SY8_XKZ0wsJp",
        "outputId": "cece007a-6d65-4cf0-e934-0d350bf63b38"
      },
      "outputs": [],
      "source": [
        "frequent_itemsets.shape"
      ]
    },
    {
      "cell_type": "markdown",
      "metadata": {
        "id": "8SuF41JP5hml"
      },
      "source": [
        "**Nota: **\n",
        "\n",
        "En cuanto al soporte mínimo, la práctica más común es empezar con un valor relativamente alto y disminuirlo de forma iterativa hasta encontrar un balance entre la cantidad de resultados y su relevancia.\n",
        "\n",
        "Un buen rango para empezar suele ser entre 0,05 (5%) y 0.001 (0.1%).\n",
        "\n",
        "- Si min_support es muy alto (ej. 20%): Solo encontrarás las combinaciones más obvias y populares (pan, leche, huevos). El algoritmo será muy rápido, pero te perderás de patrones de nicho que suelen ser los más valiosos.\n",
        "\n",
        "- Si min_support es muy bajo (ej. 0.0001%): El algoritmo puede tardar una eternidad o agotar la memoria de tu computador. Se producirá una \"explosión combinatoria\" y generarás miles de reglas, la mayoría de las cuales serán ruido o coincidencias sin valor comercial."
      ]
    },
    {
      "cell_type": "markdown",
      "metadata": {
        "id": "7aNXqxD_31BC"
      },
      "source": [
        "#### Fase 2: Generar las reglas de asociación"
      ]
    },
    {
      "cell_type": "code",
      "execution_count": null,
      "metadata": {
        "colab": {
          "base_uri": "https://localhost:8080/",
          "height": 520
        },
        "id": "ukhhboLFDPY9",
        "outputId": "6da2f3be-7a0e-40e9-cec9-d5b66c36cac0"
      },
      "outputs": [],
      "source": [
        "# Usaremos 'lift' como métrica y un umbral de 1.2 para asegurar que las asociaciones sean positivas y no triviales.\n",
        "rules = association_rules(frequent_itemsets, metric=\"lift\", min_threshold=1.2)\n",
        "# Mostremos las 15 reglas más fuertes, ordenadas por Lift y Confianza\n",
        "rules = rules[['antecedents', 'consequents', 'antecedent support', 'consequent support', 'confidence', 'lift']]\n",
        "rules.sort_values(['lift', 'confidence'], ascending=[False, False]).head(15)"
      ]
    },
    {
      "cell_type": "code",
      "execution_count": null,
      "metadata": {
        "colab": {
          "base_uri": "https://localhost:8080/"
        },
        "id": "NzXhhNZExDY7",
        "outputId": "257c8cf7-89b4-42d5-a134-e867e37d43ad"
      },
      "outputs": [],
      "source": [
        "rules.shape"
      ]
    },
    {
      "cell_type": "markdown",
      "metadata": {
        "id": "LNSKBDO8DPY9"
      },
      "source": [
        "### 2.3 Interpretación de Resultados y Conclusiones Económicas\n",
        "\n",
        "La tabla anterior es el resultado final de nuestro análisis. Ahora, el verdadero valor está en traducirla a insights de negocio. Analicemos un par de reglas interesantes:\n",
        "\n",
        "**Regla: `{ground beef}` -> `{herb & pepper}`**\n",
        "* **Soporte (antecedents):** 0.1. La carne molida se compra en ~10% de las transacciones.\n",
        "* **Soporte (consequents):** 0.05. Las hierbas y la pimienta se compran juntas en ~5% de las transacciones.\n",
        "* **Confianza:** 0.16. Si un cliente compra carne molida, hay un 16% de probabilidad de que también compre  hierbas y pimienta.\n",
        "* **Lift:** 3.3. ¡Este es el dato clave! Los clientes que compran carne son **3,29 veces más propensos** a comprar hierbas y pimienta que un cliente promedio.\n",
        "* **Conclusión Económica/De Negocio:** Esta fuerte asociación sugiere un patrón de cocina específico, quizás para una receta en particular francesa.\n",
        "    * **Acción 1 (Cross-selling):** Colocar las especias cerca de la sección de carnes.\n",
        "    * **Acción 2 (Marketing):** Crear una campaña de marketing con una receta que use estos tres ingredientes, ofreciendo un pequeño descuento si se compran juntos."
      ]
    },
    {
      "cell_type": "markdown",
      "metadata": {
        "id": "ZjJRcaoEDPY9"
      },
      "source": [
        "## Ejercicio\n",
        "\n",
        "1.  Filtra las reglas para encontrar todas aquellas donde el consecuente (el producto comprado 'gracias a' otros) sea **'french fries'**.\n",
        "2.  De esas reglas, identifica cuál tiene el **Lift más alto**.\n",
        "3.  **Interpreta en una frase** qué significa esa regla para el negocio.\n"
      ]
    },
    {
      "cell_type": "code",
      "execution_count": null,
      "metadata": {
        "id": "Uv8UTeV4DPY9"
      },
      "outputs": [],
      "source": [
        "### TU CÓDIGO AQUÍ ###\n",
        "\n",
        "# 1. Filtrar las reglas\n",
        "\n",
        "\n",
        "# 2. Ordenar para encontrar el Lift más alto\n",
        "\n",
        "\n",
        "# 3. Escribe tu interpretación como un comentario"
      ]
    }
  ],
  "metadata": {
    "colab": {
      "provenance": [],
      "toc_visible": true
    },
    "kernelspec": {
      "display_name": "Python 3",
      "language": "python",
      "name": "python3"
    },
    "language_info": {
      "codemirror_mode": {
        "name": "ipython",
        "version": 3
      },
      "file_extension": ".py",
      "mimetype": "text/x-python",
      "name": "python",
      "nbconvert_exporter": "python",
      "pygments_lexer": "ipython3",
      "version": "3.8.8"
    }
  },
  "nbformat": 4,
  "nbformat_minor": 0
}
