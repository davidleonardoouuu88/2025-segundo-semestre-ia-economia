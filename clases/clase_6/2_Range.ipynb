{
 "cells": [
  {
   "cell_type": "markdown",
   "metadata": {
    "id": "BQg_TI8bh4y9"
   },
   "source": [
    "# **Range()**"
   ]
  },
  {
   "cell_type": "markdown",
   "metadata": {
    "id": "uyw26RU99yRC"
   },
   "source": [
    "Elaborado por: Lina María Castro\n",
    "\n",
    "Fecha: 21 de agosto de 2025"
   ]
  },
  {
   "cell_type": "markdown",
   "metadata": {
    "id": "bKhO4wX9Dck7"
   },
   "source": [
    "Retorna una lista de elementos desde 0 y hasta el parámetro menos uno que se envíe dentro de los paréntesis.\n",
    "\n",
    "Retorna solo para números enteros."
   ]
  },
  {
   "cell_type": "code",
   "execution_count": 1,
   "metadata": {
    "colab": {
     "base_uri": "https://localhost:8080/"
    },
    "executionInfo": {
     "elapsed": 8,
     "status": "ok",
     "timestamp": 1755610961824,
     "user": {
      "displayName": "Lina",
      "userId": "12754325401007705611"
     },
     "user_tz": 300
    },
    "id": "J96OO9K7wuIp",
    "outputId": "fc36cf20-432b-4d6c-b18d-31bb02aceeeb"
   },
   "outputs": [
    {
     "data": {
      "text/plain": [
       "range(0, 10)"
      ]
     },
     "execution_count": 1,
     "metadata": {},
     "output_type": "execute_result"
    }
   ],
   "source": [
    "# Lista de 0 a 9\n",
    "range(10)"
   ]
  },
  {
   "cell_type": "code",
   "execution_count": 2,
   "metadata": {
    "colab": {
     "base_uri": "https://localhost:8080/"
    },
    "executionInfo": {
     "elapsed": 17,
     "status": "ok",
     "timestamp": 1755610964387,
     "user": {
      "displayName": "Lina",
      "userId": "12754325401007705611"
     },
     "user_tz": 300
    },
    "id": "ZEJuVF6IwuIq",
    "outputId": "bae8bcf6-e740-40d2-fe96-bd71b4e0965c"
   },
   "outputs": [
    {
     "data": {
      "text/plain": [
       "[0, 1, 2, 3, 4, 5, 6, 7, 8, 9]"
      ]
     },
     "execution_count": 2,
     "metadata": {},
     "output_type": "execute_result"
    }
   ],
   "source": [
    "list(range(10))"
   ]
  },
  {
   "cell_type": "code",
   "execution_count": 5,
   "metadata": {
    "colab": {
     "base_uri": "https://localhost:8080/"
    },
    "executionInfo": {
     "elapsed": 6,
     "status": "ok",
     "timestamp": 1755611204764,
     "user": {
      "displayName": "Lina",
      "userId": "12754325401007705611"
     },
     "user_tz": 300
    },
    "id": "4MvvCfmblJ_X",
    "outputId": "ac0c471d-8a6c-4395-f63b-8d19cfc5f806"
   },
   "outputs": [
    {
     "data": {
      "text/plain": [
       "[10, 13, 16, 19]"
      ]
     },
     "execution_count": 5,
     "metadata": {},
     "output_type": "execute_result"
    }
   ],
   "source": [
    "list(range(10,20,3))"
   ]
  },
  {
   "cell_type": "code",
   "execution_count": null,
   "metadata": {
    "colab": {
     "base_uri": "https://localhost:8080/"
    },
    "executionInfo": {
     "elapsed": 50,
     "status": "ok",
     "timestamp": 1755575507308,
     "user": {
      "displayName": "Lina",
      "userId": "12754325401007705611"
     },
     "user_tz": 300
    },
    "id": "4u9vgP7bwuIq",
    "outputId": "9775736b-b55a-4620-cac2-624346d3f1fa"
   },
   "outputs": [
    {
     "data": {
      "text/plain": [
       "[10, 12, 14, 16, 18]"
      ]
     },
     "execution_count": 3,
     "metadata": {},
     "output_type": "execute_result"
    }
   ],
   "source": [
    "# Lista de 10 a 19, cada 2 elementos\n",
    "list(range(10,20,2))"
   ]
  },
  {
   "cell_type": "code",
   "execution_count": null,
   "metadata": {
    "colab": {
     "base_uri": "https://localhost:8080/"
    },
    "executionInfo": {
     "elapsed": 29,
     "status": "ok",
     "timestamp": 1755575507333,
     "user": {
      "displayName": "Lina",
      "userId": "12754325401007705611"
     },
     "user_tz": 300
    },
    "id": "4GPstSp_Dck8",
    "outputId": "53c1acad-f7ec-421c-b611-045950744fb1"
   },
   "outputs": [
    {
     "data": {
      "text/plain": [
       "range(0, 5)"
      ]
     },
     "execution_count": 4,
     "metadata": {},
     "output_type": "execute_result"
    }
   ],
   "source": [
    "# Lista de 0 a 4\n",
    "range(5)"
   ]
  },
  {
   "cell_type": "code",
   "execution_count": null,
   "metadata": {
    "colab": {
     "base_uri": "https://localhost:8080/"
    },
    "executionInfo": {
     "elapsed": 21,
     "status": "ok",
     "timestamp": 1755575507335,
     "user": {
      "displayName": "Lina",
      "userId": "12754325401007705611"
     },
     "user_tz": 300
    },
    "id": "c_q6UGYGDck-",
    "outputId": "5cf2b95c-07d7-4f6d-a662-a440c65db4fd"
   },
   "outputs": [
    {
     "data": {
      "text/plain": [
       "[0, 1, 2, 3, 4]"
      ]
     },
     "execution_count": 5,
     "metadata": {},
     "output_type": "execute_result"
    }
   ],
   "source": [
    "list(range(5))"
   ]
  },
  {
   "cell_type": "code",
   "execution_count": null,
   "metadata": {
    "colab": {
     "base_uri": "https://localhost:8080/"
    },
    "executionInfo": {
     "elapsed": 11,
     "status": "ok",
     "timestamp": 1755575507336,
     "user": {
      "displayName": "Lina",
      "userId": "12754325401007705611"
     },
     "user_tz": 300
    },
    "id": "tqLFs4r7Dck8",
    "outputId": "65d8bd90-b0e0-407c-dc69-8c7c75c9a703"
   },
   "outputs": [
    {
     "name": "stdout",
     "output_type": "stream",
     "text": [
      "0\n",
      "1\n",
      "2\n",
      "3\n",
      "4\n"
     ]
    }
   ],
   "source": [
    "for i in range(5):\n",
    "    print(i)"
   ]
  }
 ],
 "metadata": {
  "colab": {
   "provenance": [
    {
     "file_id": "1u_DYVwlW1KcUgHJjY2EYuXJyvkNvCrYz",
     "timestamp": 1755560018270
    },
    {
     "file_id": "1_Hp9GI6Is3EcT38i0OVExEzEu3QxRuT9",
     "timestamp": 1755496990698
    },
    {
     "file_id": "1I4Y7qgBrOx5Z8XLGFglwg55g_7jVA5q_",
     "timestamp": 1551148160271
    },
    {
     "file_id": "10O8Tgsk9uEkr4RG8KkOOgdYBSLOzmDhx",
     "timestamp": 1536809429843
    }
   ],
   "toc_visible": true
  },
  "kernelspec": {
   "display_name": "Python 3",
   "language": "python",
   "name": "python3"
  }
 },
 "nbformat": 4,
 "nbformat_minor": 0
}
