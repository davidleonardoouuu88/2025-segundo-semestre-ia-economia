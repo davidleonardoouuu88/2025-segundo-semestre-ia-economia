{
 "cells": [
  {
   "cell_type": "markdown",
   "metadata": {
    "id": "BQg_TI8bh4y9"
   },
   "source": [
    "# **Condicionales y Bucles**"
   ]
  },
  {
   "cell_type": "markdown",
   "metadata": {
    "id": "uyw26RU99yRC"
   },
   "source": [
    "Elaborado por: Lina María Castro\n",
    "\n",
    "Fecha: 26 de agosto de 2025"
   ]
  },
  {
   "cell_type": "markdown",
   "metadata": {
    "id": "7sHYMCNTNq6J"
   },
   "source": [
    "## Condicionales: if,elif, else\n",
    "\n",
    "- Se conocen como estructuras condicionales o sentencias condicionales.\n",
    "\n",
    "- Sirven para tomar decisiones en el flujo del programa dependiendo de si una condición es verdadera o falsa."
   ]
  },
  {
   "cell_type": "code",
   "execution_count": null,
   "metadata": {
    "colab": {
     "base_uri": "https://localhost:8080/"
    },
    "executionInfo": {
     "elapsed": 30,
     "status": "ok",
     "timestamp": 1755575620024,
     "user": {
      "displayName": "Lina",
      "userId": "12754325401007705611"
     },
     "user_tz": 300
    },
    "id": "E794dYliDckv",
    "outputId": "69f5a162-b408-4a96-b979-7daead45a93e"
   },
   "outputs": [],
   "source": [
    "# Si 1<2 entonces imprima si\n",
    "if 1 < 2:\n",
    "  print('Si')\n"
   ]
  },
  {
   "cell_type": "code",
   "execution_count": null,
   "metadata": {
    "id": "fL4SdO_4Dckw"
   },
   "outputs": [],
   "source": [
    "# Si 1>2 entonces imprima si (no imprime nada porque la condición no se cumple)\n",
    "if 1 > 2:\n",
    "    print('Si')"
   ]
  },
  {
   "cell_type": "code",
   "execution_count": null,
   "metadata": {
    "colab": {
     "base_uri": "https://localhost:8080/"
    },
    "executionInfo": {
     "elapsed": 28,
     "status": "ok",
     "timestamp": 1755575620087,
     "user": {
      "displayName": "Lina",
      "userId": "12754325401007705611"
     },
     "user_tz": 300
    },
    "id": "-NO6UctQDcky",
    "outputId": "09d5eb79-9f54-4271-a580-c67a3f9fd4ef"
   },
   "outputs": [],
   "source": [
    "# Si 10<2 entonces imprima first e imprima si. Luego imprima last\n",
    "# Last se imprime en todos los casos porque está fuera del condicional, ya que no tiene tabulación\n",
    "if 10 < 2:\n",
    "    print('first')\n",
    "    print('Si')\n",
    "print('last')"
   ]
  },
  {
   "cell_type": "code",
   "execution_count": null,
   "metadata": {
    "colab": {
     "base_uri": "https://localhost:8080/"
    },
    "executionInfo": {
     "elapsed": 9,
     "status": "ok",
     "timestamp": 1755575620089,
     "user": {
      "displayName": "Lina",
      "userId": "12754325401007705611"
     },
     "user_tz": 300
    },
    "id": "SiG78oRsDckz",
    "outputId": "21bdefb5-3b97-4c71-b5c6-f6eabfe0dbf6"
   },
   "outputs": [],
   "source": [
    "# Si 1>2 imprima fisrt, de lo contrario, imprima last\n",
    "if 1 > 2:\n",
    "    print('first')\n",
    "else:\n",
    "    print('last')"
   ]
  },
  {
   "cell_type": "code",
   "execution_count": null,
   "metadata": {
    "colab": {
     "base_uri": "https://localhost:8080/"
    },
    "executionInfo": {
     "elapsed": 201,
     "status": "ok",
     "timestamp": 1755575620292,
     "user": {
      "displayName": "Lina",
      "userId": "12754325401007705611"
     },
     "user_tz": 300
    },
    "id": "T-AVIpW5Dck0",
    "outputId": "74fa2243-0efa-44d2-8f5c-324406c16c3d"
   },
   "outputs": [],
   "source": [
    "# Si 1==2 imprima first, si no, entonces revise si 3==2 e imprima middle.\n",
    "# Si no se cumplen las condiciones anteriores, entonces imprima last\n",
    "if 1 == 2:\n",
    "    print('first')\n",
    "elif 3 == 2:\n",
    "    print('middle')\n",
    "else:\n",
    "    print('Last')"
   ]
  },
  {
   "cell_type": "code",
   "execution_count": null,
   "metadata": {
    "colab": {
     "base_uri": "https://localhost:8080/"
    },
    "executionInfo": {
     "elapsed": 18,
     "status": "ok",
     "timestamp": 1755575620330,
     "user": {
      "displayName": "Lina",
      "userId": "12754325401007705611"
     },
     "user_tz": 300
    },
    "id": "932c49QrDck0",
    "outputId": "4e3f0e3c-a1ca-4f3d-aea9-342cdd47648f"
   },
   "outputs": [],
   "source": [
    "# Si 1==2 imprima first, si no, entonces revise si 4>0 e imprima second.\n",
    "# Si no, entonces revise si 3==3 e imprima middle\n",
    "# Si no se cumplen las condiciones anteriores, entonces imprima last\n",
    "if 1 == 2:\n",
    "    print('first')\n",
    "elif 4 > 0:\n",
    "    print('second')\n",
    "elif 3 == 3:\n",
    "    print('middle')\n",
    "else:\n",
    "    print('Last')"
   ]
  },
  {
   "cell_type": "markdown",
   "metadata": {
    "id": "_LmcKFK3ua0i"
   },
   "source": [
    "### Ejemplos"
   ]
  },
  {
   "cell_type": "code",
   "execution_count": null,
   "metadata": {
    "colab": {
     "base_uri": "https://localhost:8080/"
    },
    "executionInfo": {
     "elapsed": 14,
     "status": "ok",
     "timestamp": 1755575620336,
     "user": {
      "displayName": "Lina",
      "userId": "12754325401007705611"
     },
     "user_tz": 300
    },
    "id": "vOXiheNNuubr",
    "outputId": "16d6be53-583d-4e95-f7aa-4e76c4a78f85"
   },
   "outputs": [],
   "source": [
    "ingreso = 1800000\n",
    "\n",
    "if ingreso < 1160000:\n",
    "    print(\"El trabajador gana menos de un salario mínimo\")\n",
    "elif ingreso <= 2320000:\n",
    "    print(\"El trabajador gana entre 1 y 2 salarios mínimos\")\n",
    "else:\n",
    "    print(\"El trabajador gana más de 2 salarios mínimos\")"
   ]
  },
  {
   "cell_type": "code",
   "execution_count": null,
   "metadata": {
    "colab": {
     "base_uri": "https://localhost:8080/"
    },
    "executionInfo": {
     "elapsed": 11,
     "status": "ok",
     "timestamp": 1755575620338,
     "user": {
      "displayName": "Lina",
      "userId": "12754325401007705611"
     },
     "user_tz": 300
    },
    "id": "cfPlHRlvurC_",
    "outputId": "d81a84ef-2079-4614-c1c5-622dba95e492"
   },
   "outputs": [],
   "source": [
    "costo_produccion = 50\n",
    "precio_internacional = 70\n",
    "costo_exportacion = 25\n",
    "\n",
    "if precio_internacional - costo_exportacion > costo_produccion:\n",
    "    print(\"La empresa debe exportar\")\n",
    "else:\n",
    "    print(\"No es rentable exportar\")"
   ]
  },
  {
   "cell_type": "markdown",
   "metadata": {
    "id": "2XSpzzk4uctG"
   },
   "source": [
    "### Ejercicios"
   ]
  },
  {
   "cell_type": "markdown",
   "metadata": {
    "id": "JrpCV7PXu0u4"
   },
   "source": [
    "El DANE define la línea de pobreza en 400.000 pesos mensuales per cápita. Escribe un programa que pida el ingreso mensual de una persona y determine:\n",
    "\n",
    "- Si está en pobreza extrema (menos de 200.000).\n",
    "\n",
    "- Si está en pobreza (entre 200.000 y 400.000).\n",
    "\n",
    "- Si no está en pobreza (más de 400.000)."
   ]
  },
  {
   "cell_type": "code",
   "execution_count": null,
   "metadata": {
    "colab": {
     "base_uri": "https://localhost:8080/"
    },
    "executionInfo": {
     "elapsed": 6499,
     "status": "ok",
     "timestamp": 1755575626834,
     "user": {
      "displayName": "Lina",
      "userId": "12754325401007705611"
     },
     "user_tz": 300
    },
    "id": "vz5GOFuDu4pB",
    "outputId": "2d63a59f-01ac-46a6-ae05-23a8ddd3ff06"
   },
   "outputs": [],
   "source": [
    "# Pedimos al usuario su ingreso mensual\n",
    "\n",
    "\n"
   ]
  },
  {
   "cell_type": "markdown",
   "metadata": {
    "id": "UGmqXBbEu7yt"
   },
   "source": [
    "Un país cobra impuestos según estos rangos:\n",
    "\n",
    "- Menos de 2.000.000 → 0%\n",
    "\n",
    "- Entre 2.000.000 y 5.000.000 → 10%\n",
    "\n",
    "- Más de 5.000.000 → 20%\n",
    "\n",
    "Escribe un programa que pida el ingreso anual de una persona y calcule cuánto debe pagar de impuestos."
   ]
  },
  {
   "cell_type": "code",
   "execution_count": null,
   "metadata": {
    "colab": {
     "base_uri": "https://localhost:8080/"
    },
    "executionInfo": {
     "elapsed": 9813,
     "status": "ok",
     "timestamp": 1755575636640,
     "user": {
      "displayName": "Lina",
      "userId": "12754325401007705611"
     },
     "user_tz": 300
    },
    "id": "DzQe8bFWvDNx",
    "outputId": "36138721-2467-4108-e284-827ee6cf5f4c"
   },
   "outputs": [],
   "source": [
    "# Pedimos al usuario su ingreso anual\n",
    "\n",
    "\n"
   ]
  },
  {
   "cell_type": "markdown",
   "metadata": {
    "id": "SNLogidO9xsb"
   },
   "source": [
    "### Ejemplo Condicionales Vs. Diccionarios"
   ]
  },
  {
   "cell_type": "markdown",
   "metadata": {
    "id": "BOBFq6lo9xsb"
   },
   "source": [
    "Vamos a crear un programa para convertir desde pesos colombianos a otras monedas."
   ]
  },
  {
   "cell_type": "markdown",
   "metadata": {
    "id": "58tv3ztK9xsb"
   },
   "source": [
    "#### Solución con if, elif, else para cada posible caso:"
   ]
  },
  {
   "cell_type": "markdown",
   "metadata": {
    "id": "8eMs6dim9xsb"
   },
   "source": [
    "Es una solución muy extensa si se tienen muchas monedas y se complica ingresar una nueva moneda o cambiar valores."
   ]
  },
  {
   "cell_type": "code",
   "execution_count": 1,
   "metadata": {
    "colab": {
     "base_uri": "https://localhost:8080/"
    },
    "executionInfo": {
     "elapsed": 19058,
     "status": "ok",
     "timestamp": 1756196811667,
     "user": {
      "displayName": "Lina",
      "userId": "12754325401007705611"
     },
     "user_tz": 300
    },
    "id": "rl4DNF7k9xsb",
    "outputId": "22f3eb19-362c-4bf6-c0c2-429660966d98"
   },
   "outputs": [],
   "source": [
    "pesos=int(input(\"Pesos: \"))\n",
    "moneda=(input(\"Moneda destino: \"))\n",
    "if moneda==\"EUR\":\n",
    "    print(f\"{pesos} pesos --> {pesos/4670} euros\")\n",
    "elif moneda==\"USD\":\n",
    "    print(f\"{pesos} pesos --> {pesos/4025} dólares\")\n",
    "elif moneda==\"GBP\":\n",
    "    print(f\"{pesos} pesos --> {pesos/5428} libras\")\n",
    "else:\n",
    "    print(\"Conversión desconocida\")"
   ]
  },
  {
   "cell_type": "markdown",
   "metadata": {
    "id": "ZH57N2dy9xsc"
   },
   "source": [
    "#### Solución con diccionarios"
   ]
  },
  {
   "cell_type": "markdown",
   "metadata": {
    "id": "3lh6vJuc9xsc"
   },
   "source": [
    "Es una forma más eficiente y segura de resolver este problema. Además, facilita ingresar nuevas monedas al código de conversión de monedas o cambiar valores."
   ]
  },
  {
   "cell_type": "code",
   "execution_count": 2,
   "metadata": {
    "executionInfo": {
     "elapsed": 32,
     "status": "ok",
     "timestamp": 1756196866438,
     "user": {
      "displayName": "Lina",
      "userId": "12754325401007705611"
     },
     "user_tz": 300
    },
    "id": "LuPRW7JQ9xsc"
   },
   "outputs": [],
   "source": [
    "monedas={'EUR':('euros', 4670),\n",
    "        'USD':('dólares', 4025),\n",
    "        'GBP':('libras', 5428)}"
   ]
  },
  {
   "cell_type": "code",
   "execution_count": 3,
   "metadata": {
    "colab": {
     "base_uri": "https://localhost:8080/"
    },
    "executionInfo": {
     "elapsed": 8794,
     "status": "ok",
     "timestamp": 1756196884148,
     "user": {
      "displayName": "Lina",
      "userId": "12754325401007705611"
     },
     "user_tz": 300
    },
    "id": "DpG9RV5f9xsc",
    "outputId": "47c18618-acec-4d23-d0f1-2e65ffdf6f13"
   },
   "outputs": [],
   "source": [
    "pesos=int(input(\"Pesos: \"))\n",
    "m=(input(\"Moneda destino: \"))\n",
    "if m in monedas:\n",
    "    print(f\"{pesos} pesos --> {pesos/monedas[m][1]} {monedas[m][0]}\")\n",
    "else:\n",
    "    print(\"Conversión desconocida\")"
   ]
  },
  {
   "cell_type": "markdown",
   "metadata": {
    "id": "e1hfAzd0qL70"
   },
   "source": [
    "## Bucles\n",
    "\n",
    "- Se conocen como estructuras de control repetitivas, bucles o ciclos de iteración.\n",
    "\n",
    "- Se usan para repetir un bloque de código varias veces (de forma controlada con for o mientras se cumpla una condición con while)."
   ]
  },
  {
   "cell_type": "markdown",
   "metadata": {
    "id": "HMy3uaWADck1"
   },
   "source": [
    "### Ciclo for\n",
    "\n",
    "Permite recorrer de manera secuencial los elementos de un iterable (como una lista, tupla, cadena o rango) y ejecutar un bloque de código por cada elemento."
   ]
  },
  {
   "cell_type": "code",
   "execution_count": null,
   "metadata": {
    "id": "PLrA1x5wDck1"
   },
   "outputs": [],
   "source": [
    "# Primero se establece una secuencia\n",
    "seq = [1, 2, 3, 4, 5, 6, 7, 8]"
   ]
  },
  {
   "cell_type": "code",
   "execution_count": null,
   "metadata": {
    "colab": {
     "base_uri": "https://localhost:8080/"
    },
    "executionInfo": {
     "elapsed": 53,
     "status": "ok",
     "timestamp": 1755575640219,
     "user": {
      "displayName": "Lina",
      "userId": "12754325401007705611"
     },
     "user_tz": 300
    },
    "id": "JUI_5CS-Dck2",
    "outputId": "2ab9ca00-bf1a-4d5a-a8e2-99e2dc0043c6"
   },
   "outputs": [],
   "source": [
    "# Para cada item de seq imprima OK (en lugar de item se puede poner cualquier nombre)\n",
    "for item in seq:\n",
    "    print('OK')"
   ]
  },
  {
   "cell_type": "code",
   "execution_count": null,
   "metadata": {
    "colab": {
     "base_uri": "https://localhost:8080/"
    },
    "executionInfo": {
     "elapsed": 28,
     "status": "ok",
     "timestamp": 1755575640221,
     "user": {
      "displayName": "Lina",
      "userId": "12754325401007705611"
     },
     "user_tz": 300
    },
    "id": "-5WVDsrWDck3",
    "outputId": "4b4ea6e9-5373-4318-c474-9093bc02b8b3"
   },
   "outputs": [],
   "source": [
    "# Para cada item de seq imprima el item\n",
    "for item in seq:\n",
    "    print(item)"
   ]
  },
  {
   "cell_type": "code",
   "execution_count": null,
   "metadata": {
    "id": "vjUlfaCdDck4"
   },
   "outputs": [],
   "source": [
    "seq = [1,2,3,4,5]"
   ]
  },
  {
   "cell_type": "code",
   "execution_count": null,
   "metadata": {
    "colab": {
     "base_uri": "https://localhost:8080/"
    },
    "executionInfo": {
     "elapsed": 21,
     "status": "ok",
     "timestamp": 1755575640244,
     "user": {
      "displayName": "Lina",
      "userId": "12754325401007705611"
     },
     "user_tz": 300
    },
    "id": "wLgyaEUcDck5",
    "outputId": "f0917bd3-86b0-4672-f0fd-ec738c99885e"
   },
   "outputs": [],
   "source": [
    "# Se crea una lista vacia y luego se dice que para cada elemento (num) de la secuencia\n",
    "# agregue a la lista el elemento sumado\n",
    "lista = []\n",
    "for num in seq:\n",
    "    lista.append(num+num)\n",
    "lista # Imprimir la lista resultante"
   ]
  },
  {
   "cell_type": "markdown",
   "metadata": {
    "id": "3KZrQnOrqwHz"
   },
   "source": [
    "#### Ejemplos"
   ]
  },
  {
   "cell_type": "code",
   "execution_count": null,
   "metadata": {
    "colab": {
     "base_uri": "https://localhost:8080/"
    },
    "executionInfo": {
     "elapsed": 7,
     "status": "ok",
     "timestamp": 1755575640253,
     "user": {
      "displayName": "Lina",
      "userId": "12754325401007705611"
     },
     "user_tz": 300
    },
    "id": "gSVRfNwoq6p3",
    "outputId": "1e8297e7-4038-415f-96cd-553e76fe6056"
   },
   "outputs": [],
   "source": [
    "# Recorrer una lista de productos y mostrar sus precios\n",
    "productos = [\"Café\", \"Azúcar\", \"Arroz\", \"Aceite\"]\n",
    "precios = [5000, 3500, 4200, 12000]\n",
    "\n",
    "for i in range(len(productos)):\n",
    "    print(f\"El precio de {productos[i]} es {precios[i]} pesos\")"
   ]
  },
  {
   "cell_type": "code",
   "execution_count": null,
   "metadata": {
    "colab": {
     "base_uri": "https://localhost:8080/"
    },
    "executionInfo": {
     "elapsed": 7,
     "status": "ok",
     "timestamp": 1755575640261,
     "user": {
      "displayName": "Lina",
      "userId": "12754325401007705611"
     },
     "user_tz": 300
    },
    "id": "UPDUplMyrEnG",
    "outputId": "fb474014-9dc2-4b8d-dd2e-2e33d503f07f"
   },
   "outputs": [],
   "source": [
    "# Calcular el total importado por una lista de países\n",
    "importaciones = {\"Colombia\": 1500, \"México\": 2300, \"Chile\": 1200}\n",
    "\n",
    "total = 0\n",
    "for valor in importaciones.values():\n",
    "    total += valor\n",
    "\n",
    "print(f\"El total importado es: {total} millones de USD\")\n"
   ]
  },
  {
   "cell_type": "markdown",
   "metadata": {
    "id": "hiUGe8D2nENT"
   },
   "source": [
    "Escribe un programa que use range() para sumar todos los números del 1 al 100 e imprima el resultado."
   ]
  },
  {
   "cell_type": "code",
   "execution_count": null,
   "metadata": {
    "colab": {
     "base_uri": "https://localhost:8080/"
    },
    "executionInfo": {
     "elapsed": 45,
     "status": "ok",
     "timestamp": 1755575640308,
     "user": {
      "displayName": "Lina",
      "userId": "12754325401007705611"
     },
     "user_tz": 300
    },
    "id": "Ouz1kw6bnIYV",
    "outputId": "62bde9f0-b1a7-4d31-f267-fc7656821457"
   },
   "outputs": [],
   "source": [
    "# Inicializamos una variable acumuladora en 0\n",
    "suma = 0\n",
    "\n",
    "# Recorremos los números del 1 al 100\n",
    "for i in range(1, 101):\n",
    "    suma += i   # sumamos cada número a la variable acumuladora\n",
    "\n",
    "# Mostramos el resultado\n",
    "print(\"La suma de los números del 1 al 100 es:\", suma)"
   ]
  },
  {
   "cell_type": "markdown",
   "metadata": {
    "id": "XbDSSQtFrsBk"
   },
   "source": [
    "#### Ejercicios"
   ]
  },
  {
   "cell_type": "markdown",
   "metadata": {
    "id": "y8Ex-kHlrzLF"
   },
   "source": [
    "Tienes la lista de precios de 5 productos. Escribe un ciclo for que recorra la lista y muestre cada precio en pantalla con el mensaje: \"El precio del producto es: XXXX pesos\""
   ]
  },
  {
   "cell_type": "code",
   "execution_count": null,
   "metadata": {
    "id": "sodiVefKrux3"
   },
   "outputs": [],
   "source": [
    "precios = [2500, 3700, 4100, 2900, 6000]"
   ]
  },
  {
   "cell_type": "code",
   "execution_count": null,
   "metadata": {
    "colab": {
     "base_uri": "https://localhost:8080/"
    },
    "executionInfo": {
     "elapsed": 32,
     "status": "ok",
     "timestamp": 1755575640318,
     "user": {
      "displayName": "Lina",
      "userId": "12754325401007705611"
     },
     "user_tz": 300
    },
    "id": "w3BIpquQ48eb",
    "outputId": "67e279d7-caa0-4af7-8146-9648baf2d180"
   },
   "outputs": [],
   "source": [
    "# Recorrer la lista con un ciclo for\n"
   ]
  },
  {
   "cell_type": "markdown",
   "metadata": {
    "id": "Mc1eEFz5sDc3"
   },
   "source": [
    "Tienes un diccionario con exportaciones en millones de USD. Escribe un ciclo for que recorra los valores, calcule el promedio de exportaciones y lo imprima como: \"El promedio de exportaciones es: XXXX millones de USD\""
   ]
  },
  {
   "cell_type": "code",
   "execution_count": null,
   "metadata": {
    "id": "ukMQBtDssF2C"
   },
   "outputs": [],
   "source": [
    "exportaciones = {\"Colombia\": 1500, \"México\": 2300, \"Chile\": 1200, \"Perú\": 1800}"
   ]
  },
  {
   "cell_type": "code",
   "execution_count": null,
   "metadata": {
    "colab": {
     "base_uri": "https://localhost:8080/"
    },
    "executionInfo": {
     "elapsed": 14,
     "status": "ok",
     "timestamp": 1755575640320,
     "user": {
      "displayName": "Lina",
      "userId": "12754325401007705611"
     },
     "user_tz": 300
    },
    "id": "9hgm8jFg5PbG",
    "outputId": "64cf3bd8-f5bc-471a-8989-037caa230b2c"
   },
   "outputs": [],
   "source": []
  },
  {
   "cell_type": "markdown",
   "metadata": {
    "id": "ORFuj2hSDck5"
   },
   "source": [
    "### Ciclo while\n",
    "\n",
    "Se utiliza para ejecutar un bloque de código mientras una condición sea verdadera. Es útil cuando no sabemos cuántas veces necesitaremos repetir una acción."
   ]
  },
  {
   "cell_type": "code",
   "execution_count": null,
   "metadata": {
    "colab": {
     "base_uri": "https://localhost:8080/"
    },
    "executionInfo": {
     "elapsed": 28,
     "status": "ok",
     "timestamp": 1755575640410,
     "user": {
      "displayName": "Lina",
      "userId": "12754325401007705611"
     },
     "user_tz": 300
    },
    "id": "8Le8Fzk6Dck5",
    "outputId": "f9e9deac-48c2-46c1-e128-4799f7baa31d"
   },
   "outputs": [],
   "source": [
    "# Mientras i sea menor a 5 imprima i es igual a\n",
    "i = 1\n",
    "while i < 5:\n",
    "    print('i es igual a: {}'.format(i))\n",
    "    i = i+1"
   ]
  },
  {
   "cell_type": "markdown",
   "metadata": {
    "id": "yM8dcHO-s_-y"
   },
   "source": [
    "#### Ejemplos"
   ]
  },
  {
   "cell_type": "code",
   "execution_count": null,
   "metadata": {
    "colab": {
     "base_uri": "https://localhost:8080/"
    },
    "executionInfo": {
     "elapsed": 23,
     "status": "ok",
     "timestamp": 1755575640411,
     "user": {
      "displayName": "Lina",
      "userId": "12754325401007705611"
     },
     "user_tz": 300
    },
    "id": "3Gogjb6itDlx",
    "outputId": "e8cb79f1-3dd7-46ef-c5fe-cb72d868b47b"
   },
   "outputs": [],
   "source": [
    "# Un estudiante quiere ahorrar hasta llegar a 1,000 dólares. Cada mes deposita 150 dólares.\n",
    "ahorro = 0\n",
    "meta = 1000\n",
    "meses = 0\n",
    "# Aquí el ciclo while repite la suma hasta que la condición ahorro < meta deje de cumplirse.\n",
    "while ahorro < meta:\n",
    "    ahorro += 150\n",
    "    meses += 1\n",
    "    print(f\"Mes {meses}: Ahorro acumulado = ${ahorro}\")\n",
    "\n",
    "print(f\"Se alcanzó la meta en {meses} meses.\")"
   ]
  },
  {
   "cell_type": "code",
   "execution_count": null,
   "metadata": {
    "colab": {
     "base_uri": "https://localhost:8080/"
    },
    "executionInfo": {
     "elapsed": 19,
     "status": "ok",
     "timestamp": 1755575640413,
     "user": {
      "displayName": "Lina",
      "userId": "12754325401007705611"
     },
     "user_tz": 300
    },
    "id": "sp775UCytVNv",
    "outputId": "cdfc5af1-4389-476b-f61e-be5e84bf56a0"
   },
   "outputs": [],
   "source": [
    "# Una persona tiene una deuda de 5,000 dólares y paga 600 dólares cada mes hasta cancelarla.\n",
    "deuda = 5000\n",
    "pago_mensual = 600\n",
    "mes = 0\n",
    "# Aquí el while continúa ejecutándose mientras deuda > 0.\n",
    "while deuda > 0:\n",
    "    deuda -= pago_mensual\n",
    "    mes += 1\n",
    "    print(f\"Mes {mes}: Deuda restante = ${max(deuda, 0)}\")\n",
    "\n",
    "print(f\"La deuda se pagó en {mes} meses.\")"
   ]
  },
  {
   "cell_type": "markdown",
   "metadata": {
    "id": "CrN_6PNjtBU4"
   },
   "source": [
    "#### Ejercicios"
   ]
  },
  {
   "cell_type": "markdown",
   "metadata": {
    "id": "H3inn6URtxnu"
   },
   "source": [
    "Un estudiante invierte 1.000 dólares en un fondo que crece un 5% mensual. Escribe un programa que use while para calcular en cuántos meses su inversión supera los 2.000 dólares."
   ]
  },
  {
   "cell_type": "code",
   "execution_count": null,
   "metadata": {
    "colab": {
     "base_uri": "https://localhost:8080/"
    },
    "executionInfo": {
     "elapsed": 16,
     "status": "ok",
     "timestamp": 1755575640436,
     "user": {
      "displayName": "Lina",
      "userId": "12754325401007705611"
     },
     "user_tz": 300
    },
    "id": "nsdCUO63txPV",
    "outputId": "660ba699-97c0-4bd5-8879-c09c045165b1"
   },
   "outputs": [],
   "source": []
  },
  {
   "cell_type": "markdown",
   "metadata": {
    "id": "XNEHOYdKt036"
   },
   "source": [
    "Una empresa quiere vender al menos 100 unidades de un producto. Cada día vende un número aleatorio de unidades entre 1 y 10 (pista: usa import random y random.randint(1,10)). Escribe un programa con while que muestre:\n",
    "\n",
    "- El total vendido cada día.\n",
    "\n",
    "- En cuántos días se logró la meta."
   ]
  },
  {
   "cell_type": "code",
   "execution_count": null,
   "metadata": {
    "colab": {
     "base_uri": "https://localhost:8080/"
    },
    "executionInfo": {
     "elapsed": 8,
     "status": "ok",
     "timestamp": 1755575640445,
     "user": {
      "displayName": "Lina",
      "userId": "12754325401007705611"
     },
     "user_tz": 300
    },
    "id": "0tqi5wyzuEWm",
    "outputId": "1f7932a9-b80c-452c-ed2e-b1296e5541f4"
   },
   "outputs": [],
   "source": [
    "import random\n",
    "\n"
   ]
  }
 ],
 "metadata": {
  "colab": {
   "provenance": [
    {
     "file_id": "1cOqU0nk_Jz6Fz3o5WDtabMyUKqMrgAvf",
     "timestamp": 1755494859106
    },
    {
     "file_id": "1t8a1jCBrDrYvsCpAfZVvwoclw7MpewiA",
     "timestamp": 1755492927537
    },
    {
     "file_id": "1I4Y7qgBrOx5Z8XLGFglwg55g_7jVA5q_",
     "timestamp": 1551148160271
    },
    {
     "file_id": "10O8Tgsk9uEkr4RG8KkOOgdYBSLOzmDhx",
     "timestamp": 1536809429843
    }
   ],
   "toc_visible": true
  },
  "kernelspec": {
   "display_name": "Python 3",
   "language": "python",
   "name": "python3"
  }
 },
 "nbformat": 4,
 "nbformat_minor": 0
}
