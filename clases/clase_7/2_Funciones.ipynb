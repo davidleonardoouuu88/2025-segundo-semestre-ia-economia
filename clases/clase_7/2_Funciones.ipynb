{
 "cells": [
  {
   "cell_type": "markdown",
   "metadata": {
    "id": "BQg_TI8bh4y9"
   },
   "source": [
    "# **Creación de funciones y manejo de errores**"
   ]
  },
  {
   "cell_type": "markdown",
   "metadata": {
    "id": "uyw26RU99yRC"
   },
   "source": [
    "Elaborado por: Lina María Castro\n",
    "\n",
    "Fecha: 26 de agosto de 2025"
   ]
  },
  {
   "cell_type": "markdown",
   "metadata": {
    "id": "LXlv9Mj9-1QE"
   },
   "source": [
    "# Funciones\n",
    "\n",
    "Una función en Python es un bloque de código que realiza una tarea específica, puede recibir datos de entrada (parámetros) y devolver un resultado. Se define con la palabra clave def y ayuda a organizar, reutilizar y simplificar el código.\n",
    "\n",
    "Si un código se va a repetir bastante, es mejor llevarlo a función."
   ]
  },
  {
   "cell_type": "markdown",
   "metadata": {
    "id": "GD0iKA88DclK"
   },
   "source": [
    "## Creación de funciones\n",
    "\n",
    "En Python, la definición de funciones se realiza mediante la instrucción def más un nombre de función descriptivo.\n",
    "\n",
    "La definición de la función finaliza con dos puntos (:)\n",
    "\n"
   ]
  },
  {
   "cell_type": "code",
   "execution_count": null,
   "metadata": {
    "id": "NyE9YtbaDclK"
   },
   "outputs": [],
   "source": [
    "def mi_funcion(parametro1='ejemplo'):\n",
    "    \"\"\"\n",
    "    Aquí irá la documentación o explicación de la función\n",
    "    \"\"\"\n",
    "    return parametro1"
   ]
  },
  {
   "cell_type": "code",
   "execution_count": null,
   "metadata": {
    "colab": {
     "base_uri": "https://localhost:8080/",
     "height": 104
    },
    "executionInfo": {
     "elapsed": 25,
     "status": "ok",
     "timestamp": 1755575717975,
     "user": {
      "displayName": "Lina",
      "userId": "12754325401007705611"
     },
     "user_tz": 300
    },
    "id": "7jY8vLLsDclM",
    "outputId": "e2b1960f-c124-43c8-b291-d8f2a2754f67"
   },
   "outputs": [],
   "source": [
    "# Para ver la función, parámetros y documentación\n",
    "mi_funcion"
   ]
  },
  {
   "cell_type": "code",
   "execution_count": null,
   "metadata": {
    "colab": {
     "base_uri": "https://localhost:8080/",
     "height": 35
    },
    "executionInfo": {
     "elapsed": 7,
     "status": "ok",
     "timestamp": 1755575717985,
     "user": {
      "displayName": "Lina",
      "userId": "12754325401007705611"
     },
     "user_tz": 300
    },
    "id": "nt34DpTPDclN",
    "outputId": "d551ed7a-0df7-4a7f-a259-974e120a96da"
   },
   "outputs": [],
   "source": [
    "# Para utilizar la función y mostrar lo que se definió por defecto\n",
    "mi_funcion()"
   ]
  },
  {
   "cell_type": "code",
   "execution_count": null,
   "metadata": {
    "colab": {
     "base_uri": "https://localhost:8080/",
     "height": 35
    },
    "executionInfo": {
     "elapsed": 53,
     "status": "ok",
     "timestamp": 1755575718035,
     "user": {
      "displayName": "Lina",
      "userId": "12754325401007705611"
     },
     "user_tz": 300
    },
    "id": "BuF7tmG1DclN",
    "outputId": "3cae9897-fab8-493d-9d83-8076921ad262"
   },
   "outputs": [],
   "source": [
    "mi_funcion('ejemplo 2')"
   ]
  },
  {
   "cell_type": "code",
   "execution_count": null,
   "metadata": {
    "colab": {
     "base_uri": "https://localhost:8080/",
     "height": 35
    },
    "executionInfo": {
     "elapsed": 75,
     "status": "ok",
     "timestamp": 1755575718111,
     "user": {
      "displayName": "Lina",
      "userId": "12754325401007705611"
     },
     "user_tz": 300
    },
    "id": "2MRHJcX7DclO",
    "outputId": "bdbc31fb-c4f9-4da3-b407-8ad5dc64d52b"
   },
   "outputs": [],
   "source": [
    "mi_funcion(parametro1='ejemplo 3')"
   ]
  },
  {
   "cell_type": "markdown",
   "metadata": {
    "id": "6bRCPhTmJW8e"
   },
   "source": [
    "## Documentación de la función"
   ]
  },
  {
   "cell_type": "code",
   "execution_count": null,
   "metadata": {
    "id": "6M-2n30_DclQ"
   },
   "outputs": [],
   "source": [
    "def saludar(nombre):\n",
    "    \"\"\"\n",
    "    Función que genera un saludo personalizado.\n",
    "\n",
    "    Parámetros:\n",
    "    nombre (str): El nombre de la persona a saludar.\n",
    "\n",
    "    Retorna:\n",
    "    str: Un mensaje de saludo con el nombre ingresado.\n",
    "    \"\"\"\n",
    "    return f\"Hola, {nombre}!\""
   ]
  },
  {
   "cell_type": "code",
   "execution_count": null,
   "metadata": {
    "colab": {
     "base_uri": "https://localhost:8080/",
     "height": 187
    },
    "executionInfo": {
     "elapsed": 8,
     "status": "ok",
     "timestamp": 1755575718129,
     "user": {
      "displayName": "Lina",
      "userId": "12754325401007705611"
     },
     "user_tz": 300
    },
    "id": "6xDq4kzRHw-9",
    "outputId": "6b8c49de-cda5-4ed9-a217-649e1a191caa"
   },
   "outputs": [],
   "source": [
    "# Para ver la función, parámetros y documentación\n",
    "saludar"
   ]
  },
  {
   "cell_type": "code",
   "execution_count": null,
   "metadata": {
    "colab": {
     "base_uri": "https://localhost:8080/",
     "height": 35
    },
    "executionInfo": {
     "elapsed": 4,
     "status": "ok",
     "timestamp": 1755575718136,
     "user": {
      "displayName": "Lina",
      "userId": "12754325401007705611"
     },
     "user_tz": 300
    },
    "id": "ZGlveH2sDclR",
    "outputId": "f279601a-838f-4d75-b752-c43fa5ca61db"
   },
   "outputs": [],
   "source": [
    "saludar('Marcos')"
   ]
  },
  {
   "cell_type": "code",
   "execution_count": null,
   "metadata": {
    "id": "XONROccMDclR"
   },
   "outputs": [],
   "source": [
    "def square(x):\n",
    "    \"\"\"\n",
    "    Calcula el cuadrado de un número.\n",
    "\n",
    "    Parámetros:\n",
    "    x (int o float): Número al que se le desea calcular el cuadrado.\n",
    "\n",
    "    Retorna:\n",
    "    int o float: El valor del número elevado al cuadrado.\n",
    "    \"\"\"\n",
    "    return x**2"
   ]
  },
  {
   "cell_type": "code",
   "execution_count": null,
   "metadata": {
    "colab": {
     "base_uri": "https://localhost:8080/"
    },
    "executionInfo": {
     "elapsed": 8,
     "status": "ok",
     "timestamp": 1755575718150,
     "user": {
      "displayName": "Lina",
      "userId": "12754325401007705611"
     },
     "user_tz": 300
    },
    "id": "hdGUQTgeDclS",
    "outputId": "bde44c18-d75f-4240-dd88-fbe4c730ef65"
   },
   "outputs": [],
   "source": [
    "out = square(2)\n",
    "print(out)"
   ]
  },
  {
   "cell_type": "code",
   "execution_count": null,
   "metadata": {
    "colab": {
     "base_uri": "https://localhost:8080/"
    },
    "executionInfo": {
     "elapsed": 52,
     "status": "ok",
     "timestamp": 1755575718203,
     "user": {
      "displayName": "Lina",
      "userId": "12754325401007705611"
     },
     "user_tz": 300
    },
    "id": "Mo5zQOS1Mipg",
    "outputId": "5d75d568-74a7-4707-96f1-63e707c37e6f"
   },
   "outputs": [],
   "source": [
    "resultado = square(5)\n",
    "resultado"
   ]
  },
  {
   "cell_type": "code",
   "execution_count": null,
   "metadata": {
    "colab": {
     "base_uri": "https://localhost:8080/"
    },
    "executionInfo": {
     "elapsed": 8,
     "status": "ok",
     "timestamp": 1755575718213,
     "user": {
      "displayName": "Lina",
      "userId": "12754325401007705611"
     },
     "user_tz": 300
    },
    "id": "s6zsuEILDclU",
    "outputId": "b18d0b6a-74f5-46c1-b2b5-4541f4d4ef13"
   },
   "outputs": [],
   "source": [
    "# Puedo ver la documentación colocando el mouse sobre la función\n",
    "square(4)"
   ]
  },
  {
   "cell_type": "code",
   "execution_count": null,
   "metadata": {
    "colab": {
     "base_uri": "https://localhost:8080/"
    },
    "executionInfo": {
     "elapsed": 7,
     "status": "ok",
     "timestamp": 1755575718221,
     "user": {
      "displayName": "Lina",
      "userId": "12754325401007705611"
     },
     "user_tz": 300
    },
    "id": "3uUUkFdhMzyl",
    "outputId": "49a3589c-83cd-4ec0-acfb-129d12820492"
   },
   "outputs": [],
   "source": [
    "# Con help, Python muestra la descripción de la función\n",
    "help(square)"
   ]
  },
  {
   "cell_type": "code",
   "execution_count": null,
   "metadata": {
    "colab": {
     "base_uri": "https://localhost:8080/",
     "height": 187
    },
    "executionInfo": {
     "elapsed": 5,
     "status": "ok",
     "timestamp": 1755575718227,
     "user": {
      "displayName": "Lina",
      "userId": "12754325401007705611"
     },
     "user_tz": 300
    },
    "id": "4lESoBMoNHLX",
    "outputId": "439219b3-cabb-4762-d105-af881fd63954"
   },
   "outputs": [],
   "source": [
    "# O puedo simplemente escribir el nombre de la función\n",
    "square"
   ]
  },
  {
   "cell_type": "markdown",
   "metadata": {
    "id": "SQch7H_SSqaJ"
   },
   "source": [
    "## Ejercicios"
   ]
  },
  {
   "cell_type": "markdown",
   "metadata": {
    "id": "4qThwfc8S-xc"
   },
   "source": [
    "Escribe una función llamada convertir_usd_a_cop que reciba como parámetro una cantidad en dólares y retorne el valor equivalente en pesos colombianos.\n",
    "Tasa de cambio: 1 USD = 4.000 COP"
   ]
  },
  {
   "cell_type": "code",
   "execution_count": null,
   "metadata": {
    "id": "8_sZuFTqSs8_"
   },
   "outputs": [],
   "source": [
    "def convertir_usd_a_cop(usd):\n",
    "    \"\"\"\n",
    "    Convierte una cantidad en dólares (USD) a pesos colombianos (COP).\n",
    "\n",
    "    Parámetros:\n",
    "    usd (float o int): La cantidad de dinero en dólares que se desea convertir.\n",
    "\n",
    "    Retorna:\n",
    "    float: El valor equivalente en pesos colombianos (COP), usando la tasa fija de 1 USD = 4000 COP.\n",
    "    \"\"\"\n",
    "    tasa_cambio = 4000  # 1 USD = 4000 COP\n",
    "    return usd * tasa_cambio"
   ]
  },
  {
   "cell_type": "code",
   "execution_count": null,
   "metadata": {
    "colab": {
     "base_uri": "https://localhost:8080/"
    },
    "executionInfo": {
     "elapsed": 7,
     "status": "ok",
     "timestamp": 1755575718241,
     "user": {
      "displayName": "Lina",
      "userId": "12754325401007705611"
     },
     "user_tz": 300
    },
    "id": "1-r9-uJpTCUE",
    "outputId": "45664e43-b237-43e6-f0fa-20be9d7c87d5"
   },
   "outputs": [],
   "source": [
    "print(convertir_usd_a_cop(10))   # Debería imprimir 40000"
   ]
  },
  {
   "cell_type": "markdown",
   "metadata": {
    "id": "bRgLtR93TBUV"
   },
   "source": [
    "Escribe una función llamada promedio_tres que reciba tres números como parámetros y retorne el promedio."
   ]
  },
  {
   "cell_type": "code",
   "execution_count": null,
   "metadata": {
    "id": "NSxpoDKdTI9l"
   },
   "outputs": [],
   "source": [
    "def promedio_tres(a, b, c):\n",
    "    \"\"\"\n",
    "    Calcula el promedio de tres números.\n",
    "\n",
    "    Parámetros:\n",
    "    a (float o int): El primer número.\n",
    "    b (float o int): El segundo número.\n",
    "    c (float o int): El tercer número.\n",
    "\n",
    "    Retorna:\n",
    "    float: El promedio de los tres números.\n",
    "    \"\"\"\n",
    "    return (a + b + c) / 3"
   ]
  },
  {
   "cell_type": "code",
   "execution_count": null,
   "metadata": {
    "colab": {
     "base_uri": "https://localhost:8080/"
    },
    "executionInfo": {
     "elapsed": 10,
     "status": "ok",
     "timestamp": 1755575718256,
     "user": {
      "displayName": "Lina",
      "userId": "12754325401007705611"
     },
     "user_tz": 300
    },
    "id": "xiql3VK3TJRh",
    "outputId": "4f6559d3-fdf2-491f-f6b7-d4ddaae16ca7"
   },
   "outputs": [],
   "source": [
    "print(promedio_tres(4, 6, 10))   # Debería imprimir 6.67"
   ]
  },
  {
   "cell_type": "markdown",
   "metadata": {
    "id": "LWgGeyebOyKr"
   },
   "source": [
    "# Excepciones"
   ]
  },
  {
   "cell_type": "markdown",
   "metadata": {
    "id": "FeMIdU1JQ5U9"
   },
   "source": [
    "En Python, las excepciones permiten manejar errores de forma controlada, evitando que el programa se detenga de manera inesperada. Se usan con las palabras clave try, except, y opcionalmente finally y else.\n",
    "\n",
    "- **try:** dentro de este bloque se coloca el código que podría generar un error.\n",
    "\n",
    "- **except:** aquí se define qué hacer si ocurre un error.\n",
    "\n",
    "- **else (opcional):** se ejecuta solo si no hubo errores.\n",
    "\n",
    "- **finally (opcional):** se ejecuta siempre, haya o no error (útil para liberar recursos como cerrar un archivo o conexión)."
   ]
  },
  {
   "cell_type": "code",
   "execution_count": null,
   "metadata": {
    "id": "yqVVk-Z8O1sl"
   },
   "outputs": [],
   "source": [
    "def dividir(a, b):\n",
    "    \"\"\"\n",
    "    Función que divide dos números con manejo de excepciones.\n",
    "\n",
    "    Parámetros:\n",
    "    a (float/int): numerador\n",
    "    b (float/int): denominador\n",
    "\n",
    "    Retorna:\n",
    "    float: resultado de la división si es posible.\n",
    "    str: mensaje de error si ocurre una excepción.\n",
    "    \"\"\"\n",
    "    try:\n",
    "        resultado = a / b\n",
    "    except ZeroDivisionError:\n",
    "        return \"Error: No se puede dividir entre cero.\"\n",
    "    except TypeError:\n",
    "        return \"Error: Los valores deben ser numéricos.\"\n",
    "    else:\n",
    "        return resultado\n",
    "    finally:\n",
    "        print(\"Ejecución finalizada.\")"
   ]
  },
  {
   "cell_type": "code",
   "execution_count": null,
   "metadata": {
    "colab": {
     "base_uri": "https://localhost:8080/"
    },
    "executionInfo": {
     "elapsed": 6,
     "status": "ok",
     "timestamp": 1755575718311,
     "user": {
      "displayName": "Lina",
      "userId": "12754325401007705611"
     },
     "user_tz": 300
    },
    "id": "D0_KgVDdRRwF",
    "outputId": "317b5116-20e2-442f-8e0a-13423579613f"
   },
   "outputs": [],
   "source": [
    "print(dividir(10, 2))"
   ]
  },
  {
   "cell_type": "code",
   "execution_count": null,
   "metadata": {
    "colab": {
     "base_uri": "https://localhost:8080/"
    },
    "executionInfo": {
     "elapsed": 5,
     "status": "ok",
     "timestamp": 1755575718317,
     "user": {
      "displayName": "Lina",
      "userId": "12754325401007705611"
     },
     "user_tz": 300
    },
    "id": "p3V-u_dRRUY4",
    "outputId": "290eddfc-8f52-4f7b-9b35-8e6a3192d0c6"
   },
   "outputs": [],
   "source": [
    "print(dividir(10, 0))"
   ]
  },
  {
   "cell_type": "code",
   "execution_count": null,
   "metadata": {
    "colab": {
     "base_uri": "https://localhost:8080/"
    },
    "executionInfo": {
     "elapsed": 7,
     "status": "ok",
     "timestamp": 1755575718326,
     "user": {
      "displayName": "Lina",
      "userId": "12754325401007705611"
     },
     "user_tz": 300
    },
    "id": "-K0yo0K1RWYo",
    "outputId": "0c54cdc0-3f5d-47d5-e7a9-d76c6448cd9a"
   },
   "outputs": [],
   "source": [
    "print(dividir(10, \"x\"))"
   ]
  },
  {
   "cell_type": "markdown",
   "metadata": {
    "id": "IxUzsv2cIkVu"
   },
   "source": [
    "## Errores más comunes en funciones"
   ]
  },
  {
   "cell_type": "markdown",
   "metadata": {
    "id": "XDdZ4GhGIztz"
   },
   "source": [
    "### Errores de tipo (TypeError)\n",
    "\n",
    "Ocurren cuando usas un tipo de dato inapropiado."
   ]
  },
  {
   "cell_type": "code",
   "execution_count": null,
   "metadata": {
    "colab": {
     "base_uri": "https://localhost:8080/",
     "height": 159
    },
    "executionInfo": {
     "elapsed": 13,
     "status": "error",
     "timestamp": 1755575718337,
     "user": {
      "displayName": "Lina",
      "userId": "12754325401007705611"
     },
     "user_tz": 300
    },
    "id": "kHgloDuoIyxV",
    "outputId": "24610753-ba61-4afe-e63b-b3ebb10966e2"
   },
   "outputs": [],
   "source": [
    "# Ejemplo\n",
    "\"hola\" + 5"
   ]
  },
  {
   "cell_type": "code",
   "execution_count": null,
   "metadata": {
    "colab": {
     "base_uri": "https://localhost:8080/"
    },
    "executionInfo": {
     "elapsed": 22,
     "status": "ok",
     "timestamp": 1755575723126,
     "user": {
      "displayName": "Lina",
      "userId": "12754325401007705611"
     },
     "user_tz": 300
    },
    "id": "0ZZDaRN6I6KZ",
    "outputId": "28c268d7-03dc-42fb-9e17-6245c6ef05ff"
   },
   "outputs": [],
   "source": [
    "# Manejo\n",
    "try:\n",
    "    resultado = \"hola\" + 5\n",
    "except TypeError:\n",
    "    print(\"Error: tipos de datos incompatibles.\")"
   ]
  },
  {
   "cell_type": "markdown",
   "metadata": {
    "id": "lfFIGAUoI-XF"
   },
   "source": [
    "### Errores de conversión (ValueError)\n",
    "\n",
    "Suceden cuando intentas convertir un dato a otro tipo, pero el valor no es válido."
   ]
  },
  {
   "cell_type": "code",
   "execution_count": null,
   "metadata": {
    "colab": {
     "base_uri": "https://localhost:8080/",
     "height": 159
    },
    "executionInfo": {
     "elapsed": 9,
     "status": "error",
     "timestamp": 1755575725628,
     "user": {
      "displayName": "Lina",
      "userId": "12754325401007705611"
     },
     "user_tz": 300
    },
    "id": "ASy_ZrR0JDMF",
    "outputId": "b514ddec-4ca4-4639-ef31-1189887dda06"
   },
   "outputs": [],
   "source": [
    "# Ejemplo\n",
    "int(\"hola\")"
   ]
  },
  {
   "cell_type": "code",
   "execution_count": null,
   "metadata": {
    "colab": {
     "base_uri": "https://localhost:8080/"
    },
    "executionInfo": {
     "elapsed": 11,
     "status": "ok",
     "timestamp": 1755575728089,
     "user": {
      "displayName": "Lina",
      "userId": "12754325401007705611"
     },
     "user_tz": 300
    },
    "id": "AAlLOAOvJGTB",
    "outputId": "0cb7a0c4-fc43-4f34-febd-8b2b9e76043c"
   },
   "outputs": [],
   "source": [
    "# Manejo\n",
    "try:\n",
    "    numero = int(\"hola\")\n",
    "except ValueError:\n",
    "    print(\"Error: el valor no es válido para conversión.\")"
   ]
  },
  {
   "cell_type": "markdown",
   "metadata": {
    "id": "fVQ8F2qkJJgX"
   },
   "source": [
    "### Errores de índice (IndexError)"
   ]
  },
  {
   "cell_type": "code",
   "execution_count": null,
   "metadata": {
    "colab": {
     "base_uri": "https://localhost:8080/",
     "height": 176
    },
    "executionInfo": {
     "elapsed": 8,
     "status": "error",
     "timestamp": 1755575730092,
     "user": {
      "displayName": "Lina",
      "userId": "12754325401007705611"
     },
     "user_tz": 300
    },
    "id": "_DHY93DxJMTf",
    "outputId": "4a175d2b-f93f-4c57-8f9d-fc0658272cd0"
   },
   "outputs": [],
   "source": [
    "# Ejemplo\n",
    "lista = [1, 2, 3]\n",
    "print(lista[5])"
   ]
  },
  {
   "cell_type": "code",
   "execution_count": null,
   "metadata": {
    "colab": {
     "base_uri": "https://localhost:8080/"
    },
    "executionInfo": {
     "elapsed": 67,
     "status": "ok",
     "timestamp": 1755575732037,
     "user": {
      "displayName": "Lina",
      "userId": "12754325401007705611"
     },
     "user_tz": 300
    },
    "id": "BdNeYt71Mddg",
    "outputId": "6254332a-c9ae-4839-eded-39b1a4531409"
   },
   "outputs": [],
   "source": [
    "# Manejo\n",
    "try:\n",
    "    print(lista[5])\n",
    "except IndexError:\n",
    "    print(\"Error: índice fuera de rango.\")"
   ]
  },
  {
   "cell_type": "markdown",
   "metadata": {
    "id": "H94qPfr9Mh6h"
   },
   "source": [
    "### Errores de clave (KeyError)\n",
    "\n",
    "Suceden al acceder a una clave inexistente en un diccionario."
   ]
  },
  {
   "cell_type": "code",
   "execution_count": null,
   "metadata": {
    "colab": {
     "base_uri": "https://localhost:8080/",
     "height": 176
    },
    "executionInfo": {
     "elapsed": 26,
     "status": "error",
     "timestamp": 1755575733976,
     "user": {
      "displayName": "Lina",
      "userId": "12754325401007705611"
     },
     "user_tz": 300
    },
    "id": "WnlK6OnOMmtZ",
    "outputId": "f18e2bf5-310a-413e-b4fa-76d1a6cbb632"
   },
   "outputs": [],
   "source": [
    "# Ejemplo\n",
    "dic = {\"a\": 1}\n",
    "print(dic[\"b\"])"
   ]
  },
  {
   "cell_type": "code",
   "execution_count": null,
   "metadata": {
    "colab": {
     "base_uri": "https://localhost:8080/"
    },
    "executionInfo": {
     "elapsed": 31,
     "status": "ok",
     "timestamp": 1755575735918,
     "user": {
      "displayName": "Lina",
      "userId": "12754325401007705611"
     },
     "user_tz": 300
    },
    "id": "ud3QtwSgMpyp",
    "outputId": "d88be28d-5378-4283-8dd5-f220f4990351"
   },
   "outputs": [],
   "source": [
    "# Manejo\n",
    "try:\n",
    "    print(dic[\"b\"])\n",
    "except KeyError:\n",
    "    print(\"Error: la clave no existe en el diccionario.\")"
   ]
  },
  {
   "cell_type": "markdown",
   "metadata": {
    "id": "UchfysXUMt38"
   },
   "source": [
    "### Errores de división (ZeroDivisionError)\n",
    "\n",
    "Pasa al dividir un número entre cero."
   ]
  },
  {
   "cell_type": "code",
   "execution_count": null,
   "metadata": {
    "colab": {
     "base_uri": "https://localhost:8080/",
     "height": 159
    },
    "executionInfo": {
     "elapsed": 19,
     "status": "error",
     "timestamp": 1755575737767,
     "user": {
      "displayName": "Lina",
      "userId": "12754325401007705611"
     },
     "user_tz": 300
    },
    "id": "cxJjKWamMyVi",
    "outputId": "5082c6d7-e0e9-4699-ee04-7044a6ecb736"
   },
   "outputs": [],
   "source": [
    "# Ejemplo\n",
    "10 / 0"
   ]
  },
  {
   "cell_type": "code",
   "execution_count": null,
   "metadata": {
    "colab": {
     "base_uri": "https://localhost:8080/"
    },
    "executionInfo": {
     "elapsed": 13,
     "status": "ok",
     "timestamp": 1755575740076,
     "user": {
      "displayName": "Lina",
      "userId": "12754325401007705611"
     },
     "user_tz": 300
    },
    "id": "GQPoihHmM0fv",
    "outputId": "70936534-30be-4548-93c6-2cace135215b"
   },
   "outputs": [],
   "source": [
    "# Manejo\n",
    "try:\n",
    "    resultado = 10 / 0\n",
    "except ZeroDivisionError:\n",
    "    print(\"Error: no se puede dividir entre cero.\")"
   ]
  },
  {
   "cell_type": "markdown",
   "metadata": {
    "id": "wIehOWPLM5NO"
   },
   "source": [
    "### Errores de importación (ImportError)\n",
    "\n",
    "Cuando un módulo no existe o no se puede importar."
   ]
  },
  {
   "cell_type": "code",
   "execution_count": null,
   "metadata": {
    "colab": {
     "base_uri": "https://localhost:8080/",
     "height": 331
    },
    "executionInfo": {
     "elapsed": 7,
     "status": "error",
     "timestamp": 1755575742306,
     "user": {
      "displayName": "Lina",
      "userId": "12754325401007705611"
     },
     "user_tz": 300
    },
    "id": "VROMLVsUM8R8",
    "outputId": "ddc16474-22f5-4866-b307-04e16a9c37be"
   },
   "outputs": [],
   "source": [
    "# Ejemplo\n",
    "import modulo_que_no_existe"
   ]
  },
  {
   "cell_type": "code",
   "execution_count": null,
   "metadata": {
    "colab": {
     "base_uri": "https://localhost:8080/"
    },
    "executionInfo": {
     "elapsed": 44,
     "status": "ok",
     "timestamp": 1755575747272,
     "user": {
      "displayName": "Lina",
      "userId": "12754325401007705611"
     },
     "user_tz": 300
    },
    "id": "ZfeCJX75NAG5",
    "outputId": "a9f0c983-4f44-4d01-a810-f1e4d2a4aff5"
   },
   "outputs": [],
   "source": [
    "# Manejo\n",
    "try:\n",
    "    import modulo_que_no_existe\n",
    "except ImportError:\n",
    "    print(\"Error: el módulo no se pudo importar.\")"
   ]
  },
  {
   "cell_type": "markdown",
   "metadata": {
    "id": "1Bo_0bZlRb4A"
   },
   "source": [
    "## Ejercicios"
   ]
  },
  {
   "cell_type": "markdown",
   "metadata": {
    "id": "TL3dKE-mRr7S"
   },
   "source": [
    "Crea una función convertir_a_entero(valor) que reciba un dato y lo convierta a número entero.\n",
    "\n",
    "Si el dato no es convertible (ejemplo: \"hola\"), debe devolver el mensaje: \"Error: no se puede convertir a entero.\""
   ]
  },
  {
   "cell_type": "code",
   "execution_count": null,
   "metadata": {
    "id": "WxiXEBiPRzZG"
   },
   "outputs": [],
   "source": []
  },
  {
   "cell_type": "code",
   "execution_count": null,
   "metadata": {
    "colab": {
     "base_uri": "https://localhost:8080/"
    },
    "executionInfo": {
     "elapsed": 52,
     "status": "ok",
     "timestamp": 1755575751588,
     "user": {
      "displayName": "Lina",
      "userId": "12754325401007705611"
     },
     "user_tz": 300
    },
    "id": "XkbNnTD8Rd1t",
    "outputId": "606f5f36-a446-4722-e50a-b9cf3bd6093a"
   },
   "outputs": [],
   "source": [
    "print(convertir_a_entero(\"25\")) # 25"
   ]
  },
  {
   "cell_type": "code",
   "execution_count": null,
   "metadata": {
    "colab": {
     "base_uri": "https://localhost:8080/"
    },
    "executionInfo": {
     "elapsed": 39,
     "status": "ok",
     "timestamp": 1755575752653,
     "user": {
      "displayName": "Lina",
      "userId": "12754325401007705611"
     },
     "user_tz": 300
    },
    "id": "m1SAp1LV_HwK",
    "outputId": "d826fe1f-7d00-4846-c161-829ecf8b7b82"
   },
   "outputs": [],
   "source": [
    "print(convertir_a_entero(25.5)) # 25"
   ]
  },
  {
   "cell_type": "code",
   "execution_count": null,
   "metadata": {
    "colab": {
     "base_uri": "https://localhost:8080/"
    },
    "executionInfo": {
     "elapsed": 44,
     "status": "ok",
     "timestamp": 1755575753994,
     "user": {
      "displayName": "Lina",
      "userId": "12754325401007705611"
     },
     "user_tz": 300
    },
    "id": "9Awbj91dRwxg",
    "outputId": "7903b6ad-052a-4f0f-9b99-b6b97dcc35eb"
   },
   "outputs": [],
   "source": [
    "print(convertir_a_entero(\"hola\")) # Error: no se puede convertir a entero."
   ]
  },
  {
   "cell_type": "markdown",
   "metadata": {
    "id": "Cv5hALgkR0sK"
   },
   "source": [
    "Crea una función buscar_elemento(lista, indice) que devuelva el elemento de la lista en la posición indicada.\n",
    "\n",
    "Si el índice no existe, devuelve: \"Error: índice fuera de rango.\"\n",
    "\n",
    "Si el índice no es un número entero, devuelve: \"Error: el índice debe ser un número entero.\""
   ]
  },
  {
   "cell_type": "code",
   "execution_count": null,
   "metadata": {
    "id": "NMx2OpdSR4Gx"
   },
   "outputs": [],
   "source": [
    "# Para verificar que un número sea entero : isinstance(numero, int)"
   ]
  },
  {
   "cell_type": "code",
   "execution_count": null,
   "metadata": {
    "colab": {
     "base_uri": "https://localhost:8080/"
    },
    "executionInfo": {
     "elapsed": 19,
     "status": "ok",
     "timestamp": 1755575759586,
     "user": {
      "displayName": "Lina",
      "userId": "12754325401007705611"
     },
     "user_tz": 300
    },
    "id": "BoTSpsNxR4a0",
    "outputId": "089c0e9a-6cf2-4d23-be66-7393bf9cb159"
   },
   "outputs": [],
   "source": [
    "print(buscar_elemento([10, 20, 30], 1)) # 20"
   ]
  },
  {
   "cell_type": "code",
   "execution_count": null,
   "metadata": {
    "colab": {
     "base_uri": "https://localhost:8080/"
    },
    "executionInfo": {
     "elapsed": 42,
     "status": "ok",
     "timestamp": 1755575760723,
     "user": {
      "displayName": "Lina",
      "userId": "12754325401007705611"
     },
     "user_tz": 300
    },
    "id": "io2q9YOMR-L-",
    "outputId": "a2c7a208-174d-4a82-b4b6-57c29edf661d"
   },
   "outputs": [],
   "source": [
    "print(buscar_elemento([10, 20, 30], 5))   # Error: índice fuera de rango."
   ]
  },
  {
   "cell_type": "code",
   "execution_count": null,
   "metadata": {
    "colab": {
     "base_uri": "https://localhost:8080/"
    },
    "executionInfo": {
     "elapsed": 46,
     "status": "ok",
     "timestamp": 1755575762031,
     "user": {
      "displayName": "Lina",
      "userId": "12754325401007705611"
     },
     "user_tz": 300
    },
    "id": "fWdbzLoVSBgY",
    "outputId": "1a8fd39f-7ac6-4dd8-c36d-0be46da32cc8"
   },
   "outputs": [],
   "source": [
    "print(buscar_elemento([10, 20, 30], \"a\")) # Error: el índice debe ser un número entero."
   ]
  }
 ],
 "metadata": {
  "colab": {
   "provenance": [
    {
     "file_id": "1_Hp9GI6Is3EcT38i0OVExEzEu3QxRuT9",
     "timestamp": 1755496990698
    },
    {
     "file_id": "1I4Y7qgBrOx5Z8XLGFglwg55g_7jVA5q_",
     "timestamp": 1551148160271
    },
    {
     "file_id": "10O8Tgsk9uEkr4RG8KkOOgdYBSLOzmDhx",
     "timestamp": 1536809429843
    }
   ],
   "toc_visible": true
  },
  "kernelspec": {
   "display_name": "Python 3",
   "language": "python",
   "name": "python3"
  }
 },
 "nbformat": 4,
 "nbformat_minor": 0
}
