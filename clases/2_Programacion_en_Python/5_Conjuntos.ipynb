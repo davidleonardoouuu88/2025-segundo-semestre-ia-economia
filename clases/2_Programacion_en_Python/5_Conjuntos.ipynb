{
  "cells": [
    {
      "cell_type": "markdown",
      "metadata": {
        "colab_type": "text",
        "id": "view-in-github"
      },
      "source": [
        "<a href=\"https://colab.research.google.com/github/LinaMariaCastro/2025-segundo-semestre-ia-economia/blob/main/clases/2_Programacion_en_Python/5_Conjuntos.ipynb\" target=\"_parent\"><img src=\"https://colab.research.google.com/assets/colab-badge.svg\" alt=\"Open In Colab\"/></a>"
      ]
    },
    {
      "cell_type": "markdown",
      "metadata": {},
      "source": [
        "# **Inteligencia Artificial con Aplicaciones en Economía I**\n",
        "\n",
        "- 👩‍🏫 **Profesora:** [Lina María Castro](https://www.linkedin.com/in/lina-maria-castro)  \n",
        "- 📧 **Email:** [lmcastroco@gmail.com](mailto:lmcastroco@gmail.com)  \n",
        "- 🎓 **Universidad:** Universidad Externado de Colombia - Facultad de Economía"
      ]
    },
    {
      "cell_type": "markdown",
      "metadata": {
        "id": "54jzCODF9ui-"
      },
      "source": [
        "# **Conjuntos o sets** (no secuencial / mutable)"
      ]
    },
    {
      "cell_type": "markdown",
      "metadata": {
        "id": "5jB5XbLJ9ujA"
      },
      "source": [
        "Es una colección de elementos distintos. A diferencia de otras estructuras como las listas, tuplas y colas, los conjuntos son no secuenciales, lo que significa que no hay un orden definido entre ellos. La siguiente característica importante es que sus elementos se almacenan una sola vez y no están duplicados."
      ]
    },
    {
      "cell_type": "markdown",
      "metadata": {
        "id": "IQznZjAQ9ujB"
      },
      "source": [
        "Para escribir conjuntos se utiliza { }.\n",
        "\n",
        "Se utiliza la instrucción \"set\" para convertir una lista en cojunto. El conjunto toma los valores únicos de la lista (si hay elementos repetidos deja solo uno)."
      ]
    },
    {
      "cell_type": "code",
      "execution_count": null,
      "metadata": {
        "colab": {
          "base_uri": "https://localhost:8080/"
        },
        "id": "hAmYOfqyDckD",
        "outputId": "f2b30634-0472-422f-bfaf-adda5f96e624"
      },
      "outputs": [
        {
          "data": {
            "text/plain": [
              "{1, 2, 3}"
            ]
          },
          "execution_count": 2,
          "metadata": {},
          "output_type": "execute_result"
        }
      ],
      "source": [
        "a = {1,2,3}\n",
        "a"
      ]
    },
    {
      "cell_type": "code",
      "execution_count": null,
      "metadata": {
        "colab": {
          "base_uri": "https://localhost:8080/"
        },
        "id": "QSiK2W33DckE",
        "outputId": "f1630bc6-324d-4961-bcf0-bbe953ed1b8e"
      },
      "outputs": [
        {
          "name": "stdout",
          "output_type": "stream",
          "text": [
            "{1, 2, 3}\n"
          ]
        }
      ],
      "source": [
        "# El conjunto no tiene valores repetidos\n",
        "b = {1,2,3,1,2,1,2,3,3,3,3,2,2,2,1,1,2}\n",
        "print(b)"
      ]
    },
    {
      "cell_type": "code",
      "execution_count": null,
      "metadata": {
        "colab": {
          "base_uri": "https://localhost:8080/"
        },
        "id": "CRpSMKK-DckF",
        "outputId": "aa413ca0-773f-4dc3-ef53-45ec3f88db84"
      },
      "outputs": [
        {
          "data": {
            "text/plain": [
              "{1, 2, 3, 6, 8}"
            ]
          },
          "execution_count": 4,
          "metadata": {},
          "output_type": "execute_result"
        }
      ],
      "source": [
        "# Con set se saca un conjunto con los valores únicos de una lista. Los deja en orden.\n",
        "c = set([1, 1, 1, 2, 2, 6, 6, 2, 8, 1, 3])\n",
        "c"
      ]
    },
    {
      "cell_type": "code",
      "execution_count": null,
      "metadata": {
        "colab": {
          "base_uri": "https://localhost:8080/"
        },
        "id": "yAZ-oCDL6r52",
        "outputId": "c264157f-1ff5-45b8-9bfd-fee09d5ac067"
      },
      "outputs": [
        {
          "data": {
            "text/plain": [
              "(1, 2, 3, 6, 8)"
            ]
          },
          "execution_count": 5,
          "metadata": {},
          "output_type": "execute_result"
        }
      ],
      "source": [
        "# Se puede convertir un conjunto en una tupla (secuencial e inmutable)\n",
        "t = tuple(c)\n",
        "t"
      ]
    },
    {
      "cell_type": "code",
      "execution_count": null,
      "metadata": {
        "colab": {
          "base_uri": "https://localhost:8080/"
        },
        "id": "vb_mps_b9ujD",
        "outputId": "89640352-803a-47fc-a187-be2409ca5cbe"
      },
      "outputs": [
        {
          "name": "stdout",
          "output_type": "stream",
          "text": [
            "set()\n"
          ]
        }
      ],
      "source": [
        "# Crear un conjunto vacío\n",
        "conjunto = set()\n",
        "print(conjunto)"
      ]
    },
    {
      "cell_type": "code",
      "execution_count": null,
      "metadata": {
        "colab": {
          "base_uri": "https://localhost:8080/"
        },
        "id": "bPpIUkSg9ujJ",
        "outputId": "c341d28a-b249-4bf8-875e-8eb97e3b0d5a"
      },
      "outputs": [
        {
          "name": "stdout",
          "output_type": "stream",
          "text": [
            "{'Mayo', ('Arica', 9), 15}\n"
          ]
        }
      ],
      "source": [
        "# Puede tener múltiples tipos de objetos\n",
        "conj = {15, ('Arica', 9), 'Mayo'}\n",
        "print(conj)"
      ]
    },
    {
      "cell_type": "markdown",
      "metadata": {
        "id": "spux_mb89ujK"
      },
      "source": [
        "Los conjuntos no mantienen una relación de orden dentro de sus elementos, por lo que al darle \"print\" pueden aparecer en distinto orden a como lo escribimos."
      ]
    },
    {
      "cell_type": "markdown",
      "metadata": {
        "id": "yNPVnu3e9ujP"
      },
      "source": [
        "# Operaciones sobre conjuntos"
      ]
    },
    {
      "cell_type": "code",
      "execution_count": null,
      "metadata": {
        "id": "cfnbIKKL9ujP"
      },
      "outputs": [],
      "source": [
        "mezcla={'Chile', 8, 4.15, 'Abril', (3,5), '2022', 'MOOC'}"
      ]
    },
    {
      "cell_type": "markdown",
      "metadata": {
        "id": "ZuKE4o2w9ujP"
      },
      "source": [
        "## ¿Cuántos elementos hay en el conjunto?"
      ]
    },
    {
      "cell_type": "code",
      "execution_count": null,
      "metadata": {
        "colab": {
          "base_uri": "https://localhost:8080/"
        },
        "id": "l0Vgm-kg9ujP",
        "outputId": "d46b4d63-7b9d-4338-c558-c8806225f7ae"
      },
      "outputs": [
        {
          "name": "stdout",
          "output_type": "stream",
          "text": [
            "7\n"
          ]
        }
      ],
      "source": [
        "largo=len(mezcla)\n",
        "print(largo)"
      ]
    },
    {
      "cell_type": "markdown",
      "metadata": {
        "id": "WoqyuC1C9ujP"
      },
      "source": [
        "## ¿Se encuentra el elemento x en el cojunto?"
      ]
    },
    {
      "cell_type": "markdown",
      "metadata": {
        "id": "LxWAab0E9ujN"
      },
      "source": [
        "Para saber si el elementos hace parte del conjunto se utiliza la instrucción \"in\":"
      ]
    },
    {
      "cell_type": "code",
      "execution_count": null,
      "metadata": {
        "colab": {
          "base_uri": "https://localhost:8080/"
        },
        "id": "008zJLzc9ujP",
        "outputId": "9c5b7989-205c-4c0e-8ae7-c3c2ded6b92d"
      },
      "outputs": [
        {
          "name": "stdout",
          "output_type": "stream",
          "text": [
            "True\n"
          ]
        }
      ],
      "source": [
        "print('Abril' in mezcla)"
      ]
    },
    {
      "cell_type": "code",
      "execution_count": null,
      "metadata": {
        "colab": {
          "base_uri": "https://localhost:8080/"
        },
        "id": "d4NIXMKd9ujQ",
        "outputId": "a37d8c95-83ea-45fe-fdcc-177db682a0a9"
      },
      "outputs": [
        {
          "name": "stdout",
          "output_type": "stream",
          "text": [
            "False\n"
          ]
        }
      ],
      "source": [
        "# Se almacenó 4.15 y no 4.151\n",
        "print(4.151 in mezcla)"
      ]
    },
    {
      "cell_type": "code",
      "execution_count": null,
      "metadata": {
        "colab": {
          "base_uri": "https://localhost:8080/"
        },
        "id": "DkKG_Fu59ujQ",
        "outputId": "1c0c9023-865f-4cc5-d10a-bcb13ffc62c6"
      },
      "outputs": [
        {
          "name": "stdout",
          "output_type": "stream",
          "text": [
            "True\n"
          ]
        }
      ],
      "source": [
        "print((3,5) in mezcla)"
      ]
    },
    {
      "cell_type": "code",
      "execution_count": null,
      "metadata": {
        "colab": {
          "base_uri": "https://localhost:8080/"
        },
        "id": "r1Fw4E_V9ujQ",
        "outputId": "d83465aa-7cd0-42a0-9c35-0988bc296e8b"
      },
      "outputs": [
        {
          "name": "stdout",
          "output_type": "stream",
          "text": [
            "False\n"
          ]
        }
      ],
      "source": [
        "# 2022 se almacenó como un string y no como un entero, por eso no lo encuentra\n",
        "print(2022 in mezcla)"
      ]
    },
    {
      "cell_type": "code",
      "execution_count": null,
      "metadata": {
        "colab": {
          "base_uri": "https://localhost:8080/"
        },
        "id": "UXhJsQVeg26f",
        "outputId": "57af0889-8ea1-41b6-e18e-320a21e9a8d0"
      },
      "outputs": [
        {
          "name": "stdout",
          "output_type": "stream",
          "text": [
            "True\n"
          ]
        }
      ],
      "source": [
        "print(\"2022\" in mezcla)"
      ]
    },
    {
      "cell_type": "markdown",
      "metadata": {
        "id": "Sfu4KuyH9ujQ"
      },
      "source": [
        "## Para recorrer conjuntos"
      ]
    },
    {
      "cell_type": "code",
      "execution_count": null,
      "metadata": {
        "colab": {
          "base_uri": "https://localhost:8080/"
        },
        "id": "FLb4p-fj9ujR",
        "outputId": "16e20364-4c5a-4e28-bd06-9fee0b5aa9e4"
      },
      "outputs": [
        {
          "name": "stdout",
          "output_type": "stream",
          "text": [
            "MOOC\n",
            "4.15\n",
            "Abril\n",
            "8\n",
            "2022\n",
            "Chile\n",
            "(3, 5)\n"
          ]
        }
      ],
      "source": [
        "for elemento in mezcla:\n",
        "    print(elemento)"
      ]
    },
    {
      "cell_type": "markdown",
      "metadata": {
        "id": "46ZXqZxq9ujR"
      },
      "source": [
        "## Modificar un conjunto"
      ]
    },
    {
      "cell_type": "markdown",
      "metadata": {
        "id": "RebkVKs69ujR"
      },
      "source": [
        "### Agregar elementos"
      ]
    },
    {
      "cell_type": "code",
      "execution_count": null,
      "metadata": {
        "colab": {
          "base_uri": "https://localhost:8080/"
        },
        "id": "ibiCSa5JDckI",
        "outputId": "527422a0-caf7-4eb3-f679-ff5868af8f58"
      },
      "outputs": [
        {
          "data": {
            "text/plain": [
              "{1, 2, 3, 5}"
            ]
          },
          "execution_count": 16,
          "metadata": {},
          "output_type": "execute_result"
        }
      ],
      "source": [
        "# Para añadir un elemento al conjunto s\n",
        "s = {1, 2, 3}\n",
        "s.add(5)\n",
        "s"
      ]
    },
    {
      "cell_type": "code",
      "execution_count": null,
      "metadata": {
        "colab": {
          "base_uri": "https://localhost:8080/"
        },
        "id": "9YMcHF0SDckK",
        "outputId": "6ddf67c3-fe09-4034-fba0-925fdcc495a2"
      },
      "outputs": [
        {
          "data": {
            "text/plain": [
              "{1, 2, 3, 4, 5}"
            ]
          },
          "execution_count": 17,
          "metadata": {},
          "output_type": "execute_result"
        }
      ],
      "source": [
        "s.add(4)\n",
        "s"
      ]
    },
    {
      "cell_type": "code",
      "execution_count": null,
      "metadata": {
        "colab": {
          "base_uri": "https://localhost:8080/"
        },
        "id": "EJEaO0khhr2B",
        "outputId": "f1858331-4587-41b7-b618-9cf00c33f2b2"
      },
      "outputs": [
        {
          "name": "stdout",
          "output_type": "stream",
          "text": [
            "{'Si', 'No'}\n"
          ]
        }
      ],
      "source": [
        "opciones={'Si','No'}\n",
        "print(opciones)"
      ]
    },
    {
      "cell_type": "code",
      "execution_count": null,
      "metadata": {
        "colab": {
          "base_uri": "https://localhost:8080/"
        },
        "id": "VK8jKY12htHw",
        "outputId": "c09c01c9-deec-497c-8c81-deb344767eed"
      },
      "outputs": [
        {
          "name": "stdout",
          "output_type": "stream",
          "text": [
            "{'Si', 'No sé', 'No'}\n"
          ]
        }
      ],
      "source": [
        "opciones.add('No sé')\n",
        "print(opciones)"
      ]
    },
    {
      "cell_type": "code",
      "execution_count": null,
      "metadata": {
        "colab": {
          "base_uri": "https://localhost:8080/"
        },
        "id": "6Q3fHao89ujR",
        "outputId": "20e4c085-09f9-4a62-a779-5c3fd57e587e"
      },
      "outputs": [
        {
          "name": "stdout",
          "output_type": "stream",
          "text": [
            "{'Quizás', 'Si', 'No sé', 'No'}\n"
          ]
        }
      ],
      "source": [
        "opciones.add('Quizás')\n",
        "print(opciones)"
      ]
    },
    {
      "cell_type": "markdown",
      "metadata": {
        "id": "jlIxGwiO9ujO"
      },
      "source": [
        "IMPORTANTE: En los conjuntos solo podemos agregar tipos de datos tales como los strings, los enteros, los float y las tuplas. Los tipos de datos mutables, como las listas y diccionarios, no se pueden agregar a conjuntos."
      ]
    },
    {
      "cell_type": "code",
      "execution_count": null,
      "metadata": {
        "colab": {
          "base_uri": "https://localhost:8080/"
        },
        "id": "sQYi4alU9ujO",
        "outputId": "3ff3af44-a5a3-4725-88b4-8c5887161f4f"
      },
      "outputs": [
        {
          "name": "stdout",
          "output_type": "stream",
          "text": [
            "{'Lisa', (1, 2), 60.5}\n"
          ]
        }
      ],
      "source": [
        "conjunto=set()\n",
        "conjunto.add(60.5)\n",
        "conjunto.add('Lisa')\n",
        "conjunto.add((1,2))\n",
        "print(conjunto)"
      ]
    },
    {
      "cell_type": "code",
      "execution_count": null,
      "metadata": {
        "colab": {
          "base_uri": "https://localhost:8080/",
          "height": 143
        },
        "id": "OI2LlaDj9ujO",
        "outputId": "35ea038d-ff98-44b1-9e0c-5af3f7227f7d"
      },
      "outputs": [
        {
          "ename": "TypeError",
          "evalue": "unhashable type: 'list'",
          "output_type": "error",
          "traceback": [
            "\u001b[0;31m---------------------------------------------------------------------------\u001b[0m",
            "\u001b[0;31mTypeError\u001b[0m                                 Traceback (most recent call last)",
            "\u001b[0;32m/tmp/ipython-input-1561557278.py\u001b[0m in \u001b[0;36m<cell line: 0>\u001b[0;34m()\u001b[0m\n\u001b[0;32m----> 1\u001b[0;31m \u001b[0mconjunto\u001b[0m\u001b[0;34m.\u001b[0m\u001b[0madd\u001b[0m\u001b[0;34m(\u001b[0m\u001b[0;34m[\u001b[0m\u001b[0;36m3\u001b[0m\u001b[0;34m,\u001b[0m\u001b[0;36m4\u001b[0m\u001b[0;34m]\u001b[0m\u001b[0;34m)\u001b[0m\u001b[0;34m\u001b[0m\u001b[0;34m\u001b[0m\u001b[0m\n\u001b[0m",
            "\u001b[0;31mTypeError\u001b[0m: unhashable type: 'list'"
          ]
        }
      ],
      "source": [
        "conjunto.add([3,4])"
      ]
    },
    {
      "cell_type": "code",
      "execution_count": null,
      "metadata": {
        "colab": {
          "base_uri": "https://localhost:8080/",
          "height": 143
        },
        "id": "ptOH23Ick52w",
        "outputId": "c9c142b2-d48d-429c-b7b7-3bd16411cc73"
      },
      "outputs": [
        {
          "ename": "TypeError",
          "evalue": "unhashable type: 'dict'",
          "output_type": "error",
          "traceback": [
            "\u001b[0;31m---------------------------------------------------------------------------\u001b[0m",
            "\u001b[0;31mTypeError\u001b[0m                                 Traceback (most recent call last)",
            "\u001b[0;32m/tmp/ipython-input-1168206580.py\u001b[0m in \u001b[0;36m<cell line: 0>\u001b[0;34m()\u001b[0m\n\u001b[0;32m----> 1\u001b[0;31m \u001b[0mconjunto\u001b[0m\u001b[0;34m.\u001b[0m\u001b[0madd\u001b[0m\u001b[0;34m(\u001b[0m\u001b[0;34m{\u001b[0m\u001b[0;34m\"name\"\u001b[0m\u001b[0;34m:\u001b[0m\u001b[0;34m\"oscar\"\u001b[0m\u001b[0;34m}\u001b[0m\u001b[0;34m)\u001b[0m\u001b[0;34m\u001b[0m\u001b[0;34m\u001b[0m\u001b[0m\n\u001b[0m",
            "\u001b[0;31mTypeError\u001b[0m: unhashable type: 'dict'"
          ]
        }
      ],
      "source": [
        "conjunto.add({\"name\":\"oscar\"})"
      ]
    },
    {
      "cell_type": "markdown",
      "metadata": {
        "id": "LrHP55619ujS"
      },
      "source": [
        "### Sacar elementos"
      ]
    },
    {
      "cell_type": "markdown",
      "metadata": {
        "id": "5suWBnsh9ujS"
      },
      "source": [
        "Se utiliza remove o discard. Sin embargo, si se utiliza remove y el elemento no existe se genera un error. En cambio, con discard, no se genera error si el elemento no existe."
      ]
    },
    {
      "cell_type": "code",
      "execution_count": null,
      "metadata": {
        "colab": {
          "base_uri": "https://localhost:8080/"
        },
        "id": "jlEs9dX9ha8l",
        "outputId": "13051881-6fbb-4c68-d425-380d075b17b5"
      },
      "outputs": [
        {
          "name": "stdout",
          "output_type": "stream",
          "text": [
            "{'mañana', 'hoy', 'pasado'}\n"
          ]
        }
      ],
      "source": [
        "cuando={'mañana','pasado','hoy'}\n",
        "print(cuando)"
      ]
    },
    {
      "cell_type": "code",
      "execution_count": null,
      "metadata": {
        "colab": {
          "base_uri": "https://localhost:8080/"
        },
        "id": "EtjwhiR8hc05",
        "outputId": "c8ad9053-30e2-4037-ad04-545ec228f4c9"
      },
      "outputs": [
        {
          "name": "stdout",
          "output_type": "stream",
          "text": [
            "{'mañana', 'hoy'}\n"
          ]
        }
      ],
      "source": [
        "cuando.remove('pasado')\n",
        "print(cuando)"
      ]
    },
    {
      "cell_type": "code",
      "execution_count": null,
      "metadata": {
        "colab": {
          "base_uri": "https://localhost:8080/",
          "height": 161
        },
        "id": "WzgfBodQ9ujS",
        "outputId": "fa3e6377-eed6-4ada-9daa-9d6c35b300cd"
      },
      "outputs": [
        {
          "ename": "KeyError",
          "evalue": "'ayer'",
          "output_type": "error",
          "traceback": [
            "\u001b[0;31m---------------------------------------------------------------------------\u001b[0m",
            "\u001b[0;31mKeyError\u001b[0m                                  Traceback (most recent call last)",
            "\u001b[0;32m/tmp/ipython-input-328410501.py\u001b[0m in \u001b[0;36m<cell line: 0>\u001b[0;34m()\u001b[0m\n\u001b[0;32m----> 1\u001b[0;31m \u001b[0mcuando\u001b[0m\u001b[0;34m.\u001b[0m\u001b[0mremove\u001b[0m\u001b[0;34m(\u001b[0m\u001b[0;34m'ayer'\u001b[0m\u001b[0;34m)\u001b[0m\u001b[0;34m\u001b[0m\u001b[0;34m\u001b[0m\u001b[0m\n\u001b[0m\u001b[1;32m      2\u001b[0m \u001b[0mprint\u001b[0m\u001b[0;34m(\u001b[0m\u001b[0mcuando\u001b[0m\u001b[0;34m)\u001b[0m\u001b[0;34m\u001b[0m\u001b[0;34m\u001b[0m\u001b[0m\n",
            "\u001b[0;31mKeyError\u001b[0m: 'ayer'"
          ]
        }
      ],
      "source": [
        "cuando.remove('ayer')\n",
        "print(cuando)"
      ]
    },
    {
      "cell_type": "code",
      "execution_count": null,
      "metadata": {
        "colab": {
          "base_uri": "https://localhost:8080/"
        },
        "id": "ZwYngo23hgow",
        "outputId": "77fd617c-626d-47ae-91ad-78b4fc622182"
      },
      "outputs": [
        {
          "name": "stdout",
          "output_type": "stream",
          "text": [
            "{'mañana', 'hoy', 'pasado'}\n"
          ]
        }
      ],
      "source": [
        "cuando={'mañana','pasado','hoy'}\n",
        "print(cuando)"
      ]
    },
    {
      "cell_type": "code",
      "execution_count": null,
      "metadata": {
        "colab": {
          "base_uri": "https://localhost:8080/"
        },
        "id": "nviZybHihiY0",
        "outputId": "b64fd31b-1674-46de-b4e5-8a93a8dc418e"
      },
      "outputs": [
        {
          "name": "stdout",
          "output_type": "stream",
          "text": [
            "{'mañana', 'hoy'}\n"
          ]
        }
      ],
      "source": [
        "cuando.discard('pasado')\n",
        "print(cuando)"
      ]
    },
    {
      "cell_type": "code",
      "execution_count": null,
      "metadata": {
        "colab": {
          "base_uri": "https://localhost:8080/"
        },
        "id": "Dt9rjFa19ujS",
        "outputId": "80adbba8-17c1-4603-87d3-4cd31403e4fa"
      },
      "outputs": [
        {
          "name": "stdout",
          "output_type": "stream",
          "text": [
            "{'mañana', 'hoy'}\n"
          ]
        }
      ],
      "source": [
        "cuando.discard('ayer')\n",
        "print(cuando)"
      ]
    },
    {
      "cell_type": "markdown",
      "metadata": {
        "id": "6gQPKL5Uhlwf"
      },
      "source": [
        "No se generó error al no encontrar 'ayer'."
      ]
    },
    {
      "cell_type": "markdown",
      "metadata": {
        "id": "PUjz0phq9ujY"
      },
      "source": [
        "## Unión de conjuntos"
      ]
    },
    {
      "cell_type": "markdown",
      "metadata": {
        "id": "AYaKa6-N9ujY"
      },
      "source": [
        "Se puede hacer de 2 formas, con | o union. Incluye los elementos de ambos conjuntos y si hay elementos que se repiten, solo deja uno solo."
      ]
    },
    {
      "cell_type": "code",
      "execution_count": null,
      "metadata": {
        "id": "IgRvlT02h8D0"
      },
      "outputs": [],
      "source": [
        "otoño = {'marzo','abril'}\n",
        "invierno = {'abril','junio'}"
      ]
    },
    {
      "cell_type": "code",
      "execution_count": null,
      "metadata": {
        "colab": {
          "base_uri": "https://localhost:8080/"
        },
        "id": "FbciHARPh5HU",
        "outputId": "ead269af-069d-43b2-cb47-a091bbc86df1"
      },
      "outputs": [
        {
          "name": "stdout",
          "output_type": "stream",
          "text": [
            "{'marzo', 'abril', 'junio'}\n"
          ]
        }
      ],
      "source": [
        "oterno = otoño|invierno\n",
        "print(oterno)"
      ]
    },
    {
      "cell_type": "code",
      "execution_count": null,
      "metadata": {
        "colab": {
          "base_uri": "https://localhost:8080/"
        },
        "id": "ZEI8ODRy9ujY",
        "outputId": "e765600d-88d8-41df-e3f3-2d69bc21a18c"
      },
      "outputs": [
        {
          "name": "stdout",
          "output_type": "stream",
          "text": [
            "{'marzo', 'abril', 'junio'}\n"
          ]
        }
      ],
      "source": [
        "oterno2 = otoño.union(invierno)\n",
        "print(oterno2)"
      ]
    },
    {
      "cell_type": "markdown",
      "metadata": {
        "id": "AmJiMqeL9ujZ"
      },
      "source": [
        "## Intersección de conjuntos"
      ]
    },
    {
      "cell_type": "markdown",
      "metadata": {
        "id": "2_AxWCBg9ujZ"
      },
      "source": [
        "Se puede hacer de dos formas: con & o intersection. Arroja los elementos en común de ambos conjuntos sin repeticiones."
      ]
    },
    {
      "cell_type": "code",
      "execution_count": null,
      "metadata": {
        "colab": {
          "base_uri": "https://localhost:8080/"
        },
        "id": "A6jlBAxIlQzw",
        "outputId": "5044cb90-1388-4538-a1bf-3e95b5f3e79c"
      },
      "outputs": [
        {
          "name": "stdout",
          "output_type": "stream",
          "text": [
            "{'abril'}\n"
          ]
        }
      ],
      "source": [
        "solsticio = otoño & invierno\n",
        "print(solsticio)"
      ]
    },
    {
      "cell_type": "code",
      "execution_count": null,
      "metadata": {
        "colab": {
          "base_uri": "https://localhost:8080/"
        },
        "id": "-v5vGOxE9ujZ",
        "outputId": "6b945fec-4ea1-4469-c745-1397aa7c96a2"
      },
      "outputs": [
        {
          "name": "stdout",
          "output_type": "stream",
          "text": [
            "{'abril'}\n"
          ]
        }
      ],
      "source": [
        "solsticio2 = otoño.intersection(invierno)\n",
        "print(solsticio2)"
      ]
    },
    {
      "cell_type": "markdown",
      "metadata": {
        "id": "ums83gsm9ujZ"
      },
      "source": [
        "## Diferencia de conjuntos"
      ]
    },
    {
      "cell_type": "markdown",
      "metadata": {
        "id": "b0mgRfe59ujZ"
      },
      "source": [
        "Se puede hacer con Difference o -. Arroja los elementos que se encuentran en el primer conjunto, pero no se encuentran en el segundo conjunto."
      ]
    },
    {
      "cell_type": "code",
      "execution_count": null,
      "metadata": {
        "colab": {
          "base_uri": "https://localhost:8080/"
        },
        "id": "qQM7ROKmlYap",
        "outputId": "bb08aaf5-fca9-4f02-c7de-7777a4442e63"
      },
      "outputs": [
        {
          "name": "stdout",
          "output_type": "stream",
          "text": [
            "{'marzo'}\n"
          ]
        }
      ],
      "source": [
        "solotoño = otoño - invierno\n",
        "print(solotoño)"
      ]
    },
    {
      "cell_type": "code",
      "execution_count": null,
      "metadata": {
        "colab": {
          "base_uri": "https://localhost:8080/"
        },
        "id": "HAuxR3iO9uja",
        "outputId": "76fa5552-c735-4598-b6fa-9c60d360645d"
      },
      "outputs": [
        {
          "name": "stdout",
          "output_type": "stream",
          "text": [
            "{'marzo'}\n"
          ]
        }
      ],
      "source": [
        "solotoño2 = otoño.difference(invierno)\n",
        "print(solotoño2)"
      ]
    },
    {
      "cell_type": "markdown",
      "metadata": {
        "id": "0WYnUYgn9uja"
      },
      "source": [
        "## Diferencia simétrica de conjuntos"
      ]
    },
    {
      "cell_type": "markdown",
      "metadata": {
        "id": "jLHoUZu-9uja"
      },
      "source": [
        "Se puede hacer con symmetric_difference o ^. Entrega los elementos de ambos conjuntos que no se encuentran en la intersección."
      ]
    },
    {
      "cell_type": "code",
      "execution_count": null,
      "metadata": {
        "colab": {
          "base_uri": "https://localhost:8080/"
        },
        "id": "AMohM0Lb9uja",
        "outputId": "46e72a3e-d8f5-4d45-b3cf-c0407c58c7e8"
      },
      "outputs": [
        {
          "name": "stdout",
          "output_type": "stream",
          "text": [
            "{'marzo', 'junio'}\n"
          ]
        }
      ],
      "source": [
        "# Acá entrega marzo y junio, pero no abril porque abril está en ambos conjuntos.\n",
        "puros = otoño ^ invierno\n",
        "print(puros)"
      ]
    },
    {
      "cell_type": "code",
      "execution_count": null,
      "metadata": {
        "colab": {
          "base_uri": "https://localhost:8080/"
        },
        "id": "-KmW9Implnh6",
        "outputId": "5dcb6d30-2b0b-48f7-a9fa-bfb357de651f"
      },
      "outputs": [
        {
          "name": "stdout",
          "output_type": "stream",
          "text": [
            "{'marzo', 'junio'}\n"
          ]
        }
      ],
      "source": [
        "puros2 = otoño.symmetric_difference(invierno)\n",
        "print(puros2)"
      ]
    },
    {
      "cell_type": "markdown",
      "metadata": {
        "id": "q4rnN5sK9uja"
      },
      "source": [
        "# Tutorial: Cómo resolver ejercicios usando sets en Python"
      ]
    },
    {
      "cell_type": "markdown",
      "metadata": {
        "id": "_sztMj_v9ujb"
      },
      "source": [
        "## Ejercicio 1"
      ]
    },
    {
      "cell_type": "code",
      "execution_count": null,
      "metadata": {
        "id": "lG4whV-K9ujb"
      },
      "outputs": [],
      "source": [
        "# Estas listas indican plantas disponibles para cada época de sembrado\n",
        "verano = ['acelga','apio','espinaca','repollo','lechuga']\n",
        "otoño = ['acelga','ajo','apio','cebolla','lechuga','papa']\n",
        "invierno = ['pimentón','acelga','ají','espinaca','lechuga']\n",
        "primavera = ['albahaca','acelga','cebolla','lechuga','tomate']\n"
      ]
    },
    {
      "cell_type": "markdown",
      "metadata": {
        "id": "pnTIcQzU9ujb"
      },
      "source": [
        "### 1. ¿Cuántas plantas distintas hay?"
      ]
    },
    {
      "cell_type": "markdown",
      "metadata": {
        "id": "sHPOCoMg9ujc"
      },
      "source": [
        "Convertimos las listas en conjuntos y utilizamos la unión"
      ]
    },
    {
      "cell_type": "code",
      "execution_count": null,
      "metadata": {
        "id": "OT9Uo3a89ujc"
      },
      "outputs": [],
      "source": [
        "verano=set(['acelga','apio','espinaca','repollo','lechuga'])\n",
        "otoño=set(['acelga','ajo','apio','cebolla','lechuga','papa'])\n",
        "invierno=set(['pimentón','acelga','ají','espinaca','lechuga'])\n",
        "primavera=set(['albahaca','acelga','cebolla','lechuga','tomate'])"
      ]
    },
    {
      "cell_type": "code",
      "execution_count": null,
      "metadata": {
        "colab": {
          "base_uri": "https://localhost:8080/"
        },
        "id": "x_AbmzWW9ujc",
        "outputId": "b86b174e-f0b5-457c-de3a-5774f5cddc6c"
      },
      "outputs": [
        {
          "name": "stdout",
          "output_type": "stream",
          "text": [
            "{'repollo', 'apio', 'lechuga', 'acelga', 'espinaca'}\n",
            "{'papa', 'ajo', 'lechuga', 'acelga', 'apio', 'cebolla'}\n",
            "{'pimentón', 'lechuga', 'ají', 'acelga', 'espinaca'}\n",
            "{'lechuga', 'tomate', 'albahaca', 'acelga', 'cebolla'}\n"
          ]
        }
      ],
      "source": [
        "print(verano)\n",
        "print(otoño)\n",
        "print(invierno)\n",
        "print(primavera)"
      ]
    },
    {
      "cell_type": "code",
      "execution_count": null,
      "metadata": {
        "colab": {
          "base_uri": "https://localhost:8080/"
        },
        "id": "sIhuOGDQ9ujd",
        "outputId": "0667401a-9bb3-4e44-8c04-e829ff773fbb"
      },
      "outputs": [
        {
          "name": "stdout",
          "output_type": "stream",
          "text": [
            "{'repollo', 'apio', 'papa', 'ajo', 'pimentón', 'lechuga', 'tomate', 'ají', 'albahaca', 'acelga', 'espinaca', 'cebolla'}\n",
            "12\n"
          ]
        }
      ],
      "source": [
        "plantas = verano | otoño | invierno | primavera\n",
        "print(plantas)\n",
        "print(len(plantas))"
      ]
    },
    {
      "cell_type": "markdown",
      "metadata": {
        "id": "zmTSyDEn9ujd"
      },
      "source": [
        "### 2. ¿Qué plantas se pueden sembrar todo el año?"
      ]
    },
    {
      "cell_type": "markdown",
      "metadata": {
        "id": "ulXysrWA9ujd"
      },
      "source": [
        "Utilizamos interseccion"
      ]
    },
    {
      "cell_type": "code",
      "execution_count": null,
      "metadata": {
        "colab": {
          "base_uri": "https://localhost:8080/"
        },
        "id": "UnDJ6Qp-9ujd",
        "outputId": "ac7f8214-6427-43cd-db9c-ca3339f983e9"
      },
      "outputs": [
        {
          "name": "stdout",
          "output_type": "stream",
          "text": [
            "{'acelga', 'lechuga'}\n"
          ]
        }
      ],
      "source": [
        "todoelaño = verano & otoño & invierno & primavera\n",
        "print(todoelaño)"
      ]
    },
    {
      "cell_type": "markdown",
      "metadata": {
        "id": "yPBQWcmp9ujd"
      },
      "source": [
        "### 3. ¿Qué plantas son exclusivas de primavera y verano?"
      ]
    },
    {
      "cell_type": "markdown",
      "metadata": {
        "id": "ZDuB8_ed9uje"
      },
      "source": [
        "Se dan solo en verano o primavera, pero no se dan ni en otoño ni en invierno"
      ]
    },
    {
      "cell_type": "code",
      "execution_count": null,
      "metadata": {
        "colab": {
          "base_uri": "https://localhost:8080/"
        },
        "id": "NkX8p5gR9uje",
        "outputId": "58d54647-a64e-46b6-ff9e-3476038c7775"
      },
      "outputs": [
        {
          "name": "stdout",
          "output_type": "stream",
          "text": [
            "{'albahaca', 'repollo', 'tomate'}\n"
          ]
        }
      ],
      "source": [
        "priver = (verano | primavera) - otoño - invierno\n",
        "print(priver)"
      ]
    },
    {
      "cell_type": "markdown",
      "metadata": {
        "id": "CIJ1KroO9uje"
      },
      "source": [
        "## Ejercicio 2"
      ]
    },
    {
      "cell_type": "code",
      "execution_count": null,
      "metadata": {
        "colab": {
          "base_uri": "https://localhost:8080/",
          "height": 53
        },
        "id": "Tm2F3SX69uje",
        "outputId": "c98dc1c2-a1d7-4eef-a8b0-a4b2de0993e1"
      },
      "outputs": [
        {
          "data": {
            "application/vnd.google.colaboratory.intrinsic+json": {
              "type": "string"
            },
            "text/plain": [
              "'El amor es un mejor profesor que el deber. Información no es conocimiento. Nunca pierdas la sagrada curiosidad. Si no puedes explicarlo en forma simple, no lo entiendes lo suficientemente bien. Todos deben ser respetados como individuos, pero no idolatrados.'"
            ]
          },
          "execution_count": 45,
          "metadata": {},
          "output_type": "execute_result"
        }
      ],
      "source": [
        "texto = 'El amor es un mejor profesor que el deber. Información no es conocimiento. Nunca pierdas la sagrada curiosidad. Si no puedes explicarlo en forma simple, no lo entiendes lo suficientemente bien. Todos deben ser respetados como individuos, pero no idolatrados.'\n",
        "texto"
      ]
    },
    {
      "cell_type": "markdown",
      "metadata": {
        "id": "rnddNTGV9uje"
      },
      "source": [
        "### ¿Cuántas palabras distintas se usan en este texto?"
      ]
    },
    {
      "cell_type": "markdown",
      "metadata": {
        "id": "oCghKfyr9ujf"
      },
      "source": [
        "Primero, pasamos todo a minúsculas, luego quitamos puntos y comas y los reemplazamos por vacío, y luego dividimos cada palabra utilizando los espacios para saber que se trata de palabras diferentes (split())."
      ]
    },
    {
      "cell_type": "code",
      "execution_count": null,
      "metadata": {
        "colab": {
          "base_uri": "https://localhost:8080/"
        },
        "id": "owHWYGE49ujf",
        "outputId": "ca48ffd5-0f64-40e8-de7a-65bff32ba87f"
      },
      "outputs": [
        {
          "name": "stdout",
          "output_type": "stream",
          "text": [
            "['el', 'amor', 'es', 'un', 'mejor', 'profesor', 'que', 'el', 'deber', 'información', 'no', 'es', 'conocimiento', 'nunca', 'pierdas', 'la', 'sagrada', 'curiosidad', 'si', 'no', 'puedes', 'explicarlo', 'en', 'forma', 'simple', 'no', 'lo', 'entiendes', 'lo', 'suficientemente', 'bien', 'todos', 'deben', 'ser', 'respetados', 'como', 'individuos', 'pero', 'no', 'idolatrados']\n"
          ]
        }
      ],
      "source": [
        "lista_de_palabras=texto.lower().replace(\".\",\"\").replace(\",\",\"\").split()\n",
        "print(lista_de_palabras)"
      ]
    },
    {
      "cell_type": "code",
      "execution_count": null,
      "metadata": {
        "colab": {
          "base_uri": "https://localhost:8080/"
        },
        "id": "xQQjtalT9ujf",
        "outputId": "1fa127df-a7d5-4585-a5a4-819af9225896"
      },
      "outputs": [
        {
          "name": "stdout",
          "output_type": "stream",
          "text": [
            "40\n"
          ]
        }
      ],
      "source": [
        "# Para saber cuántas palabras hay en la lista\n",
        "print(len(lista_de_palabras))"
      ]
    },
    {
      "cell_type": "markdown",
      "metadata": {
        "id": "VBf_psDn9ujf"
      },
      "source": [
        "Si convertimos la lista de palabras en un conjunto, podemos saber cuáles son las palabras únicas (que no se repiten)."
      ]
    },
    {
      "cell_type": "code",
      "execution_count": null,
      "metadata": {
        "colab": {
          "base_uri": "https://localhost:8080/"
        },
        "id": "seHXIvsZ9ujf",
        "outputId": "ace9fd26-62bb-4d0e-dc5f-76070a2f729f"
      },
      "outputs": [
        {
          "name": "stdout",
          "output_type": "stream",
          "text": [
            "{'bien', 'conocimiento', 'puedes', 'en', 'individuos', 'nunca', 'todos', 'mejor', 'sagrada', 'deben', 'pero', 'el', 'respetados', 'un', 'forma', 'si', 'que', 'lo', 'deber', 'no', 'como', 'suficientemente', 'idolatrados', 'explicarlo', 'amor', 'profesor', 'es', 'ser', 'entiendes', 'información', 'curiosidad', 'pierdas', 'la', 'simple'}\n",
            "34\n"
          ]
        }
      ],
      "source": [
        "conjunto_de_palabras=set(lista_de_palabras)\n",
        "print(conjunto_de_palabras)\n",
        "print(len(conjunto_de_palabras))"
      ]
    },
    {
      "cell_type": "markdown",
      "metadata": {
        "id": "MAEDuOex9ujg"
      },
      "source": [
        "## Ejercicio 3"
      ]
    },
    {
      "cell_type": "markdown",
      "metadata": {
        "id": "s71Nw4FE9ujg"
      },
      "source": [
        "Vamos a hacer un experimento para saber qué es más rápido para buscar, una lista o un conjunto."
      ]
    },
    {
      "cell_type": "code",
      "execution_count": null,
      "metadata": {
        "id": "hhrugsZP9ujg"
      },
      "outputs": [],
      "source": [
        "# Importamos la librería time que nos ayudará a medir el tiempo de ejecución\n",
        "from time import time"
      ]
    },
    {
      "cell_type": "code",
      "execution_count": null,
      "metadata": {
        "id": "vNSnfsvw9ujg"
      },
      "outputs": [],
      "source": [
        "ELEMENTOS = 10**7 #10^7 son 10.000.000\n",
        "ELEMENTO_A_BUSCAR = ELEMENTOS//2 # Buscar elemento del medio\n",
        "lista_gigante = list(range(ELEMENTOS)) # Lista de 10 millones de enteros\n",
        "set_gigante = set(range(ELEMENTOS)) # Conjunto de 10 millones de enteros"
      ]
    },
    {
      "cell_type": "code",
      "execution_count": null,
      "metadata": {
        "colab": {
          "base_uri": "https://localhost:8080/"
        },
        "id": "Z_5b2YNNw7Qk",
        "outputId": "b07f4303-b7c0-4b98-d008-1008f6e3145a"
      },
      "outputs": [
        {
          "data": {
            "text/plain": [
              "[0,\n",
              " 1,\n",
              " 2,\n",
              " 3,\n",
              " 4,\n",
              " 5,\n",
              " 6,\n",
              " 7,\n",
              " 8,\n",
              " 9,\n",
              " 10,\n",
              " 11,\n",
              " 12,\n",
              " 13,\n",
              " 14,\n",
              " 15,\n",
              " 16,\n",
              " 17,\n",
              " 18,\n",
              " 19,\n",
              " 20,\n",
              " 21,\n",
              " 22,\n",
              " 23,\n",
              " 24,\n",
              " 25,\n",
              " 26,\n",
              " 27,\n",
              " 28,\n",
              " 29,\n",
              " 30,\n",
              " 31,\n",
              " 32,\n",
              " 33,\n",
              " 34,\n",
              " 35,\n",
              " 36,\n",
              " 37,\n",
              " 38,\n",
              " 39,\n",
              " 40,\n",
              " 41,\n",
              " 42,\n",
              " 43,\n",
              " 44,\n",
              " 45,\n",
              " 46,\n",
              " 47,\n",
              " 48,\n",
              " 49,\n",
              " 50,\n",
              " 51,\n",
              " 52,\n",
              " 53,\n",
              " 54,\n",
              " 55,\n",
              " 56,\n",
              " 57,\n",
              " 58,\n",
              " 59,\n",
              " 60,\n",
              " 61,\n",
              " 62,\n",
              " 63,\n",
              " 64,\n",
              " 65,\n",
              " 66,\n",
              " 67,\n",
              " 68,\n",
              " 69,\n",
              " 70,\n",
              " 71,\n",
              " 72,\n",
              " 73,\n",
              " 74,\n",
              " 75,\n",
              " 76,\n",
              " 77,\n",
              " 78,\n",
              " 79,\n",
              " 80,\n",
              " 81,\n",
              " 82,\n",
              " 83,\n",
              " 84,\n",
              " 85,\n",
              " 86,\n",
              " 87,\n",
              " 88,\n",
              " 89,\n",
              " 90,\n",
              " 91,\n",
              " 92,\n",
              " 93,\n",
              " 94,\n",
              " 95,\n",
              " 96,\n",
              " 97,\n",
              " 98,\n",
              " 99,\n",
              " 100,\n",
              " 101,\n",
              " 102,\n",
              " 103,\n",
              " 104,\n",
              " 105,\n",
              " 106,\n",
              " 107,\n",
              " 108,\n",
              " 109,\n",
              " 110,\n",
              " 111,\n",
              " 112,\n",
              " 113,\n",
              " 114,\n",
              " 115,\n",
              " 116,\n",
              " 117,\n",
              " 118,\n",
              " 119,\n",
              " 120,\n",
              " 121,\n",
              " 122,\n",
              " 123,\n",
              " 124,\n",
              " 125,\n",
              " 126,\n",
              " 127,\n",
              " 128,\n",
              " 129,\n",
              " 130,\n",
              " 131,\n",
              " 132,\n",
              " 133,\n",
              " 134,\n",
              " 135,\n",
              " 136,\n",
              " 137,\n",
              " 138,\n",
              " 139,\n",
              " 140,\n",
              " 141,\n",
              " 142,\n",
              " 143,\n",
              " 144,\n",
              " 145,\n",
              " 146,\n",
              " 147,\n",
              " 148,\n",
              " 149,\n",
              " 150,\n",
              " 151,\n",
              " 152,\n",
              " 153,\n",
              " 154,\n",
              " 155,\n",
              " 156,\n",
              " 157,\n",
              " 158,\n",
              " 159,\n",
              " 160,\n",
              " 161,\n",
              " 162,\n",
              " 163,\n",
              " 164,\n",
              " 165,\n",
              " 166,\n",
              " 167,\n",
              " 168,\n",
              " 169,\n",
              " 170,\n",
              " 171,\n",
              " 172,\n",
              " 173,\n",
              " 174,\n",
              " 175,\n",
              " 176,\n",
              " 177,\n",
              " 178,\n",
              " 179,\n",
              " 180,\n",
              " 181,\n",
              " 182,\n",
              " 183,\n",
              " 184,\n",
              " 185,\n",
              " 186,\n",
              " 187,\n",
              " 188,\n",
              " 189,\n",
              " 190,\n",
              " 191,\n",
              " 192,\n",
              " 193,\n",
              " 194,\n",
              " 195,\n",
              " 196,\n",
              " 197,\n",
              " 198,\n",
              " 199,\n",
              " 200,\n",
              " 201,\n",
              " 202,\n",
              " 203,\n",
              " 204,\n",
              " 205,\n",
              " 206,\n",
              " 207,\n",
              " 208,\n",
              " 209,\n",
              " 210,\n",
              " 211,\n",
              " 212,\n",
              " 213,\n",
              " 214,\n",
              " 215,\n",
              " 216,\n",
              " 217,\n",
              " 218,\n",
              " 219,\n",
              " 220,\n",
              " 221,\n",
              " 222,\n",
              " 223,\n",
              " 224,\n",
              " 225,\n",
              " 226,\n",
              " 227,\n",
              " 228,\n",
              " 229,\n",
              " 230,\n",
              " 231,\n",
              " 232,\n",
              " 233,\n",
              " 234,\n",
              " 235,\n",
              " 236,\n",
              " 237,\n",
              " 238,\n",
              " 239,\n",
              " 240,\n",
              " 241,\n",
              " 242,\n",
              " 243,\n",
              " 244,\n",
              " 245,\n",
              " 246,\n",
              " 247,\n",
              " 248,\n",
              " 249,\n",
              " 250,\n",
              " 251,\n",
              " 252,\n",
              " 253,\n",
              " 254,\n",
              " 255,\n",
              " 256,\n",
              " 257,\n",
              " 258,\n",
              " 259,\n",
              " 260,\n",
              " 261,\n",
              " 262,\n",
              " 263,\n",
              " 264,\n",
              " 265,\n",
              " 266,\n",
              " 267,\n",
              " 268,\n",
              " 269,\n",
              " 270,\n",
              " 271,\n",
              " 272,\n",
              " 273,\n",
              " 274,\n",
              " 275,\n",
              " 276,\n",
              " 277,\n",
              " 278,\n",
              " 279,\n",
              " 280,\n",
              " 281,\n",
              " 282,\n",
              " 283,\n",
              " 284,\n",
              " 285,\n",
              " 286,\n",
              " 287,\n",
              " 288,\n",
              " 289,\n",
              " 290,\n",
              " 291,\n",
              " 292,\n",
              " 293,\n",
              " 294,\n",
              " 295,\n",
              " 296,\n",
              " 297,\n",
              " 298,\n",
              " 299,\n",
              " 300,\n",
              " 301,\n",
              " 302,\n",
              " 303,\n",
              " 304,\n",
              " 305,\n",
              " 306,\n",
              " 307,\n",
              " 308,\n",
              " 309,\n",
              " 310,\n",
              " 311,\n",
              " 312,\n",
              " 313,\n",
              " 314,\n",
              " 315,\n",
              " 316,\n",
              " 317,\n",
              " 318,\n",
              " 319,\n",
              " 320,\n",
              " 321,\n",
              " 322,\n",
              " 323,\n",
              " 324,\n",
              " 325,\n",
              " 326,\n",
              " 327,\n",
              " 328,\n",
              " 329,\n",
              " 330,\n",
              " 331,\n",
              " 332,\n",
              " 333,\n",
              " 334,\n",
              " 335,\n",
              " 336,\n",
              " 337,\n",
              " 338,\n",
              " 339,\n",
              " 340,\n",
              " 341,\n",
              " 342,\n",
              " 343,\n",
              " 344,\n",
              " 345,\n",
              " 346,\n",
              " 347,\n",
              " 348,\n",
              " 349,\n",
              " 350,\n",
              " 351,\n",
              " 352,\n",
              " 353,\n",
              " 354,\n",
              " 355,\n",
              " 356,\n",
              " 357,\n",
              " 358,\n",
              " 359,\n",
              " 360,\n",
              " 361,\n",
              " 362,\n",
              " 363,\n",
              " 364,\n",
              " 365,\n",
              " 366,\n",
              " 367,\n",
              " 368,\n",
              " 369,\n",
              " 370,\n",
              " 371,\n",
              " 372,\n",
              " 373,\n",
              " 374,\n",
              " 375,\n",
              " 376,\n",
              " 377,\n",
              " 378,\n",
              " 379,\n",
              " 380,\n",
              " 381,\n",
              " 382,\n",
              " 383,\n",
              " 384,\n",
              " 385,\n",
              " 386,\n",
              " 387,\n",
              " 388,\n",
              " 389,\n",
              " 390,\n",
              " 391,\n",
              " 392,\n",
              " 393,\n",
              " 394,\n",
              " 395,\n",
              " 396,\n",
              " 397,\n",
              " 398,\n",
              " 399,\n",
              " 400,\n",
              " 401,\n",
              " 402,\n",
              " 403,\n",
              " 404,\n",
              " 405,\n",
              " 406,\n",
              " 407,\n",
              " 408,\n",
              " 409,\n",
              " 410,\n",
              " 411,\n",
              " 412,\n",
              " 413,\n",
              " 414,\n",
              " 415,\n",
              " 416,\n",
              " 417,\n",
              " 418,\n",
              " 419,\n",
              " 420,\n",
              " 421,\n",
              " 422,\n",
              " 423,\n",
              " 424,\n",
              " 425,\n",
              " 426,\n",
              " 427,\n",
              " 428,\n",
              " 429,\n",
              " 430,\n",
              " 431,\n",
              " 432,\n",
              " 433,\n",
              " 434,\n",
              " 435,\n",
              " 436,\n",
              " 437,\n",
              " 438,\n",
              " 439,\n",
              " 440,\n",
              " 441,\n",
              " 442,\n",
              " 443,\n",
              " 444,\n",
              " 445,\n",
              " 446,\n",
              " 447,\n",
              " 448,\n",
              " 449,\n",
              " 450,\n",
              " 451,\n",
              " 452,\n",
              " 453,\n",
              " 454,\n",
              " 455,\n",
              " 456,\n",
              " 457,\n",
              " 458,\n",
              " 459,\n",
              " 460,\n",
              " 461,\n",
              " 462,\n",
              " 463,\n",
              " 464,\n",
              " 465,\n",
              " 466,\n",
              " 467,\n",
              " 468,\n",
              " 469,\n",
              " 470,\n",
              " 471,\n",
              " 472,\n",
              " 473,\n",
              " 474,\n",
              " 475,\n",
              " 476,\n",
              " 477,\n",
              " 478,\n",
              " 479,\n",
              " 480,\n",
              " 481,\n",
              " 482,\n",
              " 483,\n",
              " 484,\n",
              " 485,\n",
              " 486,\n",
              " 487,\n",
              " 488,\n",
              " 489,\n",
              " 490,\n",
              " 491,\n",
              " 492,\n",
              " 493,\n",
              " 494,\n",
              " 495,\n",
              " 496,\n",
              " 497,\n",
              " 498,\n",
              " 499,\n",
              " 500,\n",
              " 501,\n",
              " 502,\n",
              " 503,\n",
              " 504,\n",
              " 505,\n",
              " 506,\n",
              " 507,\n",
              " 508,\n",
              " 509,\n",
              " 510,\n",
              " 511,\n",
              " 512,\n",
              " 513,\n",
              " 514,\n",
              " 515,\n",
              " 516,\n",
              " 517,\n",
              " 518,\n",
              " 519,\n",
              " 520,\n",
              " 521,\n",
              " 522,\n",
              " 523,\n",
              " 524,\n",
              " 525,\n",
              " 526,\n",
              " 527,\n",
              " 528,\n",
              " 529,\n",
              " 530,\n",
              " 531,\n",
              " 532,\n",
              " 533,\n",
              " 534,\n",
              " 535,\n",
              " 536,\n",
              " 537,\n",
              " 538,\n",
              " 539,\n",
              " 540,\n",
              " 541,\n",
              " 542,\n",
              " 543,\n",
              " 544,\n",
              " 545,\n",
              " 546,\n",
              " 547,\n",
              " 548,\n",
              " 549,\n",
              " 550,\n",
              " 551,\n",
              " 552,\n",
              " 553,\n",
              " 554,\n",
              " 555,\n",
              " 556,\n",
              " 557,\n",
              " 558,\n",
              " 559,\n",
              " 560,\n",
              " 561,\n",
              " 562,\n",
              " 563,\n",
              " 564,\n",
              " 565,\n",
              " 566,\n",
              " 567,\n",
              " 568,\n",
              " 569,\n",
              " 570,\n",
              " 571,\n",
              " 572,\n",
              " 573,\n",
              " 574,\n",
              " 575,\n",
              " 576,\n",
              " 577,\n",
              " 578,\n",
              " 579,\n",
              " 580,\n",
              " 581,\n",
              " 582,\n",
              " 583,\n",
              " 584,\n",
              " 585,\n",
              " 586,\n",
              " 587,\n",
              " 588,\n",
              " 589,\n",
              " 590,\n",
              " 591,\n",
              " 592,\n",
              " 593,\n",
              " 594,\n",
              " 595,\n",
              " 596,\n",
              " 597,\n",
              " 598,\n",
              " 599,\n",
              " 600,\n",
              " 601,\n",
              " 602,\n",
              " 603,\n",
              " 604,\n",
              " 605,\n",
              " 606,\n",
              " 607,\n",
              " 608,\n",
              " 609,\n",
              " 610,\n",
              " 611,\n",
              " 612,\n",
              " 613,\n",
              " 614,\n",
              " 615,\n",
              " 616,\n",
              " 617,\n",
              " 618,\n",
              " 619,\n",
              " 620,\n",
              " 621,\n",
              " 622,\n",
              " 623,\n",
              " 624,\n",
              " 625,\n",
              " 626,\n",
              " 627,\n",
              " 628,\n",
              " 629,\n",
              " 630,\n",
              " 631,\n",
              " 632,\n",
              " 633,\n",
              " 634,\n",
              " 635,\n",
              " 636,\n",
              " 637,\n",
              " 638,\n",
              " 639,\n",
              " 640,\n",
              " 641,\n",
              " 642,\n",
              " 643,\n",
              " 644,\n",
              " 645,\n",
              " 646,\n",
              " 647,\n",
              " 648,\n",
              " 649,\n",
              " 650,\n",
              " 651,\n",
              " 652,\n",
              " 653,\n",
              " 654,\n",
              " 655,\n",
              " 656,\n",
              " 657,\n",
              " 658,\n",
              " 659,\n",
              " 660,\n",
              " 661,\n",
              " 662,\n",
              " 663,\n",
              " 664,\n",
              " 665,\n",
              " 666,\n",
              " 667,\n",
              " 668,\n",
              " 669,\n",
              " 670,\n",
              " 671,\n",
              " 672,\n",
              " 673,\n",
              " 674,\n",
              " 675,\n",
              " 676,\n",
              " 677,\n",
              " 678,\n",
              " 679,\n",
              " 680,\n",
              " 681,\n",
              " 682,\n",
              " 683,\n",
              " 684,\n",
              " 685,\n",
              " 686,\n",
              " 687,\n",
              " 688,\n",
              " 689,\n",
              " 690,\n",
              " 691,\n",
              " 692,\n",
              " 693,\n",
              " 694,\n",
              " 695,\n",
              " 696,\n",
              " 697,\n",
              " 698,\n",
              " 699,\n",
              " 700,\n",
              " 701,\n",
              " 702,\n",
              " 703,\n",
              " 704,\n",
              " 705,\n",
              " 706,\n",
              " 707,\n",
              " 708,\n",
              " 709,\n",
              " 710,\n",
              " 711,\n",
              " 712,\n",
              " 713,\n",
              " 714,\n",
              " 715,\n",
              " 716,\n",
              " 717,\n",
              " 718,\n",
              " 719,\n",
              " 720,\n",
              " 721,\n",
              " 722,\n",
              " 723,\n",
              " 724,\n",
              " 725,\n",
              " 726,\n",
              " 727,\n",
              " 728,\n",
              " 729,\n",
              " 730,\n",
              " 731,\n",
              " 732,\n",
              " 733,\n",
              " 734,\n",
              " 735,\n",
              " 736,\n",
              " 737,\n",
              " 738,\n",
              " 739,\n",
              " 740,\n",
              " 741,\n",
              " 742,\n",
              " 743,\n",
              " 744,\n",
              " 745,\n",
              " 746,\n",
              " 747,\n",
              " 748,\n",
              " 749,\n",
              " 750,\n",
              " 751,\n",
              " 752,\n",
              " 753,\n",
              " 754,\n",
              " 755,\n",
              " 756,\n",
              " 757,\n",
              " 758,\n",
              " 759,\n",
              " 760,\n",
              " 761,\n",
              " 762,\n",
              " 763,\n",
              " 764,\n",
              " 765,\n",
              " 766,\n",
              " 767,\n",
              " 768,\n",
              " 769,\n",
              " 770,\n",
              " 771,\n",
              " 772,\n",
              " 773,\n",
              " 774,\n",
              " 775,\n",
              " 776,\n",
              " 777,\n",
              " 778,\n",
              " 779,\n",
              " 780,\n",
              " 781,\n",
              " 782,\n",
              " 783,\n",
              " 784,\n",
              " 785,\n",
              " 786,\n",
              " 787,\n",
              " 788,\n",
              " 789,\n",
              " 790,\n",
              " 791,\n",
              " 792,\n",
              " 793,\n",
              " 794,\n",
              " 795,\n",
              " 796,\n",
              " 797,\n",
              " 798,\n",
              " 799,\n",
              " 800,\n",
              " 801,\n",
              " 802,\n",
              " 803,\n",
              " 804,\n",
              " 805,\n",
              " 806,\n",
              " 807,\n",
              " 808,\n",
              " 809,\n",
              " 810,\n",
              " 811,\n",
              " 812,\n",
              " 813,\n",
              " 814,\n",
              " 815,\n",
              " 816,\n",
              " 817,\n",
              " 818,\n",
              " 819,\n",
              " 820,\n",
              " 821,\n",
              " 822,\n",
              " 823,\n",
              " 824,\n",
              " 825,\n",
              " 826,\n",
              " 827,\n",
              " 828,\n",
              " 829,\n",
              " 830,\n",
              " 831,\n",
              " 832,\n",
              " 833,\n",
              " 834,\n",
              " 835,\n",
              " 836,\n",
              " 837,\n",
              " 838,\n",
              " 839,\n",
              " 840,\n",
              " 841,\n",
              " 842,\n",
              " 843,\n",
              " 844,\n",
              " 845,\n",
              " 846,\n",
              " 847,\n",
              " 848,\n",
              " 849,\n",
              " 850,\n",
              " 851,\n",
              " 852,\n",
              " 853,\n",
              " 854,\n",
              " 855,\n",
              " 856,\n",
              " 857,\n",
              " 858,\n",
              " 859,\n",
              " 860,\n",
              " 861,\n",
              " 862,\n",
              " 863,\n",
              " 864,\n",
              " 865,\n",
              " 866,\n",
              " 867,\n",
              " 868,\n",
              " 869,\n",
              " 870,\n",
              " 871,\n",
              " 872,\n",
              " 873,\n",
              " 874,\n",
              " 875,\n",
              " 876,\n",
              " 877,\n",
              " 878,\n",
              " 879,\n",
              " 880,\n",
              " 881,\n",
              " 882,\n",
              " 883,\n",
              " 884,\n",
              " 885,\n",
              " 886,\n",
              " 887,\n",
              " 888,\n",
              " 889,\n",
              " 890,\n",
              " 891,\n",
              " 892,\n",
              " 893,\n",
              " 894,\n",
              " 895,\n",
              " 896,\n",
              " 897,\n",
              " 898,\n",
              " 899,\n",
              " 900,\n",
              " 901,\n",
              " 902,\n",
              " 903,\n",
              " 904,\n",
              " 905,\n",
              " 906,\n",
              " 907,\n",
              " 908,\n",
              " 909,\n",
              " 910,\n",
              " 911,\n",
              " 912,\n",
              " 913,\n",
              " 914,\n",
              " 915,\n",
              " 916,\n",
              " 917,\n",
              " 918,\n",
              " 919,\n",
              " 920,\n",
              " 921,\n",
              " 922,\n",
              " 923,\n",
              " 924,\n",
              " 925,\n",
              " 926,\n",
              " 927,\n",
              " 928,\n",
              " 929,\n",
              " 930,\n",
              " 931,\n",
              " 932,\n",
              " 933,\n",
              " 934,\n",
              " 935,\n",
              " 936,\n",
              " 937,\n",
              " 938,\n",
              " 939,\n",
              " 940,\n",
              " 941,\n",
              " 942,\n",
              " 943,\n",
              " 944,\n",
              " 945,\n",
              " 946,\n",
              " 947,\n",
              " 948,\n",
              " 949,\n",
              " 950,\n",
              " 951,\n",
              " 952,\n",
              " 953,\n",
              " 954,\n",
              " 955,\n",
              " 956,\n",
              " 957,\n",
              " 958,\n",
              " 959,\n",
              " 960,\n",
              " 961,\n",
              " 962,\n",
              " 963,\n",
              " 964,\n",
              " 965,\n",
              " 966,\n",
              " 967,\n",
              " 968,\n",
              " 969,\n",
              " 970,\n",
              " 971,\n",
              " 972,\n",
              " 973,\n",
              " 974,\n",
              " 975,\n",
              " 976,\n",
              " 977,\n",
              " 978,\n",
              " 979,\n",
              " 980,\n",
              " 981,\n",
              " 982,\n",
              " 983,\n",
              " 984,\n",
              " 985,\n",
              " 986,\n",
              " 987,\n",
              " 988,\n",
              " 989,\n",
              " 990,\n",
              " 991,\n",
              " 992,\n",
              " 993,\n",
              " 994,\n",
              " 995,\n",
              " 996,\n",
              " 997,\n",
              " 998,\n",
              " 999,\n",
              " ...]"
            ]
          },
          "execution_count": 51,
          "metadata": {},
          "output_type": "execute_result"
        }
      ],
      "source": [
        "lista_gigante"
      ]
    },
    {
      "cell_type": "code",
      "execution_count": null,
      "metadata": {
        "colab": {
          "base_uri": "https://localhost:8080/"
        },
        "id": "kNmynbQFxK0N",
        "outputId": "76a49e23-d1c4-455a-eb3f-8cd18565e96f"
      },
      "outputs": [
        {
          "data": {
            "text/plain": [
              "5000000"
            ]
          },
          "execution_count": 52,
          "metadata": {},
          "output_type": "execute_result"
        }
      ],
      "source": [
        "ELEMENTO_A_BUSCAR"
      ]
    },
    {
      "cell_type": "code",
      "execution_count": null,
      "metadata": {
        "colab": {
          "base_uri": "https://localhost:8080/"
        },
        "id": "3poTx_Nn9ujh",
        "outputId": "14500493-e713-40be-9d53-8e90bc4443d3"
      },
      "outputs": [
        {
          "name": "stdout",
          "output_type": "stream",
          "text": [
            "Tiempo de búsqueda en set: 0.000100 segs\n"
          ]
        }
      ],
      "source": [
        "tiempo_inicio = time()\n",
        "ELEMENTO_A_BUSCAR in set_gigante\n",
        "tiempo_termino = time()\n",
        "tiempo_set = tiempo_termino - tiempo_inicio\n",
        "print(f\"Tiempo de búsqueda en set: {tiempo_set:.6f} segs\") # Imprimir un float con máximo 6 decimales"
      ]
    },
    {
      "cell_type": "code",
      "execution_count": null,
      "metadata": {
        "colab": {
          "base_uri": "https://localhost:8080/"
        },
        "id": "l0DZ7YcZ9uji",
        "outputId": "6cfd1e2f-940c-4141-a0c0-37424f751423"
      },
      "outputs": [
        {
          "name": "stdout",
          "output_type": "stream",
          "text": [
            "Tiempo de búsqueda en lista: 0.064297 segs\n"
          ]
        }
      ],
      "source": [
        "tiempo_inicio = time()\n",
        "ELEMENTO_A_BUSCAR in lista_gigante\n",
        "tiempo_termino = time()\n",
        "tiempo_lista = tiempo_termino - tiempo_inicio\n",
        "print(f\"Tiempo de búsqueda en lista: {tiempo_lista:.6f} segs\")"
      ]
    }
  ],
  "metadata": {
    "colab": {
      "include_colab_link": true,
      "provenance": []
    },
    "kernelspec": {
      "display_name": "Python 3.8.1 32-bit",
      "language": "python",
      "name": "python3"
    },
    "language_info": {
      "codemirror_mode": {
        "name": "ipython",
        "version": 3
      },
      "file_extension": ".py",
      "mimetype": "text/x-python",
      "name": "python",
      "nbconvert_exporter": "python",
      "pygments_lexer": "ipython3",
      "version": "3.8.1"
    },
    "orig_nbformat": 4,
    "vscode": {
      "interpreter": {
        "hash": "b25af7edd9d744abc5be65703c7db0e0253305f8e9e5a5c8b160839b50596d73"
      }
    }
  },
  "nbformat": 4,
  "nbformat_minor": 0
}
