{
  "cells": [
    {
      "cell_type": "markdown",
      "metadata": {
        "colab_type": "text",
        "id": "view-in-github"
      },
      "source": [
        "<a href=\"https://colab.research.google.com/github/LinaMariaCastro/2025-segundo-semestre-ia-economia/blob/main/clases/2_Programacion_en_Python/4_Cadenas_de_texto.ipynb\" target=\"_parent\"><img src=\"https://colab.research.google.com/assets/colab-badge.svg\" alt=\"Open In Colab\"/></a>"
      ]
    },
    {
      "cell_type": "markdown",
      "metadata": {},
      "source": [
        "# **Inteligencia Artificial con Aplicaciones en Economía I**\n",
        "\n",
        "- 👩‍🏫 **Profesora:** [Lina María Castro](https://www.linkedin.com/in/lina-maria-castro)  \n",
        "- 📧 **Email:** [lmcastroco@gmail.com](mailto:lmcastroco@gmail.com)  \n",
        "- 🎓 **Universidad:** Universidad Externado de Colombia - Facultad de Economía"
      ]
    },
    {
      "cell_type": "markdown",
      "metadata": {
        "id": "Mu6fF7zL9S8t"
      },
      "source": [
        "# **Cadenas de texto (Strings)** (secuencial / inmutable)"
      ]
    },
    {
      "cell_type": "markdown",
      "metadata": {
        "id": "VWxn86znDch6"
      },
      "source": [
        "Son un tipo de dato para almacenar secuencias de caracteres, estos son útiles cuando debamos trabajar con texto.\n",
        "\n",
        "Es indiferente usar comilla simple o comilla doble."
      ]
    },
    {
      "cell_type": "markdown",
      "metadata": {
        "id": "dAYE1w6ZsiR7"
      },
      "source": [
        "## Formas de definir cadenas"
      ]
    },
    {
      "cell_type": "code",
      "execution_count": null,
      "metadata": {
        "colab": {
          "base_uri": "https://localhost:8080/",
          "height": 35
        },
        "id": "ba40VjPWDch8",
        "outputId": "84cf1880-e288-4bdd-983d-70896972f94d"
      },
      "outputs": [
        {
          "data": {
            "application/vnd.google.colaboratory.intrinsic+json": {
              "type": "string"
            },
            "text/plain": [
              "'comilla simple'"
            ]
          },
          "execution_count": 1,
          "metadata": {},
          "output_type": "execute_result"
        }
      ],
      "source": [
        "cadena1 = 'comilla simple'\n",
        "cadena1"
      ]
    },
    {
      "cell_type": "code",
      "execution_count": null,
      "metadata": {
        "colab": {
          "base_uri": "https://localhost:8080/",
          "height": 35
        },
        "id": "rj9RBr35Dch-",
        "outputId": "411e702b-1be9-4950-a001-576de482dc6a"
      },
      "outputs": [
        {
          "data": {
            "application/vnd.google.colaboratory.intrinsic+json": {
              "type": "string"
            },
            "text/plain": [
              "'comillas dobles'"
            ]
          },
          "execution_count": 2,
          "metadata": {},
          "output_type": "execute_result"
        }
      ],
      "source": [
        "cadena2 = \"comillas dobles\"\n",
        "cadena2"
      ]
    },
    {
      "cell_type": "markdown",
      "metadata": {
        "id": "xz83vOjbs6bi"
      },
      "source": [
        "## Concatenación"
      ]
    },
    {
      "cell_type": "code",
      "execution_count": null,
      "metadata": {
        "id": "kzz0rowns_kV"
      },
      "outputs": [],
      "source": [
        "texto = \"Python\""
      ]
    },
    {
      "cell_type": "code",
      "execution_count": null,
      "metadata": {
        "colab": {
          "base_uri": "https://localhost:8080/"
        },
        "id": "iju-gCwys8Sm",
        "outputId": "64318718-b0fd-4379-8ce2-b36ca776eda8"
      },
      "outputs": [
        {
          "name": "stdout",
          "output_type": "stream",
          "text": [
            "Python es genial\n"
          ]
        }
      ],
      "source": [
        "print(texto + \" es genial\")"
      ]
    },
    {
      "cell_type": "markdown",
      "metadata": {
        "id": "ZEvF-H3jtCn6"
      },
      "source": [
        "## Repetición"
      ]
    },
    {
      "cell_type": "code",
      "execution_count": null,
      "metadata": {
        "colab": {
          "base_uri": "https://localhost:8080/"
        },
        "id": "GY3bGFxztE6P",
        "outputId": "c7fa9e38-76a0-4f34-a365-c3c0d9c583e6"
      },
      "outputs": [
        {
          "name": "stdout",
          "output_type": "stream",
          "text": [
            "PythonPythonPython\n"
          ]
        }
      ],
      "source": [
        "print(texto * 3)"
      ]
    },
    {
      "cell_type": "markdown",
      "metadata": {
        "id": "I1uNwSonkAtM"
      },
      "source": [
        "## Índices de cadenas"
      ]
    },
    {
      "cell_type": "markdown",
      "metadata": {
        "id": "9L_F26XpDcic"
      },
      "source": [
        "Para acceder a las posiciones de cada uno de los caracteres de una cadena se hace por medio de su índice.\n",
        "\n",
        "Los índices se refieren a la ubicación de cada elemento. Empieza a contar en cero. -1 se refiere al último elemento.\n"
      ]
    },
    {
      "cell_type": "code",
      "execution_count": null,
      "metadata": {
        "id": "SPZyXtDxDcic"
      },
      "outputs": [],
      "source": [
        "s = \"Introducción a los tipos de objetos en Python\""
      ]
    },
    {
      "cell_type": "code",
      "execution_count": null,
      "metadata": {
        "colab": {
          "base_uri": "https://localhost:8080/",
          "height": 35
        },
        "id": "mEis3UffDcih",
        "outputId": "ebaabc5d-e445-4171-abf7-272cb6c0bf0b"
      },
      "outputs": [
        {
          "data": {
            "application/vnd.google.colaboratory.intrinsic+json": {
              "type": "string"
            },
            "text/plain": [
              "'I'"
            ]
          },
          "execution_count": 7,
          "metadata": {},
          "output_type": "execute_result"
        }
      ],
      "source": [
        "# Cuál es el elemento 0 de s?\n",
        "s[0]"
      ]
    },
    {
      "cell_type": "code",
      "execution_count": null,
      "metadata": {
        "colab": {
          "base_uri": "https://localhost:8080/",
          "height": 35
        },
        "id": "Iun3pxXXDcik",
        "outputId": "6acd1e42-f61c-4486-a39c-51a13e981e03"
      },
      "outputs": [
        {
          "data": {
            "application/vnd.google.colaboratory.intrinsic+json": {
              "type": "string"
            },
            "text/plain": [
              "'r'"
            ]
          },
          "execution_count": 8,
          "metadata": {},
          "output_type": "execute_result"
        }
      ],
      "source": [
        "# Cuál es el elemento 3 de s?\n",
        "s[3]"
      ]
    },
    {
      "cell_type": "code",
      "execution_count": null,
      "metadata": {
        "colab": {
          "base_uri": "https://localhost:8080/",
          "height": 35
        },
        "id": "DpBKbq199zCc",
        "outputId": "fa0f9146-fc86-4106-f010-ddafaa67d2bb"
      },
      "outputs": [
        {
          "data": {
            "application/vnd.google.colaboratory.intrinsic+json": {
              "type": "string"
            },
            "text/plain": [
              "'y'"
            ]
          },
          "execution_count": 9,
          "metadata": {},
          "output_type": "execute_result"
        }
      ],
      "source": [
        "# Cuál es el elemento -5 de s? Cuenta del último hacia atrás. Empieza a contar en -1\n",
        "# Los espacios también se cuentan\n",
        "s[-5]"
      ]
    },
    {
      "cell_type": "code",
      "execution_count": null,
      "metadata": {
        "id": "Ot8RgrlRWkO-"
      },
      "outputs": [],
      "source": [
        "# Para indicarle que agregue un enter\n",
        "x = '\\n'"
      ]
    },
    {
      "cell_type": "code",
      "execution_count": null,
      "metadata": {
        "colab": {
          "base_uri": "https://localhost:8080/"
        },
        "id": "qeOpVqSKWoNu",
        "outputId": "345efdc7-914b-4b4a-8a66-2f5ecee5882b"
      },
      "outputs": [
        {
          "name": "stdout",
          "output_type": "stream",
          "text": [
            "\n",
            " Introducción a los tipos de objetos en Python \n",
            " Hola\n"
          ]
        }
      ],
      "source": [
        "print(x, s, x, \"Hola\")"
      ]
    },
    {
      "cell_type": "code",
      "execution_count": null,
      "metadata": {
        "colab": {
          "base_uri": "https://localhost:8080/",
          "height": 35
        },
        "id": "NlYoRTleWwhQ",
        "outputId": "ae3c955d-42b0-45f6-d9a6-2b69509af297"
      },
      "outputs": [
        {
          "data": {
            "application/vnd.google.colaboratory.intrinsic+json": {
              "type": "string"
            },
            "text/plain": [
              "'\\n'"
            ]
          },
          "execution_count": 12,
          "metadata": {},
          "output_type": "execute_result"
        }
      ],
      "source": [
        "# Cuál es el elemento 0 de x?\n",
        "x[0]"
      ]
    },
    {
      "cell_type": "markdown",
      "metadata": {
        "id": "porQiEVok-KF"
      },
      "source": [
        "## Troceado de cadenas (Slicing)"
      ]
    },
    {
      "cell_type": "markdown",
      "metadata": {
        "id": "gf7voUFyDcim"
      },
      "source": [
        "Para tomar un subconjunto de elementos de la cadena inicial lo hacemos por la posición en el índice en forma de rango:\n",
        "\n",
        "**cadena[inicio:fin:paso]**\n",
        "* inicio (incluído)\n",
        "* fin (excluído)\n",
        "\n",
        "Valores por defecto:\n",
        "* inicio = 0\n",
        "* fin = longitud cadena\n",
        "* paso = 1 (puede ser negativo para empezar desde el final de la cadena hacia la izquierda)\n",
        "\n",
        "Paso indica cuántos elementos saltarse, por ejemplo, 2 quiere decir que muestre cada 2 elementos. Si es -1, muestra la cadena invertida y si es -2 muestra la cadena invertida, cada 2 elementos."
      ]
    },
    {
      "cell_type": "code",
      "execution_count": null,
      "metadata": {
        "id": "kBZTRdbNie6D"
      },
      "outputs": [],
      "source": [
        "s = \"Introducción a los tipos de objetos en Python\""
      ]
    },
    {
      "cell_type": "code",
      "execution_count": null,
      "metadata": {
        "colab": {
          "base_uri": "https://localhost:8080/",
          "height": 35
        },
        "id": "8oeMFF4GDcin",
        "outputId": "0b25afea-33b3-4fe3-aee9-da77677eabb9"
      },
      "outputs": [
        {
          "data": {
            "application/vnd.google.colaboratory.intrinsic+json": {
              "type": "string"
            },
            "text/plain": [
              "'Introducci'"
            ]
          },
          "execution_count": 14,
          "metadata": {},
          "output_type": "execute_result"
        }
      ],
      "source": [
        "# Muestre desde el elemento 0 hasta el 9 (10 está excluído)\n",
        "s[0:10]"
      ]
    },
    {
      "cell_type": "code",
      "execution_count": null,
      "metadata": {
        "colab": {
          "base_uri": "https://localhost:8080/",
          "height": 35
        },
        "id": "gJgq9Y8uDcir",
        "outputId": "47c8a4c0-a947-4fbb-b767-eed08315b047"
      },
      "outputs": [
        {
          "data": {
            "application/vnd.google.colaboratory.intrinsic+json": {
              "type": "string"
            },
            "text/plain": [
              "'Introducci'"
            ]
          },
          "execution_count": 15,
          "metadata": {},
          "output_type": "execute_result"
        }
      ],
      "source": [
        "# Muestre desde el elemento 0 hasta el 9 (10 está excluído). Empieza en 0 por defecto\n",
        "s[:10]"
      ]
    },
    {
      "cell_type": "code",
      "execution_count": null,
      "metadata": {
        "colab": {
          "base_uri": "https://localhost:8080/",
          "height": 35
        },
        "id": "0Ty9tzU80qwt",
        "outputId": "2673ffcb-85fe-4c1d-be59-3edc9b3a50a1"
      },
      "outputs": [
        {
          "data": {
            "application/vnd.google.colaboratory.intrinsic+json": {
              "type": "string"
            },
            "text/plain": [
              "'los'"
            ]
          },
          "execution_count": 16,
          "metadata": {},
          "output_type": "execute_result"
        }
      ],
      "source": [
        "# Muestre desde el elemento 15 hasta el 17 (18 está excluído).\n",
        "s[15:18]"
      ]
    },
    {
      "cell_type": "code",
      "execution_count": null,
      "metadata": {
        "colab": {
          "base_uri": "https://localhost:8080/",
          "height": 35
        },
        "id": "2QYDlWjJDciw",
        "outputId": "6fb6cbe0-eaaa-43a2-ca70-1c70ee595bd5"
      },
      "outputs": [
        {
          "data": {
            "application/vnd.google.colaboratory.intrinsic+json": {
              "type": "string"
            },
            "text/plain": [
              "'Introducción a los tipos de objetos en Python'"
            ]
          },
          "execution_count": 17,
          "metadata": {},
          "output_type": "execute_result"
        }
      ],
      "source": [
        "# Muestre todo\n",
        "s[:]"
      ]
    },
    {
      "cell_type": "code",
      "execution_count": null,
      "metadata": {
        "colab": {
          "base_uri": "https://localhost:8080/",
          "height": 35
        },
        "id": "mYVMMg8BDci1",
        "outputId": "08621f63-58d7-4125-f837-5b0aa0bb5541"
      },
      "outputs": [
        {
          "data": {
            "application/vnd.google.colaboratory.intrinsic+json": {
              "type": "string"
            },
            "text/plain": [
              "'Itouc'"
            ]
          },
          "execution_count": 18,
          "metadata": {},
          "output_type": "execute_result"
        }
      ],
      "source": [
        "# Muestre desde el elemento 0 hasta el 9, cada 2 elementos\n",
        "s[0:10:2]"
      ]
    },
    {
      "cell_type": "code",
      "execution_count": null,
      "metadata": {
        "colab": {
          "base_uri": "https://localhost:8080/",
          "height": 35
        },
        "id": "_IunyjTCnV_0",
        "outputId": "fc84d9ad-d6cd-41ee-b341-62280f8e9530"
      },
      "outputs": [
        {
          "data": {
            "application/vnd.google.colaboratory.intrinsic+json": {
              "type": "string"
            },
            "text/plain": [
              "'nohtyP ne sotejbo ed sopit sol a nóiccudortnI'"
            ]
          },
          "execution_count": 19,
          "metadata": {},
          "output_type": "execute_result"
        }
      ],
      "source": [
        "# Muestre todo invertido\n",
        "s[::-1]"
      ]
    },
    {
      "cell_type": "code",
      "execution_count": null,
      "metadata": {
        "colab": {
          "base_uri": "https://localhost:8080/",
          "height": 35
        },
        "id": "ywta5mhkDci2",
        "outputId": "9aa6c084-d9c5-4008-a4af-7a44ba9aa2d1"
      },
      "outputs": [
        {
          "data": {
            "application/vnd.google.colaboratory.intrinsic+json": {
              "type": "string"
            },
            "text/plain": [
              "'nhy estjoe oi o  ócuotI'"
            ]
          },
          "execution_count": 20,
          "metadata": {},
          "output_type": "execute_result"
        }
      ],
      "source": [
        "# Muestre todo cada 2 elementos invertido\n",
        "s[::-2]"
      ]
    },
    {
      "cell_type": "markdown",
      "metadata": {
        "id": "tf-V0hn2zrJZ"
      },
      "source": [
        "### Ejercicio"
      ]
    },
    {
      "cell_type": "code",
      "execution_count": null,
      "metadata": {
        "id": "NqGipjC6Dci4"
      },
      "outputs": [],
      "source": [
        "# Crea una nueva variable llamda cad\n",
        "cad = \"Amor a Roma\""
      ]
    },
    {
      "cell_type": "code",
      "execution_count": null,
      "metadata": {
        "colab": {
          "base_uri": "https://localhost:8080/",
          "height": 35
        },
        "id": "9k-_kS-0Dci5",
        "outputId": "f2caae23-3297-4e76-a3a4-32f642ab38ac"
      },
      "outputs": [
        {
          "data": {
            "application/vnd.google.colaboratory.intrinsic+json": {
              "type": "string"
            },
            "text/plain": [
              "'amoR a romA'"
            ]
          },
          "execution_count": 22,
          "metadata": {},
          "output_type": "execute_result"
        }
      ],
      "source": [
        "# Muestre todos los elementos de cad invertidos\n",
        "cad[::-1]"
      ]
    },
    {
      "cell_type": "code",
      "execution_count": null,
      "metadata": {
        "id": "cAmXs1v0Dci7"
      },
      "outputs": [],
      "source": [
        "# Crea una nueva variable llamada oculto\n",
        "oculto = \"!XeXgXaXsXsXeXmX XtXeXrXcXeXsX XeXhXtX XmXaX XI\""
      ]
    },
    {
      "cell_type": "code",
      "execution_count": null,
      "metadata": {
        "colab": {
          "base_uri": "https://localhost:8080/",
          "height": 35
        },
        "id": "oLkZH5UHDci8",
        "outputId": "6438f91a-92c5-48c6-fbcd-52b5cfcdb9c2"
      },
      "outputs": [
        {
          "data": {
            "application/vnd.google.colaboratory.intrinsic+json": {
              "type": "string"
            },
            "text/plain": [
              "'I am the secret message!'"
            ]
          },
          "execution_count": 24,
          "metadata": {},
          "output_type": "execute_result"
        }
      ],
      "source": [
        "# Crea una nueva variable llamada mensaje compuesta por toda la cadena oculto, cada 2 elementos, invertida\n",
        "mensaje = oculto[::-2]\n",
        "mensaje"
      ]
    },
    {
      "cell_type": "markdown",
      "metadata": {
        "id": "HFGszwVHuP83"
      },
      "source": [
        "## Funciones y métodos comunes"
      ]
    },
    {
      "cell_type": "code",
      "execution_count": null,
      "metadata": {
        "colab": {
          "base_uri": "https://localhost:8080/"
        },
        "id": "S2ipGE-Pu7Zz",
        "outputId": "5bfb2e07-71aa-47a1-c816-93ae26cfffc7"
      },
      "outputs": [
        {
          "name": "stdout",
          "output_type": "stream",
          "text": [
            "  Python es poderoso y divertido  \n"
          ]
        }
      ],
      "source": [
        "frase = \"  Python es poderoso y divertido  \"\n",
        "print(frase)"
      ]
    },
    {
      "cell_type": "code",
      "execution_count": null,
      "metadata": {
        "colab": {
          "base_uri": "https://localhost:8080/"
        },
        "id": "1EJBfHfjvKjZ",
        "outputId": "9e1cc385-f585-4497-cc2d-f25c78821d5c"
      },
      "outputs": [
        {
          "name": "stdout",
          "output_type": "stream",
          "text": [
            "Python es poderoso y divertido\n"
          ]
        }
      ],
      "source": [
        "# Elimina los espacios en blanco al inicio y al final de la cadena\n",
        "frase = frase.strip()\n",
        "print(frase)"
      ]
    },
    {
      "cell_type": "code",
      "execution_count": null,
      "metadata": {
        "colab": {
          "base_uri": "https://localhost:8080/"
        },
        "id": "hSn7BoF6u-wD",
        "outputId": "db2b643c-3d5f-4c7a-e23e-670f9477608d"
      },
      "outputs": [
        {
          "name": "stdout",
          "output_type": "stream",
          "text": [
            "30\n"
          ]
        }
      ],
      "source": [
        "# Muestra la cantidad de caracteres en la cadena\n",
        "print(len(frase))"
      ]
    },
    {
      "cell_type": "code",
      "execution_count": null,
      "metadata": {
        "colab": {
          "base_uri": "https://localhost:8080/"
        },
        "id": "Cu5yRR-XvAOg",
        "outputId": "a5b61475-846a-4a81-c030-15ef6c3382fb"
      },
      "outputs": [
        {
          "name": "stdout",
          "output_type": "stream",
          "text": [
            "python es poderoso y divertido\n"
          ]
        }
      ],
      "source": [
        "# Convierte todo el texto a minúsculas\n",
        "print(frase.lower())"
      ]
    },
    {
      "cell_type": "code",
      "execution_count": null,
      "metadata": {
        "colab": {
          "base_uri": "https://localhost:8080/"
        },
        "id": "RsnC_YHgvCGT",
        "outputId": "a9475bd2-4f1d-42be-8bbc-4bd28f5f98e9"
      },
      "outputs": [
        {
          "name": "stdout",
          "output_type": "stream",
          "text": [
            "PYTHON ES PODEROSO Y DIVERTIDO\n"
          ]
        }
      ],
      "source": [
        "# Convierte todo el texto a mayúsculas\n",
        "print(frase.upper())"
      ]
    },
    {
      "cell_type": "code",
      "execution_count": null,
      "metadata": {
        "colab": {
          "base_uri": "https://localhost:8080/"
        },
        "id": "GcmP-2zbvDru",
        "outputId": "fcd9a24d-b767-4591-8463-dd5beffc6fc1"
      },
      "outputs": [
        {
          "name": "stdout",
          "output_type": "stream",
          "text": [
            "Python es poderoso y divertido\n"
          ]
        }
      ],
      "source": [
        "# Convierte la primera letra del texto a mayúscula y el resto a minúsculas\n",
        "print(frase.capitalize())"
      ]
    },
    {
      "cell_type": "code",
      "execution_count": null,
      "metadata": {
        "colab": {
          "base_uri": "https://localhost:8080/"
        },
        "id": "WTmlMXxovHTG",
        "outputId": "eb64714a-2a19-433e-db13-764640ebd1f8"
      },
      "outputs": [
        {
          "name": "stdout",
          "output_type": "stream",
          "text": [
            "Python Es Poderoso Y Divertido\n"
          ]
        }
      ],
      "source": [
        "# Convierte la primera letra de cada palabra a mayúscula\n",
        "print(frase.title())"
      ]
    },
    {
      "cell_type": "code",
      "execution_count": null,
      "metadata": {
        "colab": {
          "base_uri": "https://localhost:8080/"
        },
        "id": "JfY-TQTgvNeD",
        "outputId": "db003d76-e77d-4265-80a1-e2f3c9658b2d"
      },
      "outputs": [
        {
          "name": "stdout",
          "output_type": "stream",
          "text": [
            "Python es poderoso y asombroso\n"
          ]
        }
      ],
      "source": [
        "# Reemplaza una palabra o subcadena por otra\n",
        "print(frase.replace(\"divertido\", \"asombroso\"))"
      ]
    },
    {
      "cell_type": "code",
      "execution_count": null,
      "metadata": {
        "colab": {
          "base_uri": "https://localhost:8080/"
        },
        "id": "q6M53GNrvPYx",
        "outputId": "e8309909-87e1-4119-d76b-cb4fa2c88a78"
      },
      "outputs": [
        {
          "name": "stdout",
          "output_type": "stream",
          "text": [
            "5\n"
          ]
        }
      ],
      "source": [
        "# Cuenta cuántas veces aparece una subcadena específica\n",
        "print(frase.count(\"o\"))"
      ]
    },
    {
      "cell_type": "code",
      "execution_count": null,
      "metadata": {
        "colab": {
          "base_uri": "https://localhost:8080/"
        },
        "id": "pkhpRe1IvVFm",
        "outputId": "9112565a-386e-4640-c1b7-12635690296c"
      },
      "outputs": [
        {
          "name": "stdout",
          "output_type": "stream",
          "text": [
            "10\n"
          ]
        }
      ],
      "source": [
        "# Devuelve la posición donde aparece por primera vez una subcadena (o -1 si no existe)\n",
        "print(frase.find(\"poderoso\"))"
      ]
    },
    {
      "cell_type": "code",
      "execution_count": null,
      "metadata": {
        "colab": {
          "base_uri": "https://localhost:8080/"
        },
        "id": "UcdZX4sawow7",
        "outputId": "1e5a4170-1afb-4c36-dcb3-71331094eed0"
      },
      "outputs": [
        {
          "name": "stdout",
          "output_type": "stream",
          "text": [
            "-1\n"
          ]
        }
      ],
      "source": [
        "print(frase.find(\"maravilloso\"))"
      ]
    },
    {
      "cell_type": "code",
      "execution_count": null,
      "metadata": {
        "colab": {
          "base_uri": "https://localhost:8080/"
        },
        "id": "hduMjW5cva8o",
        "outputId": "2c43652c-73ff-4068-a552-e1a945a820f9"
      },
      "outputs": [
        {
          "name": "stdout",
          "output_type": "stream",
          "text": [
            "True\n"
          ]
        }
      ],
      "source": [
        "# Verifica si la cadena empieza con una subcadena específica (True o False)\n",
        "print(frase.startswith(\"Python\"))"
      ]
    },
    {
      "cell_type": "code",
      "execution_count": null,
      "metadata": {
        "colab": {
          "base_uri": "https://localhost:8080/"
        },
        "id": "FiHs2RgCvd4D",
        "outputId": "15f124c5-1a06-4058-ffef-7f134a86db18"
      },
      "outputs": [
        {
          "name": "stdout",
          "output_type": "stream",
          "text": [
            "False\n"
          ]
        }
      ],
      "source": [
        "# Verifica si la cadena termina con una subcadena específica (True o False)\n",
        "print(frase.endswith(\"maravilloso\"))"
      ]
    },
    {
      "cell_type": "markdown",
      "metadata": {
        "id": "MRQabY41uibX"
      },
      "source": [
        "## División y unión de cadenas"
      ]
    },
    {
      "cell_type": "code",
      "execution_count": null,
      "metadata": {
        "id": "-gSUSbrpyg9G"
      },
      "outputs": [],
      "source": [
        "# Cadena de texto con elementos separados por comas\n",
        "texto = \"uno, dos, tres\""
      ]
    },
    {
      "cell_type": "code",
      "execution_count": null,
      "metadata": {
        "colab": {
          "base_uri": "https://localhost:8080/"
        },
        "id": "UeedbXW4umLX",
        "outputId": "f5455703-737c-4e9d-dfcc-d5caf9f9c595"
      },
      "outputs": [
        {
          "name": "stdout",
          "output_type": "stream",
          "text": [
            "['uno', ' dos', ' tres']\n"
          ]
        }
      ],
      "source": [
        "# Convierte la cadena en una lista, usando la coma como separador\n",
        "lista = texto.split(\",\")\n",
        "print(lista)"
      ]
    },
    {
      "cell_type": "code",
      "execution_count": null,
      "metadata": {
        "colab": {
          "base_uri": "https://localhost:8080/"
        },
        "id": "WrqqM4G3y2Aw",
        "outputId": "f90f7840-e428-499e-e2ac-efc9766cbf31"
      },
      "outputs": [
        {
          "name": "stdout",
          "output_type": "stream",
          "text": [
            "['uno', 'dos', 'tres']\n"
          ]
        }
      ],
      "source": [
        "lista = texto.split(\", \")\n",
        "print(lista)"
      ]
    },
    {
      "cell_type": "code",
      "execution_count": null,
      "metadata": {
        "id": "SR-NE3eFyp57"
      },
      "outputs": [],
      "source": [
        "# Cadena de texto con saltos de línea\n",
        "lineas = \"Primera línea\\nSegunda línea\""
      ]
    },
    {
      "cell_type": "code",
      "execution_count": null,
      "metadata": {
        "colab": {
          "base_uri": "https://localhost:8080/"
        },
        "id": "zi2ehM_pusfQ",
        "outputId": "cd7a0d37-d8aa-4ad9-9290-b77d3c6dd5f1"
      },
      "outputs": [
        {
          "name": "stdout",
          "output_type": "stream",
          "text": [
            "['Primera línea', 'Segunda línea']\n"
          ]
        }
      ],
      "source": [
        "# Divide la cadena en una lista usando el salto de línea como separador\n",
        "print(lineas.splitlines())"
      ]
    },
    {
      "cell_type": "code",
      "execution_count": null,
      "metadata": {
        "colab": {
          "base_uri": "https://localhost:8080/"
        },
        "id": "c1kl72X9uw8h",
        "outputId": "a3b51bab-86b4-4ea1-8e76-857aa642f7a8"
      },
      "outputs": [
        {
          "name": "stdout",
          "output_type": "stream",
          "text": [
            "['uno', 'dos', 'tres']\n",
            "uno-dos-tres\n"
          ]
        }
      ],
      "source": [
        "# Une los elementos de la lista en una sola cadena, separados por guiones\n",
        "print(lista)\n",
        "unido = \"-\".join(lista)\n",
        "print(unido)"
      ]
    },
    {
      "cell_type": "code",
      "execution_count": null,
      "metadata": {
        "colab": {
          "base_uri": "https://localhost:8080/"
        },
        "id": "0aO-xlxGzIOg",
        "outputId": "17b9faaf-945b-4a2b-e86a-29abb5b3611b"
      },
      "outputs": [
        {
          "name": "stdout",
          "output_type": "stream",
          "text": [
            "uno - dos - tres\n"
          ]
        }
      ],
      "source": [
        "unido = \" - \".join(lista)\n",
        "print(unido)"
      ]
    },
    {
      "cell_type": "markdown",
      "metadata": {
        "id": "1_m-k47-0B7u"
      },
      "source": [
        "### Ejercicio"
      ]
    },
    {
      "cell_type": "markdown",
      "metadata": {
        "id": "EEJS4iyoI7Nc"
      },
      "source": [
        "Para la frase \"Python es increíble\" muestra:\n",
        "\n",
        "- Cuántos caracteres tiene en total (incluyendo espacios).\n",
        "- Cuántos caracteres tiene sin contar espacios."
      ]
    },
    {
      "cell_type": "code",
      "execution_count": null,
      "metadata": {
        "id": "cTttLElfz-9f"
      },
      "outputs": [],
      "source": [
        "m = \"Python es increíble\""
      ]
    },
    {
      "cell_type": "code",
      "execution_count": null,
      "metadata": {
        "colab": {
          "base_uri": "https://localhost:8080/"
        },
        "id": "wa0shQlnKwjT",
        "outputId": "1afac46c-1f3a-485d-cfb0-b36c3379731d"
      },
      "outputs": [
        {
          "data": {
            "text/plain": [
              "19"
            ]
          },
          "execution_count": 48,
          "metadata": {},
          "output_type": "execute_result"
        }
      ],
      "source": [
        "len(m)"
      ]
    },
    {
      "cell_type": "code",
      "execution_count": null,
      "metadata": {
        "colab": {
          "base_uri": "https://localhost:8080/",
          "height": 35
        },
        "id": "fK4C1oWUK1VT",
        "outputId": "c235c740-f3c7-474a-9b2e-bb61b5774f88"
      },
      "outputs": [
        {
          "data": {
            "application/vnd.google.colaboratory.intrinsic+json": {
              "type": "string"
            },
            "text/plain": [
              "'Pythonesincreíble'"
            ]
          },
          "execution_count": 49,
          "metadata": {},
          "output_type": "execute_result"
        }
      ],
      "source": [
        "p = m.replace(\" \", \"\")\n",
        "p"
      ]
    },
    {
      "cell_type": "code",
      "execution_count": null,
      "metadata": {
        "colab": {
          "base_uri": "https://localhost:8080/"
        },
        "id": "-wVQdlk0K9S_",
        "outputId": "d4fa475e-27f4-4140-86d3-5979d04e742d"
      },
      "outputs": [
        {
          "data": {
            "text/plain": [
              "17"
            ]
          },
          "execution_count": 50,
          "metadata": {},
          "output_type": "execute_result"
        }
      ],
      "source": [
        "len(p)"
      ]
    },
    {
      "cell_type": "markdown",
      "metadata": {
        "id": "z40OmK2vJLe3"
      },
      "source": [
        "A partir de la frase \"Python es increíble\", imprime:\n",
        "\n",
        "- Toda en mayúsculas.\n",
        "- Toda en minúsculas.\n",
        "- Solo la primera letra en mayúscula."
      ]
    },
    {
      "cell_type": "code",
      "execution_count": null,
      "metadata": {
        "colab": {
          "base_uri": "https://localhost:8080/",
          "height": 35
        },
        "id": "9EcMdRLxJbNk",
        "outputId": "330c307b-1425-4fdd-d192-e25972e7e3f0"
      },
      "outputs": [
        {
          "data": {
            "application/vnd.google.colaboratory.intrinsic+json": {
              "type": "string"
            },
            "text/plain": [
              "'PYTHON ES INCREÍBLE'"
            ]
          },
          "execution_count": 51,
          "metadata": {},
          "output_type": "execute_result"
        }
      ],
      "source": [
        "m.upper()"
      ]
    },
    {
      "cell_type": "code",
      "execution_count": null,
      "metadata": {
        "colab": {
          "base_uri": "https://localhost:8080/",
          "height": 35
        },
        "id": "C4iW1RQYLM89",
        "outputId": "c0481fb9-73fc-4ae9-e661-4f1ad04fb709"
      },
      "outputs": [
        {
          "data": {
            "application/vnd.google.colaboratory.intrinsic+json": {
              "type": "string"
            },
            "text/plain": [
              "'python es increíble'"
            ]
          },
          "execution_count": 52,
          "metadata": {},
          "output_type": "execute_result"
        }
      ],
      "source": [
        "m.lower()"
      ]
    },
    {
      "cell_type": "code",
      "execution_count": null,
      "metadata": {
        "colab": {
          "base_uri": "https://localhost:8080/",
          "height": 35
        },
        "id": "pHsq1vw1LOwn",
        "outputId": "2e8e382c-cc0e-4c23-d239-ea25a5dcb73e"
      },
      "outputs": [
        {
          "data": {
            "application/vnd.google.colaboratory.intrinsic+json": {
              "type": "string"
            },
            "text/plain": [
              "'Python es increíble'"
            ]
          },
          "execution_count": 53,
          "metadata": {},
          "output_type": "execute_result"
        }
      ],
      "source": [
        "m.capitalize()"
      ]
    },
    {
      "cell_type": "markdown",
      "metadata": {
        "id": "qk7MxVp2JUA_"
      },
      "source": [
        "Dada la cadena \"Economía y Datos\", usa slicing para:\n",
        "\n",
        "- Obtener solo \"Economía\".\n",
        "- Obtener solo \"Datos\"."
      ]
    },
    {
      "cell_type": "code",
      "execution_count": null,
      "metadata": {
        "colab": {
          "base_uri": "https://localhost:8080/",
          "height": 35
        },
        "id": "YxFtL_LKJbso",
        "outputId": "19d4a4eb-a576-4644-9b4a-056022da3bd0"
      },
      "outputs": [
        {
          "data": {
            "application/vnd.google.colaboratory.intrinsic+json": {
              "type": "string"
            },
            "text/plain": [
              "'Economía'"
            ]
          },
          "execution_count": 54,
          "metadata": {},
          "output_type": "execute_result"
        }
      ],
      "source": [
        "frase = \"Economía y Datos\"\n",
        "frase[:8]"
      ]
    },
    {
      "cell_type": "code",
      "execution_count": null,
      "metadata": {
        "colab": {
          "base_uri": "https://localhost:8080/",
          "height": 35
        },
        "id": "BfmQmmGvLmJ4",
        "outputId": "4319e13b-4a84-4f4c-8eee-d1cc38198f7f"
      },
      "outputs": [
        {
          "data": {
            "application/vnd.google.colaboratory.intrinsic+json": {
              "type": "string"
            },
            "text/plain": [
              "'Datos'"
            ]
          },
          "execution_count": 55,
          "metadata": {},
          "output_type": "execute_result"
        }
      ],
      "source": [
        "frase[11:]"
      ]
    },
    {
      "cell_type": "code",
      "execution_count": null,
      "metadata": {
        "colab": {
          "base_uri": "https://localhost:8080/",
          "height": 35
        },
        "id": "3CeKkX4Qmkha",
        "outputId": "d5096a85-a59a-4aab-dcf0-610abdf14c85"
      },
      "outputs": [
        {
          "data": {
            "application/vnd.google.colaboratory.intrinsic+json": {
              "type": "string"
            },
            "text/plain": [
              "'Datos'"
            ]
          },
          "execution_count": 57,
          "metadata": {},
          "output_type": "execute_result"
        }
      ],
      "source": [
        "frase[-5:]"
      ]
    },
    {
      "cell_type": "markdown",
      "metadata": {
        "id": "hKHfXcnRJcED"
      },
      "source": [
        "En la cadena \"La inflación anual fue del 7.5%\",\n",
        "\n",
        "- Encuentra la posición donde aparece \"7.5\"\n",
        "- Reemplaza \"7.5\" por \"8.2\" y muestra la nueva frase."
      ]
    },
    {
      "cell_type": "code",
      "execution_count": null,
      "metadata": {
        "colab": {
          "base_uri": "https://localhost:8080/"
        },
        "id": "RoJuX9kNJo1T",
        "outputId": "04205584-69b8-400d-b616-74737f0c9a40"
      },
      "outputs": [
        {
          "data": {
            "text/plain": [
              "27"
            ]
          },
          "execution_count": 58,
          "metadata": {},
          "output_type": "execute_result"
        }
      ],
      "source": [
        "analisis = \"La inflación anual fue del 7.5%\"\n",
        "analisis.find(\"7.5\")"
      ]
    },
    {
      "cell_type": "code",
      "execution_count": null,
      "metadata": {
        "colab": {
          "base_uri": "https://localhost:8080/",
          "height": 35
        },
        "id": "cYGp_MewL5re",
        "outputId": "d5cdf17c-ba11-4cb7-9c5e-afca0bd5ace8"
      },
      "outputs": [
        {
          "data": {
            "application/vnd.google.colaboratory.intrinsic+json": {
              "type": "string"
            },
            "text/plain": [
              "'La inflación anual fue del 8.2%'"
            ]
          },
          "execution_count": 59,
          "metadata": {},
          "output_type": "execute_result"
        }
      ],
      "source": [
        "analisis.replace(\"7.5\", \"8.2\")"
      ]
    },
    {
      "cell_type": "markdown",
      "metadata": {
        "id": "nGOWuuA5JoUh"
      },
      "source": [
        "A partir del texto \" Python    para análisis de datos \"\n",
        "\n",
        "- Elimina los espacios extra al inicio y final.\n",
        "- Reemplaza los espacios múltiples por uno solo."
      ]
    },
    {
      "cell_type": "code",
      "execution_count": null,
      "metadata": {
        "id": "75kAzhLoKoHs"
      },
      "outputs": [],
      "source": [
        "esp = \" Python  para  análisis  de  datos \""
      ]
    },
    {
      "cell_type": "code",
      "execution_count": null,
      "metadata": {
        "colab": {
          "base_uri": "https://localhost:8080/",
          "height": 35
        },
        "id": "YavDqe0BMM2V",
        "outputId": "1d2e3580-4e6d-48e7-bc64-b9dde953e0a7"
      },
      "outputs": [
        {
          "data": {
            "application/vnd.google.colaboratory.intrinsic+json": {
              "type": "string"
            },
            "text/plain": [
              "'Python  para  análisis  de  datos'"
            ]
          },
          "execution_count": 61,
          "metadata": {},
          "output_type": "execute_result"
        }
      ],
      "source": [
        "esp2 = esp.strip()\n",
        "esp2"
      ]
    },
    {
      "cell_type": "code",
      "execution_count": null,
      "metadata": {
        "colab": {
          "base_uri": "https://localhost:8080/",
          "height": 35
        },
        "id": "w8E7QjrqMSrU",
        "outputId": "dd93620e-e9a6-4c01-8315-babdd797ea04"
      },
      "outputs": [
        {
          "data": {
            "application/vnd.google.colaboratory.intrinsic+json": {
              "type": "string"
            },
            "text/plain": [
              "'Python para análisis de datos'"
            ]
          },
          "execution_count": 62,
          "metadata": {},
          "output_type": "execute_result"
        }
      ],
      "source": [
        "esp3 = esp2.replace(\"  \", \" \")\n",
        "esp3"
      ]
    },
    {
      "cell_type": "markdown",
      "metadata": {
        "id": "c0gGdEiEtTNQ"
      },
      "source": [
        "## Formateo de cadenas"
      ]
    },
    {
      "cell_type": "code",
      "execution_count": null,
      "metadata": {
        "id": "L2uWE5brDciS"
      },
      "outputs": [],
      "source": [
        "# Creación de dos variables\n",
        "name = 'María'\n",
        "edad = 20"
      ]
    },
    {
      "cell_type": "code",
      "execution_count": null,
      "metadata": {
        "colab": {
          "base_uri": "https://localhost:8080/"
        },
        "id": "dF5F-dtHDciU",
        "outputId": "74d7656b-206e-4319-817a-da169e46fe59"
      },
      "outputs": [
        {
          "name": "stdout",
          "output_type": "stream",
          "text": [
            "Mi nombre es María y tengo 20 años.\n"
          ]
        }
      ],
      "source": [
        "# Para insertar el valor de las dos variables en una línea de texto\n",
        "print('Mi nombre es {} y tengo {} años.'.format(name, edad))"
      ]
    },
    {
      "cell_type": "code",
      "execution_count": null,
      "metadata": {
        "colab": {
          "base_uri": "https://localhost:8080/"
        },
        "id": "uMjpLk5jDcia",
        "outputId": "33767024-22ff-4167-dcf4-da9d7dae021b"
      },
      "outputs": [
        {
          "name": "stdout",
          "output_type": "stream",
          "text": [
            "Mi nombre es María y tengo 20 años\n"
          ]
        }
      ],
      "source": [
        "# Otra forma de insertar el valor de las dos variables en una línea de texto\n",
        "# %s llama un string\n",
        "# %d llama un número\n",
        "print(\"Mi nombre es %s y tengo %d años\" % (name, edad))"
      ]
    },
    {
      "cell_type": "code",
      "execution_count": null,
      "metadata": {
        "colab": {
          "base_uri": "https://localhost:8080/"
        },
        "id": "ur9rZj0e-Ap7",
        "outputId": "3c232b6d-9eb2-42af-c928-b3ac9966d01d"
      },
      "outputs": [
        {
          "name": "stdout",
          "output_type": "stream",
          "text": [
            "Mi nombre es María y tengo 20 años.\n"
          ]
        }
      ],
      "source": [
        "# Otra forma de insertar el valor de las dos variables en una línea de texto, una forma más sencilla\n",
        "# f-string\n",
        "print(f\"Mi nombre es {name} y tengo {edad} años.\")"
      ]
    },
    {
      "cell_type": "markdown",
      "metadata": {
        "id": "lqWfK7-t0H9P"
      },
      "source": [
        "### Ejercicio"
      ]
    },
    {
      "cell_type": "markdown",
      "metadata": {
        "id": "XR8dEc4GNOws"
      },
      "source": [
        "Escribe un código que solicite al usuario su nombre, edad y ciudad, y que luego muestre el mensaje:\n",
        "\n",
        "\"Hola, [nombre]. Tienes [edad] años y vives en [ciudad].\"\n",
        "\n",
        "Usa f-strings para construir el mensaje."
      ]
    },
    {
      "cell_type": "code",
      "execution_count": null,
      "metadata": {
        "colab": {
          "base_uri": "https://localhost:8080/"
        },
        "id": "SQvpzlQsMwh_",
        "outputId": "b4468317-54df-4e97-d358-1c04f88e87d6"
      },
      "outputs": [
        {
          "name": "stdout",
          "output_type": "stream",
          "text": [
            "Ingresa tu nombre: Sara\n",
            "Ingresa tu edad: 50\n",
            "Ingresa tu ciudad: Cali\n",
            "Hola, Sara. Tienes 50 años y vives en Cali.\n"
          ]
        }
      ],
      "source": [
        "nombre = input(\"Ingresa tu nombre: \")\n",
        "edad = int(input(\"Ingresa tu edad: \"))\n",
        "ciudad = input(\"Ingresa tu ciudad: \")\n",
        "\n",
        "mensaje = f\"Hola, {nombre}. Tienes {edad} años y vives en {ciudad}.\"\n",
        "print(mensaje)"
      ]
    },
    {
      "cell_type": "markdown",
      "metadata": {
        "id": "XRB-pH-sxEX0"
      },
      "source": [
        "## Verificación de contenido"
      ]
    },
    {
      "cell_type": "code",
      "execution_count": null,
      "metadata": {
        "colab": {
          "base_uri": "https://localhost:8080/"
        },
        "id": "_tM7b2gCxJU_",
        "outputId": "82193c8c-678a-436b-8cb1-99131b7f77b7"
      },
      "outputs": [
        {
          "name": "stdout",
          "output_type": "stream",
          "text": [
            "True\n"
          ]
        }
      ],
      "source": [
        "# Verifica si todos los caracteres de la cadena son letras (sin números ni símbolos)\n",
        "print(\"Python\".isalpha())"
      ]
    },
    {
      "cell_type": "code",
      "execution_count": null,
      "metadata": {
        "colab": {
          "base_uri": "https://localhost:8080/"
        },
        "id": "ht45rYRnyQrq",
        "outputId": "1d1317f2-2be0-46be-cc29-7925a6b16931"
      },
      "outputs": [
        {
          "name": "stdout",
          "output_type": "stream",
          "text": [
            "False\n"
          ]
        }
      ],
      "source": [
        "print(\"Python 3\".isalpha())"
      ]
    },
    {
      "cell_type": "code",
      "execution_count": null,
      "metadata": {
        "colab": {
          "base_uri": "https://localhost:8080/"
        },
        "id": "SdBOckPAxLeQ",
        "outputId": "1a883bd3-05e2-4951-9474-785fb88d4b4f"
      },
      "outputs": [
        {
          "name": "stdout",
          "output_type": "stream",
          "text": [
            "True\n"
          ]
        }
      ],
      "source": [
        "# Verifica si todos los caracteres de la cadena son dígitos (números del 0 al 9)\n",
        "print(\"1234\".isdigit())"
      ]
    },
    {
      "cell_type": "code",
      "execution_count": null,
      "metadata": {
        "colab": {
          "base_uri": "https://localhost:8080/"
        },
        "id": "88pIpSl5yNs7",
        "outputId": "2b814ffe-7117-4588-827d-48ad04056096"
      },
      "outputs": [
        {
          "name": "stdout",
          "output_type": "stream",
          "text": [
            "False\n"
          ]
        }
      ],
      "source": [
        "print(\"1sdf234\".isdigit())"
      ]
    },
    {
      "cell_type": "code",
      "execution_count": null,
      "metadata": {
        "colab": {
          "base_uri": "https://localhost:8080/"
        },
        "id": "RYZd9Sm9xNbe",
        "outputId": "c7dddd7e-962b-49cb-e7ce-405ec512bbce"
      },
      "outputs": [
        {
          "name": "stdout",
          "output_type": "stream",
          "text": [
            "True\n"
          ]
        }
      ],
      "source": [
        "# Verifica si todos los caracteres son alfanuméricos (letras y/o números, sin símbolos ni espacios)\n",
        "print(\"Python3\".isalnum())"
      ]
    },
    {
      "cell_type": "code",
      "execution_count": null,
      "metadata": {
        "colab": {
          "base_uri": "https://localhost:8080/"
        },
        "id": "jJQRGgeiyK2O",
        "outputId": "200d835c-4f35-477f-fc93-95f6e2d9f383"
      },
      "outputs": [
        {
          "name": "stdout",
          "output_type": "stream",
          "text": [
            "False\n"
          ]
        }
      ],
      "source": [
        "print(\"Python 3\".isalnum())"
      ]
    },
    {
      "cell_type": "code",
      "execution_count": null,
      "metadata": {
        "colab": {
          "base_uri": "https://localhost:8080/"
        },
        "id": "odNAtdMQxPIc",
        "outputId": "4036b355-30f9-4b94-9809-9479a8f18cb7"
      },
      "outputs": [
        {
          "name": "stdout",
          "output_type": "stream",
          "text": [
            "True\n"
          ]
        }
      ],
      "source": [
        "# Verifica si la cadena está compuesta únicamente por espacios en blanco\n",
        "print(\"   \".isspace())"
      ]
    },
    {
      "cell_type": "code",
      "execution_count": null,
      "metadata": {
        "colab": {
          "base_uri": "https://localhost:8080/"
        },
        "id": "rDNtHxPWyHkA",
        "outputId": "5a1e41a0-488a-4e40-933c-99ce7ee2264b"
      },
      "outputs": [
        {
          "name": "stdout",
          "output_type": "stream",
          "text": [
            "False\n"
          ]
        }
      ],
      "source": [
        "print(\" df  \".isspace())"
      ]
    },
    {
      "cell_type": "code",
      "execution_count": null,
      "metadata": {
        "colab": {
          "base_uri": "https://localhost:8080/"
        },
        "id": "p6FDSjpbxQrB",
        "outputId": "25b6d840-dfcf-4f69-fdca-7bf53c69bbb5"
      },
      "outputs": [
        {
          "name": "stdout",
          "output_type": "stream",
          "text": [
            "True\n"
          ]
        }
      ],
      "source": [
        "# Verifica si todos los caracteres de la cadena están en minúscula\n",
        "print(\"python\".islower())"
      ]
    },
    {
      "cell_type": "code",
      "execution_count": null,
      "metadata": {
        "colab": {
          "base_uri": "https://localhost:8080/"
        },
        "id": "AW8rCD7qyCyW",
        "outputId": "09d55253-ff55-4fb1-fef9-45b4af668051"
      },
      "outputs": [
        {
          "name": "stdout",
          "output_type": "stream",
          "text": [
            "False\n"
          ]
        }
      ],
      "source": [
        "print(\"Python\".islower())"
      ]
    },
    {
      "cell_type": "code",
      "execution_count": null,
      "metadata": {
        "colab": {
          "base_uri": "https://localhost:8080/"
        },
        "id": "bUrM3miTxUBr",
        "outputId": "8ec0c94c-15b9-41fa-db26-d341497d7b2c"
      },
      "outputs": [
        {
          "name": "stdout",
          "output_type": "stream",
          "text": [
            "True\n"
          ]
        }
      ],
      "source": [
        "# Verifica si todos los caracteres de la cadena están en mayúscula\n",
        "print(\"PYTHON\".isupper())"
      ]
    },
    {
      "cell_type": "code",
      "execution_count": null,
      "metadata": {
        "colab": {
          "base_uri": "https://localhost:8080/"
        },
        "id": "mbGiUWCCx-S5",
        "outputId": "f100daf8-5ffa-4ec1-f2c6-e1b05cfd66e8"
      },
      "outputs": [
        {
          "name": "stdout",
          "output_type": "stream",
          "text": [
            "False\n"
          ]
        }
      ],
      "source": [
        "print(\"Python\".isupper())"
      ]
    },
    {
      "cell_type": "markdown",
      "metadata": {
        "id": "Vqrwozwk0cFX"
      },
      "source": [
        "### Ejercicio"
      ]
    },
    {
      "cell_type": "markdown",
      "metadata": {
        "id": "CUhcvziOOhQT"
      },
      "source": [
        "Para la siguiente frase: \"Anita lava la tina\"\n",
        "- Elimina espacios, pasa a minúsculas y verifica si es un palíndromo (se lee igual al derecho y al revés)\n",
        "- Verifica que solo contenga letras."
      ]
    },
    {
      "cell_type": "code",
      "execution_count": null,
      "metadata": {
        "id": "9F4dLKwE0eFw"
      },
      "outputs": [],
      "source": [
        "frase = \"Anita lava la tina\""
      ]
    },
    {
      "cell_type": "code",
      "execution_count": null,
      "metadata": {
        "colab": {
          "base_uri": "https://localhost:8080/",
          "height": 35
        },
        "id": "eIROx-7HO77G",
        "outputId": "0793db3e-208c-41bb-9b40-003428ad9804"
      },
      "outputs": [
        {
          "data": {
            "application/vnd.google.colaboratory.intrinsic+json": {
              "type": "string"
            },
            "text/plain": [
              "'anitalavalatina'"
            ]
          },
          "execution_count": 81,
          "metadata": {},
          "output_type": "execute_result"
        }
      ],
      "source": [
        "frase = frase.replace(\" \", \"\")\n",
        "frase = frase.lower()\n",
        "frase[::-1]"
      ]
    },
    {
      "cell_type": "code",
      "execution_count": null,
      "metadata": {
        "colab": {
          "base_uri": "https://localhost:8080/"
        },
        "id": "NbDjzTrLPyz0",
        "outputId": "3a9d1f82-0676-4bca-9c0b-46c3a73f24e6"
      },
      "outputs": [
        {
          "data": {
            "text/plain": [
              "True"
            ]
          },
          "execution_count": 82,
          "metadata": {},
          "output_type": "execute_result"
        }
      ],
      "source": [
        "frase.isalpha()"
      ]
    }
  ],
  "metadata": {
    "colab": {
      "include_colab_link": true,
      "provenance": []
    },
    "kernelspec": {
      "display_name": "Python 3",
      "language": "python",
      "name": "python3"
    }
  },
  "nbformat": 4,
  "nbformat_minor": 0
}
