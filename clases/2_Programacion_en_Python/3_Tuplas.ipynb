{
  "cells": [
    {
      "cell_type": "markdown",
      "metadata": {
        "colab_type": "text",
        "id": "view-in-github"
      },
      "source": [
        "<a href=\"https://colab.research.google.com/github/LinaMariaCastro/2025-segundo-semestre-ia-economia/blob/main/clases/2_Programacion_en_Python/3_Tuplas.ipynb\" target=\"_parent\"><img src=\"https://colab.research.google.com/assets/colab-badge.svg\" alt=\"Open In Colab\"/></a>"
      ]
    },
    {
      "cell_type": "markdown",
      "metadata": {},
      "source": [
        "# **Inteligencia Artificial con Aplicaciones en Economía I**\n",
        "\n",
        "- 👩‍🏫 **Profesora:** [Lina María Castro](https://www.linkedin.com/in/lina-maria-castro)  \n",
        "- 📧 **Email:** [lmcastroco@gmail.com](mailto:lmcastroco@gmail.com)  \n",
        "- 🎓 **Universidad:** Universidad Externado de Colombia - Facultad de Economía"
      ]
    },
    {
      "cell_type": "markdown",
      "metadata": {
        "id": "OXu8-uGo9Bxb"
      },
      "source": [
        "# **Tuplas**"
      ]
    },
    {
      "cell_type": "markdown",
      "metadata": {
        "id": "ZS7z719KDcj7"
      },
      "source": [
        "Estos son arreglos inmutables de elementos. Es decir que son listas de elementos que no pueden ser modificadas agregando o eliminando elementos.\n",
        "\n",
        "Las tuplas están entre paréntesis ( ) y sus elementos separados por comas."
      ]
    },
    {
      "cell_type": "code",
      "execution_count": null,
      "metadata": {
        "colab": {
          "base_uri": "https://localhost:8080/"
        },
        "id": "pV5rpvkCDcj7",
        "outputId": "a635f136-cf0b-4d72-ceb1-044e36afb85c"
      },
      "outputs": [
        {
          "data": {
            "text/plain": [
              "[1, 2, 3]"
            ]
          },
          "execution_count": 1,
          "metadata": {},
          "output_type": "execute_result"
        }
      ],
      "source": [
        "lista = [1, 2, 3]\n",
        "lista"
      ]
    },
    {
      "cell_type": "code",
      "execution_count": null,
      "metadata": {
        "colab": {
          "base_uri": "https://localhost:8080/"
        },
        "id": "SpsmIOvLDcj9",
        "outputId": "21266c7e-d835-4d56-ad9d-0bdaf0808244"
      },
      "outputs": [
        {
          "data": {
            "text/plain": [
              "[1, 'Nuevo valor', 3]"
            ]
          },
          "execution_count": 2,
          "metadata": {},
          "output_type": "execute_result"
        }
      ],
      "source": [
        "# En una lista se puede reemplazar el valor de un elemento\n",
        "lista[1] = 'Nuevo valor'\n",
        "lista"
      ]
    },
    {
      "cell_type": "code",
      "execution_count": null,
      "metadata": {
        "colab": {
          "base_uri": "https://localhost:8080/"
        },
        "id": "BusRfoHxDcj-",
        "outputId": "93271939-456a-453d-c3a0-594509dff798"
      },
      "outputs": [
        {
          "data": {
            "text/plain": [
              "(1, 2, 3)"
            ]
          },
          "execution_count": 3,
          "metadata": {},
          "output_type": "execute_result"
        }
      ],
      "source": [
        "tupla = (1,2,3)\n",
        "tupla"
      ]
    },
    {
      "cell_type": "code",
      "execution_count": null,
      "metadata": {
        "colab": {
          "base_uri": "https://localhost:8080/"
        },
        "id": "mZJbo5IoDckA",
        "outputId": "256dbfc1-19bb-49b3-ae67-591b0e3dac6c"
      },
      "outputs": [
        {
          "data": {
            "text/plain": [
              "1"
            ]
          },
          "execution_count": 4,
          "metadata": {},
          "output_type": "execute_result"
        }
      ],
      "source": [
        "# Ver elemento en la posición cero\n",
        "tupla[0]"
      ]
    },
    {
      "cell_type": "code",
      "execution_count": null,
      "metadata": {
        "colab": {
          "base_uri": "https://localhost:8080/",
          "height": 141
        },
        "id": "QkWRmEIzDckA",
        "outputId": "55ed662e-ef92-4637-d1f1-e91ad491840d"
      },
      "outputs": [
        {
          "ename": "TypeError",
          "evalue": "'tuple' object does not support item assignment",
          "output_type": "error",
          "traceback": [
            "\u001b[0;31m---------------------------------------------------------------------------\u001b[0m",
            "\u001b[0;31mTypeError\u001b[0m                                 Traceback (most recent call last)",
            "\u001b[0;32m/tmp/ipython-input-398255198.py\u001b[0m in \u001b[0;36m<cell line: 0>\u001b[0;34m()\u001b[0m\n\u001b[0;32m----> 1\u001b[0;31m \u001b[0mtupla\u001b[0m\u001b[0;34m[\u001b[0m\u001b[0;36m0\u001b[0m\u001b[0;34m]\u001b[0m \u001b[0;34m=\u001b[0m \u001b[0;34m'NEW'\u001b[0m \u001b[0;31m# las tuplas son inmutables, no se puede reasignar un valor. Saldrá un error!\u001b[0m\u001b[0;34m\u001b[0m\u001b[0;34m\u001b[0m\u001b[0m\n\u001b[0m",
            "\u001b[0;31mTypeError\u001b[0m: 'tuple' object does not support item assignment"
          ]
        }
      ],
      "source": [
        "tupla[0] = 'NEW' # las tuplas son inmutables, no se puede reasignar un valor. Saldrá un error!"
      ]
    },
    {
      "cell_type": "code",
      "execution_count": null,
      "metadata": {
        "colab": {
          "base_uri": "https://localhost:8080/"
        },
        "id": "TUd9EzWSDckC",
        "outputId": "767d3c99-b531-4fb4-fd16-721d83df364c"
      },
      "outputs": [
        {
          "data": {
            "text/plain": [
              "(1, 2, 3)"
            ]
          },
          "execution_count": 6,
          "metadata": {},
          "output_type": "execute_result"
        }
      ],
      "source": [
        "tupla      # las tuplas son inmutables, no se puede reasignar un valor"
      ]
    },
    {
      "cell_type": "markdown",
      "metadata": {
        "id": "42WuY2W5hxlf"
      },
      "source": [
        "## Contar el número de elementos"
      ]
    },
    {
      "cell_type": "code",
      "execution_count": null,
      "metadata": {
        "id": "51qfSjU4h82a"
      },
      "outputs": [],
      "source": [
        "a = (1, 3, 7, 8, 7, 5, 7, 6, 8, 5)"
      ]
    },
    {
      "cell_type": "code",
      "execution_count": null,
      "metadata": {
        "colab": {
          "base_uri": "https://localhost:8080/"
        },
        "id": "P8O0NdE4frRn",
        "outputId": "ebc75b62-01b6-4123-c8d3-3cab8da0b5c1"
      },
      "outputs": [
        {
          "name": "stdout",
          "output_type": "stream",
          "text": [
            "10\n"
          ]
        }
      ],
      "source": [
        "print(len(a))"
      ]
    },
    {
      "cell_type": "markdown",
      "metadata": {
        "id": "wEpGTAZv9Bxq"
      },
      "source": [
        "## Contar cuántas veces aparece un elemento"
      ]
    },
    {
      "cell_type": "code",
      "execution_count": null,
      "metadata": {
        "colab": {
          "base_uri": "https://localhost:8080/"
        },
        "id": "mMc3HQma9Bxq",
        "outputId": "2cd0302c-492f-4cc9-f13b-86a6e7531d08"
      },
      "outputs": [
        {
          "data": {
            "text/plain": [
              "3"
            ]
          },
          "execution_count": 9,
          "metadata": {},
          "output_type": "execute_result"
        }
      ],
      "source": [
        "# Cuántas veces aparece el 7\n",
        "a.count(7)"
      ]
    },
    {
      "cell_type": "code",
      "execution_count": null,
      "metadata": {
        "colab": {
          "base_uri": "https://localhost:8080/"
        },
        "id": "Z1UKVtBLhoZr",
        "outputId": "be69a18c-2ee1-43d0-ba64-e7da21582717"
      },
      "outputs": [
        {
          "data": {
            "text/plain": [
              "2"
            ]
          },
          "execution_count": 10,
          "metadata": {},
          "output_type": "execute_result"
        }
      ],
      "source": [
        "# Cuántas veces aparece el 5\n",
        "a.count(5)"
      ]
    },
    {
      "cell_type": "markdown",
      "metadata": {
        "id": "btYMAdzM9Bxn"
      },
      "source": [
        "## Asignación de tuplas a variables"
      ]
    },
    {
      "cell_type": "code",
      "execution_count": null,
      "metadata": {
        "id": "hyD60ov49Bxn"
      },
      "outputs": [],
      "source": [
        "m1 = ('Toy Story', 1995, '01:21', ['animacion', 'comedia'])"
      ]
    },
    {
      "cell_type": "code",
      "execution_count": null,
      "metadata": {
        "id": "DGd8E3cEiH6u"
      },
      "outputs": [],
      "source": [
        "(nombre, year, duracion, categorias) = m1"
      ]
    },
    {
      "cell_type": "code",
      "execution_count": null,
      "metadata": {
        "colab": {
          "base_uri": "https://localhost:8080/"
        },
        "id": "zm2GaVK49Bxn",
        "outputId": "94493c82-1b93-4fc9-b454-08f8eaf3d6d2"
      },
      "outputs": [
        {
          "name": "stdout",
          "output_type": "stream",
          "text": [
            "Toy Story\n",
            "['animacion', 'comedia']\n"
          ]
        }
      ],
      "source": [
        "print(nombre)\n",
        "print(categorias)"
      ]
    },
    {
      "cell_type": "markdown",
      "metadata": {
        "id": "NJ83mSW89Bxp"
      },
      "source": [
        "### Retorno de una función"
      ]
    },
    {
      "cell_type": "markdown",
      "metadata": {
        "id": "fecT4FMy9Bxp"
      },
      "source": [
        "Veamos un ejemplo de cómo podríamos usar las tuplas. Si alguna vez han usado una receta de Internet, quizás se han encontrado con un problema similar a este. Empiezan una receta, y esta señala una y media tazas de harina, pero no tenemos esa medida estándar en nuestra casa. ¿A cuánto corresponde una taza y media de harina? Programaremos una función que haga conversión de la cantidad de harina. Una taza de harina corresponde a 125 gramos o 4,41 onzas o 0,28 libras. Si no sabemos exactamente cómo la persona que use este programa prefiere medir la harina, ¿qué podemos hacer? La función recibe la cantidad de tazas, y calculamos en la variable g los gramos, en o las onzas y en l las libras. Usando una tupla podemos retornar los tres valores separados por comas. Recuerden que los paréntesis son opcionales, podríamos haberlos usado aquí.\n",
        "\n",
        "Desde el código principal yo puedo llamar a convertir, por ejemplo, de una taza y media y la función me entregará los tres valores. Usando la asignación que ya vimos puedo usar tres variables para guardar los tres valores, y luego elegir el que me interesaba y lo imprimo, o bien lo uso para lo que se necesita."
      ]
    },
    {
      "cell_type": "code",
      "execution_count": null,
      "metadata": {
        "id": "CTMaTl0F9Bxp"
      },
      "outputs": [],
      "source": [
        "def convertir(taza):\n",
        "    g=taza*125\n",
        "    o=taza*4.41\n",
        "    l=taza*0.28\n",
        "    return g,o,l\n"
      ]
    },
    {
      "cell_type": "code",
      "execution_count": null,
      "metadata": {
        "colab": {
          "base_uri": "https://localhost:8080/"
        },
        "id": "mwwRUJ7v9Bxp",
        "outputId": "a3d7207e-d9d2-4016-8189-e34cae1d6953"
      },
      "outputs": [
        {
          "name": "stdout",
          "output_type": "stream",
          "text": [
            "187.5\n"
          ]
        }
      ],
      "source": [
        "gramos, onzas, libras = convertir(1.5)\n",
        "print(gramos)"
      ]
    },
    {
      "cell_type": "code",
      "execution_count": null,
      "metadata": {
        "colab": {
          "base_uri": "https://localhost:8080/"
        },
        "id": "sl9VmDZ2jgXw",
        "outputId": "f724b33c-87cf-4297-9528-8d31f15222ad"
      },
      "outputs": [
        {
          "name": "stdout",
          "output_type": "stream",
          "text": [
            "6.615\n"
          ]
        }
      ],
      "source": [
        "print(onzas)"
      ]
    },
    {
      "cell_type": "code",
      "execution_count": null,
      "metadata": {
        "colab": {
          "base_uri": "https://localhost:8080/"
        },
        "id": "oNwGKaMyjmBG",
        "outputId": "74061ab2-622f-45b0-93a3-61f30da8774d"
      },
      "outputs": [
        {
          "name": "stdout",
          "output_type": "stream",
          "text": [
            "0.42000000000000004\n"
          ]
        }
      ],
      "source": [
        "print(libras)"
      ]
    }
  ],
  "metadata": {
    "colab": {
      "include_colab_link": true,
      "provenance": []
    },
    "kernelspec": {
      "display_name": "Python 3.8.1 32-bit",
      "language": "python",
      "name": "python3"
    },
    "language_info": {
      "codemirror_mode": {
        "name": "ipython",
        "version": 3
      },
      "file_extension": ".py",
      "mimetype": "text/x-python",
      "name": "python",
      "nbconvert_exporter": "python",
      "pygments_lexer": "ipython3",
      "version": "3.8.1"
    },
    "orig_nbformat": 4,
    "vscode": {
      "interpreter": {
        "hash": "b25af7edd9d744abc5be65703c7db0e0253305f8e9e5a5c8b160839b50596d73"
      }
    }
  },
  "nbformat": 4,
  "nbformat_minor": 0
}
