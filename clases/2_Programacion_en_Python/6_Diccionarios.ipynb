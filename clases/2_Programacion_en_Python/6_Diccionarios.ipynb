{
 "cells": [
  {
   "cell_type": "markdown",
   "metadata": {},
   "source": [
    "<a href=\"https://colab.research.google.com/github/LinaMariaCastro/2025-segundo-semestre-ia-economia/blob/main/clases/2_Programacion_en_Python/6_Diccionarios.ipynb\" target=\"_parent\"><img src=\"https://colab.research.google.com/assets/colab-badge.svg\" alt=\"Open In Colab\"/></a>"
   ]
  },
  {
   "cell_type": "markdown",
   "metadata": {},
   "source": [
    "# **Inteligencia Artificial con Aplicaciones en Economía I**\n",
    "\n",
    "- 👩‍🏫 **Profesora:** [Lina María Castro](https://www.linkedin.com/in/lina-maria-castro)  \n",
    "- 📧 **Email:** [lmcastroco@gmail.com](mailto:lmcastroco@gmail.com)  \n",
    "- 🎓 **Universidad:** Universidad Externado de Colombia - Facultad de Economía"
   ]
  },
  {
   "cell_type": "markdown",
   "metadata": {
    "id": "Y0oG95ol9xr-"
   },
   "source": [
    "# **Diccionarios** (No secuencial / mutable)"
   ]
  },
  {
   "cell_type": "markdown",
   "metadata": {
    "id": "kbk7w_sr9xsA"
   },
   "source": [
    "Son un tipo de dato mutable. Los podemos crear a partir de la estructura dict. Nos permiten consultar datos de manera muy rápida y sencilla."
   ]
  },
  {
   "cell_type": "markdown",
   "metadata": {
    "id": "UNr0FqwQ9xsC"
   },
   "source": [
    "Un diccionario en programación nos permite asociar elementos únicos, llamados \"llave\", con algún otro elemento u objeto que llamamos \"valor\"."
   ]
  },
  {
   "cell_type": "markdown",
   "metadata": {
    "id": "67VBlvU-9xsD"
   },
   "source": [
    "En programación, un diccionario es una estrucutra de datos no secuencial, ya que no mantienen un orden evidente en sus elementos únicos o llaves.\n",
    "\n",
    "Cada llave puede existir solamente una vez en el diccionario, no se puede repetir."
   ]
  },
  {
   "cell_type": "markdown",
   "metadata": {
    "id": "qrM_da029xsE"
   },
   "source": [
    "IMPORTANTE:\n",
    "\n",
    "Las \"llaves\" de un diccionario pueden ser strings, números (enteros y float) y tuplas, no pueden ser listas porque son mutables.\n",
    "\n",
    "Los \"valores\", por otro lado, pueden ser cualquier elemento como strings, números (enteros y float), tuplas, listas u otros diccionarios.\n",
    "\n",
    "Los valores se pueden repetir, pero las llaves no."
   ]
  },
  {
   "cell_type": "code",
   "execution_count": null,
   "metadata": {
    "colab": {
     "base_uri": "https://localhost:8080/"
    },
    "executionInfo": {
     "elapsed": 129,
     "status": "ok",
     "timestamp": 1755608036012,
     "user": {
      "displayName": "Lina",
      "userId": "12754325401007705611"
     },
     "user_tz": 300
    },
    "id": "NQKZAO_E9xsF",
    "outputId": "165accfc-2346-4f0e-c8f3-3ff4dd92d977"
   },
   "outputs": [
    {
     "name": "stdout",
     "output_type": "stream",
     "text": [
      "{}\n"
     ]
    }
   ],
   "source": [
    "# Se puede crear un diccionario vacío de dos formas:\n",
    "diccionario = {}\n",
    "diccionario = dict()\n",
    "print(diccionario)"
   ]
  },
  {
   "cell_type": "code",
   "execution_count": null,
   "metadata": {
    "colab": {
     "base_uri": "https://localhost:8080/"
    },
    "executionInfo": {
     "elapsed": 6,
     "status": "ok",
     "timestamp": 1755608036019,
     "user": {
      "displayName": "Lina",
      "userId": "12754325401007705611"
     },
     "user_tz": 300
    },
    "id": "0NW64BaQ9xsH",
    "outputId": "9a550e9c-3535-425c-ec1b-d974edab579f"
   },
   "outputs": [
    {
     "name": "stdout",
     "output_type": "stream",
     "text": [
      "<class 'dict'>\n"
     ]
    }
   ],
   "source": [
    "print(type(diccionario))"
   ]
  },
  {
   "cell_type": "code",
   "execution_count": null,
   "metadata": {
    "colab": {
     "base_uri": "https://localhost:8080/"
    },
    "executionInfo": {
     "elapsed": 4,
     "status": "ok",
     "timestamp": 1755608036025,
     "user": {
      "displayName": "Lina",
      "userId": "12754325401007705611"
     },
     "user_tz": 300
    },
    "id": "PJvl2J9K9xsI",
    "outputId": "74a479a8-7389-4537-aacc-7de454be587b"
   },
   "outputs": [
    {
     "name": "stdout",
     "output_type": "stream",
     "text": [
      "{'Intro': 'Jorge', 'Progra': 'Valeria', 'SisOp': 'Cristian'}\n"
     ]
    }
   ],
   "source": [
    "# Datos directos\n",
    "profesores = {'Intro':'Jorge', 'Progra':'Valeria', 'SisOp':'Cristian'}\n",
    "print(profesores)"
   ]
  },
  {
   "cell_type": "code",
   "execution_count": null,
   "metadata": {
    "colab": {
     "base_uri": "https://localhost:8080/"
    },
    "executionInfo": {
     "elapsed": 6,
     "status": "ok",
     "timestamp": 1755608036532,
     "user": {
      "displayName": "Lina",
      "userId": "12754325401007705611"
     },
     "user_tz": 300
    },
    "id": "UAvcGAll9xsI",
    "outputId": "72ac7253-3f65-4e05-c0b3-4a3018272f6d"
   },
   "outputs": [
    {
     "name": "stdout",
     "output_type": "stream",
     "text": [
      "{'País': 'Chile', 8: 4.15, (4, 2022): ['Abril', 'Año']}\n"
     ]
    }
   ],
   "source": [
    "# Varios tipos de datos\n",
    "mezcla = {'País':'Chile', 8:4.15, (4,2022):['Abril','Año']}\n",
    "print(mezcla)"
   ]
  },
  {
   "cell_type": "code",
   "execution_count": null,
   "metadata": {
    "colab": {
     "base_uri": "https://localhost:8080/"
    },
    "executionInfo": {
     "elapsed": 9,
     "status": "ok",
     "timestamp": 1755608037885,
     "user": {
      "displayName": "Lina",
      "userId": "12754325401007705611"
     },
     "user_tz": 300
    },
    "id": "sEn4Yxro9xsJ",
    "outputId": "5dd4735c-9553-476b-94d1-4c7f62129c0b"
   },
   "outputs": [
    {
     "name": "stdout",
     "output_type": "stream",
     "text": [
      "{15: ('Arica', 9), 'd': {'País': 'Chile', 8: 4.15, (4, 2022): ['Abril', 'Año']}}\n"
     ]
    }
   ],
   "source": [
    "# Puede contener otros diccionarios\n",
    "subdict={15:('Arica',9), 'd':mezcla}\n",
    "print(subdict)"
   ]
  },
  {
   "cell_type": "markdown",
   "metadata": {
    "id": "ecj6-IJj9xsJ"
   },
   "source": [
    "# Consultas sobre diccionarios"
   ]
  },
  {
   "cell_type": "markdown",
   "metadata": {
    "id": "jA7s7NKl9xsJ"
   },
   "source": [
    "## ¿Cuántos elementos hay en el diccionario?"
   ]
  },
  {
   "cell_type": "markdown",
   "metadata": {
    "id": "KIS3l_J19xsK"
   },
   "source": [
    "Cuenta las llaves solamente, esos son los elementos."
   ]
  },
  {
   "cell_type": "code",
   "execution_count": null,
   "metadata": {
    "colab": {
     "base_uri": "https://localhost:8080/"
    },
    "executionInfo": {
     "elapsed": 6,
     "status": "ok",
     "timestamp": 1755608040648,
     "user": {
      "displayName": "Lina",
      "userId": "12754325401007705611"
     },
     "user_tz": 300
    },
    "id": "vK-PZtov9xsK",
    "outputId": "5a1b50fe-bcda-4793-bc86-08538e992c90"
   },
   "outputs": [
    {
     "name": "stdout",
     "output_type": "stream",
     "text": [
      "3\n"
     ]
    }
   ],
   "source": [
    "mezcla = {'Chile':8, 4.15:'Abril', (3,5):['2022','MOOC']}\n",
    "largo = len(mezcla)\n",
    "print(largo)"
   ]
  },
  {
   "cell_type": "markdown",
   "metadata": {
    "id": "liG9S06b9xsK"
   },
   "source": [
    "## ¿Qué valor está asociado a una llave K?"
   ]
  },
  {
   "cell_type": "code",
   "execution_count": null,
   "metadata": {
    "id": "Ye1_t3_9Dcjs"
   },
   "outputs": [],
   "source": [
    "d = {'Nombre':'Pedro','Profesión':'contador'}"
   ]
  },
  {
   "cell_type": "code",
   "execution_count": null,
   "metadata": {
    "colab": {
     "base_uri": "https://localhost:8080/",
     "height": 141
    },
    "executionInfo": {
     "elapsed": 67,
     "status": "error",
     "timestamp": 1755608042638,
     "user": {
      "displayName": "Lina",
      "userId": "12754325401007705611"
     },
     "user_tz": 300
    },
    "id": "FejgOggYDcju",
    "outputId": "90424305-7f34-4113-fbc6-257aabf8e0ec"
   },
   "outputs": [
    {
     "ename": "KeyError",
     "evalue": "0",
     "output_type": "error",
     "traceback": [
      "\u001b[0;31m---------------------------------------------------------------------------\u001b[0m",
      "\u001b[0;31mKeyError\u001b[0m                                  Traceback (most recent call last)",
      "\u001b[0;32m/tmp/ipython-input-1250992571.py\u001b[0m in \u001b[0;36m<cell line: 0>\u001b[0;34m()\u001b[0m\n\u001b[0;32m----> 1\u001b[0;31m \u001b[0md\u001b[0m\u001b[0;34m[\u001b[0m\u001b[0;36m0\u001b[0m\u001b[0;34m]\u001b[0m \u001b[0;31m# Al llamar el índice 0 no funcionará. Saldrá un error\u001b[0m\u001b[0;34m\u001b[0m\u001b[0;34m\u001b[0m\u001b[0m\n\u001b[0m",
      "\u001b[0;31mKeyError\u001b[0m: 0"
     ]
    }
   ],
   "source": [
    "d[0] # Al llamar el índice 0 no funcionará. Saldrá un error"
   ]
  },
  {
   "cell_type": "code",
   "execution_count": null,
   "metadata": {
    "colab": {
     "base_uri": "https://localhost:8080/",
     "height": 36
    },
    "executionInfo": {
     "elapsed": 9,
     "status": "ok",
     "timestamp": 1755608044855,
     "user": {
      "displayName": "Lina",
      "userId": "12754325401007705611"
     },
     "user_tz": 300
    },
    "id": "GyRZdGnmDcjv",
    "outputId": "9900db12-f5ae-42ae-84fd-67e07e9e2ac5"
   },
   "outputs": [
    {
     "data": {
      "application/vnd.google.colaboratory.intrinsic+json": {
       "type": "string"
      },
      "text/plain": [
       "'Pedro'"
      ]
     },
     "execution_count": 9,
     "metadata": {},
     "output_type": "execute_result"
    }
   ],
   "source": [
    "# Al llamar la llave sí funciona. Muestra el valor asociado\n",
    "d['Nombre']"
   ]
  },
  {
   "cell_type": "code",
   "execution_count": null,
   "metadata": {
    "colab": {
     "base_uri": "https://localhost:8080/",
     "height": 36
    },
    "executionInfo": {
     "elapsed": 9,
     "status": "ok",
     "timestamp": 1755608045899,
     "user": {
      "displayName": "Lina",
      "userId": "12754325401007705611"
     },
     "user_tz": 300
    },
    "id": "nZGA-fAYDcjv",
    "outputId": "6e77a55f-48a0-44a0-90b0-f37161f5d411"
   },
   "outputs": [
    {
     "data": {
      "application/vnd.google.colaboratory.intrinsic+json": {
       "type": "string"
      },
      "text/plain": [
       "'contador'"
      ]
     },
     "execution_count": 10,
     "metadata": {},
     "output_type": "execute_result"
    }
   ],
   "source": [
    "d['Profesión']"
   ]
  },
  {
   "cell_type": "code",
   "execution_count": null,
   "metadata": {
    "colab": {
     "base_uri": "https://localhost:8080/"
    },
    "executionInfo": {
     "elapsed": 7,
     "status": "ok",
     "timestamp": 1755608046697,
     "user": {
      "displayName": "Lina",
      "userId": "12754325401007705611"
     },
     "user_tz": 300
    },
    "id": "oJGnlsKBDcjw",
    "outputId": "ba707e11-42e3-4d3a-a8a6-e2e9373c770e"
   },
   "outputs": [
    {
     "data": {
      "text/plain": [
       "{'Nombre': 'Pedro', 'Profesión': 'contador'}"
      ]
     },
     "execution_count": 11,
     "metadata": {},
     "output_type": "execute_result"
    }
   ],
   "source": [
    "# Para llamar todo el diccionario\n",
    "d"
   ]
  },
  {
   "cell_type": "code",
   "execution_count": null,
   "metadata": {
    "id": "JSwGGGjPDcjx"
   },
   "outputs": [],
   "source": [
    "# Otro ejemplo, esta vez con una lista\n",
    "dicc = {'k1':[1, 2, 3, 4, 5], 'k2': 'Hola'}"
   ]
  },
  {
   "cell_type": "code",
   "execution_count": null,
   "metadata": {
    "colab": {
     "base_uri": "https://localhost:8080/"
    },
    "executionInfo": {
     "elapsed": 6,
     "status": "ok",
     "timestamp": 1755608050025,
     "user": {
      "displayName": "Lina",
      "userId": "12754325401007705611"
     },
     "user_tz": 300
    },
    "id": "OReVtAxHDcjy",
    "outputId": "d2d7f821-7d41-4815-fbf3-993ee375db77"
   },
   "outputs": [
    {
     "data": {
      "text/plain": [
       "[1, 2, 3, 4, 5]"
      ]
     },
     "execution_count": 13,
     "metadata": {},
     "output_type": "execute_result"
    }
   ],
   "source": [
    "dicc['k1']"
   ]
  },
  {
   "cell_type": "code",
   "execution_count": null,
   "metadata": {
    "colab": {
     "base_uri": "https://localhost:8080/"
    },
    "executionInfo": {
     "elapsed": 6,
     "status": "ok",
     "timestamp": 1755608050985,
     "user": {
      "displayName": "Lina",
      "userId": "12754325401007705611"
     },
     "user_tz": 300
    },
    "id": "svdAxtpcDcj0",
    "outputId": "0b5bac67-e5eb-4ecb-8970-9b84c2cb7773"
   },
   "outputs": [
    {
     "data": {
      "text/plain": [
       "[1, 2, 3, 4, 5]"
      ]
     },
     "execution_count": 14,
     "metadata": {},
     "output_type": "execute_result"
    }
   ],
   "source": [
    "lista = dicc['k1']\n",
    "lista"
   ]
  },
  {
   "cell_type": "code",
   "execution_count": null,
   "metadata": {
    "colab": {
     "base_uri": "https://localhost:8080/"
    },
    "executionInfo": {
     "elapsed": 7,
     "status": "ok",
     "timestamp": 1755608051740,
     "user": {
      "displayName": "Lina",
      "userId": "12754325401007705611"
     },
     "user_tz": 300
    },
    "id": "sC0oVroSDcjz",
    "outputId": "a9421300-d7d0-48cb-93ca-678029ad8652"
   },
   "outputs": [
    {
     "data": {
      "text/plain": [
       "4"
      ]
     },
     "execution_count": 15,
     "metadata": {},
     "output_type": "execute_result"
    }
   ],
   "source": [
    "# Para llamar el elemento 3 de la llave k1\n",
    "dicc['k1'][3]"
   ]
  },
  {
   "cell_type": "code",
   "execution_count": null,
   "metadata": {
    "id": "6M_WiWTJDcj2"
   },
   "outputs": [],
   "source": [
    "# Otro ejemplo, esta vez con un diccionario anidado dentro de otro diccionario\n",
    "dic = {'k1':{'1a':[1, 2, 3, 10]}}"
   ]
  },
  {
   "cell_type": "code",
   "execution_count": null,
   "metadata": {
    "colab": {
     "base_uri": "https://localhost:8080/"
    },
    "executionInfo": {
     "elapsed": 16,
     "status": "ok",
     "timestamp": 1755608055819,
     "user": {
      "displayName": "Lina",
      "userId": "12754325401007705611"
     },
     "user_tz": 300
    },
    "id": "PcmONy3sDcj4",
    "outputId": "b5440db2-485a-481a-cc4a-c33e02fe46dc"
   },
   "outputs": [
    {
     "data": {
      "text/plain": [
       "{'1a': [1, 2, 3, 10]}"
      ]
     },
     "execution_count": 17,
     "metadata": {},
     "output_type": "execute_result"
    }
   ],
   "source": [
    "dic['k1']"
   ]
  },
  {
   "cell_type": "code",
   "execution_count": null,
   "metadata": {
    "colab": {
     "base_uri": "https://localhost:8080/"
    },
    "executionInfo": {
     "elapsed": 16,
     "status": "ok",
     "timestamp": 1755608056652,
     "user": {
      "displayName": "Lina",
      "userId": "12754325401007705611"
     },
     "user_tz": 300
    },
    "id": "b4i2OprmDcj4",
    "outputId": "63a009e1-dbf2-4031-dd71-af8f448da101"
   },
   "outputs": [
    {
     "data": {
      "text/plain": [
       "[1, 2, 3, 10]"
      ]
     },
     "execution_count": 18,
     "metadata": {},
     "output_type": "execute_result"
    }
   ],
   "source": [
    "# Para llamar la 1ra llave que está dentro de la llave k1\n",
    "dic['k1']['1a']"
   ]
  },
  {
   "cell_type": "code",
   "execution_count": null,
   "metadata": {
    "colab": {
     "base_uri": "https://localhost:8080/"
    },
    "executionInfo": {
     "elapsed": 6,
     "status": "ok",
     "timestamp": 1755608057432,
     "user": {
      "displayName": "Lina",
      "userId": "12754325401007705611"
     },
     "user_tz": 300
    },
    "id": "ZqoRw9j9Dcj5",
    "outputId": "100ccb7a-0919-4273-f009-a5075a102c77"
   },
   "outputs": [
    {
     "data": {
      "text/plain": [
       "10"
      ]
     },
     "execution_count": 19,
     "metadata": {},
     "output_type": "execute_result"
    }
   ],
   "source": [
    "# Para llamar el elemento 3 de la llave 1a que está dentro de la llave k1\n",
    "dic['k1']['1a'][3]"
   ]
  },
  {
   "cell_type": "markdown",
   "metadata": {
    "id": "6O9U6vMO9xsL"
   },
   "source": [
    "# Recorriendo un diccionario"
   ]
  },
  {
   "cell_type": "markdown",
   "metadata": {
    "id": "EAMipjWz9xsL"
   },
   "source": [
    "## Recorriendo llaves"
   ]
  },
  {
   "cell_type": "code",
   "execution_count": null,
   "metadata": {
    "colab": {
     "base_uri": "https://localhost:8080/"
    },
    "executionInfo": {
     "elapsed": 6,
     "status": "ok",
     "timestamp": 1755608080861,
     "user": {
      "displayName": "Lina",
      "userId": "12754325401007705611"
     },
     "user_tz": 300
    },
    "id": "hW3VTUL1ZTA1",
    "outputId": "456bdd67-a50e-4e51-b7a0-456cb5b4d9b7"
   },
   "outputs": [
    {
     "name": "stdout",
     "output_type": "stream",
     "text": [
      "{'Chile': 8, 4.15: 'Abril', (3, 5): ['2022', 'MOOC']}\n"
     ]
    }
   ],
   "source": [
    "print(mezcla)"
   ]
  },
  {
   "cell_type": "markdown",
   "metadata": {
    "id": "iWMZA7iw9xsM"
   },
   "source": [
    "Puede ser de 2 formas:"
   ]
  },
  {
   "cell_type": "code",
   "execution_count": null,
   "metadata": {
    "colab": {
     "base_uri": "https://localhost:8080/"
    },
    "executionInfo": {
     "elapsed": 7,
     "status": "ok",
     "timestamp": 1755608107853,
     "user": {
      "displayName": "Lina",
      "userId": "12754325401007705611"
     },
     "user_tz": 300
    },
    "id": "mJ58wfCi9xsM",
    "outputId": "b8272470-1296-4e9e-a50e-4e88a6986215"
   },
   "outputs": [
    {
     "name": "stdout",
     "output_type": "stream",
     "text": [
      "Chile\n",
      "4.15\n",
      "(3, 5)\n"
     ]
    }
   ],
   "source": [
    "for elemento in mezcla:\n",
    "    print(elemento)"
   ]
  },
  {
   "cell_type": "code",
   "execution_count": null,
   "metadata": {
    "colab": {
     "base_uri": "https://localhost:8080/"
    },
    "executionInfo": {
     "elapsed": 8,
     "status": "ok",
     "timestamp": 1755608196439,
     "user": {
      "displayName": "Lina",
      "userId": "12754325401007705611"
     },
     "user_tz": 300
    },
    "id": "38LEHXU69xsM",
    "outputId": "ac66f1b1-62d7-485b-82cc-340897cbde5c"
   },
   "outputs": [
    {
     "name": "stdout",
     "output_type": "stream",
     "text": [
      "Chile\n",
      "4.15\n",
      "(3, 5)\n"
     ]
    }
   ],
   "source": [
    "for i in mezcla.keys():\n",
    "    print(i)"
   ]
  },
  {
   "cell_type": "markdown",
   "metadata": {
    "id": "YeXeU0Xa9xsN"
   },
   "source": [
    "## Recorriendo por llave, valor"
   ]
  },
  {
   "cell_type": "markdown",
   "metadata": {
    "id": "N4FTA3_x9xsN"
   },
   "source": [
    "Se puede hacer de 2 formas:"
   ]
  },
  {
   "cell_type": "code",
   "execution_count": null,
   "metadata": {
    "colab": {
     "base_uri": "https://localhost:8080/"
    },
    "executionInfo": {
     "elapsed": 4,
     "status": "ok",
     "timestamp": 1755608251126,
     "user": {
      "displayName": "Lina",
      "userId": "12754325401007705611"
     },
     "user_tz": 300
    },
    "id": "EozS07r99xsN",
    "outputId": "6606374a-4440-4808-e5a5-272926569001"
   },
   "outputs": [
    {
     "name": "stdout",
     "output_type": "stream",
     "text": [
      "Chile : 8\n",
      "4.15 : Abril\n",
      "(3, 5) : ['2022', 'MOOC']\n"
     ]
    }
   ],
   "source": [
    "for k,v in mezcla.items():\n",
    "    print(f\"{k} : {v}\")"
   ]
  },
  {
   "cell_type": "code",
   "execution_count": null,
   "metadata": {
    "colab": {
     "base_uri": "https://localhost:8080/"
    },
    "executionInfo": {
     "elapsed": 6,
     "status": "ok",
     "timestamp": 1755608251984,
     "user": {
      "displayName": "Lina",
      "userId": "12754325401007705611"
     },
     "user_tz": 300
    },
    "id": "ZkvvZjbw9xsN",
    "outputId": "79d5bf72-b456-4db9-d7c7-1e3550972c9f"
   },
   "outputs": [
    {
     "name": "stdout",
     "output_type": "stream",
     "text": [
      "Chile : 8\n",
      "4.15 : Abril\n",
      "(3, 5) : ['2022', 'MOOC']\n"
     ]
    }
   ],
   "source": [
    "for t in mezcla.items():\n",
    "    print(f\"{t[0]} : {t[1]}\")"
   ]
  },
  {
   "cell_type": "markdown",
   "metadata": {
    "id": "msQZJ1rq9xsO"
   },
   "source": [
    "## Recorriendo valores"
   ]
  },
  {
   "cell_type": "markdown",
   "metadata": {
    "id": "xNQvMCVN9xsO"
   },
   "source": [
    "Esto es poco común y es lento, porque usualmente uno pregunta por la llave para obtener los valores."
   ]
  },
  {
   "cell_type": "code",
   "execution_count": null,
   "metadata": {
    "colab": {
     "base_uri": "https://localhost:8080/"
    },
    "executionInfo": {
     "elapsed": 6,
     "status": "ok",
     "timestamp": 1755608360056,
     "user": {
      "displayName": "Lina",
      "userId": "12754325401007705611"
     },
     "user_tz": 300
    },
    "id": "3m1zE1oI9xsO",
    "outputId": "c0534908-69fb-4944-8603-f44acaf297ed"
   },
   "outputs": [
    {
     "name": "stdout",
     "output_type": "stream",
     "text": [
      "8\n",
      "Abril\n",
      "['2022', 'MOOC']\n"
     ]
    }
   ],
   "source": [
    "for v in mezcla.values():\n",
    "    print(v)"
   ]
  },
  {
   "cell_type": "markdown",
   "metadata": {
    "id": "5AmIUu6F9xsO"
   },
   "source": [
    "# Operaciones sobre diccionarios"
   ]
  },
  {
   "cell_type": "markdown",
   "metadata": {
    "id": "c1dTXEzR9xsO"
   },
   "source": [
    "## ¿Se encuentra la llave k en el conjunto?"
   ]
  },
  {
   "cell_type": "markdown",
   "metadata": {
    "id": "Y2SJRZXG9xsP"
   },
   "source": [
    "in nos dice si la llave está en el diccionario o no"
   ]
  },
  {
   "cell_type": "code",
   "execution_count": null,
   "metadata": {
    "colab": {
     "base_uri": "https://localhost:8080/"
    },
    "executionInfo": {
     "elapsed": 42,
     "status": "ok",
     "timestamp": 1755608509160,
     "user": {
      "displayName": "Lina",
      "userId": "12754325401007705611"
     },
     "user_tz": 300
    },
    "id": "lvZXb7Hvohae",
    "outputId": "824e8a82-9c6a-47be-cd33-e5b3c93d5ca4"
   },
   "outputs": [
    {
     "name": "stdout",
     "output_type": "stream",
     "text": [
      "True\n"
     ]
    }
   ],
   "source": [
    "print('Chile' in mezcla)"
   ]
  },
  {
   "cell_type": "code",
   "execution_count": null,
   "metadata": {
    "colab": {
     "base_uri": "https://localhost:8080/"
    },
    "executionInfo": {
     "elapsed": 13,
     "status": "ok",
     "timestamp": 1755608509942,
     "user": {
      "displayName": "Lina",
      "userId": "12754325401007705611"
     },
     "user_tz": 300
    },
    "id": "j59xbXJW9xsP",
    "outputId": "032a5137-7b7e-4910-f6f7-8ae28750912d"
   },
   "outputs": [
    {
     "name": "stdout",
     "output_type": "stream",
     "text": [
      "False\n"
     ]
    }
   ],
   "source": [
    "print(2 in mezcla)"
   ]
  },
  {
   "cell_type": "markdown",
   "metadata": {
    "id": "Z9a7ErBd9xsP"
   },
   "source": [
    "Si intentamos acceder al valor de una llave no definida en el diccionario obtenemos un error del tipo KeyError y nuestro programa se detiene."
   ]
  },
  {
   "cell_type": "code",
   "execution_count": null,
   "metadata": {
    "colab": {
     "base_uri": "https://localhost:8080/",
     "height": 141
    },
    "executionInfo": {
     "elapsed": 43,
     "status": "error",
     "timestamp": 1755608552381,
     "user": {
      "displayName": "Lina",
      "userId": "12754325401007705611"
     },
     "user_tz": 300
    },
    "id": "Um_9yPWq9xsP",
    "outputId": "3656f23e-f416-437a-f25e-6a79d53172ae"
   },
   "outputs": [
    {
     "ename": "KeyError",
     "evalue": "2",
     "output_type": "error",
     "traceback": [
      "\u001b[0;31m---------------------------------------------------------------------------\u001b[0m",
      "\u001b[0;31mKeyError\u001b[0m                                  Traceback (most recent call last)",
      "\u001b[0;32m/tmp/ipython-input-3564899113.py\u001b[0m in \u001b[0;36m<cell line: 0>\u001b[0;34m()\u001b[0m\n\u001b[0;32m----> 1\u001b[0;31m \u001b[0mprint\u001b[0m\u001b[0;34m(\u001b[0m\u001b[0mmezcla\u001b[0m\u001b[0;34m[\u001b[0m\u001b[0;36m2\u001b[0m\u001b[0;34m]\u001b[0m\u001b[0;34m)\u001b[0m\u001b[0;34m\u001b[0m\u001b[0;34m\u001b[0m\u001b[0m\n\u001b[0m",
      "\u001b[0;31mKeyError\u001b[0m: 2"
     ]
    }
   ],
   "source": [
    "print(mezcla[2])"
   ]
  },
  {
   "cell_type": "code",
   "execution_count": null,
   "metadata": {
    "colab": {
     "base_uri": "https://localhost:8080/"
    },
    "executionInfo": {
     "elapsed": 6,
     "status": "ok",
     "timestamp": 1755608596139,
     "user": {
      "displayName": "Lina",
      "userId": "12754325401007705611"
     },
     "user_tz": 300
    },
    "id": "icwN8dZCbJzF",
    "outputId": "2dc113db-db02-4963-cec5-46903114b5ca"
   },
   "outputs": [
    {
     "name": "stdout",
     "output_type": "stream",
     "text": [
      "8\n"
     ]
    }
   ],
   "source": [
    "print(mezcla['Chile'])"
   ]
  },
  {
   "cell_type": "markdown",
   "metadata": {
    "id": "aIGfdsHD9xsQ"
   },
   "source": [
    "## Agregar elementos"
   ]
  },
  {
   "cell_type": "markdown",
   "metadata": {
    "id": "rVGpdeA89xsQ"
   },
   "source": [
    "Hay 2 formas:"
   ]
  },
  {
   "cell_type": "markdown",
   "metadata": {
    "id": "xWdvhZhY9xsQ"
   },
   "source": [
    "### Para agregar un solo elemento"
   ]
  },
  {
   "cell_type": "code",
   "execution_count": null,
   "metadata": {
    "colab": {
     "base_uri": "https://localhost:8080/"
    },
    "executionInfo": {
     "elapsed": 43,
     "status": "ok",
     "timestamp": 1755608727365,
     "user": {
      "displayName": "Lina",
      "userId": "12754325401007705611"
     },
     "user_tz": 300
    },
    "id": "UdJrS-cs9xsX",
    "outputId": "7ac7e836-1017-448c-b500-d6f5ef728dd9"
   },
   "outputs": [
    {
     "name": "stdout",
     "output_type": "stream",
     "text": [
      "{'Chile': 8, 4.15: 'Abril', (3, 5): ['2022', 'MOOC'], 'L': 'Lunes'}\n"
     ]
    }
   ],
   "source": [
    "mezcla['L']='Lunes'\n",
    "print(mezcla)"
   ]
  },
  {
   "cell_type": "markdown",
   "metadata": {
    "id": "A5w7GI7v9xsX"
   },
   "source": [
    "### Agregar uno o más elementos"
   ]
  },
  {
   "cell_type": "code",
   "execution_count": null,
   "metadata": {
    "colab": {
     "base_uri": "https://localhost:8080/"
    },
    "executionInfo": {
     "elapsed": 6,
     "status": "ok",
     "timestamp": 1755608729042,
     "user": {
      "displayName": "Lina",
      "userId": "12754325401007705611"
     },
     "user_tz": 300
    },
    "id": "uO_dKjYj9xsX",
    "outputId": "fcbd0077-3957-43cc-b1d5-b563ea6f2f44"
   },
   "outputs": [
    {
     "name": "stdout",
     "output_type": "stream",
     "text": [
      "{'Chile': 8, 4.15: 'Abril', (3, 5): ['2022', 'MOOC'], 'L': 'Lunes', 'M': 'Martes', 'W': 'Miércoles'}\n"
     ]
    }
   ],
   "source": [
    "mezcla.update({'M':'Martes','W':'Miércoles'})\n",
    "print(mezcla)"
   ]
  },
  {
   "cell_type": "markdown",
   "metadata": {
    "id": "Z-tec0KT9xsY"
   },
   "source": [
    "## Modificar elementos"
   ]
  },
  {
   "cell_type": "markdown",
   "metadata": {
    "id": "rz_bwgGN9xsY"
   },
   "source": [
    "Las llaves, tal como los elementos de un conjunto, son únicas y no pueden repetirse. Entonces, si intentamos agregar una llave que ya existía, lo que lograremos será reemplazar el valor antiguo que estaba asociado a esa llave por otro. Los valores asociados a las llaves, por otro lado, no tienen esta restricción y pueden ser cualquier valor, o pueden estar repetidos."
   ]
  },
  {
   "cell_type": "code",
   "execution_count": null,
   "metadata": {
    "colab": {
     "base_uri": "https://localhost:8080/"
    },
    "executionInfo": {
     "elapsed": 43,
     "status": "ok",
     "timestamp": 1755608855744,
     "user": {
      "displayName": "Lina",
      "userId": "12754325401007705611"
     },
     "user_tz": 300
    },
    "id": "l8WYsJBt9xsY",
    "outputId": "847ef0bd-368b-4f02-f51e-c3a3d66fccc1"
   },
   "outputs": [
    {
     "name": "stdout",
     "output_type": "stream",
     "text": [
      "{'Chile': 8, 4.15: 'Abril', (3, 5): ['2022', 'MOOC'], 'L': 'Lunes', 'M': 'Martes', 'W': 'Miércoles'}\n",
      "{'Chile': 8, 4.15: 'Abril', (3, 5): 8, 'L': 'Lunes', 'M': 'Martes', 'W': 'Miércoles'}\n"
     ]
    }
   ],
   "source": [
    "print(mezcla)\n",
    "mezcla[(3,5)] = 8\n",
    "print(mezcla)"
   ]
  },
  {
   "cell_type": "code",
   "execution_count": null,
   "metadata": {
    "colab": {
     "base_uri": "https://localhost:8080/"
    },
    "executionInfo": {
     "elapsed": 7,
     "status": "ok",
     "timestamp": 1755608943822,
     "user": {
      "displayName": "Lina",
      "userId": "12754325401007705611"
     },
     "user_tz": 300
    },
    "id": "CmFo4qVxceXG",
    "outputId": "eec243f9-fcd5-43a9-f558-4c2585b22cfa"
   },
   "outputs": [
    {
     "data": {
      "text/plain": [
       "{'Chile': 2}"
      ]
     },
     "execution_count": 38,
     "metadata": {},
     "output_type": "execute_result"
    }
   ],
   "source": [
    "mezcla2 = {'Chile': 1, 'Chile': 2}\n",
    "mezcla2"
   ]
  },
  {
   "cell_type": "markdown",
   "metadata": {
    "id": "BdLJPQHi9xsY"
   },
   "source": [
    "## Obtener los valores de las llaves"
   ]
  },
  {
   "cell_type": "markdown",
   "metadata": {
    "id": "F0MnrPuX9xsY"
   },
   "source": [
    "Se puede de dos formas:"
   ]
  },
  {
   "cell_type": "markdown",
   "metadata": {
    "id": "0pRjF0w-9xsY"
   },
   "source": [
    "### Llamar la llave directamente"
   ]
  },
  {
   "cell_type": "code",
   "execution_count": null,
   "metadata": {
    "colab": {
     "base_uri": "https://localhost:8080/"
    },
    "executionInfo": {
     "elapsed": 40,
     "status": "ok",
     "timestamp": 1755608980657,
     "user": {
      "displayName": "Lina",
      "userId": "12754325401007705611"
     },
     "user_tz": 300
    },
    "id": "xiBhiYbG9xsZ",
    "outputId": "95d79650-d207-4e0a-e993-8374e1628e73"
   },
   "outputs": [
    {
     "name": "stdout",
     "output_type": "stream",
     "text": [
      "8\n"
     ]
    }
   ],
   "source": [
    "print(mezcla['Chile'])"
   ]
  },
  {
   "cell_type": "markdown",
   "metadata": {
    "id": "mmWKLRYP9xsZ"
   },
   "source": [
    "En este caso, si la llave no existe en el diccionario, entonces arroja un error."
   ]
  },
  {
   "cell_type": "code",
   "execution_count": null,
   "metadata": {
    "colab": {
     "base_uri": "https://localhost:8080/",
     "height": 141
    },
    "executionInfo": {
     "elapsed": 97,
     "status": "error",
     "timestamp": 1755608998428,
     "user": {
      "displayName": "Lina",
      "userId": "12754325401007705611"
     },
     "user_tz": 300
    },
    "id": "nByT-orG9xsZ",
    "outputId": "ec08842d-87c3-4300-beea-d1781f5d12f7"
   },
   "outputs": [
    {
     "ename": "KeyError",
     "evalue": "'J'",
     "output_type": "error",
     "traceback": [
      "\u001b[0;31m---------------------------------------------------------------------------\u001b[0m",
      "\u001b[0;31mKeyError\u001b[0m                                  Traceback (most recent call last)",
      "\u001b[0;32m/tmp/ipython-input-2247876641.py\u001b[0m in \u001b[0;36m<cell line: 0>\u001b[0;34m()\u001b[0m\n\u001b[0;32m----> 1\u001b[0;31m \u001b[0mprint\u001b[0m\u001b[0;34m(\u001b[0m\u001b[0mmezcla\u001b[0m\u001b[0;34m[\u001b[0m\u001b[0;34m'J'\u001b[0m\u001b[0;34m]\u001b[0m\u001b[0;34m)\u001b[0m\u001b[0;34m\u001b[0m\u001b[0;34m\u001b[0m\u001b[0m\n\u001b[0m",
      "\u001b[0;31mKeyError\u001b[0m: 'J'"
     ]
    }
   ],
   "source": [
    "print(mezcla['J'])"
   ]
  },
  {
   "cell_type": "markdown",
   "metadata": {
    "id": "Hhi-TsMb9xsZ"
   },
   "source": [
    "### Método get"
   ]
  },
  {
   "cell_type": "markdown",
   "metadata": {
    "id": "No2Geryo9xsZ"
   },
   "source": [
    "Con \"get\" si la llave no existe en el diccionario, no se arroja un error sino un valor nulo \"None\". Al no arrojarse un error, el programa no termina."
   ]
  },
  {
   "cell_type": "code",
   "execution_count": null,
   "metadata": {
    "colab": {
     "base_uri": "https://localhost:8080/"
    },
    "executionInfo": {
     "elapsed": 7,
     "status": "ok",
     "timestamp": 1755609061187,
     "user": {
      "displayName": "Lina",
      "userId": "12754325401007705611"
     },
     "user_tz": 300
    },
    "id": "_YERjBYq9xsa",
    "outputId": "bc2bc61c-b6d1-4ee0-af62-7218646c92a7"
   },
   "outputs": [
    {
     "name": "stdout",
     "output_type": "stream",
     "text": [
      "8\n",
      "None\n"
     ]
    }
   ],
   "source": [
    "print(mezcla.get('Chile'))\n",
    "print(mezcla.get('J'))"
   ]
  },
  {
   "cell_type": "markdown",
   "metadata": {
    "id": "EQ5NBRaK9xsa"
   },
   "source": [
    "## Eliminar elementos del diccionario"
   ]
  },
  {
   "cell_type": "markdown",
   "metadata": {
    "id": "OjsfP3iw9xsa"
   },
   "source": [
    "pop elimina la llave del diccionario y retorna su valor"
   ]
  },
  {
   "cell_type": "code",
   "execution_count": null,
   "metadata": {
    "colab": {
     "base_uri": "https://localhost:8080/"
    },
    "executionInfo": {
     "elapsed": 7,
     "status": "ok",
     "timestamp": 1755609071497,
     "user": {
      "displayName": "Lina",
      "userId": "12754325401007705611"
     },
     "user_tz": 300
    },
    "id": "cHAKbDl99xsa",
    "outputId": "ae82f6ac-ad5c-4d68-c6df-8885bf349d36"
   },
   "outputs": [
    {
     "name": "stdout",
     "output_type": "stream",
     "text": [
      "Abril\n",
      "{'Chile': 8, (3, 5): 8, 'L': 'Lunes', 'M': 'Martes', 'W': 'Miércoles'}\n"
     ]
    }
   ],
   "source": [
    "v = mezcla.pop(4.15)\n",
    "print(v)\n",
    "print(mezcla)"
   ]
  },
  {
   "cell_type": "markdown",
   "metadata": {
    "id": "RI2OvMZu9xsa"
   },
   "source": [
    "# Tutorial: Cómo resolver ejercicios usando diccionarios en Python"
   ]
  },
  {
   "cell_type": "markdown",
   "metadata": {
    "id": "BvmcjtFb9xsc"
   },
   "source": [
    "## Ejemplo 1"
   ]
  },
  {
   "cell_type": "code",
   "execution_count": null,
   "metadata": {
    "colab": {
     "base_uri": "https://localhost:8080/",
     "height": 53
    },
    "executionInfo": {
     "elapsed": 5,
     "status": "ok",
     "timestamp": 1755609404165,
     "user": {
      "displayName": "Lina",
      "userId": "12754325401007705611"
     },
     "user_tz": 300
    },
    "id": "b5LhONEv9xsd",
    "outputId": "239a8331-0be3-4708-bafa-c5fa31a6459f"
   },
   "outputs": [
    {
     "data": {
      "application/vnd.google.colaboratory.intrinsic+json": {
       "type": "string"
      },
      "text/plain": [
       "'El amor es un mejor profesor que el deber. Información no es conocimiento. Nunca pierdas la sagrada curiosidad. Si no puedes explicarlo en forma simple, no lo entiendes lo suficientemente bien. Todos deben ser respetados como individuos, pero no idolatrados.'"
      ]
     },
     "execution_count": 43,
     "metadata": {},
     "output_type": "execute_result"
    }
   ],
   "source": [
    "texto = 'El amor es un mejor profesor que el deber. Información no es conocimiento. Nunca pierdas la sagrada curiosidad. Si no puedes explicarlo en forma simple, no lo entiendes lo suficientemente bien. Todos deben ser respetados como individuos, pero no idolatrados.'\n",
    "texto"
   ]
  },
  {
   "cell_type": "markdown",
   "metadata": {
    "id": "1jKFWrqa9xsd"
   },
   "source": [
    "¿Cuántas veces se repite cada palabra en el texto?"
   ]
  },
  {
   "cell_type": "code",
   "execution_count": null,
   "metadata": {
    "colab": {
     "base_uri": "https://localhost:8080/"
    },
    "executionInfo": {
     "elapsed": 14,
     "status": "ok",
     "timestamp": 1755575428506,
     "user": {
      "displayName": "Lina",
      "userId": "12754325401007705611"
     },
     "user_tz": 300
    },
    "id": "TLkIYs-w9xsd",
    "outputId": "f147d822-a449-4193-c429-587cff316fc1"
   },
   "outputs": [
    {
     "name": "stdout",
     "output_type": "stream",
     "text": [
      "['el', 'amor', 'es', 'un', 'mejor', 'profesor', 'que', 'el', 'deber', 'información', 'no', 'es', 'conocimiento', 'nunca', 'pierdas', 'la', 'sagrada', 'curiosidad', 'si', 'no', 'puedes', 'explicarlo', 'en', 'forma', 'simple', 'no', 'lo', 'entiendes', 'lo', 'suficientemente', 'bien', 'todos', 'deben', 'ser', 'respetados', 'como', 'individuos', 'pero', 'no', 'idolatrados']\n",
      "40\n"
     ]
    }
   ],
   "source": [
    "repeticiones=dict()\n",
    "palabras=texto.lower().replace(\".\",\"\").replace(\",\",\"\").split()\n",
    "print(palabras)\n",
    "print(len(palabras))"
   ]
  },
  {
   "cell_type": "code",
   "execution_count": null,
   "metadata": {
    "colab": {
     "base_uri": "https://localhost:8080/"
    },
    "executionInfo": {
     "elapsed": 7,
     "status": "ok",
     "timestamp": 1755575430262,
     "user": {
      "displayName": "Lina",
      "userId": "12754325401007705611"
     },
     "user_tz": 300
    },
    "id": "0gI9jXWE9xsd",
    "outputId": "89a7fa74-7e40-4f51-f0c6-d4d16c577be8"
   },
   "outputs": [
    {
     "name": "stdout",
     "output_type": "stream",
     "text": [
      "{'el': 2, 'amor': 1, 'es': 2, 'un': 1, 'mejor': 1, 'profesor': 1, 'que': 1, 'deber': 1, 'información': 1, 'no': 4, 'conocimiento': 1, 'nunca': 1, 'pierdas': 1, 'la': 1, 'sagrada': 1, 'curiosidad': 1, 'si': 1, 'puedes': 1, 'explicarlo': 1, 'en': 1, 'forma': 1, 'simple': 1, 'lo': 2, 'entiendes': 1, 'suficientemente': 1, 'bien': 1, 'todos': 1, 'deben': 1, 'ser': 1, 'respetados': 1, 'como': 1, 'individuos': 1, 'pero': 1, 'idolatrados': 1}\n"
     ]
    }
   ],
   "source": [
    "for palabra in palabras:\n",
    "    if palabra in repeticiones:\n",
    "        repeticiones[palabra]+=1\n",
    "    else:\n",
    "        repeticiones[palabra]=1\n",
    "\n",
    "print(repeticiones)"
   ]
  },
  {
   "cell_type": "markdown",
   "metadata": {
    "id": "0rNIfAcv9xse"
   },
   "source": [
    "## Ejemplo 2"
   ]
  },
  {
   "cell_type": "markdown",
   "metadata": {
    "id": "GKk7ZWJQ9xse"
   },
   "source": [
    "Tenemos una base de datos de estudiantes y sus notas."
   ]
  },
  {
   "cell_type": "code",
   "execution_count": null,
   "metadata": {
    "id": "E8h4pj-69xse"
   },
   "outputs": [],
   "source": [
    "curso={'972-1':('Aurora',[67,56,48]),\n",
    "        '588-2':('Sebastián',[21,60,38]),\n",
    "        '632-7':('Rafaela',[53,72,22]),\n",
    "        '900-4':('Darío',[61,1,42])}"
   ]
  },
  {
   "cell_type": "markdown",
   "metadata": {
    "id": "JhIv3grY9xse"
   },
   "source": [
    "¿Cuál es el promedio del tercer puntaje de todos los estudiantes?"
   ]
  },
  {
   "cell_type": "code",
   "execution_count": null,
   "metadata": {
    "colab": {
     "base_uri": "https://localhost:8080/"
    },
    "executionInfo": {
     "elapsed": 7,
     "status": "ok",
     "timestamp": 1755610402364,
     "user": {
      "displayName": "Lina",
      "userId": "12754325401007705611"
     },
     "user_tz": 300
    },
    "id": "JtVWRS9S9xse",
    "outputId": "3fa6135d-0260-4e43-ad0d-8e91c3f0bb37"
   },
   "outputs": [
    {
     "name": "stdout",
     "output_type": "stream",
     "text": [
      "El promedio del tercer puntaje de cada estudiante es 37.5\n"
     ]
    }
   ],
   "source": [
    "suma=0\n",
    "for v in curso.values():\n",
    "    suma += v[1][2]\n",
    "prom=suma/len(curso)\n",
    "print(f\"El promedio del tercer puntaje de cada estudiante es {prom}\")"
   ]
  },
  {
   "cell_type": "markdown",
   "metadata": {
    "id": "yPW_EPSb9xsf"
   },
   "source": [
    "¿Cómo obtengo los datos de un estudiante?"
   ]
  },
  {
   "cell_type": "code",
   "execution_count": null,
   "metadata": {
    "colab": {
     "base_uri": "https://localhost:8080/"
    },
    "executionInfo": {
     "elapsed": 15357,
     "status": "ok",
     "timestamp": 1755610874791,
     "user": {
      "displayName": "Lina",
      "userId": "12754325401007705611"
     },
     "user_tz": 300
    },
    "id": "wNaKWBlj9xsf",
    "outputId": "cc11f79e-498a-47d1-dd59-2e8decbd6f38"
   },
   "outputs": [
    {
     "name": "stdout",
     "output_type": "stream",
     "text": [
      "Consulta por número de estudiante: 588-2\n",
      "Estudiante 588-2, nombre Sebastián, tiene los siguientes puntajes: [21, 60, 38]\n"
     ]
    }
   ],
   "source": [
    "codigo=input(\"Consulta por número de estudiante: \")\n",
    "estudiante=curso[codigo]\n",
    "print(f\"Estudiante {codigo}, nombre {estudiante[0]}, tiene los siguientes puntajes: {estudiante[1]}\")"
   ]
  }
 ],
 "metadata": {
  "colab": {
   "provenance": [],
   "toc_visible": true
  },
  "kernelspec": {
   "display_name": "Python 3.8.1 32-bit",
   "language": "python",
   "name": "python3"
  },
  "language_info": {
   "codemirror_mode": {
    "name": "ipython",
    "version": 3
   },
   "file_extension": ".py",
   "mimetype": "text/x-python",
   "name": "python",
   "nbconvert_exporter": "python",
   "pygments_lexer": "ipython3",
   "version": "3.8.1"
  },
  "orig_nbformat": 4,
  "vscode": {
   "interpreter": {
    "hash": "b25af7edd9d744abc5be65703c7db0e0253305f8e9e5a5c8b160839b50596d73"
   }
  }
 },
 "nbformat": 4,
 "nbformat_minor": 0
}
