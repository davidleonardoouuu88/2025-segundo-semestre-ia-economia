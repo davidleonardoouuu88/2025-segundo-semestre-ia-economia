{
  "cells": [
    {
      "cell_type": "markdown",
      "metadata": {
        "colab_type": "text",
        "id": "view-in-github"
      },
      "source": [
        "<a href=\"https://colab.research.google.com/github/LinaMariaCastro/2025-segundo-semestre-ia-economia/blob/main/clases/2_Programacion_en_Python/2_Listas.ipynb\" target=\"_parent\"><img src=\"https://colab.research.google.com/assets/colab-badge.svg\" alt=\"Open In Colab\"/></a>"
      ]
    },
    {
      "cell_type": "markdown",
      "metadata": {},
      "source": [
        "# **Inteligencia Artificial con Aplicaciones en Economía I**\n",
        "\n",
        "- 👩‍🏫 **Profesora:** [Lina María Castro](https://www.linkedin.com/in/lina-maria-castro)  \n",
        "- 📧 **Email:** [lmcastroco@gmail.com](mailto:lmcastroco@gmail.com)  \n",
        "- 🎓 **Universidad:** Universidad Externado de Colombia - Facultad de Economía"
      ]
    },
    {
      "cell_type": "markdown",
      "metadata": {
        "id": "9NdIBGNbyEPk"
      },
      "source": [
        "# **Listas y listas de listas**"
      ]
    },
    {
      "cell_type": "markdown",
      "metadata": {
        "id": "sp_hMLDbDci-"
      },
      "source": [
        "# Listas\n",
        "\n",
        "Son secuencias de elementos que pueden pertenecer a cualquier tipo de dato. Estas listas guardan un órden que está definido por el índice.\n",
        "\n",
        "Las listas van con corchete cuadrado [ ] y sus elementos separados por coma."
      ]
    },
    {
      "cell_type": "code",
      "execution_count": 1,
      "metadata": {
        "colab": {
          "base_uri": "https://localhost:8080/"
        },
        "id": "U0SC7_ESDci-",
        "outputId": "9cbaac8c-ca58-42d9-be53-a75a28ad5784"
      },
      "outputs": [
        {
          "data": {
            "text/plain": [
              "[1, 2, 3]"
            ]
          },
          "execution_count": 1,
          "metadata": {},
          "output_type": "execute_result"
        }
      ],
      "source": [
        "# Una lista de números\n",
        "[1,2,3]"
      ]
    },
    {
      "cell_type": "code",
      "execution_count": 2,
      "metadata": {
        "colab": {
          "base_uri": "https://localhost:8080/"
        },
        "id": "7DRG2_jcDcjA",
        "outputId": "8624199d-3f8d-4390-8ab0-56e3b02d909c"
      },
      "outputs": [
        {
          "data": {
            "text/plain": [
              "['a', 'b', 'c']"
            ]
          },
          "execution_count": 2,
          "metadata": {},
          "output_type": "execute_result"
        }
      ],
      "source": [
        "# Una lista de valores string o texto\n",
        "['a','b','c']"
      ]
    },
    {
      "cell_type": "code",
      "execution_count": 3,
      "metadata": {
        "colab": {
          "base_uri": "https://localhost:8080/"
        },
        "id": "L8bErUnKDcjB",
        "outputId": "79bbf1c7-fde6-4a67-ed2a-d5e09c343f43"
      },
      "outputs": [
        {
          "data": {
            "text/plain": [
              "['hi', 1, [1, 2]]"
            ]
          },
          "execution_count": 3,
          "metadata": {},
          "output_type": "execute_result"
        }
      ],
      "source": [
        "# La lista puede incluir diferentes tipos de datos: numéricos, string, otra lista\n",
        "['hi',1,[1,2]]"
      ]
    },
    {
      "cell_type": "code",
      "execution_count": 4,
      "metadata": {
        "id": "h_XXCa1GDcjC"
      },
      "outputs": [],
      "source": [
        "# Se le puede dar un nombre a la lista\n",
        "my_list = ['a','b','c']"
      ]
    },
    {
      "cell_type": "code",
      "execution_count": 5,
      "metadata": {
        "colab": {
          "base_uri": "https://localhost:8080/"
        },
        "id": "d46CV21iDcjE",
        "outputId": "d72c19c1-7807-41c5-faaa-1f35c7a39e86"
      },
      "outputs": [
        {
          "data": {
            "text/plain": [
              "['a', 'b', 'c']"
            ]
          },
          "execution_count": 5,
          "metadata": {},
          "output_type": "execute_result"
        }
      ],
      "source": [
        "# Para imprimir los elementos de la lista\n",
        "my_list"
      ]
    },
    {
      "cell_type": "markdown",
      "metadata": {
        "id": "JRbsJvDXyEPo"
      },
      "source": [
        "Por ejemplo, imaginemos que queremos guardar la temperatura máxima que hizo toda la semana. En la semana hay siete días, por lo que queremos guardar siete datos. En este ejemplo de lista vamos a crear una lista con siete casilleros. Y en cada casillero guardaremos un float, es decir, un número real con el valor de la temperatura del día. Las listas en Python se enumeran desde cero. Por lo tanto, la primera temperatura correspondiente al lunes queda en el casillero 0. Luego la del martes en el casillero 1. Y así sucesivamente hasta la última temperatura, la del domingo, que queda en el casillero 6."
      ]
    },
    {
      "cell_type": "markdown",
      "metadata": {
        "id": "7NHrfk1YyEPp"
      },
      "source": [
        "## Creación de la lista"
      ]
    },
    {
      "cell_type": "code",
      "execution_count": 6,
      "metadata": {
        "id": "m86LGnLqyEPp"
      },
      "outputs": [],
      "source": [
        "temp=[30.5, 19.8, 12.3, 31.0, 19.9, 34.4, 25.3]"
      ]
    },
    {
      "cell_type": "markdown",
      "metadata": {
        "id": "1KODplZFyEPq"
      },
      "source": [
        "## Acceso a los elementos de la lista"
      ]
    },
    {
      "cell_type": "code",
      "execution_count": 7,
      "metadata": {
        "colab": {
          "base_uri": "https://localhost:8080/"
        },
        "id": "QoiIrJLtyEPr",
        "outputId": "1c4a5e28-4afe-4505-9f57-3086e8efb942"
      },
      "outputs": [
        {
          "name": "stdout",
          "output_type": "stream",
          "text": [
            "30.5\n",
            "31.0\n"
          ]
        }
      ],
      "source": [
        "print(temp[0])\n",
        "print(temp[3])"
      ]
    },
    {
      "cell_type": "markdown",
      "metadata": {
        "id": "AuSYG_AeyEPs"
      },
      "source": [
        "## Acceso a un trozo de la lista"
      ]
    },
    {
      "cell_type": "code",
      "execution_count": 8,
      "metadata": {
        "colab": {
          "base_uri": "https://localhost:8080/"
        },
        "id": "JkYHBYSbyEPs",
        "outputId": "cd26e221-977d-4834-d4ee-0c70a129b749"
      },
      "outputs": [
        {
          "name": "stdout",
          "output_type": "stream",
          "text": [
            "[31.0, 19.9]\n"
          ]
        }
      ],
      "source": [
        "# Por ejemplo, temp 3:5 corresponde a todos los elementos desde la posición 3 incluida\n",
        "# hasta la posición 5 no incluida. Es decir, los elementos de la posición 3 y 4 solamente.\n",
        "print(temp[3:5])"
      ]
    },
    {
      "cell_type": "code",
      "execution_count": 9,
      "metadata": {
        "colab": {
          "base_uri": "https://localhost:8080/"
        },
        "id": "HnG7G09cbS4b",
        "outputId": "aae99fc3-d8f9-44f2-bb74-1e597adc70d4"
      },
      "outputs": [
        {
          "data": {
            "text/plain": [
              "[19.8, 12.3, 31.0]"
            ]
          },
          "execution_count": 9,
          "metadata": {},
          "output_type": "execute_result"
        }
      ],
      "source": [
        "temp[1:4]"
      ]
    },
    {
      "cell_type": "code",
      "execution_count": 10,
      "metadata": {
        "colab": {
          "base_uri": "https://localhost:8080/"
        },
        "id": "NjmIMRDODcjR",
        "outputId": "bf4f0679-c661-4bfc-b749-acc9239d9c5d"
      },
      "outputs": [
        {
          "data": {
            "text/plain": [
              "[19.8, 12.3, 31.0, 19.9, 34.4, 25.3]"
            ]
          },
          "execution_count": 10,
          "metadata": {},
          "output_type": "execute_result"
        }
      ],
      "source": [
        "# Para ver del elemento 1 en adelante de la lista\n",
        "temp[1:]"
      ]
    },
    {
      "cell_type": "code",
      "execution_count": 11,
      "metadata": {
        "colab": {
          "base_uri": "https://localhost:8080/"
        },
        "id": "CHGx3efaDcjU",
        "outputId": "e91ec669-9f3b-43b6-fa2d-a232d430dc37"
      },
      "outputs": [
        {
          "data": {
            "text/plain": [
              "[30.5, 19.8, 12.3]"
            ]
          },
          "execution_count": 11,
          "metadata": {},
          "output_type": "execute_result"
        }
      ],
      "source": [
        "# Para ver desde el elemento 0 hasta el 2 de la lista (el 3 está excluído)\n",
        "temp[:3]"
      ]
    },
    {
      "cell_type": "markdown",
      "metadata": {
        "id": "mqZYcNPKyEPt"
      },
      "source": [
        "## Modificación de un elemento de la lista"
      ]
    },
    {
      "cell_type": "code",
      "execution_count": 12,
      "metadata": {
        "colab": {
          "base_uri": "https://localhost:8080/"
        },
        "id": "7yOoau1byEPt",
        "outputId": "4ef79fe9-e594-4e1d-b755-0ab705be0e84"
      },
      "outputs": [
        {
          "data": {
            "text/plain": [
              "[30.5, 19.8, 22.3, 31.0, 19.9, 34.4, 25.3]"
            ]
          },
          "execution_count": 12,
          "metadata": {},
          "output_type": "execute_result"
        }
      ],
      "source": [
        "temp[2]=22.3\n",
        "temp"
      ]
    },
    {
      "cell_type": "code",
      "execution_count": 13,
      "metadata": {
        "colab": {
          "base_uri": "https://localhost:8080/"
        },
        "id": "8yJRZ442yEPt",
        "outputId": "768189ab-f780-4a35-e197-15c797023730"
      },
      "outputs": [
        {
          "data": {
            "text/plain": [
              "[30.5, 19.8, 12.3, 31.0, 19.9, 34.4, 25.3]"
            ]
          },
          "execution_count": 13,
          "metadata": {},
          "output_type": "execute_result"
        }
      ],
      "source": [
        "temp[2]=12.3\n",
        "temp"
      ]
    },
    {
      "cell_type": "markdown",
      "metadata": {
        "id": "Dqy6OSHoyEPt"
      },
      "source": [
        "## Conocer el número de elementos de una lista"
      ]
    },
    {
      "cell_type": "code",
      "execution_count": 14,
      "metadata": {
        "colab": {
          "base_uri": "https://localhost:8080/"
        },
        "id": "f8yhUvAUyEPu",
        "outputId": "72a8d5a4-ba00-4618-db07-d8e01897ac05"
      },
      "outputs": [
        {
          "name": "stdout",
          "output_type": "stream",
          "text": [
            "7\n"
          ]
        }
      ],
      "source": [
        "print(len(temp))"
      ]
    },
    {
      "cell_type": "markdown",
      "metadata": {
        "id": "5myUr3XMyEPu"
      },
      "source": [
        "## Recorriendo una lista con for"
      ]
    },
    {
      "cell_type": "markdown",
      "metadata": {
        "id": "JdjPwyrDyEPu"
      },
      "source": [
        "### Recorrido por posición"
      ]
    },
    {
      "cell_type": "code",
      "execution_count": 16,
      "metadata": {
        "colab": {
          "base_uri": "https://localhost:8080/"
        },
        "id": "Lg786HEgyEPu",
        "outputId": "4658185f-9e27-45f6-8e4f-961b85aa70e2"
      },
      "outputs": [
        {
          "name": "stdout",
          "output_type": "stream",
          "text": [
            "30.5\n",
            "19.8\n",
            "12.3\n",
            "31.0\n",
            "19.9\n",
            "34.4\n",
            "25.3\n"
          ]
        }
      ],
      "source": [
        "# Primero, se muestra un recorrido por posición, es decir, recorriendo cada casillero desde\n",
        "# el 0 hasta el 6. Para ello, usamos la instrucción range, que genera una secuencia de números\n",
        "# desde 0 hasta el parámetro que le entregamos, menos 1. En este caso, le entregamos (len(temp)),\n",
        "# que como vimos es 7, por lo que genera los números del 0 hasta el 6. Luego, accedemos a cada\n",
        "# elemento usando los paréntesis cuadrados.\n",
        "for i in range(len(temp)):\n",
        "    print(temp[i])"
      ]
    },
    {
      "cell_type": "markdown",
      "metadata": {
        "id": "1I2Hprx6yEPv"
      },
      "source": [
        "### Recorrido por elemento"
      ]
    },
    {
      "cell_type": "code",
      "execution_count": 15,
      "metadata": {
        "colab": {
          "base_uri": "https://localhost:8080/"
        },
        "id": "aWXDBvbWyEPv",
        "outputId": "4a52cf2b-8cd8-4ca1-e21a-b2e24642840b"
      },
      "outputs": [
        {
          "name": "stdout",
          "output_type": "stream",
          "text": [
            "30.5\n",
            "19.8\n",
            "12.3\n",
            "31.0\n",
            "19.9\n",
            "34.4\n",
            "25.3\n"
          ]
        }
      ],
      "source": [
        "# También es posible recorrer la lista elemento por elemento, sin preocuparnos de la posición.\n",
        "# Para ello, usamos un for. Donde usamos una variable, que en este caso llame elem, para recorrer\n",
        "# cada elemento que está guardado dentro de la lista.\n",
        "for elem in temp:\n",
        "    print(elem)"
      ]
    },
    {
      "cell_type": "markdown",
      "metadata": {
        "id": "huxCwbVSyEPv"
      },
      "source": [
        "## Agregar elementos a una lista"
      ]
    },
    {
      "cell_type": "markdown",
      "metadata": {
        "id": "WU_Kg_1yyEPv"
      },
      "source": [
        "### Al final de la lista"
      ]
    },
    {
      "cell_type": "code",
      "execution_count": 17,
      "metadata": {
        "colab": {
          "base_uri": "https://localhost:8080/"
        },
        "id": "G4oDREWlyEPv",
        "outputId": "0681a038-aab3-4100-d26f-7946cc9a3e8e"
      },
      "outputs": [
        {
          "data": {
            "text/plain": [
              "[30.5, 19.8, 12.3, 31.0, 19.9, 34.4, 25.3, 18.3]"
            ]
          },
          "execution_count": 17,
          "metadata": {},
          "output_type": "execute_result"
        }
      ],
      "source": [
        "# Se usa append para que agregue el elemento al final de la lista\n",
        "temp.append(18.3)\n",
        "temp"
      ]
    },
    {
      "cell_type": "markdown",
      "metadata": {
        "id": "XK2aliv3yEPw"
      },
      "source": [
        "### En una posición específica de la lista"
      ]
    },
    {
      "cell_type": "code",
      "execution_count": 18,
      "metadata": {
        "colab": {
          "base_uri": "https://localhost:8080/"
        },
        "id": "emjOF8wQyEPw",
        "outputId": "2244eb3d-a768-4513-b84a-29a811965538"
      },
      "outputs": [
        {
          "data": {
            "text/plain": [
              "[30.5, 19.8, 12.3, 31.0, 19.9, 12.5, 34.4, 25.3, 18.3]"
            ]
          },
          "execution_count": 18,
          "metadata": {},
          "output_type": "execute_result"
        }
      ],
      "source": [
        "# Se usa insert que recibe la posición del elemento y luego el elemento a insertar\n",
        "# Se introduce 12.5 en la posición 5 y los demás números se corren a la derecha\n",
        "temp.insert(5, 12.5)\n",
        "temp"
      ]
    },
    {
      "cell_type": "markdown",
      "metadata": {
        "id": "Mwg7yuXxyEPw"
      },
      "source": [
        "## Eliminar elementos de una lista"
      ]
    },
    {
      "cell_type": "markdown",
      "metadata": {
        "id": "QZgK_W3UyEPw"
      },
      "source": [
        "### Método Remove: elimina según el valor"
      ]
    },
    {
      "cell_type": "code",
      "execution_count": 19,
      "metadata": {
        "colab": {
          "base_uri": "https://localhost:8080/"
        },
        "id": "ewDSunkZyEPw",
        "outputId": "fbd667eb-7d09-4204-cf79-d3155b1f047d"
      },
      "outputs": [
        {
          "data": {
            "text/plain": [
              "[30.5, 19.8, 31.0, 19.9, 34.4, 25.3]"
            ]
          },
          "execution_count": 19,
          "metadata": {},
          "output_type": "execute_result"
        }
      ],
      "source": [
        "temp=[30.5, 19.8, 12.3, 31.0, 19.9, 34.4, 25.3]\n",
        "# Se elimina el valor 12.3\n",
        "temp.remove(12.3)\n",
        "temp"
      ]
    },
    {
      "cell_type": "code",
      "execution_count": 20,
      "metadata": {
        "colab": {
          "base_uri": "https://localhost:8080/",
          "height": 176
        },
        "id": "05JNo_6DyEPx",
        "outputId": "5a409f72-f06d-4f5b-d82e-8bc870f03fad"
      },
      "outputs": [
        {
          "ename": "ValueError",
          "evalue": "list.remove(x): x not in list",
          "output_type": "error",
          "traceback": [
            "\u001b[0;31m---------------------------------------------------------------------------\u001b[0m",
            "\u001b[0;31mValueError\u001b[0m                                Traceback (most recent call last)",
            "\u001b[0;32m/tmp/ipython-input-2050790357.py\u001b[0m in \u001b[0;36m<cell line: 0>\u001b[0;34m()\u001b[0m\n\u001b[1;32m      1\u001b[0m \u001b[0;31m# Si pido eliminar un valor que no está en la lista, Python lanzará un error\u001b[0m\u001b[0;34m\u001b[0m\u001b[0;34m\u001b[0m\u001b[0m\n\u001b[0;32m----> 2\u001b[0;31m \u001b[0mtemp\u001b[0m\u001b[0;34m.\u001b[0m\u001b[0mremove\u001b[0m\u001b[0;34m(\u001b[0m\u001b[0;36m17.3\u001b[0m\u001b[0;34m)\u001b[0m\u001b[0;34m\u001b[0m\u001b[0;34m\u001b[0m\u001b[0m\n\u001b[0m\u001b[1;32m      3\u001b[0m \u001b[0mtemp\u001b[0m\u001b[0;34m\u001b[0m\u001b[0;34m\u001b[0m\u001b[0m\n",
            "\u001b[0;31mValueError\u001b[0m: list.remove(x): x not in list"
          ]
        }
      ],
      "source": [
        "# Si pido eliminar un valor que no está en la lista, Python lanzará un error\n",
        "temp.remove(17.3)\n",
        "temp"
      ]
    },
    {
      "cell_type": "markdown",
      "metadata": {
        "id": "yE7SI_7KyEPx"
      },
      "source": [
        "### Método pop: elimina según la posición"
      ]
    },
    {
      "cell_type": "code",
      "execution_count": 21,
      "metadata": {
        "colab": {
          "base_uri": "https://localhost:8080/"
        },
        "id": "xsogBBCtyEPx",
        "outputId": "2354ec9a-ad7c-42af-d457-3dafcd1ebddb"
      },
      "outputs": [
        {
          "name": "stdout",
          "output_type": "stream",
          "text": [
            "19.9\n",
            "[30.5, 19.8, 12.3, 31.0, 34.4, 25.3]\n"
          ]
        }
      ],
      "source": [
        "temp=[30.5, 19.8, 12.3, 31.0, 19.9, 34.4, 25.3]\n",
        "# Elimina el elemento de la posición 4 y me arroja el valor que se eliminó\n",
        "elem = temp.pop(4)\n",
        "print(elem)\n",
        "print(temp)"
      ]
    },
    {
      "cell_type": "markdown",
      "metadata": {
        "id": "9jVLhqv0yEPy"
      },
      "source": [
        "## Método Index: posición en la que está ubicado un valor"
      ]
    },
    {
      "cell_type": "code",
      "execution_count": 22,
      "metadata": {
        "colab": {
          "base_uri": "https://localhost:8080/"
        },
        "id": "_3Z3m0Mn2mkq",
        "outputId": "a30c227b-0209-4fc9-ce78-f46a34ae9cd3"
      },
      "outputs": [
        {
          "data": {
            "text/plain": [
              "3"
            ]
          },
          "execution_count": 22,
          "metadata": {},
          "output_type": "execute_result"
        }
      ],
      "source": [
        "pos=temp.index(31.0)\n",
        "pos"
      ]
    },
    {
      "cell_type": "code",
      "execution_count": 23,
      "metadata": {
        "colab": {
          "base_uri": "https://localhost:8080/",
          "height": 176
        },
        "id": "6tKv_2Ty25nT",
        "outputId": "d70ac69b-a90a-4ad5-d0e0-73f45cf494ec"
      },
      "outputs": [
        {
          "ename": "ValueError",
          "evalue": "41.0 is not in list",
          "output_type": "error",
          "traceback": [
            "\u001b[0;31m---------------------------------------------------------------------------\u001b[0m",
            "\u001b[0;31mValueError\u001b[0m                                Traceback (most recent call last)",
            "\u001b[0;32m/tmp/ipython-input-3560655486.py\u001b[0m in \u001b[0;36m<cell line: 0>\u001b[0;34m()\u001b[0m\n\u001b[1;32m      1\u001b[0m \u001b[0;31m# Si el valor no está en la lista arroja error\u001b[0m\u001b[0;34m\u001b[0m\u001b[0;34m\u001b[0m\u001b[0m\n\u001b[0;32m----> 2\u001b[0;31m \u001b[0mpos2\u001b[0m\u001b[0;34m=\u001b[0m\u001b[0mtemp\u001b[0m\u001b[0;34m.\u001b[0m\u001b[0mindex\u001b[0m\u001b[0;34m(\u001b[0m\u001b[0;36m41.0\u001b[0m\u001b[0;34m)\u001b[0m\u001b[0;34m\u001b[0m\u001b[0;34m\u001b[0m\u001b[0m\n\u001b[0m\u001b[1;32m      3\u001b[0m \u001b[0mpos2\u001b[0m\u001b[0;34m\u001b[0m\u001b[0;34m\u001b[0m\u001b[0m\n",
            "\u001b[0;31mValueError\u001b[0m: 41.0 is not in list"
          ]
        }
      ],
      "source": [
        "# Si el valor no está en la lista arroja error\n",
        "pos2=temp.index(41.0)\n",
        "pos2"
      ]
    },
    {
      "cell_type": "markdown",
      "metadata": {
        "id": "X2tz6Fj3yEPz"
      },
      "source": [
        "## Ejercicios"
      ]
    },
    {
      "cell_type": "markdown",
      "metadata": {
        "id": "LMk_f5vbyEPz"
      },
      "source": [
        "Tienes una lista de enteros ordenados. Luego de crear la lista te das cuenta que se te olvidó agregar el 3."
      ]
    },
    {
      "cell_type": "code",
      "execution_count": 24,
      "metadata": {
        "id": "en2lZa4tyEP5"
      },
      "outputs": [],
      "source": [
        "lista = [1, 2, 4, 5, 6, 7, 8, 9]"
      ]
    },
    {
      "cell_type": "code",
      "execution_count": 25,
      "metadata": {
        "id": "ZawihRpjeTfb"
      },
      "outputs": [],
      "source": [
        "lista.insert(2, 3)"
      ]
    },
    {
      "cell_type": "code",
      "execution_count": 26,
      "metadata": {
        "colab": {
          "base_uri": "https://localhost:8080/"
        },
        "id": "ji89VBkZeaOb",
        "outputId": "132adc7a-2797-4507-e004-dcfbea9fad90"
      },
      "outputs": [
        {
          "data": {
            "text/plain": [
              "[1, 2, 3, 4, 5, 6, 7, 8, 9]"
            ]
          },
          "execution_count": 26,
          "metadata": {},
          "output_type": "execute_result"
        }
      ],
      "source": [
        "lista"
      ]
    },
    {
      "cell_type": "markdown",
      "metadata": {
        "id": "eyLid2tSyEP6"
      },
      "source": [
        "Tienes una lista de enteros semi-ordenados. Luego de crear la lista te das cuenta de que pusiste el 7 donde debía ir el 3 y el 3 donde debía ir el 7."
      ]
    },
    {
      "cell_type": "code",
      "execution_count": 27,
      "metadata": {
        "id": "FH-AEp5LyEP6"
      },
      "outputs": [],
      "source": [
        "lista = [1, 2, 7, 4, 5, 6, 3, 8, 9]"
      ]
    },
    {
      "cell_type": "code",
      "execution_count": 29,
      "metadata": {
        "colab": {
          "base_uri": "https://localhost:8080/"
        },
        "id": "xVExHgYNehQb",
        "outputId": "a373656c-1cd0-4fa1-b0e8-731aebafc369"
      },
      "outputs": [
        {
          "data": {
            "text/plain": [
              "[1, 2, 3, 4, 5, 6, 7, 8, 9]"
            ]
          },
          "execution_count": 29,
          "metadata": {},
          "output_type": "execute_result"
        }
      ],
      "source": [
        "lista.sort()\n",
        "lista"
      ]
    },
    {
      "cell_type": "code",
      "execution_count": 30,
      "metadata": {
        "colab": {
          "base_uri": "https://localhost:8080/"
        },
        "id": "vZ13zqh-fJQr",
        "outputId": "5fa7e989-864a-4c09-e29d-c45c680d78e3"
      },
      "outputs": [
        {
          "data": {
            "text/plain": [
              "[1, 2, 4, 5, 6, 8, 9]"
            ]
          },
          "execution_count": 30,
          "metadata": {},
          "output_type": "execute_result"
        }
      ],
      "source": [
        "lista.remove(3)\n",
        "lista.remove(7)\n",
        "lista"
      ]
    },
    {
      "cell_type": "code",
      "execution_count": 31,
      "metadata": {
        "colab": {
          "base_uri": "https://localhost:8080/"
        },
        "id": "GT_SYXKVfR3j",
        "outputId": "49cc5f9c-8c51-409e-b53f-e943f65b3ddc"
      },
      "outputs": [
        {
          "data": {
            "text/plain": [
              "[1, 2, 3, 4, 5, 6, 7, 8, 9]"
            ]
          },
          "execution_count": 31,
          "metadata": {},
          "output_type": "execute_result"
        }
      ],
      "source": [
        "lista.insert(2,3)\n",
        "lista.insert(6,7)\n",
        "lista"
      ]
    },
    {
      "cell_type": "code",
      "execution_count": 32,
      "metadata": {
        "colab": {
          "base_uri": "https://localhost:8080/"
        },
        "id": "m2tjuGClfafb",
        "outputId": "046b45c3-92f7-41d6-ea59-822d3e53c4f1"
      },
      "outputs": [
        {
          "data": {
            "text/plain": [
              "[1, 2, 3, 4, 5, 6, 7, 8, 9]"
            ]
          },
          "execution_count": 32,
          "metadata": {},
          "output_type": "execute_result"
        }
      ],
      "source": [
        "lista = [1, 2, 7, 4, 5, 6, 3, 8, 9]\n",
        "lista[2] = 3\n",
        "lista[6] = 7\n",
        "lista"
      ]
    },
    {
      "cell_type": "markdown",
      "metadata": {
        "id": "ybqJfCTs4Mx7"
      },
      "source": [
        "# Listas de listas"
      ]
    },
    {
      "cell_type": "markdown",
      "metadata": {
        "id": "GZyVsr-04Mx9"
      },
      "source": [
        "Las listas pueden guardar cualquier tipo de dato, podría ser un int, float, bool, string, o, incluso, en cada casillero pueden guardar una lista. A esto lo llamamos una lista de listas."
      ]
    },
    {
      "cell_type": "markdown",
      "metadata": {
        "id": "tkjbDEZ24Mx-"
      },
      "source": [
        "## Estructura de una lista de listas"
      ]
    },
    {
      "cell_type": "markdown",
      "metadata": {
        "id": "5DhDE2Jc4Mx_"
      },
      "source": [
        "A veces, hay datos que se representan naturalmente como una matriz y, una matriz en Python es también una lista de listas."
      ]
    },
    {
      "cell_type": "markdown",
      "metadata": {
        "id": "-xWz08m74MyA"
      },
      "source": [
        "Por ejemplo, imaginemos que estamos guardando los puntajes de los estudiantes de un curso, en una escala de puntos de 1 a 100. Tenemos 4 estudiantes y 3 notas para cada uno. Esto se puede guardar en una lista de listas de 3 formas diferentes:"
      ]
    },
    {
      "cell_type": "code",
      "execution_count": 34,
      "metadata": {
        "colab": {
          "base_uri": "https://localhost:8080/"
        },
        "id": "FU3JF7l_4MyB",
        "outputId": "a21bcf0e-a529-4004-9277-2ba7e50c0a72"
      },
      "outputs": [
        {
          "data": {
            "text/plain": [
              "[[86, 70, 95], [40, 55, 28], [98, 50, 86], [33, 78, 77]]"
            ]
          },
          "execution_count": 34,
          "metadata": {},
          "output_type": "execute_result"
        }
      ],
      "source": [
        "# Declarando cada lista por aparte y luego una lista m que llame a cada una de las otras listas\n",
        "e1=[86,70,95]\n",
        "e2=[40,55,28]\n",
        "e3=[98,50,86]\n",
        "e4=[33,78,77]\n",
        "m=[e1, e2, e3, e4]\n",
        "m"
      ]
    },
    {
      "cell_type": "code",
      "execution_count": 35,
      "metadata": {
        "id": "2D3OvGpn4MyC"
      },
      "outputs": [],
      "source": [
        "# Introduciendo todas las listas dentro de una lista grande\n",
        "m=[[86,70,95],[40,55,28],[98,50,86],[33,78,77]]"
      ]
    },
    {
      "cell_type": "code",
      "execution_count": 36,
      "metadata": {
        "id": "g663ykIB4MyD"
      },
      "outputs": [],
      "source": [
        "# Introduciendo todas las listas dentro de una lista grande, pero que visualmente se vea en forma de matriz\n",
        "m=[[86,70,95],\n",
        "[40,55,28],\n",
        "[98,50,86],\n",
        "[33,78,77]]"
      ]
    },
    {
      "cell_type": "code",
      "execution_count": 37,
      "metadata": {
        "colab": {
          "base_uri": "https://localhost:8080/"
        },
        "id": "0kcEb0kv4MyE",
        "outputId": "8cfa9bbe-3d36-4882-d1c6-0175759dfc34"
      },
      "outputs": [
        {
          "data": {
            "text/plain": [
              "[[86, 70, 95], [40, 55, 28], [98, 50, 86], [33, 78, 77]]"
            ]
          },
          "execution_count": 37,
          "metadata": {},
          "output_type": "execute_result"
        }
      ],
      "source": [
        "m"
      ]
    },
    {
      "cell_type": "markdown",
      "metadata": {
        "id": "Jm7PnPum4MyF"
      },
      "source": [
        "## Acceso a elementos"
      ]
    },
    {
      "cell_type": "code",
      "execution_count": 38,
      "metadata": {
        "colab": {
          "base_uri": "https://localhost:8080/"
        },
        "id": "TPpT8wzG4MyF",
        "outputId": "1d80e170-6431-4c66-fc90-5518b58a0e10"
      },
      "outputs": [
        {
          "name": "stdout",
          "output_type": "stream",
          "text": [
            "[40, 55, 28]\n"
          ]
        }
      ],
      "source": [
        "print(m[1])"
      ]
    },
    {
      "cell_type": "code",
      "execution_count": 39,
      "metadata": {
        "colab": {
          "base_uri": "https://localhost:8080/"
        },
        "id": "ehaCBZVN4MyG",
        "outputId": "71297ece-e62a-40d2-ad77-d66c8415edc1"
      },
      "outputs": [
        {
          "name": "stdout",
          "output_type": "stream",
          "text": [
            "33\n"
          ]
        }
      ],
      "source": [
        "print(m[3][0])"
      ]
    },
    {
      "cell_type": "code",
      "execution_count": 40,
      "metadata": {
        "colab": {
          "base_uri": "https://localhost:8080/"
        },
        "id": "zZRUYUja4MyG",
        "outputId": "b27ea0af-2937-4842-f384-9def85a0feb1"
      },
      "outputs": [
        {
          "name": "stdout",
          "output_type": "stream",
          "text": [
            "28\n"
          ]
        }
      ],
      "source": [
        "print(m[1][2])"
      ]
    },
    {
      "cell_type": "markdown",
      "metadata": {
        "id": "4pukwiiB4MyG"
      },
      "source": [
        "# Modificación de un elemento"
      ]
    },
    {
      "cell_type": "code",
      "execution_count": 41,
      "metadata": {
        "colab": {
          "base_uri": "https://localhost:8080/"
        },
        "id": "rHsL10C14MyH",
        "outputId": "8b6cbe17-a74f-464c-ec44-3c06dccdd02f"
      },
      "outputs": [
        {
          "name": "stdout",
          "output_type": "stream",
          "text": [
            "[[86, 70, 95], [33, 55, 28], [98, 50, 86], [33, 78, 77]]\n"
          ]
        }
      ],
      "source": [
        "m[1][0]=33\n",
        "print(m)"
      ]
    },
    {
      "cell_type": "markdown",
      "metadata": {
        "id": "Nk85H_y94MyK"
      },
      "source": [
        "# Tamaño de las listas de listas"
      ]
    },
    {
      "cell_type": "code",
      "execution_count": 42,
      "metadata": {
        "id": "tB3VAwEs4MyK"
      },
      "outputs": [],
      "source": [
        "m=[[86,70,95],\n",
        "[40,55,28],\n",
        "[98,50,86],\n",
        "[33,78,77]]"
      ]
    },
    {
      "cell_type": "code",
      "execution_count": 43,
      "metadata": {
        "colab": {
          "base_uri": "https://localhost:8080/"
        },
        "id": "B1iZuzRp4MyL",
        "outputId": "825cb9e7-02c2-4663-c8ea-08b1bae8a38a"
      },
      "outputs": [
        {
          "name": "stdout",
          "output_type": "stream",
          "text": [
            "4\n",
            "3\n"
          ]
        }
      ],
      "source": [
        "filas=len(m)\n",
        "columnas=len(m[0])\n",
        "print(filas)\n",
        "print(columnas)"
      ]
    }
  ],
  "metadata": {
    "colab": {
      "include_colab_link": true,
      "provenance": []
    },
    "kernelspec": {
      "display_name": "Python 3.8.1 32-bit",
      "language": "python",
      "name": "python3"
    },
    "language_info": {
      "codemirror_mode": {
        "name": "ipython",
        "version": 3
      },
      "file_extension": ".py",
      "mimetype": "text/x-python",
      "name": "python",
      "nbconvert_exporter": "python",
      "pygments_lexer": "ipython3",
      "version": "3.8.1"
    },
    "orig_nbformat": 4,
    "vscode": {
      "interpreter": {
        "hash": "b25af7edd9d744abc5be65703c7db0e0253305f8e9e5a5c8b160839b50596d73"
      }
    }
  },
  "nbformat": 4,
  "nbformat_minor": 0
}
