{
 "cells": [
  {
   "cell_type": "markdown",
   "metadata": {},
   "source": [
    "<a href=\"https://colab.research.google.com/github/LinaMariaCastro/2025-segundo-semestre-ia-economia/blob/main/clases/2_Programacion_en_Python/8_Operadores.ipynb\" target=\"_parent\"><img src=\"https://colab.research.google.com/assets/colab-badge.svg\" alt=\"Open In Colab\"/></a>"
   ]
  },
  {
   "cell_type": "markdown",
   "metadata": {},
   "source": [
    "# **Inteligencia Artificial con Aplicaciones en Economía I**\n",
    "\n",
    "- 👩‍🏫 **Profesora:** [Lina María Castro](https://www.linkedin.com/in/lina-maria-castro)  \n",
    "- 📧 **Email:** [lmcastroco@gmail.com](mailto:lmcastroco@gmail.com)  \n",
    "- 🎓 **Universidad:** Universidad Externado de Colombia - Facultad de Economía"
   ]
  },
  {
   "cell_type": "markdown",
   "metadata": {
    "id": "BQg_TI8bh4y9"
   },
   "source": [
    "# **Operadores en Python**"
   ]
  },
  {
   "cell_type": "markdown",
   "metadata": {
    "id": "Zdt-77CR-Z-M"
   },
   "source": [
    "Son símbolos o palabras reservadas que permiten realizar operaciones sobre valores o variables, como comparaciones (>, ==), cálculos (+, -) o combinaciones lógicas (and, or)."
   ]
  },
  {
   "cell_type": "markdown",
   "metadata": {
    "id": "6eZBkK_ODckO"
   },
   "source": [
    "## Operadores relacionales o de comparación\n",
    "\n",
    "Se usan para comparar valores y devuelven un resultado booleano (True o False)."
   ]
  },
  {
   "cell_type": "code",
   "execution_count": 1,
   "metadata": {
    "colab": {
     "base_uri": "https://localhost:8080/"
    },
    "executionInfo": {
     "elapsed": 34,
     "status": "ok",
     "timestamp": 1756148321590,
     "user": {
      "displayName": "Lina",
      "userId": "12754325401007705611"
     },
     "user_tz": 300
    },
    "id": "Ejx-mNK9DckP",
    "outputId": "4d292a15-2deb-4ced-cefa-1052a675cfad"
   },
   "outputs": [
    {
     "data": {
      "text/plain": [
       "False"
      ]
     },
     "execution_count": 1,
     "metadata": {},
     "output_type": "execute_result"
    }
   ],
   "source": [
    "# mayor que\n",
    "1 > 2"
   ]
  },
  {
   "cell_type": "code",
   "execution_count": 2,
   "metadata": {
    "colab": {
     "base_uri": "https://localhost:8080/"
    },
    "executionInfo": {
     "elapsed": 85,
     "status": "ok",
     "timestamp": 1756148321676,
     "user": {
      "displayName": "Lina",
      "userId": "12754325401007705611"
     },
     "user_tz": 300
    },
    "id": "J0A10BsgDckP",
    "outputId": "bd9d2ee8-40c2-4fe5-def9-2138d5c269eb"
   },
   "outputs": [
    {
     "data": {
      "text/plain": [
       "True"
      ]
     },
     "execution_count": 2,
     "metadata": {},
     "output_type": "execute_result"
    }
   ],
   "source": [
    "# menor que\n",
    "1 < 2"
   ]
  },
  {
   "cell_type": "code",
   "execution_count": 3,
   "metadata": {
    "colab": {
     "base_uri": "https://localhost:8080/"
    },
    "executionInfo": {
     "elapsed": 3,
     "status": "ok",
     "timestamp": 1756148321684,
     "user": {
      "displayName": "Lina",
      "userId": "12754325401007705611"
     },
     "user_tz": 300
    },
    "id": "NM_LZQXQDckQ",
    "outputId": "5cb6ea20-79a7-46cf-978b-651d4022e14e"
   },
   "outputs": [
    {
     "data": {
      "text/plain": [
       "True"
      ]
     },
     "execution_count": 3,
     "metadata": {},
     "output_type": "execute_result"
    }
   ],
   "source": [
    "# mayor o igual que\n",
    "1 >= 1"
   ]
  },
  {
   "cell_type": "code",
   "execution_count": 4,
   "metadata": {
    "colab": {
     "base_uri": "https://localhost:8080/"
    },
    "executionInfo": {
     "elapsed": 3,
     "status": "ok",
     "timestamp": 1756148321687,
     "user": {
      "displayName": "Lina",
      "userId": "12754325401007705611"
     },
     "user_tz": 300
    },
    "id": "Q43o7FI1DckR",
    "outputId": "5d47b9a1-5606-440c-fc59-aec61fd38466"
   },
   "outputs": [
    {
     "data": {
      "text/plain": [
       "True"
      ]
     },
     "execution_count": 4,
     "metadata": {},
     "output_type": "execute_result"
    }
   ],
   "source": [
    "# menor o igual que\n",
    "1 <= 4"
   ]
  },
  {
   "cell_type": "code",
   "execution_count": 5,
   "metadata": {
    "colab": {
     "base_uri": "https://localhost:8080/"
    },
    "executionInfo": {
     "elapsed": 2,
     "status": "ok",
     "timestamp": 1756148321689,
     "user": {
      "displayName": "Lina",
      "userId": "12754325401007705611"
     },
     "user_tz": 300
    },
    "id": "W2IGyZjtDckS",
    "outputId": "19cb3d0b-20f9-4225-c08c-6ea71bddfa11"
   },
   "outputs": [
    {
     "data": {
      "text/plain": [
       "True"
      ]
     },
     "execution_count": 5,
     "metadata": {},
     "output_type": "execute_result"
    }
   ],
   "source": [
    "# Igual que\n",
    "1 == 1"
   ]
  },
  {
   "cell_type": "code",
   "execution_count": 6,
   "metadata": {
    "colab": {
     "base_uri": "https://localhost:8080/"
    },
    "executionInfo": {
     "elapsed": 85,
     "status": "ok",
     "timestamp": 1756148321775,
     "user": {
      "displayName": "Lina",
      "userId": "12754325401007705611"
     },
     "user_tz": 300
    },
    "id": "BHZmoW1wDckU",
    "outputId": "3d7ea0c2-e5ef-4016-c527-c9033ca646f5"
   },
   "outputs": [
    {
     "data": {
      "text/plain": [
       "True"
      ]
     },
     "execution_count": 6,
     "metadata": {},
     "output_type": "execute_result"
    }
   ],
   "source": [
    "# Diferente de\n",
    "10 != 100"
   ]
  },
  {
   "cell_type": "markdown",
   "metadata": {
    "id": "edodF-pMost6"
   },
   "source": [
    "### Ejercicios"
   ]
  },
  {
   "cell_type": "code",
   "execution_count": 7,
   "metadata": {
    "colab": {
     "base_uri": "https://localhost:8080/"
    },
    "executionInfo": {
     "elapsed": 2,
     "status": "ok",
     "timestamp": 1756148321783,
     "user": {
      "displayName": "Lina",
      "userId": "12754325401007705611"
     },
     "user_tz": 300
    },
    "id": "4vQh0TQODckW",
    "outputId": "cc7acf7b-1277-49f0-871a-4363ba99d9a8"
   },
   "outputs": [
    {
     "data": {
      "text/plain": [
       "False"
      ]
     },
     "execution_count": 7,
     "metadata": {},
     "output_type": "execute_result"
    }
   ],
   "source": [
    "10 != 10"
   ]
  },
  {
   "cell_type": "code",
   "execution_count": 8,
   "metadata": {
    "colab": {
     "base_uri": "https://localhost:8080/"
    },
    "executionInfo": {
     "elapsed": 51,
     "status": "ok",
     "timestamp": 1756148321848,
     "user": {
      "displayName": "Lina",
      "userId": "12754325401007705611"
     },
     "user_tz": 300
    },
    "id": "hB_Us3jsDckW",
    "outputId": "b5cb25eb-af84-451a-bb04-9cdf05ff4e5b"
   },
   "outputs": [
    {
     "data": {
      "text/plain": [
       "False"
      ]
     },
     "execution_count": 8,
     "metadata": {},
     "output_type": "execute_result"
    }
   ],
   "source": [
    "'hi' == 'bye'"
   ]
  },
  {
   "cell_type": "code",
   "execution_count": 9,
   "metadata": {
    "colab": {
     "base_uri": "https://localhost:8080/"
    },
    "executionInfo": {
     "elapsed": 3,
     "status": "ok",
     "timestamp": 1756148321852,
     "user": {
      "displayName": "Lina",
      "userId": "12754325401007705611"
     },
     "user_tz": 300
    },
    "id": "JwWsnmkb-GGh",
    "outputId": "816b6bd5-03d5-4f18-afef-d33bd1343e62"
   },
   "outputs": [
    {
     "data": {
      "text/plain": [
       "True"
      ]
     },
     "execution_count": 9,
     "metadata": {},
     "output_type": "execute_result"
    }
   ],
   "source": [
    "[1, 2, 100] == [1, 2, 100]"
   ]
  },
  {
   "cell_type": "code",
   "execution_count": 10,
   "metadata": {
    "colab": {
     "base_uri": "https://localhost:8080/"
    },
    "executionInfo": {
     "elapsed": 3,
     "status": "ok",
     "timestamp": 1756148321973,
     "user": {
      "displayName": "Lina",
      "userId": "12754325401007705611"
     },
     "user_tz": 300
    },
    "id": "r6erYuJDDckX",
    "outputId": "36578b38-fb18-49f4-ddb5-df80261faf88"
   },
   "outputs": [
    {
     "data": {
      "text/plain": [
       "True"
      ]
     },
     "execution_count": 10,
     "metadata": {},
     "output_type": "execute_result"
    }
   ],
   "source": [
    "[1, 2, 100] != [100, 1, 2]"
   ]
  },
  {
   "cell_type": "code",
   "execution_count": 11,
   "metadata": {
    "colab": {
     "base_uri": "https://localhost:8080/"
    },
    "executionInfo": {
     "elapsed": 2,
     "status": "ok",
     "timestamp": 1756148321975,
     "user": {
      "displayName": "Lina",
      "userId": "12754325401007705611"
     },
     "user_tz": 300
    },
    "id": "g9rnJoUqDckY",
    "outputId": "aee1028d-c9f7-48a8-a313-92c354f06dc5"
   },
   "outputs": [
    {
     "data": {
      "text/plain": [
       "False"
      ]
     },
     "execution_count": 11,
     "metadata": {},
     "output_type": "execute_result"
    }
   ],
   "source": [
    "{'k1':1, 'k2':2, 'k3':[1,2,3]} == {'k1':1, 'k2':2, 'k3':[11,2,3]}"
   ]
  },
  {
   "cell_type": "markdown",
   "metadata": {
    "id": "f7SX2FYvDckY"
   },
   "source": [
    "## Operadores Lógicos\n",
    "\n",
    "Se usan para combinar condiciones lógicas.\n",
    "\n",
    "and → devuelve True si ambas condiciones son verdaderas.\n",
    "\n",
    "or → devuelve True si al menos una condición es verdadera.\n",
    "\n",
    "not → invierte el valor lógico (de True a False y viceversa)."
   ]
  },
  {
   "cell_type": "code",
   "execution_count": 12,
   "metadata": {
    "colab": {
     "base_uri": "https://localhost:8080/"
    },
    "executionInfo": {
     "elapsed": 2,
     "status": "ok",
     "timestamp": 1756148321978,
     "user": {
      "displayName": "Lina",
      "userId": "12754325401007705611"
     },
     "user_tz": 300
    },
    "id": "r5kIqfpXDckZ",
    "outputId": "e1c497c8-a210-47f9-a1e6-156fc823b6ed"
   },
   "outputs": [
    {
     "data": {
      "text/plain": [
       "False"
      ]
     },
     "execution_count": 12,
     "metadata": {},
     "output_type": "execute_result"
    }
   ],
   "source": [
    "(1 > 2) and (2 < 3)"
   ]
  },
  {
   "cell_type": "code",
   "execution_count": 13,
   "metadata": {
    "colab": {
     "base_uri": "https://localhost:8080/"
    },
    "executionInfo": {
     "elapsed": 1,
     "status": "ok",
     "timestamp": 1756148321980,
     "user": {
      "displayName": "Lina",
      "userId": "12754325401007705611"
     },
     "user_tz": 300
    },
    "id": "s_BGwTdkDckb",
    "outputId": "e7c9c27e-eb48-4fc8-d6a5-bec8fb9d6ddf"
   },
   "outputs": [
    {
     "data": {
      "text/plain": [
       "True"
      ]
     },
     "execution_count": 13,
     "metadata": {},
     "output_type": "execute_result"
    }
   ],
   "source": [
    "(1 > 2) or (2 < 3)"
   ]
  },
  {
   "cell_type": "code",
   "execution_count": 14,
   "metadata": {
    "colab": {
     "base_uri": "https://localhost:8080/"
    },
    "executionInfo": {
     "elapsed": 2,
     "status": "ok",
     "timestamp": 1756148321983,
     "user": {
      "displayName": "Lina",
      "userId": "12754325401007705611"
     },
     "user_tz": 300
    },
    "id": "UedFVwIVDckb",
    "outputId": "1cf9109f-8ca3-42e6-c76e-b28d5dd2ff3c"
   },
   "outputs": [
    {
     "data": {
      "text/plain": [
       "True"
      ]
     },
     "execution_count": 14,
     "metadata": {},
     "output_type": "execute_result"
    }
   ],
   "source": [
    "(1 == 2) or (2 == 3) or (4 == 4)"
   ]
  },
  {
   "cell_type": "code",
   "execution_count": 15,
   "metadata": {
    "colab": {
     "base_uri": "https://localhost:8080/"
    },
    "executionInfo": {
     "elapsed": 3,
     "status": "ok",
     "timestamp": 1756148321994,
     "user": {
      "displayName": "Lina",
      "userId": "12754325401007705611"
     },
     "user_tz": 300
    },
    "id": "qTXBztFbDckc",
    "outputId": "67fde3f4-d8ea-40cc-e760-077c53fa597d"
   },
   "outputs": [
    {
     "data": {
      "text/plain": [
       "True"
      ]
     },
     "execution_count": 15,
     "metadata": {},
     "output_type": "execute_result"
    }
   ],
   "source": [
    "True and True"
   ]
  },
  {
   "cell_type": "code",
   "execution_count": 16,
   "metadata": {
    "colab": {
     "base_uri": "https://localhost:8080/"
    },
    "executionInfo": {
     "elapsed": 3,
     "status": "ok",
     "timestamp": 1756148321997,
     "user": {
      "displayName": "Lina",
      "userId": "12754325401007705611"
     },
     "user_tz": 300
    },
    "id": "fwQwH_whDckd",
    "outputId": "5a3add4f-1065-460f-e386-42026683477d"
   },
   "outputs": [
    {
     "data": {
      "text/plain": [
       "False"
      ]
     },
     "execution_count": 16,
     "metadata": {},
     "output_type": "execute_result"
    }
   ],
   "source": [
    "True and False"
   ]
  },
  {
   "cell_type": "code",
   "execution_count": 17,
   "metadata": {
    "colab": {
     "base_uri": "https://localhost:8080/"
    },
    "executionInfo": {
     "elapsed": 3,
     "status": "ok",
     "timestamp": 1756148322029,
     "user": {
      "displayName": "Lina",
      "userId": "12754325401007705611"
     },
     "user_tz": 300
    },
    "id": "-XtndYW5Dcke",
    "outputId": "5edd3f77-a4d7-4856-e75a-e13ba4ed53c7"
   },
   "outputs": [
    {
     "data": {
      "text/plain": [
       "False"
      ]
     },
     "execution_count": 17,
     "metadata": {},
     "output_type": "execute_result"
    }
   ],
   "source": [
    "False and True"
   ]
  },
  {
   "cell_type": "code",
   "execution_count": 18,
   "metadata": {
    "colab": {
     "base_uri": "https://localhost:8080/"
    },
    "executionInfo": {
     "elapsed": 2,
     "status": "ok",
     "timestamp": 1756148322032,
     "user": {
      "displayName": "Lina",
      "userId": "12754325401007705611"
     },
     "user_tz": 300
    },
    "id": "4mKWpnIEDckf",
    "outputId": "6fde9d08-c388-43ab-e524-066fadaed704"
   },
   "outputs": [
    {
     "data": {
      "text/plain": [
       "False"
      ]
     },
     "execution_count": 18,
     "metadata": {},
     "output_type": "execute_result"
    }
   ],
   "source": [
    "False and False"
   ]
  },
  {
   "cell_type": "code",
   "execution_count": 19,
   "metadata": {
    "colab": {
     "base_uri": "https://localhost:8080/"
    },
    "executionInfo": {
     "elapsed": 2,
     "status": "ok",
     "timestamp": 1756148322035,
     "user": {
      "displayName": "Lina",
      "userId": "12754325401007705611"
     },
     "user_tz": 300
    },
    "id": "AfCV9ZyKDckf",
    "outputId": "97e9a0f0-6c8c-49c0-e50f-a03ee1d7519c"
   },
   "outputs": [
    {
     "data": {
      "text/plain": [
       "True"
      ]
     },
     "execution_count": 19,
     "metadata": {},
     "output_type": "execute_result"
    }
   ],
   "source": [
    "True or True"
   ]
  },
  {
   "cell_type": "code",
   "execution_count": 20,
   "metadata": {
    "colab": {
     "base_uri": "https://localhost:8080/"
    },
    "executionInfo": {
     "elapsed": 2,
     "status": "ok",
     "timestamp": 1756148322038,
     "user": {
      "displayName": "Lina",
      "userId": "12754325401007705611"
     },
     "user_tz": 300
    },
    "id": "ylET6Us6Dckg",
    "outputId": "c5df20bd-5dc5-4df8-8db9-5dec69c25f41"
   },
   "outputs": [
    {
     "data": {
      "text/plain": [
       "True"
      ]
     },
     "execution_count": 20,
     "metadata": {},
     "output_type": "execute_result"
    }
   ],
   "source": [
    "True or False"
   ]
  },
  {
   "cell_type": "code",
   "execution_count": 21,
   "metadata": {
    "colab": {
     "base_uri": "https://localhost:8080/"
    },
    "executionInfo": {
     "elapsed": 2,
     "status": "ok",
     "timestamp": 1756148322041,
     "user": {
      "displayName": "Lina",
      "userId": "12754325401007705611"
     },
     "user_tz": 300
    },
    "id": "FDxHUUgdDckg",
    "outputId": "c289d4f5-41ea-437a-9d2e-de71fb89cad0"
   },
   "outputs": [
    {
     "data": {
      "text/plain": [
       "True"
      ]
     },
     "execution_count": 21,
     "metadata": {},
     "output_type": "execute_result"
    }
   ],
   "source": [
    "False or True"
   ]
  },
  {
   "cell_type": "code",
   "execution_count": 22,
   "metadata": {
    "colab": {
     "base_uri": "https://localhost:8080/"
    },
    "executionInfo": {
     "elapsed": 2,
     "status": "ok",
     "timestamp": 1756148322044,
     "user": {
      "displayName": "Lina",
      "userId": "12754325401007705611"
     },
     "user_tz": 300
    },
    "id": "SovJU54PDckj",
    "outputId": "6d98ba19-4cf8-4a9d-ef8e-01389b67201d"
   },
   "outputs": [
    {
     "data": {
      "text/plain": [
       "False"
      ]
     },
     "execution_count": 22,
     "metadata": {},
     "output_type": "execute_result"
    }
   ],
   "source": [
    "False or False"
   ]
  },
  {
   "cell_type": "code",
   "execution_count": 23,
   "metadata": {
    "colab": {
     "base_uri": "https://localhost:8080/"
    },
    "executionInfo": {
     "elapsed": 11,
     "status": "ok",
     "timestamp": 1756148322055,
     "user": {
      "displayName": "Lina",
      "userId": "12754325401007705611"
     },
     "user_tz": 300
    },
    "id": "_BQbPsGfDckl",
    "outputId": "44ea64bc-b4b6-4795-eb38-72f52e320d51"
   },
   "outputs": [
    {
     "data": {
      "text/plain": [
       "False"
      ]
     },
     "execution_count": 23,
     "metadata": {},
     "output_type": "execute_result"
    }
   ],
   "source": [
    "# Negación\n",
    "not True"
   ]
  },
  {
   "cell_type": "code",
   "execution_count": 24,
   "metadata": {
    "colab": {
     "base_uri": "https://localhost:8080/"
    },
    "executionInfo": {
     "elapsed": 4,
     "status": "ok",
     "timestamp": 1756148322060,
     "user": {
      "displayName": "Lina",
      "userId": "12754325401007705611"
     },
     "user_tz": 300
    },
    "id": "SFHOb2rgDckm",
    "outputId": "91d982f2-3d35-48f4-c77b-89acdb9d0d25"
   },
   "outputs": [
    {
     "data": {
      "text/plain": [
       "True"
      ]
     },
     "execution_count": 24,
     "metadata": {},
     "output_type": "execute_result"
    }
   ],
   "source": [
    "not False"
   ]
  },
  {
   "cell_type": "code",
   "execution_count": 25,
   "metadata": {
    "colab": {
     "base_uri": "https://localhost:8080/"
    },
    "executionInfo": {
     "elapsed": 2,
     "status": "ok",
     "timestamp": 1756148322066,
     "user": {
      "displayName": "Lina",
      "userId": "12754325401007705611"
     },
     "user_tz": 300
    },
    "id": "yFBIJjQPDckn",
    "outputId": "c4b22670-00a8-4ed4-c1e4-96687bcd68b0"
   },
   "outputs": [
    {
     "data": {
      "text/plain": [
       "False"
      ]
     },
     "execution_count": 25,
     "metadata": {},
     "output_type": "execute_result"
    }
   ],
   "source": [
    "not (1 <= 10)"
   ]
  }
 ],
 "metadata": {
  "colab": {
   "provenance": [
    {
     "file_id": "1t8a1jCBrDrYvsCpAfZVvwoclw7MpewiA",
     "timestamp": 1755492927537
    },
    {
     "file_id": "1I4Y7qgBrOx5Z8XLGFglwg55g_7jVA5q_",
     "timestamp": 1551148160271
    },
    {
     "file_id": "10O8Tgsk9uEkr4RG8KkOOgdYBSLOzmDhx",
     "timestamp": 1536809429843
    }
   ]
  },
  "kernelspec": {
   "display_name": "Python 3",
   "language": "python",
   "name": "python3"
  }
 },
 "nbformat": 4,
 "nbformat_minor": 0
}
